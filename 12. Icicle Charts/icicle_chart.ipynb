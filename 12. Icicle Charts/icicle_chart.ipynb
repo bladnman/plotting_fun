{
 "cells": [
  {
   "cell_type": "markdown",
   "metadata": {},
   "source": [
    "# Icicyle Chart\n",
    "\n",
    "As part of the Plotly Graphs Playlist, you will learn to build icicle charts, add and remove levels, work with discrete and continuous colors and change plotting directions, all with Plotly Express. We will be using historical data on slavery in Virginia. Download the code below.\n",
    "\n",
    "🎥 [Video](https://www.youtube.com/watch?v=72D13d5aPnM&list=PLh3I780jNsiTXlWYiNWjq2rBgg3UsL1Ub&index=15)\n",
    "🔗[My GitHub Code](https://github.com/Coding-with-Adam/Dash-by-Plotly/tree/master/Plotly_Graphs/Icicle)\n",
    "🔗[Data Source](https://data.virginia.gov/Education/Bills-of-Sales-and-Deeds-of-Enslaved-Individuals/j2xt-sjy7)\n",
    "🔗[Plotly Icicyle docs](https://plotly.com/python/icicle-charts/)\n",
    "🔗[Continuous Colors Plotly](https://plotly.com/python/builtin-colorscales/)"
   ]
  },
  {
   "cell_type": "code",
   "execution_count": 18,
   "metadata": {},
   "outputs": [],
   "source": [
    "import pandas as pd\n",
    "import plotly.express as px  # Plotly version >= 5.0"
   ]
  },
  {
   "cell_type": "code",
   "execution_count": 19,
   "metadata": {},
   "outputs": [
    {
     "data": {
      "text/html": [
       "<div>\n",
       "<style scoped>\n",
       "    .dataframe tbody tr th:only-of-type {\n",
       "        vertical-align: middle;\n",
       "    }\n",
       "\n",
       "    .dataframe tbody tr th {\n",
       "        vertical-align: top;\n",
       "    }\n",
       "\n",
       "    .dataframe thead th {\n",
       "        text-align: right;\n",
       "    }\n",
       "</style>\n",
       "<table border=\"1\" class=\"dataframe\">\n",
       "  <thead>\n",
       "    <tr style=\"text-align: right;\">\n",
       "      <th></th>\n",
       "      <th>Period</th>\n",
       "      <th>Locality</th>\n",
       "    </tr>\n",
       "  </thead>\n",
       "  <tbody>\n",
       "    <tr>\n",
       "      <th>0</th>\n",
       "      <td>1760-1780</td>\n",
       "      <td>Goochland County</td>\n",
       "    </tr>\n",
       "    <tr>\n",
       "      <th>1</th>\n",
       "      <td>1760-1780</td>\n",
       "      <td>Goochland County</td>\n",
       "    </tr>\n",
       "    <tr>\n",
       "      <th>2</th>\n",
       "      <td>1760-1780</td>\n",
       "      <td>Goochland County</td>\n",
       "    </tr>\n",
       "    <tr>\n",
       "      <th>3</th>\n",
       "      <td>1760-1780</td>\n",
       "      <td>Goochland County</td>\n",
       "    </tr>\n",
       "    <tr>\n",
       "      <th>4</th>\n",
       "      <td>1760-1780</td>\n",
       "      <td>Middlesex County</td>\n",
       "    </tr>\n",
       "  </tbody>\n",
       "</table>\n",
       "</div>"
      ],
      "text/plain": [
       "      Period          Locality\n",
       "0  1760-1780  Goochland County\n",
       "1  1760-1780  Goochland County\n",
       "2  1760-1780  Goochland County\n",
       "3  1760-1780  Goochland County\n",
       "4  1760-1780  Middlesex County"
      ]
     },
     "execution_count": 19,
     "metadata": {},
     "output_type": "execute_result"
    }
   ],
   "source": [
    "\n",
    "# data from: https://data.virginia.gov/Education/Bills-of-Sale-of-Enslaved-Individuals-1718-1862-/j2xt-sjy7\n",
    "df = pd.read_csv(\"./Bills_of_Sale_of_Enslaved_Individuals__1718-1862.csv\")\n",
    "df.head()[['Period', 'Locality']]\n"
   ]
  },
  {
   "cell_type": "code",
   "execution_count": 20,
   "metadata": {},
   "outputs": [
    {
     "data": {
      "application/vnd.plotly.v1+json": {
       "config": {
        "plotlyServerURL": "https://plot.ly"
       },
       "data": [
        {
         "branchvalues": "total",
         "domain": {
          "x": [
           0,
           1
          ],
          "y": [
           0,
           1
          ]
         },
         "hovertemplate": "labels=%{label}<br>Slaves=%{value}<br>parent=%{parent}<br>id=%{id}<extra></extra>",
         "ids": [
          "all/1760-1780/Accomack County",
          "all/1781-1800/Accomack County",
          "all/1801-1820/Accomack County",
          "all/1801-1820/Arlington County",
          "all/1781-1800/Campbell County",
          "all/1801-1820/Campbell County",
          "all/1821-1840/Campbell County",
          "all/1841-1860/Campbell County",
          "all/1781-1800/Caroline County",
          "all/1821-1840/Frederick County",
          "all/1760-1780/Goochland County",
          "all/1781-1800/Goochland County",
          "all/1801-1820/Goochland County",
          "all/1821-1840/Goochland County",
          "all/1841-1860/Goochland County",
          "all/1821-1840/Henry County",
          "all/1781-1800/Lancaster County",
          "all/1801-1820/Lancaster County",
          "all/1821-1840/Lancaster County",
          "all/1841-1860/Lancaster County",
          "all/1760-1780/Middlesex County",
          "all/1781-1800/Middlesex County",
          "all/1760-1780/Norfolk County",
          "all/1781-1800/Norfolk County",
          "all/1801-1820/Norfolk County",
          "all/1821-1840/Norfolk County",
          "all/1841-1860/Norfolk County",
          "all/1781-1800/Petersburg City",
          "all/1801-1820/Petersburg City",
          "all/1821-1840/Petersburg City",
          "all/1781-1800/Prince Edward County",
          "all/1781-1800/Rockingham County",
          "all/1841-1860/Rockingham County",
          "all/1821-1840/Southampton County",
          "all/1841-1860/Southampton County",
          "all/1821-1840/Staunton City",
          "all/1760-1780",
          "all/1781-1800",
          "all/1801-1820",
          "all/1821-1840",
          "all/1841-1860",
          "all"
         ],
         "labels": [
          "Accomack County",
          "Accomack County",
          "Accomack County",
          "Arlington County",
          "Campbell County",
          "Campbell County",
          "Campbell County",
          "Campbell County",
          "Caroline County",
          "Frederick County",
          "Goochland County",
          "Goochland County",
          "Goochland County",
          "Goochland County",
          "Goochland County",
          "Henry County",
          "Lancaster County",
          "Lancaster County",
          "Lancaster County",
          "Lancaster County",
          "Middlesex County",
          "Middlesex County",
          "Norfolk County",
          "Norfolk County",
          "Norfolk County",
          "Norfolk County",
          "Norfolk County",
          "Petersburg City",
          "Petersburg City",
          "Petersburg City",
          "Prince Edward County",
          "Rockingham County",
          "Rockingham County",
          "Southampton County",
          "Southampton County",
          "Staunton City",
          "1760-1780",
          "1781-1800",
          "1801-1820",
          "1821-1840",
          "1841-1860",
          "all"
         ],
         "name": "",
         "parents": [
          "all/1760-1780",
          "all/1781-1800",
          "all/1801-1820",
          "all/1801-1820",
          "all/1781-1800",
          "all/1801-1820",
          "all/1821-1840",
          "all/1841-1860",
          "all/1781-1800",
          "all/1821-1840",
          "all/1760-1780",
          "all/1781-1800",
          "all/1801-1820",
          "all/1821-1840",
          "all/1841-1860",
          "all/1821-1840",
          "all/1781-1800",
          "all/1801-1820",
          "all/1821-1840",
          "all/1841-1860",
          "all/1760-1780",
          "all/1781-1800",
          "all/1760-1780",
          "all/1781-1800",
          "all/1801-1820",
          "all/1821-1840",
          "all/1841-1860",
          "all/1781-1800",
          "all/1801-1820",
          "all/1821-1840",
          "all/1781-1800",
          "all/1781-1800",
          "all/1841-1860",
          "all/1821-1840",
          "all/1841-1860",
          "all/1821-1840",
          "all",
          "all",
          "all",
          "all",
          "all",
          ""
         ],
         "root": {
          "color": "lightgrey"
         },
         "tiling": {
          "orientation": "h"
         },
         "type": "icicle",
         "values": [
          3,
          95,
          137,
          5,
          27,
          107,
          281,
          242,
          1,
          2,
          15,
          20,
          22,
          1,
          107,
          2,
          4,
          39,
          6,
          1,
          4,
          1,
          2,
          4,
          1,
          3,
          1,
          1,
          2,
          2,
          5,
          14,
          1,
          4,
          1,
          1,
          24,
          172,
          313,
          302,
          353,
          1164
         ]
        }
       ],
       "layout": {
        "legend": {
         "tracegroupgap": 0
        },
        "margin": {
         "t": 60
        },
        "template": {
         "data": {
          "bar": [
           {
            "error_x": {
             "color": "#2a3f5f"
            },
            "error_y": {
             "color": "#2a3f5f"
            },
            "marker": {
             "line": {
              "color": "#E5ECF6",
              "width": 0.5
             },
             "pattern": {
              "fillmode": "overlay",
              "size": 10,
              "solidity": 0.2
             }
            },
            "type": "bar"
           }
          ],
          "barpolar": [
           {
            "marker": {
             "line": {
              "color": "#E5ECF6",
              "width": 0.5
             },
             "pattern": {
              "fillmode": "overlay",
              "size": 10,
              "solidity": 0.2
             }
            },
            "type": "barpolar"
           }
          ],
          "carpet": [
           {
            "aaxis": {
             "endlinecolor": "#2a3f5f",
             "gridcolor": "white",
             "linecolor": "white",
             "minorgridcolor": "white",
             "startlinecolor": "#2a3f5f"
            },
            "baxis": {
             "endlinecolor": "#2a3f5f",
             "gridcolor": "white",
             "linecolor": "white",
             "minorgridcolor": "white",
             "startlinecolor": "#2a3f5f"
            },
            "type": "carpet"
           }
          ],
          "choropleth": [
           {
            "colorbar": {
             "outlinewidth": 0,
             "ticks": ""
            },
            "type": "choropleth"
           }
          ],
          "contour": [
           {
            "colorbar": {
             "outlinewidth": 0,
             "ticks": ""
            },
            "colorscale": [
             [
              0,
              "#0d0887"
             ],
             [
              0.1111111111111111,
              "#46039f"
             ],
             [
              0.2222222222222222,
              "#7201a8"
             ],
             [
              0.3333333333333333,
              "#9c179e"
             ],
             [
              0.4444444444444444,
              "#bd3786"
             ],
             [
              0.5555555555555556,
              "#d8576b"
             ],
             [
              0.6666666666666666,
              "#ed7953"
             ],
             [
              0.7777777777777778,
              "#fb9f3a"
             ],
             [
              0.8888888888888888,
              "#fdca26"
             ],
             [
              1,
              "#f0f921"
             ]
            ],
            "type": "contour"
           }
          ],
          "contourcarpet": [
           {
            "colorbar": {
             "outlinewidth": 0,
             "ticks": ""
            },
            "type": "contourcarpet"
           }
          ],
          "heatmap": [
           {
            "colorbar": {
             "outlinewidth": 0,
             "ticks": ""
            },
            "colorscale": [
             [
              0,
              "#0d0887"
             ],
             [
              0.1111111111111111,
              "#46039f"
             ],
             [
              0.2222222222222222,
              "#7201a8"
             ],
             [
              0.3333333333333333,
              "#9c179e"
             ],
             [
              0.4444444444444444,
              "#bd3786"
             ],
             [
              0.5555555555555556,
              "#d8576b"
             ],
             [
              0.6666666666666666,
              "#ed7953"
             ],
             [
              0.7777777777777778,
              "#fb9f3a"
             ],
             [
              0.8888888888888888,
              "#fdca26"
             ],
             [
              1,
              "#f0f921"
             ]
            ],
            "type": "heatmap"
           }
          ],
          "heatmapgl": [
           {
            "colorbar": {
             "outlinewidth": 0,
             "ticks": ""
            },
            "colorscale": [
             [
              0,
              "#0d0887"
             ],
             [
              0.1111111111111111,
              "#46039f"
             ],
             [
              0.2222222222222222,
              "#7201a8"
             ],
             [
              0.3333333333333333,
              "#9c179e"
             ],
             [
              0.4444444444444444,
              "#bd3786"
             ],
             [
              0.5555555555555556,
              "#d8576b"
             ],
             [
              0.6666666666666666,
              "#ed7953"
             ],
             [
              0.7777777777777778,
              "#fb9f3a"
             ],
             [
              0.8888888888888888,
              "#fdca26"
             ],
             [
              1,
              "#f0f921"
             ]
            ],
            "type": "heatmapgl"
           }
          ],
          "histogram": [
           {
            "marker": {
             "pattern": {
              "fillmode": "overlay",
              "size": 10,
              "solidity": 0.2
             }
            },
            "type": "histogram"
           }
          ],
          "histogram2d": [
           {
            "colorbar": {
             "outlinewidth": 0,
             "ticks": ""
            },
            "colorscale": [
             [
              0,
              "#0d0887"
             ],
             [
              0.1111111111111111,
              "#46039f"
             ],
             [
              0.2222222222222222,
              "#7201a8"
             ],
             [
              0.3333333333333333,
              "#9c179e"
             ],
             [
              0.4444444444444444,
              "#bd3786"
             ],
             [
              0.5555555555555556,
              "#d8576b"
             ],
             [
              0.6666666666666666,
              "#ed7953"
             ],
             [
              0.7777777777777778,
              "#fb9f3a"
             ],
             [
              0.8888888888888888,
              "#fdca26"
             ],
             [
              1,
              "#f0f921"
             ]
            ],
            "type": "histogram2d"
           }
          ],
          "histogram2dcontour": [
           {
            "colorbar": {
             "outlinewidth": 0,
             "ticks": ""
            },
            "colorscale": [
             [
              0,
              "#0d0887"
             ],
             [
              0.1111111111111111,
              "#46039f"
             ],
             [
              0.2222222222222222,
              "#7201a8"
             ],
             [
              0.3333333333333333,
              "#9c179e"
             ],
             [
              0.4444444444444444,
              "#bd3786"
             ],
             [
              0.5555555555555556,
              "#d8576b"
             ],
             [
              0.6666666666666666,
              "#ed7953"
             ],
             [
              0.7777777777777778,
              "#fb9f3a"
             ],
             [
              0.8888888888888888,
              "#fdca26"
             ],
             [
              1,
              "#f0f921"
             ]
            ],
            "type": "histogram2dcontour"
           }
          ],
          "mesh3d": [
           {
            "colorbar": {
             "outlinewidth": 0,
             "ticks": ""
            },
            "type": "mesh3d"
           }
          ],
          "parcoords": [
           {
            "line": {
             "colorbar": {
              "outlinewidth": 0,
              "ticks": ""
             }
            },
            "type": "parcoords"
           }
          ],
          "pie": [
           {
            "automargin": true,
            "type": "pie"
           }
          ],
          "scatter": [
           {
            "marker": {
             "colorbar": {
              "outlinewidth": 0,
              "ticks": ""
             }
            },
            "type": "scatter"
           }
          ],
          "scatter3d": [
           {
            "line": {
             "colorbar": {
              "outlinewidth": 0,
              "ticks": ""
             }
            },
            "marker": {
             "colorbar": {
              "outlinewidth": 0,
              "ticks": ""
             }
            },
            "type": "scatter3d"
           }
          ],
          "scattercarpet": [
           {
            "marker": {
             "colorbar": {
              "outlinewidth": 0,
              "ticks": ""
             }
            },
            "type": "scattercarpet"
           }
          ],
          "scattergeo": [
           {
            "marker": {
             "colorbar": {
              "outlinewidth": 0,
              "ticks": ""
             }
            },
            "type": "scattergeo"
           }
          ],
          "scattergl": [
           {
            "marker": {
             "colorbar": {
              "outlinewidth": 0,
              "ticks": ""
             }
            },
            "type": "scattergl"
           }
          ],
          "scattermapbox": [
           {
            "marker": {
             "colorbar": {
              "outlinewidth": 0,
              "ticks": ""
             }
            },
            "type": "scattermapbox"
           }
          ],
          "scatterpolar": [
           {
            "marker": {
             "colorbar": {
              "outlinewidth": 0,
              "ticks": ""
             }
            },
            "type": "scatterpolar"
           }
          ],
          "scatterpolargl": [
           {
            "marker": {
             "colorbar": {
              "outlinewidth": 0,
              "ticks": ""
             }
            },
            "type": "scatterpolargl"
           }
          ],
          "scatterternary": [
           {
            "marker": {
             "colorbar": {
              "outlinewidth": 0,
              "ticks": ""
             }
            },
            "type": "scatterternary"
           }
          ],
          "surface": [
           {
            "colorbar": {
             "outlinewidth": 0,
             "ticks": ""
            },
            "colorscale": [
             [
              0,
              "#0d0887"
             ],
             [
              0.1111111111111111,
              "#46039f"
             ],
             [
              0.2222222222222222,
              "#7201a8"
             ],
             [
              0.3333333333333333,
              "#9c179e"
             ],
             [
              0.4444444444444444,
              "#bd3786"
             ],
             [
              0.5555555555555556,
              "#d8576b"
             ],
             [
              0.6666666666666666,
              "#ed7953"
             ],
             [
              0.7777777777777778,
              "#fb9f3a"
             ],
             [
              0.8888888888888888,
              "#fdca26"
             ],
             [
              1,
              "#f0f921"
             ]
            ],
            "type": "surface"
           }
          ],
          "table": [
           {
            "cells": {
             "fill": {
              "color": "#EBF0F8"
             },
             "line": {
              "color": "white"
             }
            },
            "header": {
             "fill": {
              "color": "#C8D4E3"
             },
             "line": {
              "color": "white"
             }
            },
            "type": "table"
           }
          ]
         },
         "layout": {
          "annotationdefaults": {
           "arrowcolor": "#2a3f5f",
           "arrowhead": 0,
           "arrowwidth": 1
          },
          "autotypenumbers": "strict",
          "coloraxis": {
           "colorbar": {
            "outlinewidth": 0,
            "ticks": ""
           }
          },
          "colorscale": {
           "diverging": [
            [
             0,
             "#8e0152"
            ],
            [
             0.1,
             "#c51b7d"
            ],
            [
             0.2,
             "#de77ae"
            ],
            [
             0.3,
             "#f1b6da"
            ],
            [
             0.4,
             "#fde0ef"
            ],
            [
             0.5,
             "#f7f7f7"
            ],
            [
             0.6,
             "#e6f5d0"
            ],
            [
             0.7,
             "#b8e186"
            ],
            [
             0.8,
             "#7fbc41"
            ],
            [
             0.9,
             "#4d9221"
            ],
            [
             1,
             "#276419"
            ]
           ],
           "sequential": [
            [
             0,
             "#0d0887"
            ],
            [
             0.1111111111111111,
             "#46039f"
            ],
            [
             0.2222222222222222,
             "#7201a8"
            ],
            [
             0.3333333333333333,
             "#9c179e"
            ],
            [
             0.4444444444444444,
             "#bd3786"
            ],
            [
             0.5555555555555556,
             "#d8576b"
            ],
            [
             0.6666666666666666,
             "#ed7953"
            ],
            [
             0.7777777777777778,
             "#fb9f3a"
            ],
            [
             0.8888888888888888,
             "#fdca26"
            ],
            [
             1,
             "#f0f921"
            ]
           ],
           "sequentialminus": [
            [
             0,
             "#0d0887"
            ],
            [
             0.1111111111111111,
             "#46039f"
            ],
            [
             0.2222222222222222,
             "#7201a8"
            ],
            [
             0.3333333333333333,
             "#9c179e"
            ],
            [
             0.4444444444444444,
             "#bd3786"
            ],
            [
             0.5555555555555556,
             "#d8576b"
            ],
            [
             0.6666666666666666,
             "#ed7953"
            ],
            [
             0.7777777777777778,
             "#fb9f3a"
            ],
            [
             0.8888888888888888,
             "#fdca26"
            ],
            [
             1,
             "#f0f921"
            ]
           ]
          },
          "colorway": [
           "#636efa",
           "#EF553B",
           "#00cc96",
           "#ab63fa",
           "#FFA15A",
           "#19d3f3",
           "#FF6692",
           "#B6E880",
           "#FF97FF",
           "#FECB52"
          ],
          "font": {
           "color": "#2a3f5f"
          },
          "geo": {
           "bgcolor": "white",
           "lakecolor": "white",
           "landcolor": "#E5ECF6",
           "showlakes": true,
           "showland": true,
           "subunitcolor": "white"
          },
          "hoverlabel": {
           "align": "left"
          },
          "hovermode": "closest",
          "mapbox": {
           "style": "light"
          },
          "paper_bgcolor": "white",
          "plot_bgcolor": "#E5ECF6",
          "polar": {
           "angularaxis": {
            "gridcolor": "white",
            "linecolor": "white",
            "ticks": ""
           },
           "bgcolor": "#E5ECF6",
           "radialaxis": {
            "gridcolor": "white",
            "linecolor": "white",
            "ticks": ""
           }
          },
          "scene": {
           "xaxis": {
            "backgroundcolor": "#E5ECF6",
            "gridcolor": "white",
            "gridwidth": 2,
            "linecolor": "white",
            "showbackground": true,
            "ticks": "",
            "zerolinecolor": "white"
           },
           "yaxis": {
            "backgroundcolor": "#E5ECF6",
            "gridcolor": "white",
            "gridwidth": 2,
            "linecolor": "white",
            "showbackground": true,
            "ticks": "",
            "zerolinecolor": "white"
           },
           "zaxis": {
            "backgroundcolor": "#E5ECF6",
            "gridcolor": "white",
            "gridwidth": 2,
            "linecolor": "white",
            "showbackground": true,
            "ticks": "",
            "zerolinecolor": "white"
           }
          },
          "shapedefaults": {
           "line": {
            "color": "#2a3f5f"
           }
          },
          "ternary": {
           "aaxis": {
            "gridcolor": "white",
            "linecolor": "white",
            "ticks": ""
           },
           "baxis": {
            "gridcolor": "white",
            "linecolor": "white",
            "ticks": ""
           },
           "bgcolor": "#E5ECF6",
           "caxis": {
            "gridcolor": "white",
            "linecolor": "white",
            "ticks": ""
           }
          },
          "title": {
           "x": 0.05
          },
          "xaxis": {
           "automargin": true,
           "gridcolor": "white",
           "linecolor": "white",
           "ticks": "",
           "title": {
            "standoff": 15
           },
           "zerolinecolor": "white",
           "zerolinewidth": 2
          },
          "yaxis": {
           "automargin": true,
           "gridcolor": "white",
           "linecolor": "white",
           "ticks": "",
           "title": {
            "standoff": 15
           },
           "zerolinecolor": "white",
           "zerolinewidth": 2
          }
         }
        }
       }
      }
     },
     "metadata": {},
     "output_type": "display_data"
    }
   ],
   "source": [
    "\n",
    "fig = px.icicle(df, \n",
    "                path=[px.Constant(\"all\"), 'Period', 'Locality'],\n",
    "                values='Slaves')\n",
    "\n",
    "fig.update_traces(root_color=\"lightgrey\", tiling=dict(orientation='h'))\n",
    "\n",
    "fig.show()"
   ]
  },
  {
   "cell_type": "code",
   "execution_count": 21,
   "metadata": {},
   "outputs": [
    {
     "data": {
      "application/vnd.plotly.v1+json": {
       "config": {
        "plotlyServerURL": "https://plot.ly"
       },
       "data": [
        {
         "branchvalues": "total",
         "customdata": [
          [
           "Middlesex County"
          ],
          [
           "Norfolk County"
          ],
          [
           "Norfolk County"
          ],
          [
           "Petersburg City"
          ],
          [
           "Petersburg City"
          ],
          [
           "Prince Edward County"
          ],
          [
           "Middlesex County"
          ],
          [
           "Lancaster County"
          ],
          [
           "Southampton County"
          ],
          [
           "Staunton City"
          ],
          [
           "(?)"
          ],
          [
           "(?)"
          ],
          [
           "(?)"
          ],
          [
           "(?)"
          ],
          [
           "Rockingham County"
          ],
          [
           "Norfolk County"
          ],
          [
           "Southampton County"
          ],
          [
           "Rockingham County"
          ],
          [
           "Norfolk County"
          ],
          [
           "Accomack County"
          ],
          [
           "Goochland County"
          ],
          [
           "Campbell County"
          ],
          [
           "Caroline County"
          ],
          [
           "Frederick County"
          ],
          [
           "Lancaster County"
          ],
          [
           "Arlington County"
          ],
          [
           "Goochland County"
          ],
          [
           "Accomack County"
          ],
          [
           "Goochland County"
          ],
          [
           "Goochland County"
          ],
          [
           "Lancaster County"
          ],
          [
           "Goochland County"
          ],
          [
           "Accomack County"
          ],
          [
           "Norfolk County"
          ],
          [
           "Campbell County"
          ],
          [
           "Campbell County"
          ],
          [
           "Campbell County"
          ],
          [
           "Henry County"
          ],
          [
           "Lancaster County"
          ],
          [
           "(?)"
          ],
          [
           "Petersburg City"
          ],
          [
           "(?)"
          ]
         ],
         "domain": {
          "x": [
           0,
           1
          ],
          "y": [
           0,
           1
          ]
         },
         "hovertemplate": "labels=%{label}<br>Slaves=%{value}<br>parent=%{parent}<br>id=%{id}<br>Locality=%{customdata[0]}<extra></extra>",
         "ids": [
          "all/1760-1780/Middlesex County",
          "all/1821-1840/Norfolk County",
          "all/1841-1860/Norfolk County",
          "all/1781-1800/Petersburg City",
          "all/1801-1820/Petersburg City",
          "all/1781-1800/Prince Edward County",
          "all/1781-1800/Middlesex County",
          "all/1841-1860/Lancaster County",
          "all/1841-1860/Southampton County",
          "all/1821-1840/Staunton City",
          "all/1760-1780",
          "all/1781-1800",
          "all/1801-1820",
          "all/1821-1840",
          "all/1841-1860/Rockingham County",
          "all/1801-1820/Norfolk County",
          "all/1821-1840/Southampton County",
          "all/1781-1800/Rockingham County",
          "all/1760-1780/Norfolk County",
          "all/1760-1780/Accomack County",
          "all/1760-1780/Goochland County",
          "all/1841-1860/Campbell County",
          "all/1781-1800/Caroline County",
          "all/1821-1840/Frederick County",
          "all/1821-1840/Lancaster County",
          "all/1801-1820/Arlington County",
          "all/1781-1800/Goochland County",
          "all/1781-1800/Accomack County",
          "all/1821-1840/Goochland County",
          "all/1841-1860/Goochland County",
          "all/1801-1820/Lancaster County",
          "all/1801-1820/Goochland County",
          "all/1801-1820/Accomack County",
          "all/1781-1800/Norfolk County",
          "all/1821-1840/Campbell County",
          "all/1801-1820/Campbell County",
          "all/1781-1800/Campbell County",
          "all/1821-1840/Henry County",
          "all/1781-1800/Lancaster County",
          "all/1841-1860",
          "all/1821-1840/Petersburg City",
          "all"
         ],
         "labels": [
          "Middlesex County",
          "Norfolk County",
          "Norfolk County",
          "Petersburg City",
          "Petersburg City",
          "Prince Edward County",
          "Middlesex County",
          "Lancaster County",
          "Southampton County",
          "Staunton City",
          "1760-1780",
          "1781-1800",
          "1801-1820",
          "1821-1840",
          "Rockingham County",
          "Norfolk County",
          "Southampton County",
          "Rockingham County",
          "Norfolk County",
          "Accomack County",
          "Goochland County",
          "Campbell County",
          "Caroline County",
          "Frederick County",
          "Lancaster County",
          "Arlington County",
          "Goochland County",
          "Accomack County",
          "Goochland County",
          "Goochland County",
          "Lancaster County",
          "Goochland County",
          "Accomack County",
          "Norfolk County",
          "Campbell County",
          "Campbell County",
          "Campbell County",
          "Henry County",
          "Lancaster County",
          "1841-1860",
          "Petersburg City",
          "all"
         ],
         "marker": {
          "colors": [
           "#636efa",
           "#EF553B",
           "#EF553B",
           "#00cc96",
           "#00cc96",
           "#ab63fa",
           "#636efa",
           "#FFA15A",
           "#19d3f3",
           "#FF6692",
           "#B6E880",
           "#B6E880",
           "#B6E880",
           "#B6E880",
           "#FF97FF",
           "#EF553B",
           "#19d3f3",
           "#FF97FF",
           "#EF553B",
           "#FECB52",
           "#636efa",
           "#EF553B",
           "#00cc96",
           "#ab63fa",
           "#FFA15A",
           "#FFA15A",
           "#636efa",
           "#FECB52",
           "#636efa",
           "#636efa",
           "#FFA15A",
           "#636efa",
           "#FECB52",
           "#EF553B",
           "#EF553B",
           "#EF553B",
           "#EF553B",
           "#19d3f3",
           "#FFA15A",
           "#B6E880",
           "#00cc96",
           "#B6E880"
          ]
         },
         "name": "",
         "parents": [
          "all/1760-1780",
          "all/1821-1840",
          "all/1841-1860",
          "all/1781-1800",
          "all/1801-1820",
          "all/1781-1800",
          "all/1781-1800",
          "all/1841-1860",
          "all/1841-1860",
          "all/1821-1840",
          "all",
          "all",
          "all",
          "all",
          "all/1841-1860",
          "all/1801-1820",
          "all/1821-1840",
          "all/1781-1800",
          "all/1760-1780",
          "all/1760-1780",
          "all/1760-1780",
          "all/1841-1860",
          "all/1781-1800",
          "all/1821-1840",
          "all/1821-1840",
          "all/1801-1820",
          "all/1781-1800",
          "all/1781-1800",
          "all/1821-1840",
          "all/1841-1860",
          "all/1801-1820",
          "all/1801-1820",
          "all/1801-1820",
          "all/1781-1800",
          "all/1821-1840",
          "all/1801-1820",
          "all/1781-1800",
          "all/1821-1840",
          "all/1781-1800",
          "all",
          "all/1821-1840",
          ""
         ],
         "root": {
          "color": "lightgrey"
         },
         "tiling": {
          "orientation": "h"
         },
         "type": "icicle",
         "values": [
          4,
          3,
          1,
          1,
          2,
          5,
          1,
          1,
          1,
          1,
          24,
          172,
          313,
          302,
          1,
          1,
          4,
          14,
          2,
          3,
          15,
          242,
          1,
          2,
          6,
          5,
          20,
          95,
          1,
          107,
          39,
          22,
          137,
          4,
          281,
          107,
          27,
          2,
          4,
          353,
          2,
          1164
         ]
        }
       ],
       "layout": {
        "legend": {
         "tracegroupgap": 0
        },
        "margin": {
         "t": 60
        },
        "template": {
         "data": {
          "bar": [
           {
            "error_x": {
             "color": "#2a3f5f"
            },
            "error_y": {
             "color": "#2a3f5f"
            },
            "marker": {
             "line": {
              "color": "#E5ECF6",
              "width": 0.5
             },
             "pattern": {
              "fillmode": "overlay",
              "size": 10,
              "solidity": 0.2
             }
            },
            "type": "bar"
           }
          ],
          "barpolar": [
           {
            "marker": {
             "line": {
              "color": "#E5ECF6",
              "width": 0.5
             },
             "pattern": {
              "fillmode": "overlay",
              "size": 10,
              "solidity": 0.2
             }
            },
            "type": "barpolar"
           }
          ],
          "carpet": [
           {
            "aaxis": {
             "endlinecolor": "#2a3f5f",
             "gridcolor": "white",
             "linecolor": "white",
             "minorgridcolor": "white",
             "startlinecolor": "#2a3f5f"
            },
            "baxis": {
             "endlinecolor": "#2a3f5f",
             "gridcolor": "white",
             "linecolor": "white",
             "minorgridcolor": "white",
             "startlinecolor": "#2a3f5f"
            },
            "type": "carpet"
           }
          ],
          "choropleth": [
           {
            "colorbar": {
             "outlinewidth": 0,
             "ticks": ""
            },
            "type": "choropleth"
           }
          ],
          "contour": [
           {
            "colorbar": {
             "outlinewidth": 0,
             "ticks": ""
            },
            "colorscale": [
             [
              0,
              "#0d0887"
             ],
             [
              0.1111111111111111,
              "#46039f"
             ],
             [
              0.2222222222222222,
              "#7201a8"
             ],
             [
              0.3333333333333333,
              "#9c179e"
             ],
             [
              0.4444444444444444,
              "#bd3786"
             ],
             [
              0.5555555555555556,
              "#d8576b"
             ],
             [
              0.6666666666666666,
              "#ed7953"
             ],
             [
              0.7777777777777778,
              "#fb9f3a"
             ],
             [
              0.8888888888888888,
              "#fdca26"
             ],
             [
              1,
              "#f0f921"
             ]
            ],
            "type": "contour"
           }
          ],
          "contourcarpet": [
           {
            "colorbar": {
             "outlinewidth": 0,
             "ticks": ""
            },
            "type": "contourcarpet"
           }
          ],
          "heatmap": [
           {
            "colorbar": {
             "outlinewidth": 0,
             "ticks": ""
            },
            "colorscale": [
             [
              0,
              "#0d0887"
             ],
             [
              0.1111111111111111,
              "#46039f"
             ],
             [
              0.2222222222222222,
              "#7201a8"
             ],
             [
              0.3333333333333333,
              "#9c179e"
             ],
             [
              0.4444444444444444,
              "#bd3786"
             ],
             [
              0.5555555555555556,
              "#d8576b"
             ],
             [
              0.6666666666666666,
              "#ed7953"
             ],
             [
              0.7777777777777778,
              "#fb9f3a"
             ],
             [
              0.8888888888888888,
              "#fdca26"
             ],
             [
              1,
              "#f0f921"
             ]
            ],
            "type": "heatmap"
           }
          ],
          "heatmapgl": [
           {
            "colorbar": {
             "outlinewidth": 0,
             "ticks": ""
            },
            "colorscale": [
             [
              0,
              "#0d0887"
             ],
             [
              0.1111111111111111,
              "#46039f"
             ],
             [
              0.2222222222222222,
              "#7201a8"
             ],
             [
              0.3333333333333333,
              "#9c179e"
             ],
             [
              0.4444444444444444,
              "#bd3786"
             ],
             [
              0.5555555555555556,
              "#d8576b"
             ],
             [
              0.6666666666666666,
              "#ed7953"
             ],
             [
              0.7777777777777778,
              "#fb9f3a"
             ],
             [
              0.8888888888888888,
              "#fdca26"
             ],
             [
              1,
              "#f0f921"
             ]
            ],
            "type": "heatmapgl"
           }
          ],
          "histogram": [
           {
            "marker": {
             "pattern": {
              "fillmode": "overlay",
              "size": 10,
              "solidity": 0.2
             }
            },
            "type": "histogram"
           }
          ],
          "histogram2d": [
           {
            "colorbar": {
             "outlinewidth": 0,
             "ticks": ""
            },
            "colorscale": [
             [
              0,
              "#0d0887"
             ],
             [
              0.1111111111111111,
              "#46039f"
             ],
             [
              0.2222222222222222,
              "#7201a8"
             ],
             [
              0.3333333333333333,
              "#9c179e"
             ],
             [
              0.4444444444444444,
              "#bd3786"
             ],
             [
              0.5555555555555556,
              "#d8576b"
             ],
             [
              0.6666666666666666,
              "#ed7953"
             ],
             [
              0.7777777777777778,
              "#fb9f3a"
             ],
             [
              0.8888888888888888,
              "#fdca26"
             ],
             [
              1,
              "#f0f921"
             ]
            ],
            "type": "histogram2d"
           }
          ],
          "histogram2dcontour": [
           {
            "colorbar": {
             "outlinewidth": 0,
             "ticks": ""
            },
            "colorscale": [
             [
              0,
              "#0d0887"
             ],
             [
              0.1111111111111111,
              "#46039f"
             ],
             [
              0.2222222222222222,
              "#7201a8"
             ],
             [
              0.3333333333333333,
              "#9c179e"
             ],
             [
              0.4444444444444444,
              "#bd3786"
             ],
             [
              0.5555555555555556,
              "#d8576b"
             ],
             [
              0.6666666666666666,
              "#ed7953"
             ],
             [
              0.7777777777777778,
              "#fb9f3a"
             ],
             [
              0.8888888888888888,
              "#fdca26"
             ],
             [
              1,
              "#f0f921"
             ]
            ],
            "type": "histogram2dcontour"
           }
          ],
          "mesh3d": [
           {
            "colorbar": {
             "outlinewidth": 0,
             "ticks": ""
            },
            "type": "mesh3d"
           }
          ],
          "parcoords": [
           {
            "line": {
             "colorbar": {
              "outlinewidth": 0,
              "ticks": ""
             }
            },
            "type": "parcoords"
           }
          ],
          "pie": [
           {
            "automargin": true,
            "type": "pie"
           }
          ],
          "scatter": [
           {
            "marker": {
             "colorbar": {
              "outlinewidth": 0,
              "ticks": ""
             }
            },
            "type": "scatter"
           }
          ],
          "scatter3d": [
           {
            "line": {
             "colorbar": {
              "outlinewidth": 0,
              "ticks": ""
             }
            },
            "marker": {
             "colorbar": {
              "outlinewidth": 0,
              "ticks": ""
             }
            },
            "type": "scatter3d"
           }
          ],
          "scattercarpet": [
           {
            "marker": {
             "colorbar": {
              "outlinewidth": 0,
              "ticks": ""
             }
            },
            "type": "scattercarpet"
           }
          ],
          "scattergeo": [
           {
            "marker": {
             "colorbar": {
              "outlinewidth": 0,
              "ticks": ""
             }
            },
            "type": "scattergeo"
           }
          ],
          "scattergl": [
           {
            "marker": {
             "colorbar": {
              "outlinewidth": 0,
              "ticks": ""
             }
            },
            "type": "scattergl"
           }
          ],
          "scattermapbox": [
           {
            "marker": {
             "colorbar": {
              "outlinewidth": 0,
              "ticks": ""
             }
            },
            "type": "scattermapbox"
           }
          ],
          "scatterpolar": [
           {
            "marker": {
             "colorbar": {
              "outlinewidth": 0,
              "ticks": ""
             }
            },
            "type": "scatterpolar"
           }
          ],
          "scatterpolargl": [
           {
            "marker": {
             "colorbar": {
              "outlinewidth": 0,
              "ticks": ""
             }
            },
            "type": "scatterpolargl"
           }
          ],
          "scatterternary": [
           {
            "marker": {
             "colorbar": {
              "outlinewidth": 0,
              "ticks": ""
             }
            },
            "type": "scatterternary"
           }
          ],
          "surface": [
           {
            "colorbar": {
             "outlinewidth": 0,
             "ticks": ""
            },
            "colorscale": [
             [
              0,
              "#0d0887"
             ],
             [
              0.1111111111111111,
              "#46039f"
             ],
             [
              0.2222222222222222,
              "#7201a8"
             ],
             [
              0.3333333333333333,
              "#9c179e"
             ],
             [
              0.4444444444444444,
              "#bd3786"
             ],
             [
              0.5555555555555556,
              "#d8576b"
             ],
             [
              0.6666666666666666,
              "#ed7953"
             ],
             [
              0.7777777777777778,
              "#fb9f3a"
             ],
             [
              0.8888888888888888,
              "#fdca26"
             ],
             [
              1,
              "#f0f921"
             ]
            ],
            "type": "surface"
           }
          ],
          "table": [
           {
            "cells": {
             "fill": {
              "color": "#EBF0F8"
             },
             "line": {
              "color": "white"
             }
            },
            "header": {
             "fill": {
              "color": "#C8D4E3"
             },
             "line": {
              "color": "white"
             }
            },
            "type": "table"
           }
          ]
         },
         "layout": {
          "annotationdefaults": {
           "arrowcolor": "#2a3f5f",
           "arrowhead": 0,
           "arrowwidth": 1
          },
          "autotypenumbers": "strict",
          "coloraxis": {
           "colorbar": {
            "outlinewidth": 0,
            "ticks": ""
           }
          },
          "colorscale": {
           "diverging": [
            [
             0,
             "#8e0152"
            ],
            [
             0.1,
             "#c51b7d"
            ],
            [
             0.2,
             "#de77ae"
            ],
            [
             0.3,
             "#f1b6da"
            ],
            [
             0.4,
             "#fde0ef"
            ],
            [
             0.5,
             "#f7f7f7"
            ],
            [
             0.6,
             "#e6f5d0"
            ],
            [
             0.7,
             "#b8e186"
            ],
            [
             0.8,
             "#7fbc41"
            ],
            [
             0.9,
             "#4d9221"
            ],
            [
             1,
             "#276419"
            ]
           ],
           "sequential": [
            [
             0,
             "#0d0887"
            ],
            [
             0.1111111111111111,
             "#46039f"
            ],
            [
             0.2222222222222222,
             "#7201a8"
            ],
            [
             0.3333333333333333,
             "#9c179e"
            ],
            [
             0.4444444444444444,
             "#bd3786"
            ],
            [
             0.5555555555555556,
             "#d8576b"
            ],
            [
             0.6666666666666666,
             "#ed7953"
            ],
            [
             0.7777777777777778,
             "#fb9f3a"
            ],
            [
             0.8888888888888888,
             "#fdca26"
            ],
            [
             1,
             "#f0f921"
            ]
           ],
           "sequentialminus": [
            [
             0,
             "#0d0887"
            ],
            [
             0.1111111111111111,
             "#46039f"
            ],
            [
             0.2222222222222222,
             "#7201a8"
            ],
            [
             0.3333333333333333,
             "#9c179e"
            ],
            [
             0.4444444444444444,
             "#bd3786"
            ],
            [
             0.5555555555555556,
             "#d8576b"
            ],
            [
             0.6666666666666666,
             "#ed7953"
            ],
            [
             0.7777777777777778,
             "#fb9f3a"
            ],
            [
             0.8888888888888888,
             "#fdca26"
            ],
            [
             1,
             "#f0f921"
            ]
           ]
          },
          "colorway": [
           "#636efa",
           "#EF553B",
           "#00cc96",
           "#ab63fa",
           "#FFA15A",
           "#19d3f3",
           "#FF6692",
           "#B6E880",
           "#FF97FF",
           "#FECB52"
          ],
          "font": {
           "color": "#2a3f5f"
          },
          "geo": {
           "bgcolor": "white",
           "lakecolor": "white",
           "landcolor": "#E5ECF6",
           "showlakes": true,
           "showland": true,
           "subunitcolor": "white"
          },
          "hoverlabel": {
           "align": "left"
          },
          "hovermode": "closest",
          "mapbox": {
           "style": "light"
          },
          "paper_bgcolor": "white",
          "plot_bgcolor": "#E5ECF6",
          "polar": {
           "angularaxis": {
            "gridcolor": "white",
            "linecolor": "white",
            "ticks": ""
           },
           "bgcolor": "#E5ECF6",
           "radialaxis": {
            "gridcolor": "white",
            "linecolor": "white",
            "ticks": ""
           }
          },
          "scene": {
           "xaxis": {
            "backgroundcolor": "#E5ECF6",
            "gridcolor": "white",
            "gridwidth": 2,
            "linecolor": "white",
            "showbackground": true,
            "ticks": "",
            "zerolinecolor": "white"
           },
           "yaxis": {
            "backgroundcolor": "#E5ECF6",
            "gridcolor": "white",
            "gridwidth": 2,
            "linecolor": "white",
            "showbackground": true,
            "ticks": "",
            "zerolinecolor": "white"
           },
           "zaxis": {
            "backgroundcolor": "#E5ECF6",
            "gridcolor": "white",
            "gridwidth": 2,
            "linecolor": "white",
            "showbackground": true,
            "ticks": "",
            "zerolinecolor": "white"
           }
          },
          "shapedefaults": {
           "line": {
            "color": "#2a3f5f"
           }
          },
          "ternary": {
           "aaxis": {
            "gridcolor": "white",
            "linecolor": "white",
            "ticks": ""
           },
           "baxis": {
            "gridcolor": "white",
            "linecolor": "white",
            "ticks": ""
           },
           "bgcolor": "#E5ECF6",
           "caxis": {
            "gridcolor": "white",
            "linecolor": "white",
            "ticks": ""
           }
          },
          "title": {
           "x": 0.05
          },
          "xaxis": {
           "automargin": true,
           "gridcolor": "white",
           "linecolor": "white",
           "ticks": "",
           "title": {
            "standoff": 15
           },
           "zerolinecolor": "white",
           "zerolinewidth": 2
          },
          "yaxis": {
           "automargin": true,
           "gridcolor": "white",
           "linecolor": "white",
           "ticks": "",
           "title": {
            "standoff": 15
           },
           "zerolinecolor": "white",
           "zerolinewidth": 2
          }
         }
        }
       }
      }
     },
     "metadata": {},
     "output_type": "display_data"
    }
   ],
   "source": [
    "\n",
    "fig = px.icicle(df, \n",
    "                path=[px.Constant(\"all\"), 'Period', 'Locality'],\n",
    "                values='Slaves', color='Locality')\n",
    "\n",
    "fig.update_traces(root_color=\"lightgrey\", \n",
    "                  tiling=dict(orientation='h'))\n",
    "\n",
    "fig.show()"
   ]
  },
  {
   "cell_type": "code",
   "execution_count": 30,
   "metadata": {},
   "outputs": [
    {
     "data": {
      "application/vnd.plotly.v1+json": {
       "config": {
        "plotlyServerURL": "https://plot.ly"
       },
       "data": [
        {
         "branchvalues": "total",
         "customdata": [
          [
           "F"
          ],
          [
           "M"
          ],
          [
           "M"
          ],
          [
           "M"
          ],
          [
           "M"
          ],
          [
           "M"
          ],
          [
           "M"
          ],
          [
           "Unknown"
          ],
          [
           "Unknown"
          ],
          [
           "Unknown"
          ],
          [
           "(?)"
          ],
          [
           "(?)"
          ],
          [
           "(?)"
          ],
          [
           "(?)"
          ],
          [
           "F"
          ],
          [
           "M"
          ],
          [
           "(?)"
          ],
          [
           "M"
          ],
          [
           "M"
          ],
          [
           "(?)"
          ],
          [
           "(?)"
          ],
          [
           "(?)"
          ],
          [
           "F"
          ],
          [
           "F"
          ],
          [
           "(?)"
          ],
          [
           "F"
          ],
          [
           "F"
          ],
          [
           "F"
          ],
          [
           "F"
          ],
          [
           "F"
          ],
          [
           "F"
          ],
          [
           "F"
          ],
          [
           "F"
          ],
          [
           "Unknown"
          ],
          [
           "Unknown"
          ],
          [
           "(?)"
          ],
          [
           "(?)"
          ],
          [
           "(?)"
          ],
          [
           "F"
          ],
          [
           "Unknown"
          ],
          [
           "F"
          ],
          [
           "F"
          ],
          [
           "F"
          ],
          [
           "F"
          ],
          [
           "(?)"
          ],
          [
           "F"
          ],
          [
           "F"
          ],
          [
           "(?)"
          ],
          [
           "Unknown"
          ],
          [
           "M"
          ],
          [
           "M"
          ],
          [
           "M"
          ],
          [
           "M"
          ],
          [
           "M"
          ],
          [
           "M"
          ],
          [
           "M"
          ],
          [
           "F"
          ],
          [
           "F"
          ],
          [
           "M"
          ],
          [
           "M"
          ],
          [
           "F"
          ],
          [
           "(?)"
          ],
          [
           "M"
          ],
          [
           "(?)"
          ],
          [
           "(?)"
          ],
          [
           "(?)"
          ],
          [
           "F"
          ],
          [
           "Unknown"
          ],
          [
           "(?)"
          ],
          [
           "Unknown"
          ],
          [
           "(?)"
          ],
          [
           "(?)"
          ],
          [
           "F"
          ],
          [
           "M"
          ],
          [
           "Unknown"
          ],
          [
           "(?)"
          ],
          [
           "M"
          ],
          [
           "F"
          ],
          [
           "M"
          ],
          [
           "M"
          ],
          [
           "F"
          ],
          [
           "(?)"
          ],
          [
           "F"
          ],
          [
           "(?)"
          ],
          [
           "(?)"
          ],
          [
           "Unknown"
          ],
          [
           "Unknown"
          ],
          [
           "Unknown"
          ],
          [
           "Unknown"
          ],
          [
           "Unknown"
          ],
          [
           "Unknown"
          ],
          [
           "M"
          ],
          [
           "Unknown"
          ],
          [
           "Unknown"
          ],
          [
           "Unknown"
          ],
          [
           "Unknown"
          ],
          [
           "Unknown"
          ],
          [
           "(?)"
          ],
          [
           "Unknown"
          ],
          [
           "F"
          ],
          [
           "F"
          ],
          [
           "M"
          ],
          [
           "M"
          ],
          [
           "F"
          ],
          [
           "F"
          ],
          [
           "F"
          ],
          [
           "F"
          ],
          [
           "(?)"
          ],
          [
           "F"
          ],
          [
           "M"
          ],
          [
           "(?)"
          ],
          [
           "Unknown"
          ],
          [
           "Unknown"
          ]
         ],
         "domain": {
          "x": [
           0,
           1
          ],
          "y": [
           0,
           1
          ]
         },
         "hovertemplate": "labels=%{label}<br>Slaves=%{value}<br>parent=%{parent}<br>id=%{id}<br>Gender=%{customdata[0]}<extra></extra>",
         "ids": [
          "all/1760-1780/Accomack County/F",
          "all/1781-1800/Campbell County/M",
          "all/1841-1860/Campbell County/M",
          "all/1821-1840/Frederick County/M",
          "all/1760-1780/Goochland County/M",
          "all/1781-1800/Goochland County/M",
          "all/1760-1780/Norfolk County/M",
          "all/1801-1820/Goochland County/Unknown",
          "all/1821-1840/Norfolk County/Unknown",
          "all/1841-1860/Norfolk County/Unknown",
          "all/1760-1780/Accomack County",
          "all/1801-1820/Arlington County",
          "all/1781-1800/Campbell County",
          "all/1841-1860/Campbell County",
          "all/1781-1800/Caroline County",
          "all/1801-1820/Norfolk County",
          "all/1821-1840/Petersburg City",
          "all/1841-1860/Rockingham County",
          "all/1821-1840/Southampton County",
          "all/1760-1780",
          "all/1801-1820",
          "all/1821-1840",
          "all/1781-1800/Rockingham County/F",
          "all/1821-1840/Petersburg City/F",
          "all",
          "all/1781-1800/Petersburg City/F",
          "all/1781-1800/Accomack County/F",
          "all/1781-1800/Campbell County/F",
          "all/1781-1800/Middlesex County/F",
          "all/1760-1780/Middlesex County/F",
          "all/1801-1820/Lancaster County/F",
          "all/1821-1840/Henry County/F",
          "all/1801-1820/Petersburg City/F",
          "all/1781-1800/Prince Edward County/Unknown",
          "all/1781-1800/Rockingham County/Unknown",
          "all/1781-1800/Accomack County",
          "all/1801-1820/Accomack County",
          "all/1801-1820/Campbell County",
          "all/1841-1860/Campbell County/F",
          "all/1781-1800/Goochland County/Unknown",
          "all/1781-1800/Petersburg City",
          "all/1821-1840/Campbell County/F",
          "all/1801-1820/Campbell County/F",
          "all/1801-1820/Arlington County/F",
          "all/1781-1800",
          "all/1801-1820/Accomack County/F",
          "all/1781-1800/Caroline County/F",
          "all/1841-1860",
          "all/1760-1780/Goochland County/Unknown",
          "all/1801-1820/Arlington County/M",
          "all/1841-1860/Goochland County/M",
          "all/1801-1820/Accomack County/M",
          "all/1821-1840/Campbell County/M",
          "all/1801-1820/Lancaster County/M",
          "all/1841-1860/Rockingham County/M",
          "all/1781-1800/Rockingham County/M",
          "all/1821-1840/Lancaster County/F",
          "all/1781-1800/Norfolk County/F",
          "all/1760-1780/Middlesex County/M",
          "all/1821-1840/Lancaster County/M",
          "all/1781-1800/Middlesex County",
          "all/1760-1780/Middlesex County",
          "all/1841-1860/Southampton County/M",
          "all/1821-1840/Lancaster County",
          "all/1801-1820/Lancaster County",
          "all/1781-1800/Lancaster County",
          "all/1821-1840/Henry County",
          "all/1841-1860/Lancaster County",
          "all/1760-1780/Norfolk County",
          "all/1841-1860/Norfolk County",
          "all/1821-1840/Norfolk County",
          "all/1841-1860/Goochland County",
          "all/1801-1820/Petersburg City",
          "all/1801-1820/Campbell County/M",
          "all/1781-1800/Prince Edward County",
          "all/1781-1800/Rockingham County",
          "all/1841-1860/Southampton County",
          "all/1821-1840/Staunton City",
          "all/1781-1800/Accomack County/M",
          "all/1760-1780/Accomack County/M",
          "all/1821-1840/Staunton City/F",
          "all/1781-1800/Norfolk County",
          "all/1821-1840/Goochland County",
          "all/1821-1840/Frederick County",
          "all/1781-1800/Goochland County",
          "all/1781-1800/Accomack County/Unknown",
          "all/1801-1820/Accomack County/Unknown",
          "all/1781-1800/Campbell County/Unknown",
          "all/1801-1820/Campbell County/Unknown",
          "all/1821-1840/Campbell County/Unknown",
          "all/1841-1860/Campbell County/Unknown",
          "all/1821-1840/Norfolk County/M",
          "all/1841-1860/Goochland County/Unknown",
          "all/1781-1800/Lancaster County/Unknown",
          "all/1801-1820/Lancaster County/Unknown",
          "all/1821-1840/Lancaster County/Unknown",
          "all/1841-1860/Lancaster County/Unknown",
          "all/1801-1820/Goochland County",
          "all/1760-1780/Norfolk County/Unknown",
          "all/1841-1860/Goochland County/F",
          "all/1821-1840/Goochland County/F",
          "all/1801-1820/Norfolk County/M",
          "all/1781-1800/Norfolk County/M",
          "all/1781-1800/Lancaster County/F",
          "all/1801-1820/Goochland County/F",
          "all/1781-1800/Goochland County/F",
          "all/1760-1780/Goochland County/F",
          "all/1821-1840/Campbell County",
          "all/1821-1840/Frederick County/F",
          "all/1821-1840/Southampton County/M",
          "all/1760-1780/Goochland County",
          "all/1781-1800/Norfolk County/Unknown",
          "all/1821-1840/Petersburg City/Unknown"
         ],
         "labels": [
          "F",
          "M",
          "M",
          "M",
          "M",
          "M",
          "M",
          "Unknown",
          "Unknown",
          "Unknown",
          "Accomack County",
          "Arlington County",
          "Campbell County",
          "Campbell County",
          "Caroline County",
          "Norfolk County",
          "Petersburg City",
          "Rockingham County",
          "Southampton County",
          "1760-1780",
          "1801-1820",
          "1821-1840",
          "F",
          "F",
          "all",
          "F",
          "F",
          "F",
          "F",
          "F",
          "F",
          "F",
          "F",
          "Unknown",
          "Unknown",
          "Accomack County",
          "Accomack County",
          "Campbell County",
          "F",
          "Unknown",
          "Petersburg City",
          "F",
          "F",
          "F",
          "1781-1800",
          "F",
          "F",
          "1841-1860",
          "Unknown",
          "M",
          "M",
          "M",
          "M",
          "M",
          "M",
          "M",
          "F",
          "F",
          "M",
          "M",
          "Middlesex County",
          "Middlesex County",
          "M",
          "Lancaster County",
          "Lancaster County",
          "Lancaster County",
          "Henry County",
          "Lancaster County",
          "Norfolk County",
          "Norfolk County",
          "Norfolk County",
          "Goochland County",
          "Petersburg City",
          "M",
          "Prince Edward County",
          "Rockingham County",
          "Southampton County",
          "Staunton City",
          "M",
          "M",
          "F",
          "Norfolk County",
          "Goochland County",
          "Frederick County",
          "Goochland County",
          "Unknown",
          "Unknown",
          "Unknown",
          "Unknown",
          "Unknown",
          "Unknown",
          "M",
          "Unknown",
          "Unknown",
          "Unknown",
          "Unknown",
          "Unknown",
          "Goochland County",
          "Unknown",
          "F",
          "F",
          "M",
          "M",
          "F",
          "F",
          "F",
          "F",
          "Campbell County",
          "F",
          "M",
          "Goochland County",
          "Unknown",
          "Unknown"
         ],
         "marker": {
          "colors": [
           "#636efa",
           "#EF553B",
           "#EF553B",
           "#EF553B",
           "#EF553B",
           "#EF553B",
           "#EF553B",
           "#00cc96",
           "#00cc96",
           "#00cc96",
           "#ab63fa",
           "#ab63fa",
           "#ab63fa",
           "#ab63fa",
           "#636efa",
           "#EF553B",
           "#ab63fa",
           "#EF553B",
           "#EF553B",
           "#ab63fa",
           "#ab63fa",
           "#ab63fa",
           "#636efa",
           "#636efa",
           "#ab63fa",
           "#636efa",
           "#636efa",
           "#636efa",
           "#636efa",
           "#636efa",
           "#636efa",
           "#636efa",
           "#636efa",
           "#00cc96",
           "#00cc96",
           "#ab63fa",
           "#ab63fa",
           "#ab63fa",
           "#636efa",
           "#00cc96",
           "#636efa",
           "#636efa",
           "#636efa",
           "#636efa",
           "#ab63fa",
           "#636efa",
           "#636efa",
           "#ab63fa",
           "#00cc96",
           "#EF553B",
           "#EF553B",
           "#EF553B",
           "#EF553B",
           "#EF553B",
           "#EF553B",
           "#EF553B",
           "#636efa",
           "#636efa",
           "#EF553B",
           "#EF553B",
           "#636efa",
           "#ab63fa",
           "#EF553B",
           "#ab63fa",
           "#ab63fa",
           "#ab63fa",
           "#636efa",
           "#00cc96",
           "#ab63fa",
           "#00cc96",
           "#ab63fa",
           "#ab63fa",
           "#636efa",
           "#EF553B",
           "#00cc96",
           "#ab63fa",
           "#EF553B",
           "#636efa",
           "#EF553B",
           "#EF553B",
           "#636efa",
           "#ab63fa",
           "#636efa",
           "#ab63fa",
           "#ab63fa",
           "#00cc96",
           "#00cc96",
           "#00cc96",
           "#00cc96",
           "#00cc96",
           "#00cc96",
           "#EF553B",
           "#00cc96",
           "#00cc96",
           "#00cc96",
           "#00cc96",
           "#00cc96",
           "#ab63fa",
           "#00cc96",
           "#636efa",
           "#636efa",
           "#EF553B",
           "#EF553B",
           "#636efa",
           "#636efa",
           "#636efa",
           "#636efa",
           "#ab63fa",
           "#636efa",
           "#EF553B",
           "#ab63fa",
           "#00cc96",
           "#00cc96"
          ]
         },
         "name": "",
         "parents": [
          "all/1760-1780/Accomack County",
          "all/1781-1800/Campbell County",
          "all/1841-1860/Campbell County",
          "all/1821-1840/Frederick County",
          "all/1760-1780/Goochland County",
          "all/1781-1800/Goochland County",
          "all/1760-1780/Norfolk County",
          "all/1801-1820/Goochland County",
          "all/1821-1840/Norfolk County",
          "all/1841-1860/Norfolk County",
          "all/1760-1780",
          "all/1801-1820",
          "all/1781-1800",
          "all/1841-1860",
          "all/1781-1800",
          "all/1801-1820",
          "all/1821-1840",
          "all/1841-1860",
          "all/1821-1840",
          "all",
          "all",
          "all",
          "all/1781-1800/Rockingham County",
          "all/1821-1840/Petersburg City",
          "",
          "all/1781-1800/Petersburg City",
          "all/1781-1800/Accomack County",
          "all/1781-1800/Campbell County",
          "all/1781-1800/Middlesex County",
          "all/1760-1780/Middlesex County",
          "all/1801-1820/Lancaster County",
          "all/1821-1840/Henry County",
          "all/1801-1820/Petersburg City",
          "all/1781-1800/Prince Edward County",
          "all/1781-1800/Rockingham County",
          "all/1781-1800",
          "all/1801-1820",
          "all/1801-1820",
          "all/1841-1860/Campbell County",
          "all/1781-1800/Goochland County",
          "all/1781-1800",
          "all/1821-1840/Campbell County",
          "all/1801-1820/Campbell County",
          "all/1801-1820/Arlington County",
          "all",
          "all/1801-1820/Accomack County",
          "all/1781-1800/Caroline County",
          "all",
          "all/1760-1780/Goochland County",
          "all/1801-1820/Arlington County",
          "all/1841-1860/Goochland County",
          "all/1801-1820/Accomack County",
          "all/1821-1840/Campbell County",
          "all/1801-1820/Lancaster County",
          "all/1841-1860/Rockingham County",
          "all/1781-1800/Rockingham County",
          "all/1821-1840/Lancaster County",
          "all/1781-1800/Norfolk County",
          "all/1760-1780/Middlesex County",
          "all/1821-1840/Lancaster County",
          "all/1781-1800",
          "all/1760-1780",
          "all/1841-1860/Southampton County",
          "all/1821-1840",
          "all/1801-1820",
          "all/1781-1800",
          "all/1821-1840",
          "all/1841-1860",
          "all/1760-1780",
          "all/1841-1860",
          "all/1821-1840",
          "all/1841-1860",
          "all/1801-1820",
          "all/1801-1820/Campbell County",
          "all/1781-1800",
          "all/1781-1800",
          "all/1841-1860",
          "all/1821-1840",
          "all/1781-1800/Accomack County",
          "all/1760-1780/Accomack County",
          "all/1821-1840/Staunton City",
          "all/1781-1800",
          "all/1821-1840",
          "all/1821-1840",
          "all/1781-1800",
          "all/1781-1800/Accomack County",
          "all/1801-1820/Accomack County",
          "all/1781-1800/Campbell County",
          "all/1801-1820/Campbell County",
          "all/1821-1840/Campbell County",
          "all/1841-1860/Campbell County",
          "all/1821-1840/Norfolk County",
          "all/1841-1860/Goochland County",
          "all/1781-1800/Lancaster County",
          "all/1801-1820/Lancaster County",
          "all/1821-1840/Lancaster County",
          "all/1841-1860/Lancaster County",
          "all/1801-1820",
          "all/1760-1780/Norfolk County",
          "all/1841-1860/Goochland County",
          "all/1821-1840/Goochland County",
          "all/1801-1820/Norfolk County",
          "all/1781-1800/Norfolk County",
          "all/1781-1800/Lancaster County",
          "all/1801-1820/Goochland County",
          "all/1781-1800/Goochland County",
          "all/1760-1780/Goochland County",
          "all/1821-1840",
          "all/1821-1840/Frederick County",
          "all/1821-1840/Southampton County",
          "all/1760-1780",
          "all/1781-1800/Norfolk County",
          "all/1821-1840/Petersburg City"
         ],
         "root": {
          "color": "lightgrey"
         },
         "tiling": {
          "orientation": "h"
         },
         "type": "icicle",
         "values": [
          2,
          6,
          47,
          1,
          5,
          7,
          1,
          17,
          2,
          1,
          3,
          5,
          27,
          242,
          1,
          1,
          2,
          1,
          4,
          24,
          313,
          302,
          6,
          1,
          1164,
          1,
          23,
          7,
          1,
          1,
          4,
          2,
          2,
          5,
          2,
          95,
          137,
          107,
          66,
          9,
          1,
          52,
          15,
          3,
          172,
          42,
          1,
          353,
          6,
          2,
          11,
          40,
          48,
          1,
          1,
          6,
          2,
          1,
          3,
          2,
          1,
          4,
          1,
          6,
          39,
          4,
          2,
          1,
          2,
          1,
          3,
          107,
          2,
          10,
          5,
          14,
          1,
          1,
          17,
          1,
          1,
          4,
          1,
          2,
          20,
          55,
          55,
          14,
          82,
          181,
          129,
          1,
          87,
          3,
          34,
          2,
          1,
          22,
          1,
          9,
          1,
          1,
          1,
          1,
          5,
          4,
          4,
          281,
          1,
          4,
          15,
          2,
          1
         ]
        }
       ],
       "layout": {
        "legend": {
         "tracegroupgap": 0
        },
        "margin": {
         "t": 60
        },
        "template": {
         "data": {
          "bar": [
           {
            "error_x": {
             "color": "#2a3f5f"
            },
            "error_y": {
             "color": "#2a3f5f"
            },
            "marker": {
             "line": {
              "color": "#E5ECF6",
              "width": 0.5
             },
             "pattern": {
              "fillmode": "overlay",
              "size": 10,
              "solidity": 0.2
             }
            },
            "type": "bar"
           }
          ],
          "barpolar": [
           {
            "marker": {
             "line": {
              "color": "#E5ECF6",
              "width": 0.5
             },
             "pattern": {
              "fillmode": "overlay",
              "size": 10,
              "solidity": 0.2
             }
            },
            "type": "barpolar"
           }
          ],
          "carpet": [
           {
            "aaxis": {
             "endlinecolor": "#2a3f5f",
             "gridcolor": "white",
             "linecolor": "white",
             "minorgridcolor": "white",
             "startlinecolor": "#2a3f5f"
            },
            "baxis": {
             "endlinecolor": "#2a3f5f",
             "gridcolor": "white",
             "linecolor": "white",
             "minorgridcolor": "white",
             "startlinecolor": "#2a3f5f"
            },
            "type": "carpet"
           }
          ],
          "choropleth": [
           {
            "colorbar": {
             "outlinewidth": 0,
             "ticks": ""
            },
            "type": "choropleth"
           }
          ],
          "contour": [
           {
            "colorbar": {
             "outlinewidth": 0,
             "ticks": ""
            },
            "colorscale": [
             [
              0,
              "#0d0887"
             ],
             [
              0.1111111111111111,
              "#46039f"
             ],
             [
              0.2222222222222222,
              "#7201a8"
             ],
             [
              0.3333333333333333,
              "#9c179e"
             ],
             [
              0.4444444444444444,
              "#bd3786"
             ],
             [
              0.5555555555555556,
              "#d8576b"
             ],
             [
              0.6666666666666666,
              "#ed7953"
             ],
             [
              0.7777777777777778,
              "#fb9f3a"
             ],
             [
              0.8888888888888888,
              "#fdca26"
             ],
             [
              1,
              "#f0f921"
             ]
            ],
            "type": "contour"
           }
          ],
          "contourcarpet": [
           {
            "colorbar": {
             "outlinewidth": 0,
             "ticks": ""
            },
            "type": "contourcarpet"
           }
          ],
          "heatmap": [
           {
            "colorbar": {
             "outlinewidth": 0,
             "ticks": ""
            },
            "colorscale": [
             [
              0,
              "#0d0887"
             ],
             [
              0.1111111111111111,
              "#46039f"
             ],
             [
              0.2222222222222222,
              "#7201a8"
             ],
             [
              0.3333333333333333,
              "#9c179e"
             ],
             [
              0.4444444444444444,
              "#bd3786"
             ],
             [
              0.5555555555555556,
              "#d8576b"
             ],
             [
              0.6666666666666666,
              "#ed7953"
             ],
             [
              0.7777777777777778,
              "#fb9f3a"
             ],
             [
              0.8888888888888888,
              "#fdca26"
             ],
             [
              1,
              "#f0f921"
             ]
            ],
            "type": "heatmap"
           }
          ],
          "heatmapgl": [
           {
            "colorbar": {
             "outlinewidth": 0,
             "ticks": ""
            },
            "colorscale": [
             [
              0,
              "#0d0887"
             ],
             [
              0.1111111111111111,
              "#46039f"
             ],
             [
              0.2222222222222222,
              "#7201a8"
             ],
             [
              0.3333333333333333,
              "#9c179e"
             ],
             [
              0.4444444444444444,
              "#bd3786"
             ],
             [
              0.5555555555555556,
              "#d8576b"
             ],
             [
              0.6666666666666666,
              "#ed7953"
             ],
             [
              0.7777777777777778,
              "#fb9f3a"
             ],
             [
              0.8888888888888888,
              "#fdca26"
             ],
             [
              1,
              "#f0f921"
             ]
            ],
            "type": "heatmapgl"
           }
          ],
          "histogram": [
           {
            "marker": {
             "pattern": {
              "fillmode": "overlay",
              "size": 10,
              "solidity": 0.2
             }
            },
            "type": "histogram"
           }
          ],
          "histogram2d": [
           {
            "colorbar": {
             "outlinewidth": 0,
             "ticks": ""
            },
            "colorscale": [
             [
              0,
              "#0d0887"
             ],
             [
              0.1111111111111111,
              "#46039f"
             ],
             [
              0.2222222222222222,
              "#7201a8"
             ],
             [
              0.3333333333333333,
              "#9c179e"
             ],
             [
              0.4444444444444444,
              "#bd3786"
             ],
             [
              0.5555555555555556,
              "#d8576b"
             ],
             [
              0.6666666666666666,
              "#ed7953"
             ],
             [
              0.7777777777777778,
              "#fb9f3a"
             ],
             [
              0.8888888888888888,
              "#fdca26"
             ],
             [
              1,
              "#f0f921"
             ]
            ],
            "type": "histogram2d"
           }
          ],
          "histogram2dcontour": [
           {
            "colorbar": {
             "outlinewidth": 0,
             "ticks": ""
            },
            "colorscale": [
             [
              0,
              "#0d0887"
             ],
             [
              0.1111111111111111,
              "#46039f"
             ],
             [
              0.2222222222222222,
              "#7201a8"
             ],
             [
              0.3333333333333333,
              "#9c179e"
             ],
             [
              0.4444444444444444,
              "#bd3786"
             ],
             [
              0.5555555555555556,
              "#d8576b"
             ],
             [
              0.6666666666666666,
              "#ed7953"
             ],
             [
              0.7777777777777778,
              "#fb9f3a"
             ],
             [
              0.8888888888888888,
              "#fdca26"
             ],
             [
              1,
              "#f0f921"
             ]
            ],
            "type": "histogram2dcontour"
           }
          ],
          "mesh3d": [
           {
            "colorbar": {
             "outlinewidth": 0,
             "ticks": ""
            },
            "type": "mesh3d"
           }
          ],
          "parcoords": [
           {
            "line": {
             "colorbar": {
              "outlinewidth": 0,
              "ticks": ""
             }
            },
            "type": "parcoords"
           }
          ],
          "pie": [
           {
            "automargin": true,
            "type": "pie"
           }
          ],
          "scatter": [
           {
            "marker": {
             "colorbar": {
              "outlinewidth": 0,
              "ticks": ""
             }
            },
            "type": "scatter"
           }
          ],
          "scatter3d": [
           {
            "line": {
             "colorbar": {
              "outlinewidth": 0,
              "ticks": ""
             }
            },
            "marker": {
             "colorbar": {
              "outlinewidth": 0,
              "ticks": ""
             }
            },
            "type": "scatter3d"
           }
          ],
          "scattercarpet": [
           {
            "marker": {
             "colorbar": {
              "outlinewidth": 0,
              "ticks": ""
             }
            },
            "type": "scattercarpet"
           }
          ],
          "scattergeo": [
           {
            "marker": {
             "colorbar": {
              "outlinewidth": 0,
              "ticks": ""
             }
            },
            "type": "scattergeo"
           }
          ],
          "scattergl": [
           {
            "marker": {
             "colorbar": {
              "outlinewidth": 0,
              "ticks": ""
             }
            },
            "type": "scattergl"
           }
          ],
          "scattermapbox": [
           {
            "marker": {
             "colorbar": {
              "outlinewidth": 0,
              "ticks": ""
             }
            },
            "type": "scattermapbox"
           }
          ],
          "scatterpolar": [
           {
            "marker": {
             "colorbar": {
              "outlinewidth": 0,
              "ticks": ""
             }
            },
            "type": "scatterpolar"
           }
          ],
          "scatterpolargl": [
           {
            "marker": {
             "colorbar": {
              "outlinewidth": 0,
              "ticks": ""
             }
            },
            "type": "scatterpolargl"
           }
          ],
          "scatterternary": [
           {
            "marker": {
             "colorbar": {
              "outlinewidth": 0,
              "ticks": ""
             }
            },
            "type": "scatterternary"
           }
          ],
          "surface": [
           {
            "colorbar": {
             "outlinewidth": 0,
             "ticks": ""
            },
            "colorscale": [
             [
              0,
              "#0d0887"
             ],
             [
              0.1111111111111111,
              "#46039f"
             ],
             [
              0.2222222222222222,
              "#7201a8"
             ],
             [
              0.3333333333333333,
              "#9c179e"
             ],
             [
              0.4444444444444444,
              "#bd3786"
             ],
             [
              0.5555555555555556,
              "#d8576b"
             ],
             [
              0.6666666666666666,
              "#ed7953"
             ],
             [
              0.7777777777777778,
              "#fb9f3a"
             ],
             [
              0.8888888888888888,
              "#fdca26"
             ],
             [
              1,
              "#f0f921"
             ]
            ],
            "type": "surface"
           }
          ],
          "table": [
           {
            "cells": {
             "fill": {
              "color": "#EBF0F8"
             },
             "line": {
              "color": "white"
             }
            },
            "header": {
             "fill": {
              "color": "#C8D4E3"
             },
             "line": {
              "color": "white"
             }
            },
            "type": "table"
           }
          ]
         },
         "layout": {
          "annotationdefaults": {
           "arrowcolor": "#2a3f5f",
           "arrowhead": 0,
           "arrowwidth": 1
          },
          "autotypenumbers": "strict",
          "coloraxis": {
           "colorbar": {
            "outlinewidth": 0,
            "ticks": ""
           }
          },
          "colorscale": {
           "diverging": [
            [
             0,
             "#8e0152"
            ],
            [
             0.1,
             "#c51b7d"
            ],
            [
             0.2,
             "#de77ae"
            ],
            [
             0.3,
             "#f1b6da"
            ],
            [
             0.4,
             "#fde0ef"
            ],
            [
             0.5,
             "#f7f7f7"
            ],
            [
             0.6,
             "#e6f5d0"
            ],
            [
             0.7,
             "#b8e186"
            ],
            [
             0.8,
             "#7fbc41"
            ],
            [
             0.9,
             "#4d9221"
            ],
            [
             1,
             "#276419"
            ]
           ],
           "sequential": [
            [
             0,
             "#0d0887"
            ],
            [
             0.1111111111111111,
             "#46039f"
            ],
            [
             0.2222222222222222,
             "#7201a8"
            ],
            [
             0.3333333333333333,
             "#9c179e"
            ],
            [
             0.4444444444444444,
             "#bd3786"
            ],
            [
             0.5555555555555556,
             "#d8576b"
            ],
            [
             0.6666666666666666,
             "#ed7953"
            ],
            [
             0.7777777777777778,
             "#fb9f3a"
            ],
            [
             0.8888888888888888,
             "#fdca26"
            ],
            [
             1,
             "#f0f921"
            ]
           ],
           "sequentialminus": [
            [
             0,
             "#0d0887"
            ],
            [
             0.1111111111111111,
             "#46039f"
            ],
            [
             0.2222222222222222,
             "#7201a8"
            ],
            [
             0.3333333333333333,
             "#9c179e"
            ],
            [
             0.4444444444444444,
             "#bd3786"
            ],
            [
             0.5555555555555556,
             "#d8576b"
            ],
            [
             0.6666666666666666,
             "#ed7953"
            ],
            [
             0.7777777777777778,
             "#fb9f3a"
            ],
            [
             0.8888888888888888,
             "#fdca26"
            ],
            [
             1,
             "#f0f921"
            ]
           ]
          },
          "colorway": [
           "#636efa",
           "#EF553B",
           "#00cc96",
           "#ab63fa",
           "#FFA15A",
           "#19d3f3",
           "#FF6692",
           "#B6E880",
           "#FF97FF",
           "#FECB52"
          ],
          "font": {
           "color": "#2a3f5f"
          },
          "geo": {
           "bgcolor": "white",
           "lakecolor": "white",
           "landcolor": "#E5ECF6",
           "showlakes": true,
           "showland": true,
           "subunitcolor": "white"
          },
          "hoverlabel": {
           "align": "left"
          },
          "hovermode": "closest",
          "mapbox": {
           "style": "light"
          },
          "paper_bgcolor": "white",
          "plot_bgcolor": "#E5ECF6",
          "polar": {
           "angularaxis": {
            "gridcolor": "white",
            "linecolor": "white",
            "ticks": ""
           },
           "bgcolor": "#E5ECF6",
           "radialaxis": {
            "gridcolor": "white",
            "linecolor": "white",
            "ticks": ""
           }
          },
          "scene": {
           "xaxis": {
            "backgroundcolor": "#E5ECF6",
            "gridcolor": "white",
            "gridwidth": 2,
            "linecolor": "white",
            "showbackground": true,
            "ticks": "",
            "zerolinecolor": "white"
           },
           "yaxis": {
            "backgroundcolor": "#E5ECF6",
            "gridcolor": "white",
            "gridwidth": 2,
            "linecolor": "white",
            "showbackground": true,
            "ticks": "",
            "zerolinecolor": "white"
           },
           "zaxis": {
            "backgroundcolor": "#E5ECF6",
            "gridcolor": "white",
            "gridwidth": 2,
            "linecolor": "white",
            "showbackground": true,
            "ticks": "",
            "zerolinecolor": "white"
           }
          },
          "shapedefaults": {
           "line": {
            "color": "#2a3f5f"
           }
          },
          "ternary": {
           "aaxis": {
            "gridcolor": "white",
            "linecolor": "white",
            "ticks": ""
           },
           "baxis": {
            "gridcolor": "white",
            "linecolor": "white",
            "ticks": ""
           },
           "bgcolor": "#E5ECF6",
           "caxis": {
            "gridcolor": "white",
            "linecolor": "white",
            "ticks": ""
           }
          },
          "title": {
           "x": 0.05
          },
          "xaxis": {
           "automargin": true,
           "gridcolor": "white",
           "linecolor": "white",
           "ticks": "",
           "title": {
            "standoff": 15
           },
           "zerolinecolor": "white",
           "zerolinewidth": 2
          },
          "yaxis": {
           "automargin": true,
           "gridcolor": "white",
           "linecolor": "white",
           "ticks": "",
           "title": {
            "standoff": 15
           },
           "zerolinecolor": "white",
           "zerolinewidth": 2
          }
         }
        }
       }
      }
     },
     "metadata": {},
     "output_type": "display_data"
    }
   ],
   "source": [
    "\n",
    "fig = px.icicle(df, \n",
    "                path=[px.Constant(\"all\"), 'Period', 'Locality', 'Gender'],\n",
    "                values='Slaves', \n",
    "                color='Gender')\n",
    "\n",
    "fig.update_traces(root_color=\"lightgrey\", tiling=dict(orientation='h'))\n",
    "\n",
    "fig.show()"
   ]
  },
  {
   "cell_type": "code",
   "execution_count": 23,
   "metadata": {},
   "outputs": [
    {
     "data": {
      "application/vnd.plotly.v1+json": {
       "config": {
        "plotlyServerURL": "https://plot.ly"
       },
       "data": [
        {
         "branchvalues": "total",
         "domain": {
          "x": [
           0,
           1
          ],
          "y": [
           0,
           1
          ]
         },
         "hovertemplate": "labels=%{label}<br>Slaves=%{value}<br>parent=%{parent}<br>id=%{id}<extra></extra>",
         "ids": [
          "all/1821-1840/Lancaster County/A L Willis",
          "all/1801-1820/Accomack County/Abel W. Kellum",
          "all/1841-1860/Campbell County/Abner Anthony Jr; Grief Miller",
          "all/1801-1820/Petersburg City/Abram Leath",
          "all/1781-1800/Rockingham County/Addam Sellars",
          "all/1781-1800/Accomack County/Admr of Levin Pruet, deceased",
          "all/1781-1800/Goochland County/Alexander Donald",
          "all/1841-1860/Campbell County/Alexander M Lewis",
          "all/1841-1860/Campbell County/Alexander T Ward; William M Withers",
          "all/1781-1800/Petersburg City/Alexander W. McRae",
          "all/1841-1860/Campbell County/Allen S Wyllie",
          "all/1841-1860/Campbell County/Amanda J Gilliam",
          "all/1801-1820/Accomack County/Andrew",
          "all/1841-1860/Campbell County/Ann E L Lewellin; Catherine Lewellin",
          "all/1781-1800/Accomack County/Ann Hatton",
          "all/1801-1820/Accomack County/Ann Maria Parker Kelly",
          "all/1801-1820/Accomack County/Ann Meriah Parker",
          "all/1781-1800/Accomack County/Ann Sandford",
          "all/1821-1840/Campbell County/Ann Scott",
          "all/1801-1820/Campbell County/Anthony North",
          "all/1801-1820/Campbell County/Archibald Bryan Jr; William G Poindexter; William Miller",
          "all/1841-1860/Goochland County/Archibald S Richards",
          "all/1801-1820/Accomack County/Armistead Mears",
          "all/1801-1820/Campbell County/Armstead Pamplin",
          "all/1801-1820/Accomack County/Arthur Savage",
          "all/1801-1820/Lancaster County/Baldwin M Leland",
          "all/1801-1820/Campbell County/Bartley Baugh",
          "all/1781-1800/Campbell County/Battan Dobbins",
          "all/1781-1800/Campbell County/Benjamin Cox",
          "all/1801-1820/Campbell County/Benjamin Moore",
          "all/1801-1820/Campbell County/Betsy Hensbarger Gamble; Alexander Gamble",
          "all/1841-1860/Campbell County/Branch J Worsham",
          "all/1841-1860/Campbell County/Bridget Carson; John A Shearer; Letitia E M Sherer; James M Carson; Thomas F Carson; Moses Carson",
          "all/1821-1840/Campbell County/Bryant Nowlin; Robert P Phelps",
          "all/1841-1860/Campbell County/C Alonzo Hunt",
          "all/1781-1800/Campbell County/Caleb Tate",
          "all/1781-1800/Goochland County/Capt Thomas Miller",
          "all/1801-1820/Accomack County/Cassia Waples",
          "all/1781-1800/Accomack County/Catharine Martin; Elizabeth Martin",
          "all/1801-1820/Campbell County/Charles Cross",
          "all/1801-1820/Accomack County/Charles West",
          "all/1801-1820/Accomack County/Charlotte Henderson",
          "all/1801-1820/Campbell County/Chiswell Dabney",
          "all/1821-1840/Campbell County/Christopher Todd",
          "all/1801-1820/Accomack County/Crippen Taylor",
          "all/1781-1800/Accomack County/Custis Kellum",
          "all/1801-1820/Goochland County/D Johnson",
          "all/1821-1840/Campbell County/Daniel M Black",
          "all/1821-1840/Campbell County/Daniel Stone",
          "all/1801-1820/Accomack County/Daniel Twiford",
          "all/1801-1820/Lancaster County/David Edwards",
          "all/1821-1840/Campbell County/David Jones",
          "all/1760-1780/Goochland County/David Ross",
          "all/1801-1820/Accomack County/Derry Broadwater",
          "all/1821-1840/Campbell County/Dudley Terrell",
          "all/1801-1820/Goochland County/E Dejarnatt",
          "all/1821-1840/Norfolk County/E. T. Gayle",
          "all/1841-1860/Campbell County/Ed D Christian; A Christian, Trustees",
          "all/1781-1800/Norfolk County/Edmund Daniell",
          "all/1841-1860/Campbell County/Edward Bolling",
          "all/1801-1820/Petersburg City/Edward Simmons",
          "all/1801-1820/Accomack County/Edwin L Harris",
          "all/1801-1820/Accomack County/Edwin L. Harris",
          "all/1821-1840/Campbell County/Edwin Matthews; Melville Talbot",
          "all/1841-1860/Campbell County/Edwin R Page, Trustee",
          "all/1781-1800/Accomack County/Eli Hornsby",
          "all/1781-1800/Lancaster County/Elias Edmonds Jr",
          "all/1821-1840/Campbell County/Elizabeth Craddock",
          "all/1821-1840/Campbell County/Elizabeth Gilliam",
          "all/1781-1800/Accomack County/Elizabeth Henry",
          "all/1801-1820/Campbell County/Elizabeth McIver",
          "all/1821-1840/Campbell County/Elizabeth Tabetha Leftwich",
          "all/1781-1800/Accomack County/Elizabeth Teackle Sr",
          "all/1781-1800/Accomack County/Elizabeth Teackle Sr.",
          "all/1841-1860/Goochland County/Ellison Houchins",
          "all/1841-1860/Campbell County/Elvira B Irvine; Patrick Irvine; Jesse Irvine",
          "all/1801-1820/Accomack County/Ethel Lyon Exr of Sarah Lyon deceased",
          "all/1801-1820/Accomack County/Ethel Lyon Exr of Sarah Lyon, deceased",
          "all/1821-1840/Frederick County/Evelina Graham; James Graham; Richard John Graham; William Duncan Graham",
          "all/1821-1840/Campbell County/Exrs of George Cabell Dec'd; by Sarah Cabell; and Thomas F Buldin Executors",
          "all/1841-1860/Campbell County/Ezekiel Horner",
          "all/1801-1820/Lancaster County/Fanney Lawson",
          "all/1781-1800/Goochland County/Francis Harris",
          "all/1801-1820/Campbell County/Gabriel Jones; Robert Goode; Patsy Goode",
          "all/1801-1820/Accomack County/George Coleburn",
          "all/1781-1800/Accomack County/George Dunton",
          "all/1801-1820/Accomack County/George Scarburgh",
          "all/1781-1800/Accomack County/George Simpson",
          "all/1841-1860/Campbell County/Gilbert Hayth; Emaline Pettersen",
          "all/1801-1820/Accomack County/Gilbert Milby",
          "all/1841-1860/Campbell County/Giles B Portwood",
          "all/1821-1840/Campbell County/Granville Jordan; Josiah Shepperson; Howel Lewis",
          "all/1801-1820/Goochland County/H Lewis",
          "all/1801-1820/Campbell County/Hart Brown & Co; Charles G Watkins Sr",
          "all/1821-1840/Campbell County/Hartwell Epps; Joseph Gaddy",
          "all/1841-1860/Goochland County/Hector Davis",
          "all/1841-1860/Campbell County/Hector Harris",
          "all/1841-1860/Campbell County/Hector Harris, Trustee of Elizabeth Jenks",
          "all/1841-1860/Campbell County/Henry C Wade",
          "all/1781-1800/Rockingham County/Henry Ewin",
          "all/1781-1800/Accomack County/Henry Fletcher Sr",
          "all/1781-1800/Accomack County/Henry Fletcher Sr.",
          "all/1841-1860/Campbell County/Henry J Brown; James L Brown; John D Murrell",
          "all/1821-1840/Campbell County/Henry Keeling",
          "all/1841-1860/Norfolk County/Henry T. & Ann L. Parsons Williamson",
          "all/1781-1800/Campbell County/Henry Tate",
          "all/1841-1860/Campbell County/Henry Ward's Legatees",
          "all/1801-1820/Accomack County/Henry White; Thomas Abbot",
          "all/1781-1800/Goochland County/Henry Wood",
          "all/1781-1800/Accomack County/Hessesy Tunnell",
          "all/1801-1820/Accomack County/Higgins & McCollom",
          "all/1801-1820/Goochland County/Hugart",
          "all/1821-1840/Campbell County/Huston Davenport",
          "all/1821-1840/Lancaster County/Isaac Brent",
          "all/1781-1800/Accomack County/Isaac West; Nathaniel West",
          "all/1821-1840/Campbell County/Isabella S Wheeler",
          "all/1801-1820/Accomack County/Isaiah Johnson Sr.",
          "all/1801-1820/Goochland County/J A Grant",
          "all/1841-1860/Campbell County/J C Moorman",
          "all/1801-1820/Goochland County/J Chapman",
          "all/1841-1860/Campbell County/J H Smith",
          "all/1781-1800/Accomack County/Jabez Pitt",
          "all/1781-1800/Accomack County/Jacob Bird",
          "all/1821-1840/Campbell County/James Campbell",
          "all/1841-1860/Campbell County/James Cobbs",
          "all/1821-1840/Norfolk County/James Culpepper",
          "all/1760-1780/Middlesex County/James Daniel",
          "all/1821-1840/Campbell County/James G Dearing",
          "all/1801-1820/Accomack County/James Gibbons",
          "all/1841-1860/Campbell County/James L Claytor; Charles R Slaugher; James L Brown; John D Murrell",
          "all/1801-1820/Accomack County/James Melvin; Peter Delastatius",
          "all/1801-1820/Campbell County/James Moseley",
          "all/1841-1860/Campbell County/James P Scott",
          "all/1781-1800/Goochland County/James Robards",
          "all/1841-1860/Campbell County/James S Clator; George W Turner",
          "all/1821-1840/Campbell County/James Steptoe Sr",
          "all/1821-1840/Campbell County/James V Knight",
          "all/1821-1840/Campbell County/James Wiley; Samuel Fleming",
          "all/1821-1840/Lancaster County/Jasper Scott",
          "all/1841-1860/Campbell County/Jeffrey Murrell",
          "all/1801-1820/Lancaster County/Jesse Robins",
          "all/1841-1860/Campbell County/John A Alexander; Ann B Finch",
          "all/1821-1840/Campbell County/John Alexander",
          "all/1801-1820/Accomack County/John Artis",
          "all/1821-1840/Campbell County/John B Dabney; Fortunatus Sydnor",
          "all/1821-1840/Campbell County/John B Dabney; William Daniel Jr",
          "all/1801-1820/Accomack County/John Bird Jr.",
          "all/1801-1820/Goochland County/John Bridgewater",
          "all/1841-1860/Campbell County/John D Alexander",
          "all/1801-1820/Campbell County/John Franklin",
          "all/1781-1800/Caroline County/John George Graves, Benjamin Graves, Frances Graves",
          "all/1801-1820/Accomack County/John Gibson",
          "all/1781-1800/Accomack County/John Gootee; Edmund Custis",
          "all/1841-1860/Campbell County/John H Wade",
          "all/1801-1820/Campbell County/John Hancock",
          "all/1821-1840/Campbell County/John Hobson etc",
          "all/1821-1840/Campbell County/John Hockaday",
          "all/1760-1780/Goochland County/John K.",
          "all/1801-1820/Campbell County/John L Armistead",
          "all/1801-1820/Campbell County/John M Gordon",
          "all/1801-1820/Campbell County/John McAllister",
          "all/1760-1780/Accomack County/John Milby; Daniel Sulivan",
          "all/1841-1860/Goochland County/John Morris",
          "all/1781-1800/Rockingham County/John Morrison",
          "all/1781-1800/Campbell County/John Mosley Haden",
          "all/1841-1860/Campbell County/John P Minton; Poindexter Brown",
          "all/1821-1840/Campbell County/John Reaveley",
          "all/1821-1840/Campbell County/John Rosser",
          "all/1781-1800/Accomack County/John Sandford",
          "all/1801-1820/Goochland County/John Shelton Sr",
          "all/1821-1840/Campbell County/John Smith Jr; Richard G Haden",
          "all/1841-1860/Campbell County/John T Wood",
          "all/1760-1780/Norfolk County/John Taylor, Nickols Creekmur, John Williams",
          "all/1841-1860/Goochland County/John Thompson Jr",
          "all/1841-1860/Campbell County/John V Wheeler",
          "all/1821-1840/Campbell County/John W Keeton Gdn of Edward T Fowlkes; Samuel H Fowlkes",
          "all/1841-1860/Campbell County/John W Stratton",
          "all/1781-1800/Accomack County/John Wallup",
          "all/1801-1820/Accomack County/John Ward Kellum",
          "all/1801-1820/Accomack County/John Wharton",
          "all/1801-1820/Campbell County/Jonathan Bailey",
          "all/1781-1800/Campbell County/Jones Wynne",
          "all/1841-1860/Rockingham County/Joseph Mauzy",
          "all/1801-1820/Lancaster County/Joseph Mott",
          "all/1801-1820/Accomack County/Joshua Stutson",
          "all/1781-1800/Campbell County/Joshua Wynne Jr",
          "all/1821-1840/Campbell County/Josiah Shepperson",
          "all/1801-1820/Lancaster County/Josias Ingram",
          "all/1801-1820/Accomack County/Labon Gunter",
          "all/1821-1840/Campbell County/Laurence B Stern; Nathaniel D Inge",
          "all/1821-1840/Southampton County/Leonard Cobb",
          "all/1821-1840/Campbell County/Lewis E Williams",
          "all/1841-1860/Campbell County/Littleberry Hazelwood",
          "all/1841-1860/Campbell County/M Hollins",
          "all/1801-1820/Accomack County/Major Duffy",
          "all/1801-1820/Accomack County/Margaret Ewell",
          "all/1801-1820/Accomack County/Margaret Joynes; Elias Joynes",
          "all/1821-1840/Lancaster County/Margaret S Bryant",
          "all/1801-1820/Campbell County/Maria S Gray",
          "all/1821-1840/Campbell County/Martha Ann Thomas",
          "all/1781-1800/Campbell County/Martha Hart",
          "all/1841-1860/Campbell County/Martha J Swinney",
          "all/1841-1860/Campbell County/Martin Hollins & Co",
          "all/1841-1860/Goochland County/Martin Key",
          "all/1781-1800/Campbell County/Mary Ann Moseley",
          "all/1821-1840/Norfolk County/Mary Flowers",
          "all/1801-1820/Accomack County/Mary Griffin",
          "all/1821-1840/Campbell County/Mary Lewis",
          "all/1781-1800/Accomack County/Mary Marshall",
          "all/1821-1840/Campbell County/Mary Roberts",
          "all/1781-1800/Accomack County/Matthew Beard",
          "all/1801-1820/Accomack County/Molly Hall",
          "all/1801-1820/Campbell County/Morris Roberts",
          "all/1821-1840/Campbell County/Moses Steele",
          "all/1801-1820/Goochland County/Mr Hendrick",
          "all/1841-1860/Campbell County/Nancy Edds; Featherston Akers",
          "all/1801-1820/Accomack County/Nancy Glen",
          "all/1841-1860/Goochland County/Narcissus W Miller",
          "all/1841-1860/Campbell County/Oden G Clay; Creed T Wills",
          "all/1801-1820/Accomack County/Otter Jubilee",
          "all/1841-1860/Campbell County/Palenia Steward",
          "all/1801-1820/Accomack County/Pattey Walker",
          "all/1781-1800/Goochland County/Paul Dismukes",
          "all/1841-1860/Campbell County/Paul Jones",
          "all/1781-1800/Prince Edward County/Philimon Holcombe",
          "all/1781-1800/Rockingham County/Philip Buckner",
          "all/1841-1860/Goochland County/Pleasant Turner",
          "all/1801-1820/Accomack County/Polly A. Outten; George T. Outten; Julian Outten; Fanny Outten; John P. Outten",
          "all/1801-1820/Campbell County/Polly Douglass",
          "all/1841-1860/Campbell County/R G H Kean",
          "all/1801-1820/Accomack County/Ralph Corbin",
          "all/1801-1820/Arlington County/Ralph Longden",
          "all/1801-1820/Campbell County/Randolph D Carden",
          "all/1801-1820/Goochland County/Reb Saunders",
          "all/1821-1840/Campbell County/Reuben D Palmer; Jack E Cheathem",
          "all/1801-1820/Accomack County/Richard Bayly; John Bayly",
          "all/1801-1820/Accomack County/Richard D Bayly & Co",
          "all/1801-1820/Accomack County/Richard D. Bayly & Co",
          "all/1801-1820/Lancaster County/Richard Davis",
          "all/1821-1840/Campbell County/Richard G Brown; Edmund Herndon",
          "all/1821-1840/Campbell County/Richard G Haden",
          "all/1801-1820/Lancaster County/Richard Mitchell",
          "all/1841-1860/Lancaster County/Richard Norris",
          "all/1801-1820/Accomack County/Richard R Savage",
          "all/1801-1820/Accomack County/Richard R. Savage",
          "all/1760-1780/Norfolk County/Richard Silvester",
          "all/1821-1840/Campbell County/Richard Tyree; John H Tyree; George T Johnson",
          "all/1781-1800/Campbell County/Robert Bradfute",
          "all/1821-1840/Campbell County/Robert C Penn",
          "all/1841-1860/Campbell County/Robert E Withers",
          "all/1841-1860/Campbell County/Robert Hunter",
          "all/1760-1780/Goochland County/Robert Payne; Archer Payne",
          "all/1841-1860/Campbell County/Robert R Hargrove; Mary E Hargrove",
          "all/1841-1860/Campbell County/Robert W Scott",
          "all/1801-1820/Campbell County/Robert W Withers",
          "all/1841-1860/Campbell County/Robert W Withers; Robert E Withers",
          "all/1841-1860/Campbell County/Robert Ward",
          "all/1821-1840/Campbell County/Rowland Ward",
          "all/1781-1800/Accomack County/Salathiel West",
          "all/1801-1820/Accomack County/Samuel Coward",
          "all/1821-1840/Campbell County/Samuel Garland; Maurice H Garland",
          "all/1841-1860/Campbell County/Samuel Garland; Pembroke Garland",
          "all/1781-1800/Accomack County/Samuel Johnson",
          "all/1821-1840/Petersburg City/Samuel V. Brown",
          "all/1801-1820/Lancaster County/Sarah C Lawson",
          "all/1801-1820/Accomack County/Sarah Floyd",
          "all/1821-1840/Staunton City/Sarah Fuller",
          "all/1841-1860/Campbell County/Seth Woodruff",
          "all/1781-1800/Accomack County/Severn Teackle",
          "all/1821-1840/Petersburg City/Shadrick Brandon",
          "all/1821-1840/Campbell County/Simeon Austin",
          "all/1801-1820/Accomack County/Sinah Harman",
          "all/1781-1800/Accomack County/Sleathel Baker",
          "all/1801-1820/Accomack County/Stephen Drummond",
          "all/1821-1840/Campbell County/Stephen Terry; Lucinda Terry",
          "all/1821-1840/Campbell County/Sterling C Anderson",
          "all/1801-1820/Lancaster County/Sueanne M Lawson",
          "all/1841-1860/Campbell County/Susan E N Clark",
          "all/1841-1860/Goochland County/Sylvester Cocke",
          "all/1841-1860/Campbell County/T B Johnson",
          "all/1801-1820/Goochland County/T. Massie",
          "all/1821-1840/Henry County/Tavnor C Shelton",
          "all/1821-1840/Henry County/Tavnor C. Shelton",
          "all/1801-1820/Campbell County/Thomas B Jones",
          "all/1801-1820/Accomack County/Thomas Beard Jr",
          "all/1801-1820/Accomack County/Thomas Beard Jr.",
          "all/1781-1800/Middlesex County/Thomas Dillard",
          "all/1801-1820/Campbell County/Thomas Franklin",
          "all/1781-1800/Accomack County/Thomas Grinalds",
          "all/1781-1800/Accomack County/Thomas Guy",
          "all/1841-1860/Campbell County/Thomas H Lain Admr of Jesse Edds Dec'd",
          "all/1801-1820/Accomack County/Thomas Joynes",
          "all/1801-1820/Lancaster County/Thomas Lawson",
          "all/1801-1820/Accomack County/Thomas M Bayly",
          "all/1801-1820/Accomack County/Thomas M. Bayly",
          "all/1781-1800/Goochland County/Thomas Miller",
          "all/1821-1840/Campbell County/Thomas Praithor; Joseph Wilson",
          "all/1781-1800/Rockingham County/Thomas Scott",
          "all/1801-1820/Lancaster County/Thomas Shearman",
          "all/1781-1800/Accomack County/Thomas Snead",
          "all/1760-1780/Middlesex County/Thomas Stiff",
          "all/1841-1860/Goochland County/Thomas W Herndon; Wilson M Houchins",
          "all/1841-1860/Goochland County/Thomas W. Herndon; Wilson M. Houchins",
          "all/1801-1820/Accomack County/Thorowgood Taylor",
          "all/1841-1860/Campbell County/Timothy H Stamps Attorney in Fact for James Anderson",
          "all/1821-1840/Goochland County/Trustees of Thomas Robertson; Trustees of Mary Robertson",
          "all/1801-1820/Accomack County/Tully Snead; Francis Only",
          "all/1801-1820/Accomack County/Unknown",
          "all/1821-1840/Campbell County/Unknown",
          "all/1841-1860/Campbell County/Unknown",
          "all/1841-1860/Goochland County/Unknown",
          "all/1821-1840/Lancaster County/Unknown",
          "all/1781-1800/Norfolk County/Unknown",
          "all/1801-1820/Norfolk County/Unknown",
          "all/1801-1820/Accomack County/Walston and Custis",
          "all/1841-1860/Campbell County/Walter S Withers",
          "all/1801-1820/Lancaster County/Widow of Henry Lawson deceased",
          "all/1821-1840/Campbell County/William A Clement",
          "all/1841-1860/Campbell County/William A Clement",
          "all/1841-1860/Campbell County/William A Clement; Adam Clement",
          "all/1841-1860/Campbell County/William A Shands",
          "all/1841-1860/Southampton County/William Babb",
          "all/1841-1860/Goochland County/William C Adams",
          "all/1841-1860/Campbell County/William C Burton",
          "all/1841-1860/Campbell County/William C Hollins",
          "all/1841-1860/Campbell County/William C Perrow",
          "all/1801-1820/Accomack County/William Drummond",
          "all/1801-1820/Accomack County/William Duncan",
          "all/1841-1860/Campbell County/William H Tardy; Samuel C Tardy",
          "all/1821-1840/Campbell County/William Hiter Jones",
          "all/1841-1860/Campbell County/William Hollins",
          "all/1801-1820/Campbell County/William Irvine",
          "all/1821-1840/Campbell County/William J Harvey",
          "all/1841-1860/Campbell County/William J Tynes; Ednis D Tynes; Virginia Tynes; Aley C Tynes; Mary C Tynes",
          "all/1781-1800/Campbell County/William Jones; Elizabeth Jones",
          "all/1821-1840/Campbell County/William King",
          "all/1801-1820/Lancaster County/William Lawson",
          "all/1801-1820/Accomack County/William Lecato",
          "all/1801-1820/Goochland County/William Miller",
          "all/1801-1820/Accomack County/William Moore",
          "all/1801-1820/Lancaster County/William Newby",
          "all/1841-1860/Campbell County/William P Hayth",
          "all/1801-1820/Arlington County/William Reiley",
          "all/1801-1820/Accomack County/William Robert Custis",
          "all/1801-1820/Accomack County/William Selby",
          "all/1781-1800/Accomack County/William Silverthorn; Joseph Waggoman",
          "all/1801-1820/Accomack County/William Smart",
          "all/1760-1780/Goochland County/William Stamps",
          "all/1781-1800/Accomack County/William Taylor",
          "all/1801-1820/Campbell County/William Tharp",
          "all/1801-1820/Campbell County/William Trigg; Jesse Leftwich",
          "all/1781-1800/Accomack County/William Vessells Sr.",
          "all/1781-1800/Accomack County/William Vessels Sr.",
          "all/1781-1800/Accomack County/William Williams",
          "all/1801-1820/Lancaster County/Winefred K Lawson",
          "all/1821-1840/Campbell County/Zacchus E Cheatham; Joseph Wilson",
          "all/1801-1820/Goochland County/unidentified",
          "all/1760-1780/Accomack County",
          "all/1781-1800/Accomack County",
          "all/1801-1820/Accomack County",
          "all/1801-1820/Arlington County",
          "all/1781-1800/Campbell County",
          "all/1801-1820/Campbell County",
          "all/1821-1840/Campbell County",
          "all/1841-1860/Campbell County",
          "all/1781-1800/Caroline County",
          "all/1821-1840/Frederick County",
          "all/1760-1780/Goochland County",
          "all/1781-1800/Goochland County",
          "all/1801-1820/Goochland County",
          "all/1821-1840/Goochland County",
          "all/1841-1860/Goochland County",
          "all/1821-1840/Henry County",
          "all/1781-1800/Lancaster County",
          "all/1801-1820/Lancaster County",
          "all/1821-1840/Lancaster County",
          "all/1841-1860/Lancaster County",
          "all/1760-1780/Middlesex County",
          "all/1781-1800/Middlesex County",
          "all/1760-1780/Norfolk County",
          "all/1781-1800/Norfolk County",
          "all/1801-1820/Norfolk County",
          "all/1821-1840/Norfolk County",
          "all/1841-1860/Norfolk County",
          "all/1781-1800/Petersburg City",
          "all/1801-1820/Petersburg City",
          "all/1821-1840/Petersburg City",
          "all/1781-1800/Prince Edward County",
          "all/1781-1800/Rockingham County",
          "all/1841-1860/Rockingham County",
          "all/1821-1840/Southampton County",
          "all/1841-1860/Southampton County",
          "all/1821-1840/Staunton City",
          "all/1760-1780",
          "all/1781-1800",
          "all/1801-1820",
          "all/1821-1840",
          "all/1841-1860",
          "all"
         ],
         "labels": [
          "A L Willis",
          "Abel W. Kellum",
          "Abner Anthony Jr; Grief Miller",
          "Abram Leath",
          "Addam Sellars",
          "Admr of Levin Pruet, deceased",
          "Alexander Donald",
          "Alexander M Lewis",
          "Alexander T Ward; William M Withers",
          "Alexander W. McRae",
          "Allen S Wyllie",
          "Amanda J Gilliam",
          "Andrew",
          "Ann E L Lewellin; Catherine Lewellin",
          "Ann Hatton",
          "Ann Maria Parker Kelly",
          "Ann Meriah Parker",
          "Ann Sandford",
          "Ann Scott",
          "Anthony North",
          "Archibald Bryan Jr; William G Poindexter; William Miller",
          "Archibald S Richards",
          "Armistead Mears",
          "Armstead Pamplin",
          "Arthur Savage",
          "Baldwin M Leland",
          "Bartley Baugh",
          "Battan Dobbins",
          "Benjamin Cox",
          "Benjamin Moore",
          "Betsy Hensbarger Gamble; Alexander Gamble",
          "Branch J Worsham",
          "Bridget Carson; John A Shearer; Letitia E M Sherer; James M Carson; Thomas F Carson; Moses Carson",
          "Bryant Nowlin; Robert P Phelps",
          "C Alonzo Hunt",
          "Caleb Tate",
          "Capt Thomas Miller",
          "Cassia Waples",
          "Catharine Martin; Elizabeth Martin",
          "Charles Cross",
          "Charles West",
          "Charlotte Henderson",
          "Chiswell Dabney",
          "Christopher Todd",
          "Crippen Taylor",
          "Custis Kellum",
          "D Johnson",
          "Daniel M Black",
          "Daniel Stone",
          "Daniel Twiford",
          "David Edwards",
          "David Jones",
          "David Ross",
          "Derry Broadwater",
          "Dudley Terrell",
          "E Dejarnatt",
          "E. T. Gayle",
          "Ed D Christian; A Christian, Trustees",
          "Edmund Daniell",
          "Edward Bolling",
          "Edward Simmons",
          "Edwin L Harris",
          "Edwin L. Harris",
          "Edwin Matthews; Melville Talbot",
          "Edwin R Page, Trustee",
          "Eli Hornsby",
          "Elias Edmonds Jr",
          "Elizabeth Craddock",
          "Elizabeth Gilliam",
          "Elizabeth Henry",
          "Elizabeth McIver",
          "Elizabeth Tabetha Leftwich",
          "Elizabeth Teackle Sr",
          "Elizabeth Teackle Sr.",
          "Ellison Houchins",
          "Elvira B Irvine; Patrick Irvine; Jesse Irvine",
          "Ethel Lyon Exr of Sarah Lyon deceased",
          "Ethel Lyon Exr of Sarah Lyon, deceased",
          "Evelina Graham; James Graham; Richard John Graham; William Duncan Graham",
          "Exrs of George Cabell Dec'd; by Sarah Cabell; and Thomas F Buldin Executors",
          "Ezekiel Horner",
          "Fanney Lawson",
          "Francis Harris",
          "Gabriel Jones; Robert Goode; Patsy Goode",
          "George Coleburn",
          "George Dunton",
          "George Scarburgh",
          "George Simpson",
          "Gilbert Hayth; Emaline Pettersen",
          "Gilbert Milby",
          "Giles B Portwood",
          "Granville Jordan; Josiah Shepperson; Howel Lewis",
          "H Lewis",
          "Hart Brown & Co; Charles G Watkins Sr",
          "Hartwell Epps; Joseph Gaddy",
          "Hector Davis",
          "Hector Harris",
          "Hector Harris, Trustee of Elizabeth Jenks",
          "Henry C Wade",
          "Henry Ewin",
          "Henry Fletcher Sr",
          "Henry Fletcher Sr.",
          "Henry J Brown; James L Brown; John D Murrell",
          "Henry Keeling",
          "Henry T. & Ann L. Parsons Williamson",
          "Henry Tate",
          "Henry Ward's Legatees",
          "Henry White; Thomas Abbot",
          "Henry Wood",
          "Hessesy Tunnell",
          "Higgins & McCollom",
          "Hugart",
          "Huston Davenport",
          "Isaac Brent",
          "Isaac West; Nathaniel West",
          "Isabella S Wheeler",
          "Isaiah Johnson Sr.",
          "J A Grant",
          "J C Moorman",
          "J Chapman",
          "J H Smith",
          "Jabez Pitt",
          "Jacob Bird",
          "James Campbell",
          "James Cobbs",
          "James Culpepper",
          "James Daniel",
          "James G Dearing",
          "James Gibbons",
          "James L Claytor; Charles R Slaugher; James L Brown; John D Murrell",
          "James Melvin; Peter Delastatius",
          "James Moseley",
          "James P Scott",
          "James Robards",
          "James S Clator; George W Turner",
          "James Steptoe Sr",
          "James V Knight",
          "James Wiley; Samuel Fleming",
          "Jasper Scott",
          "Jeffrey Murrell",
          "Jesse Robins",
          "John A Alexander; Ann B Finch",
          "John Alexander",
          "John Artis",
          "John B Dabney; Fortunatus Sydnor",
          "John B Dabney; William Daniel Jr",
          "John Bird Jr.",
          "John Bridgewater",
          "John D Alexander",
          "John Franklin",
          "John George Graves, Benjamin Graves, Frances Graves",
          "John Gibson",
          "John Gootee; Edmund Custis",
          "John H Wade",
          "John Hancock",
          "John Hobson etc",
          "John Hockaday",
          "John K.",
          "John L Armistead",
          "John M Gordon",
          "John McAllister",
          "John Milby; Daniel Sulivan",
          "John Morris",
          "John Morrison",
          "John Mosley Haden",
          "John P Minton; Poindexter Brown",
          "John Reaveley",
          "John Rosser",
          "John Sandford",
          "John Shelton Sr",
          "John Smith Jr; Richard G Haden",
          "John T Wood",
          "John Taylor, Nickols Creekmur, John Williams",
          "John Thompson Jr",
          "John V Wheeler",
          "John W Keeton Gdn of Edward T Fowlkes; Samuel H Fowlkes",
          "John W Stratton",
          "John Wallup",
          "John Ward Kellum",
          "John Wharton",
          "Jonathan Bailey",
          "Jones Wynne",
          "Joseph Mauzy",
          "Joseph Mott",
          "Joshua Stutson",
          "Joshua Wynne Jr",
          "Josiah Shepperson",
          "Josias Ingram",
          "Labon Gunter",
          "Laurence B Stern; Nathaniel D Inge",
          "Leonard Cobb",
          "Lewis E Williams",
          "Littleberry Hazelwood",
          "M Hollins",
          "Major Duffy",
          "Margaret Ewell",
          "Margaret Joynes; Elias Joynes",
          "Margaret S Bryant",
          "Maria S Gray",
          "Martha Ann Thomas",
          "Martha Hart",
          "Martha J Swinney",
          "Martin Hollins & Co",
          "Martin Key",
          "Mary Ann Moseley",
          "Mary Flowers",
          "Mary Griffin",
          "Mary Lewis",
          "Mary Marshall",
          "Mary Roberts",
          "Matthew Beard",
          "Molly Hall",
          "Morris Roberts",
          "Moses Steele",
          "Mr Hendrick",
          "Nancy Edds; Featherston Akers",
          "Nancy Glen",
          "Narcissus W Miller",
          "Oden G Clay; Creed T Wills",
          "Otter Jubilee",
          "Palenia Steward",
          "Pattey Walker",
          "Paul Dismukes",
          "Paul Jones",
          "Philimon Holcombe",
          "Philip Buckner",
          "Pleasant Turner",
          "Polly A. Outten; George T. Outten; Julian Outten; Fanny Outten; John P. Outten",
          "Polly Douglass",
          "R G H Kean",
          "Ralph Corbin",
          "Ralph Longden",
          "Randolph D Carden",
          "Reb Saunders",
          "Reuben D Palmer; Jack E Cheathem",
          "Richard Bayly; John Bayly",
          "Richard D Bayly & Co",
          "Richard D. Bayly & Co",
          "Richard Davis",
          "Richard G Brown; Edmund Herndon",
          "Richard G Haden",
          "Richard Mitchell",
          "Richard Norris",
          "Richard R Savage",
          "Richard R. Savage",
          "Richard Silvester",
          "Richard Tyree; John H Tyree; George T Johnson",
          "Robert Bradfute",
          "Robert C Penn",
          "Robert E Withers",
          "Robert Hunter",
          "Robert Payne; Archer Payne",
          "Robert R Hargrove; Mary E Hargrove",
          "Robert W Scott",
          "Robert W Withers",
          "Robert W Withers; Robert E Withers",
          "Robert Ward",
          "Rowland Ward",
          "Salathiel West",
          "Samuel Coward",
          "Samuel Garland; Maurice H Garland",
          "Samuel Garland; Pembroke Garland",
          "Samuel Johnson",
          "Samuel V. Brown",
          "Sarah C Lawson",
          "Sarah Floyd",
          "Sarah Fuller",
          "Seth Woodruff",
          "Severn Teackle",
          "Shadrick Brandon",
          "Simeon Austin",
          "Sinah Harman",
          "Sleathel Baker",
          "Stephen Drummond",
          "Stephen Terry; Lucinda Terry",
          "Sterling C Anderson",
          "Sueanne M Lawson",
          "Susan E N Clark",
          "Sylvester Cocke",
          "T B Johnson",
          "T. Massie",
          "Tavnor C Shelton",
          "Tavnor C. Shelton",
          "Thomas B Jones",
          "Thomas Beard Jr",
          "Thomas Beard Jr.",
          "Thomas Dillard",
          "Thomas Franklin",
          "Thomas Grinalds",
          "Thomas Guy",
          "Thomas H Lain Admr of Jesse Edds Dec'd",
          "Thomas Joynes",
          "Thomas Lawson",
          "Thomas M Bayly",
          "Thomas M. Bayly",
          "Thomas Miller",
          "Thomas Praithor; Joseph Wilson",
          "Thomas Scott",
          "Thomas Shearman",
          "Thomas Snead",
          "Thomas Stiff",
          "Thomas W Herndon; Wilson M Houchins",
          "Thomas W. Herndon; Wilson M. Houchins",
          "Thorowgood Taylor",
          "Timothy H Stamps Attorney in Fact for James Anderson",
          "Trustees of Thomas Robertson; Trustees of Mary Robertson",
          "Tully Snead; Francis Only",
          "Unknown",
          "Unknown",
          "Unknown",
          "Unknown",
          "Unknown",
          "Unknown",
          "Unknown",
          "Walston and Custis",
          "Walter S Withers",
          "Widow of Henry Lawson deceased",
          "William A Clement",
          "William A Clement",
          "William A Clement; Adam Clement",
          "William A Shands",
          "William Babb",
          "William C Adams",
          "William C Burton",
          "William C Hollins",
          "William C Perrow",
          "William Drummond",
          "William Duncan",
          "William H Tardy; Samuel C Tardy",
          "William Hiter Jones",
          "William Hollins",
          "William Irvine",
          "William J Harvey",
          "William J Tynes; Ednis D Tynes; Virginia Tynes; Aley C Tynes; Mary C Tynes",
          "William Jones; Elizabeth Jones",
          "William King",
          "William Lawson",
          "William Lecato",
          "William Miller",
          "William Moore",
          "William Newby",
          "William P Hayth",
          "William Reiley",
          "William Robert Custis",
          "William Selby",
          "William Silverthorn; Joseph Waggoman",
          "William Smart",
          "William Stamps",
          "William Taylor",
          "William Tharp",
          "William Trigg; Jesse Leftwich",
          "William Vessells Sr.",
          "William Vessels Sr.",
          "William Williams",
          "Winefred K Lawson",
          "Zacchus E Cheatham; Joseph Wilson",
          "unidentified",
          "Accomack County",
          "Accomack County",
          "Accomack County",
          "Arlington County",
          "Campbell County",
          "Campbell County",
          "Campbell County",
          "Campbell County",
          "Caroline County",
          "Frederick County",
          "Goochland County",
          "Goochland County",
          "Goochland County",
          "Goochland County",
          "Goochland County",
          "Henry County",
          "Lancaster County",
          "Lancaster County",
          "Lancaster County",
          "Lancaster County",
          "Middlesex County",
          "Middlesex County",
          "Norfolk County",
          "Norfolk County",
          "Norfolk County",
          "Norfolk County",
          "Norfolk County",
          "Petersburg City",
          "Petersburg City",
          "Petersburg City",
          "Prince Edward County",
          "Rockingham County",
          "Rockingham County",
          "Southampton County",
          "Southampton County",
          "Staunton City",
          "1760-1780",
          "1781-1800",
          "1801-1820",
          "1821-1840",
          "1841-1860",
          "all"
         ],
         "name": "",
         "parents": [
          "all/1821-1840/Lancaster County",
          "all/1801-1820/Accomack County",
          "all/1841-1860/Campbell County",
          "all/1801-1820/Petersburg City",
          "all/1781-1800/Rockingham County",
          "all/1781-1800/Accomack County",
          "all/1781-1800/Goochland County",
          "all/1841-1860/Campbell County",
          "all/1841-1860/Campbell County",
          "all/1781-1800/Petersburg City",
          "all/1841-1860/Campbell County",
          "all/1841-1860/Campbell County",
          "all/1801-1820/Accomack County",
          "all/1841-1860/Campbell County",
          "all/1781-1800/Accomack County",
          "all/1801-1820/Accomack County",
          "all/1801-1820/Accomack County",
          "all/1781-1800/Accomack County",
          "all/1821-1840/Campbell County",
          "all/1801-1820/Campbell County",
          "all/1801-1820/Campbell County",
          "all/1841-1860/Goochland County",
          "all/1801-1820/Accomack County",
          "all/1801-1820/Campbell County",
          "all/1801-1820/Accomack County",
          "all/1801-1820/Lancaster County",
          "all/1801-1820/Campbell County",
          "all/1781-1800/Campbell County",
          "all/1781-1800/Campbell County",
          "all/1801-1820/Campbell County",
          "all/1801-1820/Campbell County",
          "all/1841-1860/Campbell County",
          "all/1841-1860/Campbell County",
          "all/1821-1840/Campbell County",
          "all/1841-1860/Campbell County",
          "all/1781-1800/Campbell County",
          "all/1781-1800/Goochland County",
          "all/1801-1820/Accomack County",
          "all/1781-1800/Accomack County",
          "all/1801-1820/Campbell County",
          "all/1801-1820/Accomack County",
          "all/1801-1820/Accomack County",
          "all/1801-1820/Campbell County",
          "all/1821-1840/Campbell County",
          "all/1801-1820/Accomack County",
          "all/1781-1800/Accomack County",
          "all/1801-1820/Goochland County",
          "all/1821-1840/Campbell County",
          "all/1821-1840/Campbell County",
          "all/1801-1820/Accomack County",
          "all/1801-1820/Lancaster County",
          "all/1821-1840/Campbell County",
          "all/1760-1780/Goochland County",
          "all/1801-1820/Accomack County",
          "all/1821-1840/Campbell County",
          "all/1801-1820/Goochland County",
          "all/1821-1840/Norfolk County",
          "all/1841-1860/Campbell County",
          "all/1781-1800/Norfolk County",
          "all/1841-1860/Campbell County",
          "all/1801-1820/Petersburg City",
          "all/1801-1820/Accomack County",
          "all/1801-1820/Accomack County",
          "all/1821-1840/Campbell County",
          "all/1841-1860/Campbell County",
          "all/1781-1800/Accomack County",
          "all/1781-1800/Lancaster County",
          "all/1821-1840/Campbell County",
          "all/1821-1840/Campbell County",
          "all/1781-1800/Accomack County",
          "all/1801-1820/Campbell County",
          "all/1821-1840/Campbell County",
          "all/1781-1800/Accomack County",
          "all/1781-1800/Accomack County",
          "all/1841-1860/Goochland County",
          "all/1841-1860/Campbell County",
          "all/1801-1820/Accomack County",
          "all/1801-1820/Accomack County",
          "all/1821-1840/Frederick County",
          "all/1821-1840/Campbell County",
          "all/1841-1860/Campbell County",
          "all/1801-1820/Lancaster County",
          "all/1781-1800/Goochland County",
          "all/1801-1820/Campbell County",
          "all/1801-1820/Accomack County",
          "all/1781-1800/Accomack County",
          "all/1801-1820/Accomack County",
          "all/1781-1800/Accomack County",
          "all/1841-1860/Campbell County",
          "all/1801-1820/Accomack County",
          "all/1841-1860/Campbell County",
          "all/1821-1840/Campbell County",
          "all/1801-1820/Goochland County",
          "all/1801-1820/Campbell County",
          "all/1821-1840/Campbell County",
          "all/1841-1860/Goochland County",
          "all/1841-1860/Campbell County",
          "all/1841-1860/Campbell County",
          "all/1841-1860/Campbell County",
          "all/1781-1800/Rockingham County",
          "all/1781-1800/Accomack County",
          "all/1781-1800/Accomack County",
          "all/1841-1860/Campbell County",
          "all/1821-1840/Campbell County",
          "all/1841-1860/Norfolk County",
          "all/1781-1800/Campbell County",
          "all/1841-1860/Campbell County",
          "all/1801-1820/Accomack County",
          "all/1781-1800/Goochland County",
          "all/1781-1800/Accomack County",
          "all/1801-1820/Accomack County",
          "all/1801-1820/Goochland County",
          "all/1821-1840/Campbell County",
          "all/1821-1840/Lancaster County",
          "all/1781-1800/Accomack County",
          "all/1821-1840/Campbell County",
          "all/1801-1820/Accomack County",
          "all/1801-1820/Goochland County",
          "all/1841-1860/Campbell County",
          "all/1801-1820/Goochland County",
          "all/1841-1860/Campbell County",
          "all/1781-1800/Accomack County",
          "all/1781-1800/Accomack County",
          "all/1821-1840/Campbell County",
          "all/1841-1860/Campbell County",
          "all/1821-1840/Norfolk County",
          "all/1760-1780/Middlesex County",
          "all/1821-1840/Campbell County",
          "all/1801-1820/Accomack County",
          "all/1841-1860/Campbell County",
          "all/1801-1820/Accomack County",
          "all/1801-1820/Campbell County",
          "all/1841-1860/Campbell County",
          "all/1781-1800/Goochland County",
          "all/1841-1860/Campbell County",
          "all/1821-1840/Campbell County",
          "all/1821-1840/Campbell County",
          "all/1821-1840/Campbell County",
          "all/1821-1840/Lancaster County",
          "all/1841-1860/Campbell County",
          "all/1801-1820/Lancaster County",
          "all/1841-1860/Campbell County",
          "all/1821-1840/Campbell County",
          "all/1801-1820/Accomack County",
          "all/1821-1840/Campbell County",
          "all/1821-1840/Campbell County",
          "all/1801-1820/Accomack County",
          "all/1801-1820/Goochland County",
          "all/1841-1860/Campbell County",
          "all/1801-1820/Campbell County",
          "all/1781-1800/Caroline County",
          "all/1801-1820/Accomack County",
          "all/1781-1800/Accomack County",
          "all/1841-1860/Campbell County",
          "all/1801-1820/Campbell County",
          "all/1821-1840/Campbell County",
          "all/1821-1840/Campbell County",
          "all/1760-1780/Goochland County",
          "all/1801-1820/Campbell County",
          "all/1801-1820/Campbell County",
          "all/1801-1820/Campbell County",
          "all/1760-1780/Accomack County",
          "all/1841-1860/Goochland County",
          "all/1781-1800/Rockingham County",
          "all/1781-1800/Campbell County",
          "all/1841-1860/Campbell County",
          "all/1821-1840/Campbell County",
          "all/1821-1840/Campbell County",
          "all/1781-1800/Accomack County",
          "all/1801-1820/Goochland County",
          "all/1821-1840/Campbell County",
          "all/1841-1860/Campbell County",
          "all/1760-1780/Norfolk County",
          "all/1841-1860/Goochland County",
          "all/1841-1860/Campbell County",
          "all/1821-1840/Campbell County",
          "all/1841-1860/Campbell County",
          "all/1781-1800/Accomack County",
          "all/1801-1820/Accomack County",
          "all/1801-1820/Accomack County",
          "all/1801-1820/Campbell County",
          "all/1781-1800/Campbell County",
          "all/1841-1860/Rockingham County",
          "all/1801-1820/Lancaster County",
          "all/1801-1820/Accomack County",
          "all/1781-1800/Campbell County",
          "all/1821-1840/Campbell County",
          "all/1801-1820/Lancaster County",
          "all/1801-1820/Accomack County",
          "all/1821-1840/Campbell County",
          "all/1821-1840/Southampton County",
          "all/1821-1840/Campbell County",
          "all/1841-1860/Campbell County",
          "all/1841-1860/Campbell County",
          "all/1801-1820/Accomack County",
          "all/1801-1820/Accomack County",
          "all/1801-1820/Accomack County",
          "all/1821-1840/Lancaster County",
          "all/1801-1820/Campbell County",
          "all/1821-1840/Campbell County",
          "all/1781-1800/Campbell County",
          "all/1841-1860/Campbell County",
          "all/1841-1860/Campbell County",
          "all/1841-1860/Goochland County",
          "all/1781-1800/Campbell County",
          "all/1821-1840/Norfolk County",
          "all/1801-1820/Accomack County",
          "all/1821-1840/Campbell County",
          "all/1781-1800/Accomack County",
          "all/1821-1840/Campbell County",
          "all/1781-1800/Accomack County",
          "all/1801-1820/Accomack County",
          "all/1801-1820/Campbell County",
          "all/1821-1840/Campbell County",
          "all/1801-1820/Goochland County",
          "all/1841-1860/Campbell County",
          "all/1801-1820/Accomack County",
          "all/1841-1860/Goochland County",
          "all/1841-1860/Campbell County",
          "all/1801-1820/Accomack County",
          "all/1841-1860/Campbell County",
          "all/1801-1820/Accomack County",
          "all/1781-1800/Goochland County",
          "all/1841-1860/Campbell County",
          "all/1781-1800/Prince Edward County",
          "all/1781-1800/Rockingham County",
          "all/1841-1860/Goochland County",
          "all/1801-1820/Accomack County",
          "all/1801-1820/Campbell County",
          "all/1841-1860/Campbell County",
          "all/1801-1820/Accomack County",
          "all/1801-1820/Arlington County",
          "all/1801-1820/Campbell County",
          "all/1801-1820/Goochland County",
          "all/1821-1840/Campbell County",
          "all/1801-1820/Accomack County",
          "all/1801-1820/Accomack County",
          "all/1801-1820/Accomack County",
          "all/1801-1820/Lancaster County",
          "all/1821-1840/Campbell County",
          "all/1821-1840/Campbell County",
          "all/1801-1820/Lancaster County",
          "all/1841-1860/Lancaster County",
          "all/1801-1820/Accomack County",
          "all/1801-1820/Accomack County",
          "all/1760-1780/Norfolk County",
          "all/1821-1840/Campbell County",
          "all/1781-1800/Campbell County",
          "all/1821-1840/Campbell County",
          "all/1841-1860/Campbell County",
          "all/1841-1860/Campbell County",
          "all/1760-1780/Goochland County",
          "all/1841-1860/Campbell County",
          "all/1841-1860/Campbell County",
          "all/1801-1820/Campbell County",
          "all/1841-1860/Campbell County",
          "all/1841-1860/Campbell County",
          "all/1821-1840/Campbell County",
          "all/1781-1800/Accomack County",
          "all/1801-1820/Accomack County",
          "all/1821-1840/Campbell County",
          "all/1841-1860/Campbell County",
          "all/1781-1800/Accomack County",
          "all/1821-1840/Petersburg City",
          "all/1801-1820/Lancaster County",
          "all/1801-1820/Accomack County",
          "all/1821-1840/Staunton City",
          "all/1841-1860/Campbell County",
          "all/1781-1800/Accomack County",
          "all/1821-1840/Petersburg City",
          "all/1821-1840/Campbell County",
          "all/1801-1820/Accomack County",
          "all/1781-1800/Accomack County",
          "all/1801-1820/Accomack County",
          "all/1821-1840/Campbell County",
          "all/1821-1840/Campbell County",
          "all/1801-1820/Lancaster County",
          "all/1841-1860/Campbell County",
          "all/1841-1860/Goochland County",
          "all/1841-1860/Campbell County",
          "all/1801-1820/Goochland County",
          "all/1821-1840/Henry County",
          "all/1821-1840/Henry County",
          "all/1801-1820/Campbell County",
          "all/1801-1820/Accomack County",
          "all/1801-1820/Accomack County",
          "all/1781-1800/Middlesex County",
          "all/1801-1820/Campbell County",
          "all/1781-1800/Accomack County",
          "all/1781-1800/Accomack County",
          "all/1841-1860/Campbell County",
          "all/1801-1820/Accomack County",
          "all/1801-1820/Lancaster County",
          "all/1801-1820/Accomack County",
          "all/1801-1820/Accomack County",
          "all/1781-1800/Goochland County",
          "all/1821-1840/Campbell County",
          "all/1781-1800/Rockingham County",
          "all/1801-1820/Lancaster County",
          "all/1781-1800/Accomack County",
          "all/1760-1780/Middlesex County",
          "all/1841-1860/Goochland County",
          "all/1841-1860/Goochland County",
          "all/1801-1820/Accomack County",
          "all/1841-1860/Campbell County",
          "all/1821-1840/Goochland County",
          "all/1801-1820/Accomack County",
          "all/1801-1820/Accomack County",
          "all/1821-1840/Campbell County",
          "all/1841-1860/Campbell County",
          "all/1841-1860/Goochland County",
          "all/1821-1840/Lancaster County",
          "all/1781-1800/Norfolk County",
          "all/1801-1820/Norfolk County",
          "all/1801-1820/Accomack County",
          "all/1841-1860/Campbell County",
          "all/1801-1820/Lancaster County",
          "all/1821-1840/Campbell County",
          "all/1841-1860/Campbell County",
          "all/1841-1860/Campbell County",
          "all/1841-1860/Campbell County",
          "all/1841-1860/Southampton County",
          "all/1841-1860/Goochland County",
          "all/1841-1860/Campbell County",
          "all/1841-1860/Campbell County",
          "all/1841-1860/Campbell County",
          "all/1801-1820/Accomack County",
          "all/1801-1820/Accomack County",
          "all/1841-1860/Campbell County",
          "all/1821-1840/Campbell County",
          "all/1841-1860/Campbell County",
          "all/1801-1820/Campbell County",
          "all/1821-1840/Campbell County",
          "all/1841-1860/Campbell County",
          "all/1781-1800/Campbell County",
          "all/1821-1840/Campbell County",
          "all/1801-1820/Lancaster County",
          "all/1801-1820/Accomack County",
          "all/1801-1820/Goochland County",
          "all/1801-1820/Accomack County",
          "all/1801-1820/Lancaster County",
          "all/1841-1860/Campbell County",
          "all/1801-1820/Arlington County",
          "all/1801-1820/Accomack County",
          "all/1801-1820/Accomack County",
          "all/1781-1800/Accomack County",
          "all/1801-1820/Accomack County",
          "all/1760-1780/Goochland County",
          "all/1781-1800/Accomack County",
          "all/1801-1820/Campbell County",
          "all/1801-1820/Campbell County",
          "all/1781-1800/Accomack County",
          "all/1781-1800/Accomack County",
          "all/1781-1800/Accomack County",
          "all/1801-1820/Lancaster County",
          "all/1821-1840/Campbell County",
          "all/1801-1820/Goochland County",
          "all/1760-1780",
          "all/1781-1800",
          "all/1801-1820",
          "all/1801-1820",
          "all/1781-1800",
          "all/1801-1820",
          "all/1821-1840",
          "all/1841-1860",
          "all/1781-1800",
          "all/1821-1840",
          "all/1760-1780",
          "all/1781-1800",
          "all/1801-1820",
          "all/1821-1840",
          "all/1841-1860",
          "all/1821-1840",
          "all/1781-1800",
          "all/1801-1820",
          "all/1821-1840",
          "all/1841-1860",
          "all/1760-1780",
          "all/1781-1800",
          "all/1760-1780",
          "all/1781-1800",
          "all/1801-1820",
          "all/1821-1840",
          "all/1841-1860",
          "all/1781-1800",
          "all/1801-1820",
          "all/1821-1840",
          "all/1781-1800",
          "all/1781-1800",
          "all/1841-1860",
          "all/1821-1840",
          "all/1841-1860",
          "all/1821-1840",
          "all",
          "all",
          "all",
          "all",
          "all",
          ""
         ],
         "root": {
          "color": "lightgrey"
         },
         "tiling": {
          "orientation": "h"
         },
         "type": "icicle",
         "values": [
          1,
          1,
          1,
          1,
          3,
          1,
          1,
          1,
          6,
          1,
          8,
          1,
          1,
          2,
          8,
          2,
          2,
          1,
          9,
          3,
          24,
          1,
          1,
          2,
          4,
          2,
          2,
          1,
          3,
          6,
          1,
          2,
          1,
          4,
          1,
          1,
          1,
          2,
          1,
          13,
          1,
          4,
          1,
          2,
          2,
          1,
          1,
          19,
          1,
          1,
          1,
          1,
          8,
          2,
          1,
          1,
          1,
          12,
          1,
          4,
          1,
          5,
          1,
          5,
          1,
          1,
          4,
          2,
          4,
          1,
          1,
          30,
          5,
          1,
          3,
          2,
          5,
          1,
          2,
          1,
          4,
          2,
          1,
          7,
          2,
          4,
          1,
          2,
          1,
          1,
          12,
          12,
          1,
          1,
          2,
          1,
          1,
          2,
          11,
          4,
          2,
          1,
          7,
          4,
          1,
          2,
          4,
          1,
          1,
          1,
          2,
          1,
          1,
          1,
          5,
          1,
          1,
          2,
          3,
          1,
          1,
          2,
          1,
          14,
          8,
          1,
          3,
          2,
          1,
          7,
          2,
          1,
          4,
          8,
          6,
          5,
          1,
          4,
          1,
          1,
          3,
          1,
          20,
          3,
          13,
          2,
          1,
          1,
          1,
          3,
          1,
          1,
          1,
          3,
          4,
          3,
          4,
          1,
          3,
          1,
          1,
          3,
          1,
          3,
          1,
          7,
          2,
          8,
          1,
          5,
          1,
          3,
          1,
          1,
          1,
          3,
          1,
          18,
          1,
          1,
          1,
          2,
          1,
          1,
          1,
          1,
          4,
          3,
          1,
          1,
          4,
          5,
          1,
          2,
          1,
          1,
          4,
          1,
          1,
          1,
          5,
          6,
          1,
          2,
          2,
          1,
          1,
          1,
          1,
          11,
          1,
          1,
          2,
          6,
          3,
          7,
          3,
          1,
          3,
          1,
          1,
          14,
          1,
          7,
          5,
          3,
          3,
          1,
          1,
          2,
          2,
          1,
          4,
          2,
          6,
          5,
          1,
          1,
          1,
          1,
          6,
          1,
          1,
          3,
          1,
          1,
          8,
          2,
          4,
          7,
          4,
          2,
          1,
          1,
          4,
          4,
          4,
          8,
          1,
          3,
          7,
          4,
          2,
          1,
          2,
          1,
          1,
          1,
          3,
          1,
          10,
          1,
          1,
          1,
          2,
          4,
          2,
          6,
          3,
          1,
          1,
          1,
          1,
          10,
          5,
          1,
          1,
          1,
          5,
          1,
          2,
          3,
          3,
          3,
          1,
          7,
          1,
          1,
          1,
          1,
          1,
          15,
          1,
          1,
          9,
          1,
          2,
          1,
          5,
          3,
          51,
          2,
          3,
          1,
          4,
          2,
          10,
          2,
          4,
          8,
          3,
          1,
          24,
          4,
          1,
          4,
          1,
          1,
          2,
          1,
          1,
          2,
          1,
          4,
          7,
          3,
          3,
          3,
          2,
          3,
          1,
          1,
          4,
          1,
          1,
          1,
          5,
          4,
          3,
          6,
          1,
          1,
          1,
          15,
          3,
          2,
          1,
          3,
          95,
          137,
          5,
          27,
          107,
          281,
          242,
          1,
          2,
          15,
          20,
          22,
          1,
          107,
          2,
          4,
          39,
          6,
          1,
          4,
          1,
          2,
          4,
          1,
          3,
          1,
          1,
          2,
          2,
          5,
          14,
          1,
          4,
          1,
          1,
          24,
          172,
          313,
          302,
          353,
          1164
         ]
        }
       ],
       "layout": {
        "legend": {
         "tracegroupgap": 0
        },
        "margin": {
         "t": 60
        },
        "template": {
         "data": {
          "bar": [
           {
            "error_x": {
             "color": "#2a3f5f"
            },
            "error_y": {
             "color": "#2a3f5f"
            },
            "marker": {
             "line": {
              "color": "#E5ECF6",
              "width": 0.5
             },
             "pattern": {
              "fillmode": "overlay",
              "size": 10,
              "solidity": 0.2
             }
            },
            "type": "bar"
           }
          ],
          "barpolar": [
           {
            "marker": {
             "line": {
              "color": "#E5ECF6",
              "width": 0.5
             },
             "pattern": {
              "fillmode": "overlay",
              "size": 10,
              "solidity": 0.2
             }
            },
            "type": "barpolar"
           }
          ],
          "carpet": [
           {
            "aaxis": {
             "endlinecolor": "#2a3f5f",
             "gridcolor": "white",
             "linecolor": "white",
             "minorgridcolor": "white",
             "startlinecolor": "#2a3f5f"
            },
            "baxis": {
             "endlinecolor": "#2a3f5f",
             "gridcolor": "white",
             "linecolor": "white",
             "minorgridcolor": "white",
             "startlinecolor": "#2a3f5f"
            },
            "type": "carpet"
           }
          ],
          "choropleth": [
           {
            "colorbar": {
             "outlinewidth": 0,
             "ticks": ""
            },
            "type": "choropleth"
           }
          ],
          "contour": [
           {
            "colorbar": {
             "outlinewidth": 0,
             "ticks": ""
            },
            "colorscale": [
             [
              0,
              "#0d0887"
             ],
             [
              0.1111111111111111,
              "#46039f"
             ],
             [
              0.2222222222222222,
              "#7201a8"
             ],
             [
              0.3333333333333333,
              "#9c179e"
             ],
             [
              0.4444444444444444,
              "#bd3786"
             ],
             [
              0.5555555555555556,
              "#d8576b"
             ],
             [
              0.6666666666666666,
              "#ed7953"
             ],
             [
              0.7777777777777778,
              "#fb9f3a"
             ],
             [
              0.8888888888888888,
              "#fdca26"
             ],
             [
              1,
              "#f0f921"
             ]
            ],
            "type": "contour"
           }
          ],
          "contourcarpet": [
           {
            "colorbar": {
             "outlinewidth": 0,
             "ticks": ""
            },
            "type": "contourcarpet"
           }
          ],
          "heatmap": [
           {
            "colorbar": {
             "outlinewidth": 0,
             "ticks": ""
            },
            "colorscale": [
             [
              0,
              "#0d0887"
             ],
             [
              0.1111111111111111,
              "#46039f"
             ],
             [
              0.2222222222222222,
              "#7201a8"
             ],
             [
              0.3333333333333333,
              "#9c179e"
             ],
             [
              0.4444444444444444,
              "#bd3786"
             ],
             [
              0.5555555555555556,
              "#d8576b"
             ],
             [
              0.6666666666666666,
              "#ed7953"
             ],
             [
              0.7777777777777778,
              "#fb9f3a"
             ],
             [
              0.8888888888888888,
              "#fdca26"
             ],
             [
              1,
              "#f0f921"
             ]
            ],
            "type": "heatmap"
           }
          ],
          "heatmapgl": [
           {
            "colorbar": {
             "outlinewidth": 0,
             "ticks": ""
            },
            "colorscale": [
             [
              0,
              "#0d0887"
             ],
             [
              0.1111111111111111,
              "#46039f"
             ],
             [
              0.2222222222222222,
              "#7201a8"
             ],
             [
              0.3333333333333333,
              "#9c179e"
             ],
             [
              0.4444444444444444,
              "#bd3786"
             ],
             [
              0.5555555555555556,
              "#d8576b"
             ],
             [
              0.6666666666666666,
              "#ed7953"
             ],
             [
              0.7777777777777778,
              "#fb9f3a"
             ],
             [
              0.8888888888888888,
              "#fdca26"
             ],
             [
              1,
              "#f0f921"
             ]
            ],
            "type": "heatmapgl"
           }
          ],
          "histogram": [
           {
            "marker": {
             "pattern": {
              "fillmode": "overlay",
              "size": 10,
              "solidity": 0.2
             }
            },
            "type": "histogram"
           }
          ],
          "histogram2d": [
           {
            "colorbar": {
             "outlinewidth": 0,
             "ticks": ""
            },
            "colorscale": [
             [
              0,
              "#0d0887"
             ],
             [
              0.1111111111111111,
              "#46039f"
             ],
             [
              0.2222222222222222,
              "#7201a8"
             ],
             [
              0.3333333333333333,
              "#9c179e"
             ],
             [
              0.4444444444444444,
              "#bd3786"
             ],
             [
              0.5555555555555556,
              "#d8576b"
             ],
             [
              0.6666666666666666,
              "#ed7953"
             ],
             [
              0.7777777777777778,
              "#fb9f3a"
             ],
             [
              0.8888888888888888,
              "#fdca26"
             ],
             [
              1,
              "#f0f921"
             ]
            ],
            "type": "histogram2d"
           }
          ],
          "histogram2dcontour": [
           {
            "colorbar": {
             "outlinewidth": 0,
             "ticks": ""
            },
            "colorscale": [
             [
              0,
              "#0d0887"
             ],
             [
              0.1111111111111111,
              "#46039f"
             ],
             [
              0.2222222222222222,
              "#7201a8"
             ],
             [
              0.3333333333333333,
              "#9c179e"
             ],
             [
              0.4444444444444444,
              "#bd3786"
             ],
             [
              0.5555555555555556,
              "#d8576b"
             ],
             [
              0.6666666666666666,
              "#ed7953"
             ],
             [
              0.7777777777777778,
              "#fb9f3a"
             ],
             [
              0.8888888888888888,
              "#fdca26"
             ],
             [
              1,
              "#f0f921"
             ]
            ],
            "type": "histogram2dcontour"
           }
          ],
          "mesh3d": [
           {
            "colorbar": {
             "outlinewidth": 0,
             "ticks": ""
            },
            "type": "mesh3d"
           }
          ],
          "parcoords": [
           {
            "line": {
             "colorbar": {
              "outlinewidth": 0,
              "ticks": ""
             }
            },
            "type": "parcoords"
           }
          ],
          "pie": [
           {
            "automargin": true,
            "type": "pie"
           }
          ],
          "scatter": [
           {
            "marker": {
             "colorbar": {
              "outlinewidth": 0,
              "ticks": ""
             }
            },
            "type": "scatter"
           }
          ],
          "scatter3d": [
           {
            "line": {
             "colorbar": {
              "outlinewidth": 0,
              "ticks": ""
             }
            },
            "marker": {
             "colorbar": {
              "outlinewidth": 0,
              "ticks": ""
             }
            },
            "type": "scatter3d"
           }
          ],
          "scattercarpet": [
           {
            "marker": {
             "colorbar": {
              "outlinewidth": 0,
              "ticks": ""
             }
            },
            "type": "scattercarpet"
           }
          ],
          "scattergeo": [
           {
            "marker": {
             "colorbar": {
              "outlinewidth": 0,
              "ticks": ""
             }
            },
            "type": "scattergeo"
           }
          ],
          "scattergl": [
           {
            "marker": {
             "colorbar": {
              "outlinewidth": 0,
              "ticks": ""
             }
            },
            "type": "scattergl"
           }
          ],
          "scattermapbox": [
           {
            "marker": {
             "colorbar": {
              "outlinewidth": 0,
              "ticks": ""
             }
            },
            "type": "scattermapbox"
           }
          ],
          "scatterpolar": [
           {
            "marker": {
             "colorbar": {
              "outlinewidth": 0,
              "ticks": ""
             }
            },
            "type": "scatterpolar"
           }
          ],
          "scatterpolargl": [
           {
            "marker": {
             "colorbar": {
              "outlinewidth": 0,
              "ticks": ""
             }
            },
            "type": "scatterpolargl"
           }
          ],
          "scatterternary": [
           {
            "marker": {
             "colorbar": {
              "outlinewidth": 0,
              "ticks": ""
             }
            },
            "type": "scatterternary"
           }
          ],
          "surface": [
           {
            "colorbar": {
             "outlinewidth": 0,
             "ticks": ""
            },
            "colorscale": [
             [
              0,
              "#0d0887"
             ],
             [
              0.1111111111111111,
              "#46039f"
             ],
             [
              0.2222222222222222,
              "#7201a8"
             ],
             [
              0.3333333333333333,
              "#9c179e"
             ],
             [
              0.4444444444444444,
              "#bd3786"
             ],
             [
              0.5555555555555556,
              "#d8576b"
             ],
             [
              0.6666666666666666,
              "#ed7953"
             ],
             [
              0.7777777777777778,
              "#fb9f3a"
             ],
             [
              0.8888888888888888,
              "#fdca26"
             ],
             [
              1,
              "#f0f921"
             ]
            ],
            "type": "surface"
           }
          ],
          "table": [
           {
            "cells": {
             "fill": {
              "color": "#EBF0F8"
             },
             "line": {
              "color": "white"
             }
            },
            "header": {
             "fill": {
              "color": "#C8D4E3"
             },
             "line": {
              "color": "white"
             }
            },
            "type": "table"
           }
          ]
         },
         "layout": {
          "annotationdefaults": {
           "arrowcolor": "#2a3f5f",
           "arrowhead": 0,
           "arrowwidth": 1
          },
          "autotypenumbers": "strict",
          "coloraxis": {
           "colorbar": {
            "outlinewidth": 0,
            "ticks": ""
           }
          },
          "colorscale": {
           "diverging": [
            [
             0,
             "#8e0152"
            ],
            [
             0.1,
             "#c51b7d"
            ],
            [
             0.2,
             "#de77ae"
            ],
            [
             0.3,
             "#f1b6da"
            ],
            [
             0.4,
             "#fde0ef"
            ],
            [
             0.5,
             "#f7f7f7"
            ],
            [
             0.6,
             "#e6f5d0"
            ],
            [
             0.7,
             "#b8e186"
            ],
            [
             0.8,
             "#7fbc41"
            ],
            [
             0.9,
             "#4d9221"
            ],
            [
             1,
             "#276419"
            ]
           ],
           "sequential": [
            [
             0,
             "#0d0887"
            ],
            [
             0.1111111111111111,
             "#46039f"
            ],
            [
             0.2222222222222222,
             "#7201a8"
            ],
            [
             0.3333333333333333,
             "#9c179e"
            ],
            [
             0.4444444444444444,
             "#bd3786"
            ],
            [
             0.5555555555555556,
             "#d8576b"
            ],
            [
             0.6666666666666666,
             "#ed7953"
            ],
            [
             0.7777777777777778,
             "#fb9f3a"
            ],
            [
             0.8888888888888888,
             "#fdca26"
            ],
            [
             1,
             "#f0f921"
            ]
           ],
           "sequentialminus": [
            [
             0,
             "#0d0887"
            ],
            [
             0.1111111111111111,
             "#46039f"
            ],
            [
             0.2222222222222222,
             "#7201a8"
            ],
            [
             0.3333333333333333,
             "#9c179e"
            ],
            [
             0.4444444444444444,
             "#bd3786"
            ],
            [
             0.5555555555555556,
             "#d8576b"
            ],
            [
             0.6666666666666666,
             "#ed7953"
            ],
            [
             0.7777777777777778,
             "#fb9f3a"
            ],
            [
             0.8888888888888888,
             "#fdca26"
            ],
            [
             1,
             "#f0f921"
            ]
           ]
          },
          "colorway": [
           "#636efa",
           "#EF553B",
           "#00cc96",
           "#ab63fa",
           "#FFA15A",
           "#19d3f3",
           "#FF6692",
           "#B6E880",
           "#FF97FF",
           "#FECB52"
          ],
          "font": {
           "color": "#2a3f5f"
          },
          "geo": {
           "bgcolor": "white",
           "lakecolor": "white",
           "landcolor": "#E5ECF6",
           "showlakes": true,
           "showland": true,
           "subunitcolor": "white"
          },
          "hoverlabel": {
           "align": "left"
          },
          "hovermode": "closest",
          "mapbox": {
           "style": "light"
          },
          "paper_bgcolor": "white",
          "plot_bgcolor": "#E5ECF6",
          "polar": {
           "angularaxis": {
            "gridcolor": "white",
            "linecolor": "white",
            "ticks": ""
           },
           "bgcolor": "#E5ECF6",
           "radialaxis": {
            "gridcolor": "white",
            "linecolor": "white",
            "ticks": ""
           }
          },
          "scene": {
           "xaxis": {
            "backgroundcolor": "#E5ECF6",
            "gridcolor": "white",
            "gridwidth": 2,
            "linecolor": "white",
            "showbackground": true,
            "ticks": "",
            "zerolinecolor": "white"
           },
           "yaxis": {
            "backgroundcolor": "#E5ECF6",
            "gridcolor": "white",
            "gridwidth": 2,
            "linecolor": "white",
            "showbackground": true,
            "ticks": "",
            "zerolinecolor": "white"
           },
           "zaxis": {
            "backgroundcolor": "#E5ECF6",
            "gridcolor": "white",
            "gridwidth": 2,
            "linecolor": "white",
            "showbackground": true,
            "ticks": "",
            "zerolinecolor": "white"
           }
          },
          "shapedefaults": {
           "line": {
            "color": "#2a3f5f"
           }
          },
          "ternary": {
           "aaxis": {
            "gridcolor": "white",
            "linecolor": "white",
            "ticks": ""
           },
           "baxis": {
            "gridcolor": "white",
            "linecolor": "white",
            "ticks": ""
           },
           "bgcolor": "#E5ECF6",
           "caxis": {
            "gridcolor": "white",
            "linecolor": "white",
            "ticks": ""
           }
          },
          "title": {
           "x": 0.05
          },
          "xaxis": {
           "automargin": true,
           "gridcolor": "white",
           "linecolor": "white",
           "ticks": "",
           "title": {
            "standoff": 15
           },
           "zerolinecolor": "white",
           "zerolinewidth": 2
          },
          "yaxis": {
           "automargin": true,
           "gridcolor": "white",
           "linecolor": "white",
           "ticks": "",
           "title": {
            "standoff": 15
           },
           "zerolinecolor": "white",
           "zerolinewidth": 2
          }
         }
        }
       }
      }
     },
     "metadata": {},
     "output_type": "display_data"
    }
   ],
   "source": [
    "\n",
    "fig = px.icicle(df, \n",
    "                path=[px.Constant(\"all\"), 'Period', 'Locality', 'Enslaver_Buyer'],\n",
    "                values='Slaves')\n",
    "\n",
    "fig.update_traces(root_color=\"lightgrey\", tiling=dict(orientation='h'))\n",
    "\n",
    "fig.show()"
   ]
  },
  {
   "cell_type": "code",
   "execution_count": 29,
   "metadata": {},
   "outputs": [
    {
     "data": {
      "application/vnd.plotly.v1+json": {
       "config": {
        "plotlyServerURL": "https://plot.ly"
       },
       "data": [
        {
         "branchvalues": "total",
         "customdata": [
          [
           null
          ],
          [
           null
          ],
          [
           null
          ],
          [
           9
          ],
          [
           null
          ],
          [
           null
          ],
          [
           null
          ],
          [
           null
          ],
          [
           null
          ],
          [
           null
          ],
          [
           null
          ],
          [
           null
          ],
          [
           null
          ],
          [
           null
          ],
          [
           null
          ],
          [
           null
          ],
          [
           null
          ],
          [
           null
          ],
          [
           null
          ],
          [
           null
          ],
          [
           null
          ],
          [
           null
          ],
          [
           null
          ],
          [
           null
          ],
          [
           null
          ],
          [
           null
          ],
          [
           35
          ],
          [
           null
          ],
          [
           null
          ],
          [
           null
          ],
          [
           null
          ],
          [
           null
          ],
          [
           null
          ],
          [
           null
          ],
          [
           null
          ],
          [
           null
          ],
          [
           null
          ],
          [
           8.5
          ],
          [
           null
          ],
          [
           null
          ],
          [
           null
          ],
          [
           null
          ],
          [
           12
          ],
          [
           20
          ],
          [
           null
          ],
          [
           null
          ],
          [
           null
          ],
          [
           null
          ],
          [
           null
          ],
          [
           null
          ],
          [
           null
          ],
          [
           9
          ],
          [
           null
          ],
          [
           null
          ],
          [
           null
          ],
          [
           null
          ],
          [
           null
          ],
          [
           null
          ],
          [
           null
          ],
          [
           null
          ],
          [
           null
          ],
          [
           null
          ],
          [
           null
          ],
          [
           null
          ],
          [
           null
          ],
          [
           null
          ],
          [
           15.25
          ],
          [
           null
          ],
          [
           null
          ],
          [
           null
          ],
          [
           null
          ],
          [
           null
          ],
          [
           null
          ],
          [
           null
          ],
          [
           null
          ],
          [
           11
          ],
          [
           null
          ],
          [
           null
          ],
          [
           40
          ],
          [
           null
          ],
          [
           null
          ],
          [
           null
          ],
          [
           null
          ],
          [
           null
          ],
          [
           null
          ],
          [
           null
          ],
          [
           null
          ],
          [
           null
          ],
          [
           6
          ],
          [
           null
          ],
          [
           null
          ],
          [
           null
          ],
          [
           null
          ],
          [
           19
          ],
          [
           12.5
          ],
          [
           null
          ],
          [
           15
          ],
          [
           null
          ],
          [
           null
          ],
          [
           13.75
          ],
          [
           null
          ],
          [
           null
          ],
          [
           null
          ],
          [
           18.25
          ],
          [
           null
          ],
          [
           null
          ],
          [
           null
          ],
          [
           null
          ],
          [
           null
          ],
          [
           null
          ],
          [
           null
          ],
          [
           null
          ],
          [
           null
          ],
          [
           null
          ],
          [
           null
          ],
          [
           null
          ],
          [
           null
          ],
          [
           null
          ],
          [
           null
          ],
          [
           null
          ],
          [
           null
          ],
          [
           null
          ],
          [
           null
          ],
          [
           null
          ],
          [
           null
          ],
          [
           null
          ],
          [
           null
          ],
          [
           19
          ],
          [
           null
          ],
          [
           null
          ],
          [
           14
          ],
          [
           null
          ],
          [
           null
          ],
          [
           null
          ],
          [
           null
          ],
          [
           null
          ],
          [
           null
          ],
          [
           null
          ],
          [
           null
          ],
          [
           14
          ],
          [
           null
          ],
          [
           20
          ],
          [
           null
          ],
          [
           null
          ],
          [
           null
          ],
          [
           null
          ],
          [
           null
          ],
          [
           null
          ],
          [
           null
          ],
          [
           null
          ],
          [
           null
          ],
          [
           null
          ],
          [
           null
          ],
          [
           null
          ],
          [
           null
          ],
          [
           null
          ],
          [
           null
          ],
          [
           null
          ],
          [
           null
          ],
          [
           null
          ],
          [
           null
          ],
          [
           null
          ],
          [
           null
          ],
          [
           28.333333333333332
          ],
          [
           null
          ],
          [
           null
          ],
          [
           null
          ],
          [
           null
          ],
          [
           null
          ],
          [
           null
          ],
          [
           null
          ],
          [
           null
          ],
          [
           null
          ],
          [
           null
          ],
          [
           null
          ],
          [
           null
          ],
          [
           null
          ],
          [
           null
          ],
          [
           null
          ],
          [
           null
          ],
          [
           null
          ],
          [
           null
          ],
          [
           21
          ],
          [
           null
          ],
          [
           2
          ],
          [
           14
          ],
          [
           null
          ],
          [
           null
          ],
          [
           null
          ],
          [
           null
          ],
          [
           null
          ],
          [
           17.8
          ],
          [
           14
          ],
          [
           null
          ],
          [
           null
          ],
          [
           56
          ],
          [
           null
          ],
          [
           null
          ],
          [
           13
          ],
          [
           null
          ],
          [
           null
          ],
          [
           null
          ],
          [
           null
          ],
          [
           null
          ],
          [
           null
          ],
          [
           null
          ],
          [
           null
          ],
          [
           null
          ],
          [
           10
          ],
          [
           null
          ],
          [
           null
          ],
          [
           null
          ],
          [
           null
          ],
          [
           null
          ],
          [
           null
          ],
          [
           null
          ],
          [
           null
          ],
          [
           null
          ],
          [
           null
          ],
          [
           null
          ],
          [
           1
          ],
          [
           null
          ],
          [
           15
          ],
          [
           15.142857142857142
          ],
          [
           null
          ],
          [
           null
          ],
          [
           null
          ],
          [
           null
          ],
          [
           null
          ],
          [
           null
          ],
          [
           null
          ],
          [
           null
          ],
          [
           null
          ],
          [
           null
          ],
          [
           18.333333333333332
          ],
          [
           null
          ],
          [
           null
          ],
          [
           null
          ],
          [
           null
          ],
          [
           null
          ],
          [
           null
          ],
          [
           null
          ],
          [
           null
          ],
          [
           null
          ],
          [
           null
          ],
          [
           null
          ],
          [
           null
          ],
          [
           null
          ],
          [
           null
          ],
          [
           null
          ],
          [
           null
          ],
          [
           null
          ],
          [
           8
          ],
          [
           null
          ],
          [
           null
          ],
          [
           null
          ],
          [
           null
          ],
          [
           null
          ],
          [
           null
          ],
          [
           null
          ],
          [
           null
          ],
          [
           null
          ],
          [
           null
          ],
          [
           20
          ],
          [
           null
          ],
          [
           null
          ],
          [
           15
          ],
          [
           24
          ],
          [
           null
          ],
          [
           null
          ],
          [
           null
          ],
          [
           null
          ],
          [
           null
          ],
          [
           null
          ],
          [
           12
          ],
          [
           null
          ],
          [
           null
          ],
          [
           null
          ],
          [
           null
          ],
          [
           null
          ],
          [
           null
          ],
          [
           null
          ],
          [
           null
          ],
          [
           null
          ],
          [
           null
          ],
          [
           null
          ],
          [
           null
          ],
          [
           null
          ],
          [
           null
          ],
          [
           12
          ],
          [
           null
          ],
          [
           null
          ],
          [
           null
          ],
          [
           null
          ],
          [
           null
          ],
          [
           19.142857142857142
          ],
          [
           27
          ],
          [
           null
          ],
          [
           null
          ],
          [
           null
          ],
          [
           null
          ],
          [
           null
          ],
          [
           null
          ],
          [
           null
          ],
          [
           null
          ],
          [
           null
          ],
          [
           12.5
          ],
          [
           null
          ],
          [
           null
          ],
          [
           null
          ],
          [
           null
          ],
          [
           null
          ],
          [
           null
          ],
          [
           null
          ],
          [
           null
          ],
          [
           null
          ],
          [
           null
          ],
          [
           null
          ],
          [
           null
          ],
          [
           null
          ],
          [
           null
          ],
          [
           4
          ],
          [
           null
          ],
          [
           null
          ],
          [
           null
          ],
          [
           null
          ],
          [
           null
          ],
          [
           null
          ],
          [
           15.5
          ],
          [
           null
          ],
          [
           null
          ],
          [
           15
          ],
          [
           null
          ],
          [
           null
          ],
          [
           null
          ],
          [
           null
          ],
          [
           null
          ],
          [
           null
          ],
          [
           null
          ],
          [
           null
          ],
          [
           null
          ],
          [
           null
          ],
          [
           11.5
          ],
          [
           null
          ],
          [
           null
          ],
          [
           null
          ],
          [
           null
          ],
          [
           null
          ],
          [
           null
          ],
          [
           null
          ],
          [
           null
          ],
          [
           13
          ],
          [
           null
          ],
          [
           null
          ],
          [
           null
          ],
          [
           null
          ],
          [
           null
          ],
          [
           null
          ],
          [
           null
          ],
          [
           null
          ],
          [
           null
          ],
          [
           null
          ],
          [
           null
          ],
          [
           null
          ],
          [
           null
          ],
          [
           null
          ],
          [
           40
          ],
          [
           null
          ],
          [
           null
          ],
          [
           null
          ],
          [
           null
          ],
          [
           null
          ],
          [
           null
          ],
          [
           15.25
          ],
          [
           null
          ],
          [
           null
          ],
          [
           null
          ],
          [
           null
          ],
          [
           null
          ],
          [
           null
          ],
          [
           null
          ],
          [
           null
          ],
          [
           null
          ],
          [
           null
          ],
          [
           null
          ],
          [
           null
          ],
          [
           null
          ],
          [
           null
          ],
          [
           null
          ],
          [
           21
          ],
          [
           null
          ],
          [
           4
          ],
          [
           15
          ],
          [
           null
          ],
          [
           null
          ],
          [
           null
          ],
          [
           null
          ],
          [
           null
          ],
          [
           null
          ]
         ],
         "domain": {
          "x": [
           0,
           1
          ],
          "y": [
           0,
           1
          ]
         },
         "hovertemplate": "labels=%{label}<br>Slaves=%{value}<br>parent=%{parent}<br>id=%{id}<br>Age=%{color}<extra></extra>",
         "ids": [
          "all/1821-1840/Lancaster County/A L Willis",
          "all/1801-1820/Accomack County/Abel W. Kellum",
          "all/1841-1860/Campbell County/Abner Anthony Jr; Grief Miller",
          "all/1801-1820/Petersburg City/Abram Leath",
          "all/1781-1800/Rockingham County/Addam Sellars",
          "all/1781-1800/Accomack County/Admr of Levin Pruet, deceased",
          "all/1781-1800/Goochland County/Alexander Donald",
          "all/1841-1860/Campbell County/Alexander M Lewis",
          "all/1841-1860/Campbell County/Alexander T Ward; William M Withers",
          "all/1781-1800/Petersburg City/Alexander W. McRae",
          "all/1841-1860/Campbell County/Allen S Wyllie",
          "all/1841-1860/Campbell County/Amanda J Gilliam",
          "all/1801-1820/Accomack County/Andrew",
          "all/1841-1860/Campbell County/Ann E L Lewellin; Catherine Lewellin",
          "all/1781-1800/Accomack County/Ann Hatton",
          "all/1801-1820/Accomack County/Ann Maria Parker Kelly",
          "all/1801-1820/Accomack County/Ann Meriah Parker",
          "all/1781-1800/Accomack County/Ann Sandford",
          "all/1821-1840/Campbell County/Ann Scott",
          "all/1801-1820/Campbell County/Anthony North",
          "all/1801-1820/Campbell County/Archibald Bryan Jr; William G Poindexter; William Miller",
          "all/1841-1860/Goochland County/Archibald S Richards",
          "all/1801-1820/Accomack County/Armistead Mears",
          "all/1801-1820/Campbell County/Armstead Pamplin",
          "all/1801-1820/Accomack County/Arthur Savage",
          "all/1801-1820/Lancaster County/Baldwin M Leland",
          "all/1801-1820/Campbell County/Bartley Baugh",
          "all/1781-1800/Campbell County/Battan Dobbins",
          "all/1781-1800/Campbell County/Benjamin Cox",
          "all/1801-1820/Campbell County/Benjamin Moore",
          "all/1801-1820/Campbell County/Betsy Hensbarger Gamble; Alexander Gamble",
          "all/1841-1860/Campbell County/Branch J Worsham",
          "all/1841-1860/Campbell County/Bridget Carson; John A Shearer; Letitia E M Sherer; James M Carson; Thomas F Carson; Moses Carson",
          "all/1821-1840/Campbell County/Bryant Nowlin; Robert P Phelps",
          "all/1841-1860/Campbell County/C Alonzo Hunt",
          "all/1781-1800/Campbell County/Caleb Tate",
          "all/1781-1800/Goochland County/Capt Thomas Miller",
          "all/1801-1820/Accomack County/Cassia Waples",
          "all/1781-1800/Accomack County/Catharine Martin; Elizabeth Martin",
          "all/1801-1820/Campbell County/Charles Cross",
          "all/1801-1820/Accomack County/Charles West",
          "all/1801-1820/Accomack County/Charlotte Henderson",
          "all/1801-1820/Campbell County/Chiswell Dabney",
          "all/1821-1840/Campbell County/Christopher Todd",
          "all/1801-1820/Accomack County/Crippen Taylor",
          "all/1781-1800/Accomack County/Custis Kellum",
          "all/1801-1820/Goochland County/D Johnson",
          "all/1821-1840/Campbell County/Daniel M Black",
          "all/1821-1840/Campbell County/Daniel Stone",
          "all/1801-1820/Accomack County/Daniel Twiford",
          "all/1801-1820/Lancaster County/David Edwards",
          "all/1821-1840/Campbell County/David Jones",
          "all/1760-1780/Goochland County/David Ross",
          "all/1801-1820/Accomack County/Derry Broadwater",
          "all/1821-1840/Campbell County/Dudley Terrell",
          "all/1801-1820/Goochland County/E Dejarnatt",
          "all/1821-1840/Norfolk County/E. T. Gayle",
          "all/1841-1860/Campbell County/Ed D Christian; A Christian, Trustees",
          "all/1781-1800/Norfolk County/Edmund Daniell",
          "all/1841-1860/Campbell County/Edward Bolling",
          "all/1801-1820/Petersburg City/Edward Simmons",
          "all/1801-1820/Accomack County/Edwin L Harris",
          "all/1801-1820/Accomack County/Edwin L. Harris",
          "all/1821-1840/Campbell County/Edwin Matthews; Melville Talbot",
          "all/1841-1860/Campbell County/Edwin R Page, Trustee",
          "all/1781-1800/Accomack County/Eli Hornsby",
          "all/1781-1800/Lancaster County/Elias Edmonds Jr",
          "all/1821-1840/Campbell County/Elizabeth Craddock",
          "all/1821-1840/Campbell County/Elizabeth Gilliam",
          "all/1781-1800/Accomack County/Elizabeth Henry",
          "all/1801-1820/Campbell County/Elizabeth McIver",
          "all/1821-1840/Campbell County/Elizabeth Tabetha Leftwich",
          "all/1781-1800/Accomack County/Elizabeth Teackle Sr",
          "all/1781-1800/Accomack County/Elizabeth Teackle Sr.",
          "all/1841-1860/Goochland County/Ellison Houchins",
          "all/1841-1860/Campbell County/Elvira B Irvine; Patrick Irvine; Jesse Irvine",
          "all/1801-1820/Accomack County/Ethel Lyon Exr of Sarah Lyon deceased",
          "all/1801-1820/Accomack County/Ethel Lyon Exr of Sarah Lyon, deceased",
          "all/1821-1840/Frederick County/Evelina Graham; James Graham; Richard John Graham; William Duncan Graham",
          "all/1821-1840/Campbell County/Exrs of George Cabell Dec'd; by Sarah Cabell; and Thomas F Buldin Executors",
          "all/1841-1860/Campbell County/Ezekiel Horner",
          "all/1801-1820/Lancaster County/Fanney Lawson",
          "all/1781-1800/Goochland County/Francis Harris",
          "all/1801-1820/Campbell County/Gabriel Jones; Robert Goode; Patsy Goode",
          "all/1801-1820/Accomack County/George Coleburn",
          "all/1781-1800/Accomack County/George Dunton",
          "all/1801-1820/Accomack County/George Scarburgh",
          "all/1781-1800/Accomack County/George Simpson",
          "all/1841-1860/Campbell County/Gilbert Hayth; Emaline Pettersen",
          "all/1801-1820/Accomack County/Gilbert Milby",
          "all/1841-1860/Campbell County/Giles B Portwood",
          "all/1821-1840/Campbell County/Granville Jordan; Josiah Shepperson; Howel Lewis",
          "all/1801-1820/Goochland County/H Lewis",
          "all/1801-1820/Campbell County/Hart Brown & Co; Charles G Watkins Sr",
          "all/1821-1840/Campbell County/Hartwell Epps; Joseph Gaddy",
          "all/1841-1860/Goochland County/Hector Davis",
          "all/1841-1860/Campbell County/Hector Harris",
          "all/1841-1860/Campbell County/Hector Harris, Trustee of Elizabeth Jenks",
          "all/1841-1860/Campbell County/Henry C Wade",
          "all/1781-1800/Rockingham County/Henry Ewin",
          "all/1781-1800/Accomack County/Henry Fletcher Sr",
          "all/1781-1800/Accomack County/Henry Fletcher Sr.",
          "all/1841-1860/Campbell County/Henry J Brown; James L Brown; John D Murrell",
          "all/1821-1840/Campbell County/Henry Keeling",
          "all/1841-1860/Norfolk County/Henry T. & Ann L. Parsons Williamson",
          "all/1781-1800/Campbell County/Henry Tate",
          "all/1841-1860/Campbell County/Henry Ward's Legatees",
          "all/1801-1820/Accomack County/Henry White; Thomas Abbot",
          "all/1781-1800/Goochland County/Henry Wood",
          "all/1781-1800/Accomack County/Hessesy Tunnell",
          "all/1801-1820/Accomack County/Higgins & McCollom",
          "all/1801-1820/Goochland County/Hugart",
          "all/1821-1840/Campbell County/Huston Davenport",
          "all/1821-1840/Lancaster County/Isaac Brent",
          "all/1781-1800/Accomack County/Isaac West; Nathaniel West",
          "all/1821-1840/Campbell County/Isabella S Wheeler",
          "all/1801-1820/Accomack County/Isaiah Johnson Sr.",
          "all/1801-1820/Goochland County/J A Grant",
          "all/1841-1860/Campbell County/J C Moorman",
          "all/1801-1820/Goochland County/J Chapman",
          "all/1841-1860/Campbell County/J H Smith",
          "all/1781-1800/Accomack County/Jabez Pitt",
          "all/1781-1800/Accomack County/Jacob Bird",
          "all/1821-1840/Campbell County/James Campbell",
          "all/1841-1860/Campbell County/James Cobbs",
          "all/1821-1840/Norfolk County/James Culpepper",
          "all/1760-1780/Middlesex County/James Daniel",
          "all/1821-1840/Campbell County/James G Dearing",
          "all/1801-1820/Accomack County/James Gibbons",
          "all/1841-1860/Campbell County/James L Claytor; Charles R Slaugher; James L Brown; John D Murrell",
          "all/1801-1820/Accomack County/James Melvin; Peter Delastatius",
          "all/1801-1820/Campbell County/James Moseley",
          "all/1841-1860/Campbell County/James P Scott",
          "all/1781-1800/Goochland County/James Robards",
          "all/1841-1860/Campbell County/James S Clator; George W Turner",
          "all/1821-1840/Campbell County/James Steptoe Sr",
          "all/1821-1840/Campbell County/James V Knight",
          "all/1821-1840/Campbell County/James Wiley; Samuel Fleming",
          "all/1821-1840/Lancaster County/Jasper Scott",
          "all/1841-1860/Campbell County/Jeffrey Murrell",
          "all/1801-1820/Lancaster County/Jesse Robins",
          "all/1841-1860/Campbell County/John A Alexander; Ann B Finch",
          "all/1821-1840/Campbell County/John Alexander",
          "all/1801-1820/Accomack County/John Artis",
          "all/1821-1840/Campbell County/John B Dabney; Fortunatus Sydnor",
          "all/1821-1840/Campbell County/John B Dabney; William Daniel Jr",
          "all/1801-1820/Accomack County/John Bird Jr.",
          "all/1801-1820/Goochland County/John Bridgewater",
          "all/1841-1860/Campbell County/John D Alexander",
          "all/1801-1820/Campbell County/John Franklin",
          "all/1781-1800/Caroline County/John George Graves, Benjamin Graves, Frances Graves",
          "all/1801-1820/Accomack County/John Gibson",
          "all/1781-1800/Accomack County/John Gootee; Edmund Custis",
          "all/1841-1860/Campbell County/John H Wade",
          "all/1801-1820/Campbell County/John Hancock",
          "all/1821-1840/Campbell County/John Hobson etc",
          "all/1821-1840/Campbell County/John Hockaday",
          "all/1760-1780/Goochland County/John K.",
          "all/1801-1820/Campbell County/John L Armistead",
          "all/1801-1820/Campbell County/John M Gordon",
          "all/1801-1820/Campbell County/John McAllister",
          "all/1760-1780/Accomack County/John Milby; Daniel Sulivan",
          "all/1841-1860/Goochland County/John Morris",
          "all/1781-1800/Rockingham County/John Morrison",
          "all/1781-1800/Campbell County/John Mosley Haden",
          "all/1841-1860/Campbell County/John P Minton; Poindexter Brown",
          "all/1821-1840/Campbell County/John Reaveley",
          "all/1821-1840/Campbell County/John Rosser",
          "all/1781-1800/Accomack County/John Sandford",
          "all/1801-1820/Goochland County/John Shelton Sr",
          "all/1821-1840/Campbell County/John Smith Jr; Richard G Haden",
          "all/1841-1860/Campbell County/John T Wood",
          "all/1760-1780/Norfolk County/John Taylor, Nickols Creekmur, John Williams",
          "all/1841-1860/Goochland County/John Thompson Jr",
          "all/1841-1860/Campbell County/John V Wheeler",
          "all/1821-1840/Campbell County/John W Keeton Gdn of Edward T Fowlkes; Samuel H Fowlkes",
          "all/1841-1860/Campbell County/John W Stratton",
          "all/1781-1800/Accomack County/John Wallup",
          "all/1801-1820/Accomack County/John Ward Kellum",
          "all/1801-1820/Accomack County/John Wharton",
          "all/1801-1820/Campbell County/Jonathan Bailey",
          "all/1781-1800/Campbell County/Jones Wynne",
          "all/1841-1860/Rockingham County/Joseph Mauzy",
          "all/1801-1820/Lancaster County/Joseph Mott",
          "all/1801-1820/Accomack County/Joshua Stutson",
          "all/1781-1800/Campbell County/Joshua Wynne Jr",
          "all/1821-1840/Campbell County/Josiah Shepperson",
          "all/1801-1820/Lancaster County/Josias Ingram",
          "all/1801-1820/Accomack County/Labon Gunter",
          "all/1821-1840/Campbell County/Laurence B Stern; Nathaniel D Inge",
          "all/1821-1840/Southampton County/Leonard Cobb",
          "all/1821-1840/Campbell County/Lewis E Williams",
          "all/1841-1860/Campbell County/Littleberry Hazelwood",
          "all/1841-1860/Campbell County/M Hollins",
          "all/1801-1820/Accomack County/Major Duffy",
          "all/1801-1820/Accomack County/Margaret Ewell",
          "all/1801-1820/Accomack County/Margaret Joynes; Elias Joynes",
          "all/1821-1840/Lancaster County/Margaret S Bryant",
          "all/1801-1820/Campbell County/Maria S Gray",
          "all/1821-1840/Campbell County/Martha Ann Thomas",
          "all/1781-1800/Campbell County/Martha Hart",
          "all/1841-1860/Campbell County/Martha J Swinney",
          "all/1841-1860/Campbell County/Martin Hollins & Co",
          "all/1841-1860/Goochland County/Martin Key",
          "all/1781-1800/Campbell County/Mary Ann Moseley",
          "all/1821-1840/Norfolk County/Mary Flowers",
          "all/1801-1820/Accomack County/Mary Griffin",
          "all/1821-1840/Campbell County/Mary Lewis",
          "all/1781-1800/Accomack County/Mary Marshall",
          "all/1821-1840/Campbell County/Mary Roberts",
          "all/1781-1800/Accomack County/Matthew Beard",
          "all/1801-1820/Accomack County/Molly Hall",
          "all/1801-1820/Campbell County/Morris Roberts",
          "all/1821-1840/Campbell County/Moses Steele",
          "all/1801-1820/Goochland County/Mr Hendrick",
          "all/1841-1860/Campbell County/Nancy Edds; Featherston Akers",
          "all/1801-1820/Accomack County/Nancy Glen",
          "all/1841-1860/Goochland County/Narcissus W Miller",
          "all/1841-1860/Campbell County/Oden G Clay; Creed T Wills",
          "all/1801-1820/Accomack County/Otter Jubilee",
          "all/1841-1860/Campbell County/Palenia Steward",
          "all/1801-1820/Accomack County/Pattey Walker",
          "all/1781-1800/Goochland County/Paul Dismukes",
          "all/1841-1860/Campbell County/Paul Jones",
          "all/1781-1800/Prince Edward County/Philimon Holcombe",
          "all/1781-1800/Rockingham County/Philip Buckner",
          "all/1841-1860/Goochland County/Pleasant Turner",
          "all/1801-1820/Accomack County/Polly A. Outten; George T. Outten; Julian Outten; Fanny Outten; John P. Outten",
          "all/1801-1820/Campbell County/Polly Douglass",
          "all/1841-1860/Campbell County/R G H Kean",
          "all/1801-1820/Accomack County/Ralph Corbin",
          "all/1801-1820/Arlington County/Ralph Longden",
          "all/1801-1820/Campbell County/Randolph D Carden",
          "all/1801-1820/Goochland County/Reb Saunders",
          "all/1821-1840/Campbell County/Reuben D Palmer; Jack E Cheathem",
          "all/1801-1820/Accomack County/Richard Bayly; John Bayly",
          "all/1801-1820/Accomack County/Richard D Bayly & Co",
          "all/1801-1820/Accomack County/Richard D. Bayly & Co",
          "all/1801-1820/Lancaster County/Richard Davis",
          "all/1821-1840/Campbell County/Richard G Brown; Edmund Herndon",
          "all/1821-1840/Campbell County/Richard G Haden",
          "all/1801-1820/Lancaster County/Richard Mitchell",
          "all/1841-1860/Lancaster County/Richard Norris",
          "all/1801-1820/Accomack County/Richard R Savage",
          "all/1801-1820/Accomack County/Richard R. Savage",
          "all/1760-1780/Norfolk County/Richard Silvester",
          "all/1821-1840/Campbell County/Richard Tyree; John H Tyree; George T Johnson",
          "all/1781-1800/Campbell County/Robert Bradfute",
          "all/1821-1840/Campbell County/Robert C Penn",
          "all/1841-1860/Campbell County/Robert E Withers",
          "all/1841-1860/Campbell County/Robert Hunter",
          "all/1760-1780/Goochland County/Robert Payne; Archer Payne",
          "all/1841-1860/Campbell County/Robert R Hargrove; Mary E Hargrove",
          "all/1841-1860/Campbell County/Robert W Scott",
          "all/1801-1820/Campbell County/Robert W Withers",
          "all/1841-1860/Campbell County/Robert W Withers; Robert E Withers",
          "all/1841-1860/Campbell County/Robert Ward",
          "all/1821-1840/Campbell County/Rowland Ward",
          "all/1781-1800/Accomack County/Salathiel West",
          "all/1801-1820/Accomack County/Samuel Coward",
          "all/1821-1840/Campbell County/Samuel Garland; Maurice H Garland",
          "all/1841-1860/Campbell County/Samuel Garland; Pembroke Garland",
          "all/1781-1800/Accomack County/Samuel Johnson",
          "all/1821-1840/Petersburg City/Samuel V. Brown",
          "all/1801-1820/Lancaster County/Sarah C Lawson",
          "all/1801-1820/Accomack County/Sarah Floyd",
          "all/1821-1840/Staunton City/Sarah Fuller",
          "all/1841-1860/Campbell County/Seth Woodruff",
          "all/1781-1800/Accomack County/Severn Teackle",
          "all/1821-1840/Petersburg City/Shadrick Brandon",
          "all/1821-1840/Campbell County/Simeon Austin",
          "all/1801-1820/Accomack County/Sinah Harman",
          "all/1781-1800/Accomack County/Sleathel Baker",
          "all/1801-1820/Accomack County/Stephen Drummond",
          "all/1821-1840/Campbell County/Stephen Terry; Lucinda Terry",
          "all/1821-1840/Campbell County/Sterling C Anderson",
          "all/1801-1820/Lancaster County/Sueanne M Lawson",
          "all/1841-1860/Campbell County/Susan E N Clark",
          "all/1841-1860/Goochland County/Sylvester Cocke",
          "all/1841-1860/Campbell County/T B Johnson",
          "all/1801-1820/Goochland County/T. Massie",
          "all/1821-1840/Henry County/Tavnor C Shelton",
          "all/1821-1840/Henry County/Tavnor C. Shelton",
          "all/1801-1820/Campbell County/Thomas B Jones",
          "all/1801-1820/Accomack County/Thomas Beard Jr",
          "all/1801-1820/Accomack County/Thomas Beard Jr.",
          "all/1781-1800/Middlesex County/Thomas Dillard",
          "all/1801-1820/Campbell County/Thomas Franklin",
          "all/1781-1800/Accomack County/Thomas Grinalds",
          "all/1781-1800/Accomack County/Thomas Guy",
          "all/1841-1860/Campbell County/Thomas H Lain Admr of Jesse Edds Dec'd",
          "all/1801-1820/Accomack County/Thomas Joynes",
          "all/1801-1820/Lancaster County/Thomas Lawson",
          "all/1801-1820/Accomack County/Thomas M Bayly",
          "all/1801-1820/Accomack County/Thomas M. Bayly",
          "all/1781-1800/Goochland County/Thomas Miller",
          "all/1821-1840/Campbell County/Thomas Praithor; Joseph Wilson",
          "all/1781-1800/Rockingham County/Thomas Scott",
          "all/1801-1820/Lancaster County/Thomas Shearman",
          "all/1781-1800/Accomack County/Thomas Snead",
          "all/1760-1780/Middlesex County/Thomas Stiff",
          "all/1841-1860/Goochland County/Thomas W Herndon; Wilson M Houchins",
          "all/1841-1860/Goochland County/Thomas W. Herndon; Wilson M. Houchins",
          "all/1801-1820/Accomack County/Thorowgood Taylor",
          "all/1841-1860/Campbell County/Timothy H Stamps Attorney in Fact for James Anderson",
          "all/1821-1840/Goochland County/Trustees of Thomas Robertson; Trustees of Mary Robertson",
          "all/1801-1820/Accomack County/Tully Snead; Francis Only",
          "all/1801-1820/Accomack County/Unknown",
          "all/1821-1840/Campbell County/Unknown",
          "all/1841-1860/Campbell County/Unknown",
          "all/1841-1860/Goochland County/Unknown",
          "all/1821-1840/Lancaster County/Unknown",
          "all/1781-1800/Norfolk County/Unknown",
          "all/1801-1820/Norfolk County/Unknown",
          "all/1801-1820/Accomack County/Walston and Custis",
          "all/1841-1860/Campbell County/Walter S Withers",
          "all/1801-1820/Lancaster County/Widow of Henry Lawson deceased",
          "all/1821-1840/Campbell County/William A Clement",
          "all/1841-1860/Campbell County/William A Clement",
          "all/1841-1860/Campbell County/William A Clement; Adam Clement",
          "all/1841-1860/Campbell County/William A Shands",
          "all/1841-1860/Southampton County/William Babb",
          "all/1841-1860/Goochland County/William C Adams",
          "all/1841-1860/Campbell County/William C Burton",
          "all/1841-1860/Campbell County/William C Hollins",
          "all/1841-1860/Campbell County/William C Perrow",
          "all/1801-1820/Accomack County/William Drummond",
          "all/1801-1820/Accomack County/William Duncan",
          "all/1841-1860/Campbell County/William H Tardy; Samuel C Tardy",
          "all/1821-1840/Campbell County/William Hiter Jones",
          "all/1841-1860/Campbell County/William Hollins",
          "all/1801-1820/Campbell County/William Irvine",
          "all/1821-1840/Campbell County/William J Harvey",
          "all/1841-1860/Campbell County/William J Tynes; Ednis D Tynes; Virginia Tynes; Aley C Tynes; Mary C Tynes",
          "all/1781-1800/Campbell County/William Jones; Elizabeth Jones",
          "all/1821-1840/Campbell County/William King",
          "all/1801-1820/Lancaster County/William Lawson",
          "all/1801-1820/Accomack County/William Lecato",
          "all/1801-1820/Goochland County/William Miller",
          "all/1801-1820/Accomack County/William Moore",
          "all/1801-1820/Lancaster County/William Newby",
          "all/1841-1860/Campbell County/William P Hayth",
          "all/1801-1820/Arlington County/William Reiley",
          "all/1801-1820/Accomack County/William Robert Custis",
          "all/1801-1820/Accomack County/William Selby",
          "all/1781-1800/Accomack County/William Silverthorn; Joseph Waggoman",
          "all/1801-1820/Accomack County/William Smart",
          "all/1760-1780/Goochland County/William Stamps",
          "all/1781-1800/Accomack County/William Taylor",
          "all/1801-1820/Campbell County/William Tharp",
          "all/1801-1820/Campbell County/William Trigg; Jesse Leftwich",
          "all/1781-1800/Accomack County/William Vessells Sr.",
          "all/1781-1800/Accomack County/William Vessels Sr.",
          "all/1781-1800/Accomack County/William Williams",
          "all/1801-1820/Lancaster County/Winefred K Lawson",
          "all/1821-1840/Campbell County/Zacchus E Cheatham; Joseph Wilson",
          "all/1801-1820/Goochland County/unidentified",
          "all/1760-1780/Accomack County",
          "all/1781-1800/Accomack County",
          "all/1801-1820/Accomack County",
          "all/1801-1820/Arlington County",
          "all/1781-1800/Campbell County",
          "all/1801-1820/Campbell County",
          "all/1821-1840/Campbell County",
          "all/1841-1860/Campbell County",
          "all/1781-1800/Caroline County",
          "all/1821-1840/Frederick County",
          "all/1760-1780/Goochland County",
          "all/1781-1800/Goochland County",
          "all/1801-1820/Goochland County",
          "all/1821-1840/Goochland County",
          "all/1841-1860/Goochland County",
          "all/1821-1840/Henry County",
          "all/1781-1800/Lancaster County",
          "all/1801-1820/Lancaster County",
          "all/1821-1840/Lancaster County",
          "all/1841-1860/Lancaster County",
          "all/1760-1780/Middlesex County",
          "all/1781-1800/Middlesex County",
          "all/1760-1780/Norfolk County",
          "all/1781-1800/Norfolk County",
          "all/1801-1820/Norfolk County",
          "all/1821-1840/Norfolk County",
          "all/1841-1860/Norfolk County",
          "all/1781-1800/Petersburg City",
          "all/1801-1820/Petersburg City",
          "all/1821-1840/Petersburg City",
          "all/1781-1800/Prince Edward County",
          "all/1781-1800/Rockingham County",
          "all/1841-1860/Rockingham County",
          "all/1821-1840/Southampton County",
          "all/1841-1860/Southampton County",
          "all/1821-1840/Staunton City",
          "all/1760-1780",
          "all/1781-1800",
          "all/1801-1820",
          "all/1821-1840",
          "all/1841-1860",
          "all"
         ],
         "labels": [
          "A L Willis",
          "Abel W. Kellum",
          "Abner Anthony Jr; Grief Miller",
          "Abram Leath",
          "Addam Sellars",
          "Admr of Levin Pruet, deceased",
          "Alexander Donald",
          "Alexander M Lewis",
          "Alexander T Ward; William M Withers",
          "Alexander W. McRae",
          "Allen S Wyllie",
          "Amanda J Gilliam",
          "Andrew",
          "Ann E L Lewellin; Catherine Lewellin",
          "Ann Hatton",
          "Ann Maria Parker Kelly",
          "Ann Meriah Parker",
          "Ann Sandford",
          "Ann Scott",
          "Anthony North",
          "Archibald Bryan Jr; William G Poindexter; William Miller",
          "Archibald S Richards",
          "Armistead Mears",
          "Armstead Pamplin",
          "Arthur Savage",
          "Baldwin M Leland",
          "Bartley Baugh",
          "Battan Dobbins",
          "Benjamin Cox",
          "Benjamin Moore",
          "Betsy Hensbarger Gamble; Alexander Gamble",
          "Branch J Worsham",
          "Bridget Carson; John A Shearer; Letitia E M Sherer; James M Carson; Thomas F Carson; Moses Carson",
          "Bryant Nowlin; Robert P Phelps",
          "C Alonzo Hunt",
          "Caleb Tate",
          "Capt Thomas Miller",
          "Cassia Waples",
          "Catharine Martin; Elizabeth Martin",
          "Charles Cross",
          "Charles West",
          "Charlotte Henderson",
          "Chiswell Dabney",
          "Christopher Todd",
          "Crippen Taylor",
          "Custis Kellum",
          "D Johnson",
          "Daniel M Black",
          "Daniel Stone",
          "Daniel Twiford",
          "David Edwards",
          "David Jones",
          "David Ross",
          "Derry Broadwater",
          "Dudley Terrell",
          "E Dejarnatt",
          "E. T. Gayle",
          "Ed D Christian; A Christian, Trustees",
          "Edmund Daniell",
          "Edward Bolling",
          "Edward Simmons",
          "Edwin L Harris",
          "Edwin L. Harris",
          "Edwin Matthews; Melville Talbot",
          "Edwin R Page, Trustee",
          "Eli Hornsby",
          "Elias Edmonds Jr",
          "Elizabeth Craddock",
          "Elizabeth Gilliam",
          "Elizabeth Henry",
          "Elizabeth McIver",
          "Elizabeth Tabetha Leftwich",
          "Elizabeth Teackle Sr",
          "Elizabeth Teackle Sr.",
          "Ellison Houchins",
          "Elvira B Irvine; Patrick Irvine; Jesse Irvine",
          "Ethel Lyon Exr of Sarah Lyon deceased",
          "Ethel Lyon Exr of Sarah Lyon, deceased",
          "Evelina Graham; James Graham; Richard John Graham; William Duncan Graham",
          "Exrs of George Cabell Dec'd; by Sarah Cabell; and Thomas F Buldin Executors",
          "Ezekiel Horner",
          "Fanney Lawson",
          "Francis Harris",
          "Gabriel Jones; Robert Goode; Patsy Goode",
          "George Coleburn",
          "George Dunton",
          "George Scarburgh",
          "George Simpson",
          "Gilbert Hayth; Emaline Pettersen",
          "Gilbert Milby",
          "Giles B Portwood",
          "Granville Jordan; Josiah Shepperson; Howel Lewis",
          "H Lewis",
          "Hart Brown & Co; Charles G Watkins Sr",
          "Hartwell Epps; Joseph Gaddy",
          "Hector Davis",
          "Hector Harris",
          "Hector Harris, Trustee of Elizabeth Jenks",
          "Henry C Wade",
          "Henry Ewin",
          "Henry Fletcher Sr",
          "Henry Fletcher Sr.",
          "Henry J Brown; James L Brown; John D Murrell",
          "Henry Keeling",
          "Henry T. & Ann L. Parsons Williamson",
          "Henry Tate",
          "Henry Ward's Legatees",
          "Henry White; Thomas Abbot",
          "Henry Wood",
          "Hessesy Tunnell",
          "Higgins & McCollom",
          "Hugart",
          "Huston Davenport",
          "Isaac Brent",
          "Isaac West; Nathaniel West",
          "Isabella S Wheeler",
          "Isaiah Johnson Sr.",
          "J A Grant",
          "J C Moorman",
          "J Chapman",
          "J H Smith",
          "Jabez Pitt",
          "Jacob Bird",
          "James Campbell",
          "James Cobbs",
          "James Culpepper",
          "James Daniel",
          "James G Dearing",
          "James Gibbons",
          "James L Claytor; Charles R Slaugher; James L Brown; John D Murrell",
          "James Melvin; Peter Delastatius",
          "James Moseley",
          "James P Scott",
          "James Robards",
          "James S Clator; George W Turner",
          "James Steptoe Sr",
          "James V Knight",
          "James Wiley; Samuel Fleming",
          "Jasper Scott",
          "Jeffrey Murrell",
          "Jesse Robins",
          "John A Alexander; Ann B Finch",
          "John Alexander",
          "John Artis",
          "John B Dabney; Fortunatus Sydnor",
          "John B Dabney; William Daniel Jr",
          "John Bird Jr.",
          "John Bridgewater",
          "John D Alexander",
          "John Franklin",
          "John George Graves, Benjamin Graves, Frances Graves",
          "John Gibson",
          "John Gootee; Edmund Custis",
          "John H Wade",
          "John Hancock",
          "John Hobson etc",
          "John Hockaday",
          "John K.",
          "John L Armistead",
          "John M Gordon",
          "John McAllister",
          "John Milby; Daniel Sulivan",
          "John Morris",
          "John Morrison",
          "John Mosley Haden",
          "John P Minton; Poindexter Brown",
          "John Reaveley",
          "John Rosser",
          "John Sandford",
          "John Shelton Sr",
          "John Smith Jr; Richard G Haden",
          "John T Wood",
          "John Taylor, Nickols Creekmur, John Williams",
          "John Thompson Jr",
          "John V Wheeler",
          "John W Keeton Gdn of Edward T Fowlkes; Samuel H Fowlkes",
          "John W Stratton",
          "John Wallup",
          "John Ward Kellum",
          "John Wharton",
          "Jonathan Bailey",
          "Jones Wynne",
          "Joseph Mauzy",
          "Joseph Mott",
          "Joshua Stutson",
          "Joshua Wynne Jr",
          "Josiah Shepperson",
          "Josias Ingram",
          "Labon Gunter",
          "Laurence B Stern; Nathaniel D Inge",
          "Leonard Cobb",
          "Lewis E Williams",
          "Littleberry Hazelwood",
          "M Hollins",
          "Major Duffy",
          "Margaret Ewell",
          "Margaret Joynes; Elias Joynes",
          "Margaret S Bryant",
          "Maria S Gray",
          "Martha Ann Thomas",
          "Martha Hart",
          "Martha J Swinney",
          "Martin Hollins & Co",
          "Martin Key",
          "Mary Ann Moseley",
          "Mary Flowers",
          "Mary Griffin",
          "Mary Lewis",
          "Mary Marshall",
          "Mary Roberts",
          "Matthew Beard",
          "Molly Hall",
          "Morris Roberts",
          "Moses Steele",
          "Mr Hendrick",
          "Nancy Edds; Featherston Akers",
          "Nancy Glen",
          "Narcissus W Miller",
          "Oden G Clay; Creed T Wills",
          "Otter Jubilee",
          "Palenia Steward",
          "Pattey Walker",
          "Paul Dismukes",
          "Paul Jones",
          "Philimon Holcombe",
          "Philip Buckner",
          "Pleasant Turner",
          "Polly A. Outten; George T. Outten; Julian Outten; Fanny Outten; John P. Outten",
          "Polly Douglass",
          "R G H Kean",
          "Ralph Corbin",
          "Ralph Longden",
          "Randolph D Carden",
          "Reb Saunders",
          "Reuben D Palmer; Jack E Cheathem",
          "Richard Bayly; John Bayly",
          "Richard D Bayly & Co",
          "Richard D. Bayly & Co",
          "Richard Davis",
          "Richard G Brown; Edmund Herndon",
          "Richard G Haden",
          "Richard Mitchell",
          "Richard Norris",
          "Richard R Savage",
          "Richard R. Savage",
          "Richard Silvester",
          "Richard Tyree; John H Tyree; George T Johnson",
          "Robert Bradfute",
          "Robert C Penn",
          "Robert E Withers",
          "Robert Hunter",
          "Robert Payne; Archer Payne",
          "Robert R Hargrove; Mary E Hargrove",
          "Robert W Scott",
          "Robert W Withers",
          "Robert W Withers; Robert E Withers",
          "Robert Ward",
          "Rowland Ward",
          "Salathiel West",
          "Samuel Coward",
          "Samuel Garland; Maurice H Garland",
          "Samuel Garland; Pembroke Garland",
          "Samuel Johnson",
          "Samuel V. Brown",
          "Sarah C Lawson",
          "Sarah Floyd",
          "Sarah Fuller",
          "Seth Woodruff",
          "Severn Teackle",
          "Shadrick Brandon",
          "Simeon Austin",
          "Sinah Harman",
          "Sleathel Baker",
          "Stephen Drummond",
          "Stephen Terry; Lucinda Terry",
          "Sterling C Anderson",
          "Sueanne M Lawson",
          "Susan E N Clark",
          "Sylvester Cocke",
          "T B Johnson",
          "T. Massie",
          "Tavnor C Shelton",
          "Tavnor C. Shelton",
          "Thomas B Jones",
          "Thomas Beard Jr",
          "Thomas Beard Jr.",
          "Thomas Dillard",
          "Thomas Franklin",
          "Thomas Grinalds",
          "Thomas Guy",
          "Thomas H Lain Admr of Jesse Edds Dec'd",
          "Thomas Joynes",
          "Thomas Lawson",
          "Thomas M Bayly",
          "Thomas M. Bayly",
          "Thomas Miller",
          "Thomas Praithor; Joseph Wilson",
          "Thomas Scott",
          "Thomas Shearman",
          "Thomas Snead",
          "Thomas Stiff",
          "Thomas W Herndon; Wilson M Houchins",
          "Thomas W. Herndon; Wilson M. Houchins",
          "Thorowgood Taylor",
          "Timothy H Stamps Attorney in Fact for James Anderson",
          "Trustees of Thomas Robertson; Trustees of Mary Robertson",
          "Tully Snead; Francis Only",
          "Unknown",
          "Unknown",
          "Unknown",
          "Unknown",
          "Unknown",
          "Unknown",
          "Unknown",
          "Walston and Custis",
          "Walter S Withers",
          "Widow of Henry Lawson deceased",
          "William A Clement",
          "William A Clement",
          "William A Clement; Adam Clement",
          "William A Shands",
          "William Babb",
          "William C Adams",
          "William C Burton",
          "William C Hollins",
          "William C Perrow",
          "William Drummond",
          "William Duncan",
          "William H Tardy; Samuel C Tardy",
          "William Hiter Jones",
          "William Hollins",
          "William Irvine",
          "William J Harvey",
          "William J Tynes; Ednis D Tynes; Virginia Tynes; Aley C Tynes; Mary C Tynes",
          "William Jones; Elizabeth Jones",
          "William King",
          "William Lawson",
          "William Lecato",
          "William Miller",
          "William Moore",
          "William Newby",
          "William P Hayth",
          "William Reiley",
          "William Robert Custis",
          "William Selby",
          "William Silverthorn; Joseph Waggoman",
          "William Smart",
          "William Stamps",
          "William Taylor",
          "William Tharp",
          "William Trigg; Jesse Leftwich",
          "William Vessells Sr.",
          "William Vessels Sr.",
          "William Williams",
          "Winefred K Lawson",
          "Zacchus E Cheatham; Joseph Wilson",
          "unidentified",
          "Accomack County",
          "Accomack County",
          "Accomack County",
          "Arlington County",
          "Campbell County",
          "Campbell County",
          "Campbell County",
          "Campbell County",
          "Caroline County",
          "Frederick County",
          "Goochland County",
          "Goochland County",
          "Goochland County",
          "Goochland County",
          "Goochland County",
          "Henry County",
          "Lancaster County",
          "Lancaster County",
          "Lancaster County",
          "Lancaster County",
          "Middlesex County",
          "Middlesex County",
          "Norfolk County",
          "Norfolk County",
          "Norfolk County",
          "Norfolk County",
          "Norfolk County",
          "Petersburg City",
          "Petersburg City",
          "Petersburg City",
          "Prince Edward County",
          "Rockingham County",
          "Rockingham County",
          "Southampton County",
          "Southampton County",
          "Staunton City",
          "1760-1780",
          "1781-1800",
          "1801-1820",
          "1821-1840",
          "1841-1860",
          "all"
         ],
         "marker": {
          "coloraxis": "coloraxis",
          "colors": [
           null,
           null,
           null,
           9,
           null,
           null,
           null,
           null,
           null,
           null,
           null,
           null,
           null,
           null,
           null,
           null,
           null,
           null,
           null,
           null,
           null,
           null,
           null,
           null,
           null,
           null,
           35,
           null,
           null,
           null,
           null,
           null,
           null,
           null,
           null,
           null,
           null,
           8.5,
           null,
           null,
           null,
           null,
           12,
           20,
           null,
           null,
           null,
           null,
           null,
           null,
           null,
           9,
           null,
           null,
           null,
           null,
           null,
           null,
           null,
           null,
           null,
           null,
           null,
           null,
           null,
           null,
           15.25,
           null,
           null,
           null,
           null,
           null,
           null,
           null,
           null,
           11,
           null,
           null,
           40,
           null,
           null,
           null,
           null,
           null,
           null,
           null,
           null,
           null,
           6,
           null,
           null,
           null,
           null,
           19,
           12.5,
           null,
           15,
           null,
           null,
           13.75,
           null,
           null,
           null,
           18.25,
           null,
           null,
           null,
           null,
           null,
           null,
           null,
           null,
           null,
           null,
           null,
           null,
           null,
           null,
           null,
           null,
           null,
           null,
           null,
           null,
           null,
           null,
           null,
           19,
           null,
           null,
           14,
           null,
           null,
           null,
           null,
           null,
           null,
           null,
           null,
           14,
           null,
           20,
           null,
           null,
           null,
           null,
           null,
           null,
           null,
           null,
           null,
           null,
           null,
           null,
           null,
           null,
           null,
           null,
           null,
           null,
           null,
           null,
           null,
           28.333333333333332,
           null,
           null,
           null,
           null,
           null,
           null,
           null,
           null,
           null,
           null,
           null,
           null,
           null,
           null,
           null,
           null,
           null,
           null,
           21,
           null,
           2,
           14,
           null,
           null,
           null,
           null,
           null,
           17.8,
           14,
           null,
           null,
           56,
           null,
           null,
           13,
           null,
           null,
           null,
           null,
           null,
           null,
           null,
           null,
           null,
           10,
           null,
           null,
           null,
           null,
           null,
           null,
           null,
           null,
           null,
           null,
           null,
           1,
           null,
           15,
           15.142857142857142,
           null,
           null,
           null,
           null,
           null,
           null,
           null,
           null,
           null,
           null,
           18.333333333333332,
           null,
           null,
           null,
           null,
           null,
           null,
           null,
           null,
           null,
           null,
           null,
           null,
           null,
           null,
           null,
           null,
           null,
           8,
           null,
           null,
           null,
           null,
           null,
           null,
           null,
           null,
           null,
           null,
           20,
           null,
           null,
           15,
           24,
           null,
           null,
           null,
           null,
           null,
           null,
           12,
           null,
           null,
           null,
           null,
           null,
           null,
           null,
           null,
           null,
           null,
           null,
           null,
           null,
           null,
           12,
           null,
           null,
           null,
           null,
           null,
           19.142857142857142,
           27,
           null,
           null,
           null,
           null,
           null,
           null,
           null,
           null,
           null,
           12.5,
           null,
           null,
           null,
           null,
           null,
           null,
           null,
           null,
           null,
           null,
           null,
           null,
           null,
           null,
           4,
           null,
           null,
           null,
           null,
           null,
           null,
           15.5,
           null,
           null,
           15,
           null,
           null,
           null,
           null,
           null,
           null,
           null,
           null,
           null,
           null,
           11.5,
           null,
           null,
           null,
           null,
           null,
           null,
           null,
           null,
           13,
           null,
           null,
           null,
           null,
           null,
           null,
           null,
           null,
           null,
           null,
           null,
           null,
           null,
           null,
           40,
           null,
           null,
           null,
           null,
           null,
           null,
           15.25,
           null,
           null,
           null,
           null,
           null,
           null,
           null,
           null,
           null,
           null,
           null,
           null,
           null,
           null,
           null,
           21,
           null,
           4,
           15,
           null,
           null,
           null,
           null,
           null,
           null
          ]
         },
         "name": "",
         "parents": [
          "all/1821-1840/Lancaster County",
          "all/1801-1820/Accomack County",
          "all/1841-1860/Campbell County",
          "all/1801-1820/Petersburg City",
          "all/1781-1800/Rockingham County",
          "all/1781-1800/Accomack County",
          "all/1781-1800/Goochland County",
          "all/1841-1860/Campbell County",
          "all/1841-1860/Campbell County",
          "all/1781-1800/Petersburg City",
          "all/1841-1860/Campbell County",
          "all/1841-1860/Campbell County",
          "all/1801-1820/Accomack County",
          "all/1841-1860/Campbell County",
          "all/1781-1800/Accomack County",
          "all/1801-1820/Accomack County",
          "all/1801-1820/Accomack County",
          "all/1781-1800/Accomack County",
          "all/1821-1840/Campbell County",
          "all/1801-1820/Campbell County",
          "all/1801-1820/Campbell County",
          "all/1841-1860/Goochland County",
          "all/1801-1820/Accomack County",
          "all/1801-1820/Campbell County",
          "all/1801-1820/Accomack County",
          "all/1801-1820/Lancaster County",
          "all/1801-1820/Campbell County",
          "all/1781-1800/Campbell County",
          "all/1781-1800/Campbell County",
          "all/1801-1820/Campbell County",
          "all/1801-1820/Campbell County",
          "all/1841-1860/Campbell County",
          "all/1841-1860/Campbell County",
          "all/1821-1840/Campbell County",
          "all/1841-1860/Campbell County",
          "all/1781-1800/Campbell County",
          "all/1781-1800/Goochland County",
          "all/1801-1820/Accomack County",
          "all/1781-1800/Accomack County",
          "all/1801-1820/Campbell County",
          "all/1801-1820/Accomack County",
          "all/1801-1820/Accomack County",
          "all/1801-1820/Campbell County",
          "all/1821-1840/Campbell County",
          "all/1801-1820/Accomack County",
          "all/1781-1800/Accomack County",
          "all/1801-1820/Goochland County",
          "all/1821-1840/Campbell County",
          "all/1821-1840/Campbell County",
          "all/1801-1820/Accomack County",
          "all/1801-1820/Lancaster County",
          "all/1821-1840/Campbell County",
          "all/1760-1780/Goochland County",
          "all/1801-1820/Accomack County",
          "all/1821-1840/Campbell County",
          "all/1801-1820/Goochland County",
          "all/1821-1840/Norfolk County",
          "all/1841-1860/Campbell County",
          "all/1781-1800/Norfolk County",
          "all/1841-1860/Campbell County",
          "all/1801-1820/Petersburg City",
          "all/1801-1820/Accomack County",
          "all/1801-1820/Accomack County",
          "all/1821-1840/Campbell County",
          "all/1841-1860/Campbell County",
          "all/1781-1800/Accomack County",
          "all/1781-1800/Lancaster County",
          "all/1821-1840/Campbell County",
          "all/1821-1840/Campbell County",
          "all/1781-1800/Accomack County",
          "all/1801-1820/Campbell County",
          "all/1821-1840/Campbell County",
          "all/1781-1800/Accomack County",
          "all/1781-1800/Accomack County",
          "all/1841-1860/Goochland County",
          "all/1841-1860/Campbell County",
          "all/1801-1820/Accomack County",
          "all/1801-1820/Accomack County",
          "all/1821-1840/Frederick County",
          "all/1821-1840/Campbell County",
          "all/1841-1860/Campbell County",
          "all/1801-1820/Lancaster County",
          "all/1781-1800/Goochland County",
          "all/1801-1820/Campbell County",
          "all/1801-1820/Accomack County",
          "all/1781-1800/Accomack County",
          "all/1801-1820/Accomack County",
          "all/1781-1800/Accomack County",
          "all/1841-1860/Campbell County",
          "all/1801-1820/Accomack County",
          "all/1841-1860/Campbell County",
          "all/1821-1840/Campbell County",
          "all/1801-1820/Goochland County",
          "all/1801-1820/Campbell County",
          "all/1821-1840/Campbell County",
          "all/1841-1860/Goochland County",
          "all/1841-1860/Campbell County",
          "all/1841-1860/Campbell County",
          "all/1841-1860/Campbell County",
          "all/1781-1800/Rockingham County",
          "all/1781-1800/Accomack County",
          "all/1781-1800/Accomack County",
          "all/1841-1860/Campbell County",
          "all/1821-1840/Campbell County",
          "all/1841-1860/Norfolk County",
          "all/1781-1800/Campbell County",
          "all/1841-1860/Campbell County",
          "all/1801-1820/Accomack County",
          "all/1781-1800/Goochland County",
          "all/1781-1800/Accomack County",
          "all/1801-1820/Accomack County",
          "all/1801-1820/Goochland County",
          "all/1821-1840/Campbell County",
          "all/1821-1840/Lancaster County",
          "all/1781-1800/Accomack County",
          "all/1821-1840/Campbell County",
          "all/1801-1820/Accomack County",
          "all/1801-1820/Goochland County",
          "all/1841-1860/Campbell County",
          "all/1801-1820/Goochland County",
          "all/1841-1860/Campbell County",
          "all/1781-1800/Accomack County",
          "all/1781-1800/Accomack County",
          "all/1821-1840/Campbell County",
          "all/1841-1860/Campbell County",
          "all/1821-1840/Norfolk County",
          "all/1760-1780/Middlesex County",
          "all/1821-1840/Campbell County",
          "all/1801-1820/Accomack County",
          "all/1841-1860/Campbell County",
          "all/1801-1820/Accomack County",
          "all/1801-1820/Campbell County",
          "all/1841-1860/Campbell County",
          "all/1781-1800/Goochland County",
          "all/1841-1860/Campbell County",
          "all/1821-1840/Campbell County",
          "all/1821-1840/Campbell County",
          "all/1821-1840/Campbell County",
          "all/1821-1840/Lancaster County",
          "all/1841-1860/Campbell County",
          "all/1801-1820/Lancaster County",
          "all/1841-1860/Campbell County",
          "all/1821-1840/Campbell County",
          "all/1801-1820/Accomack County",
          "all/1821-1840/Campbell County",
          "all/1821-1840/Campbell County",
          "all/1801-1820/Accomack County",
          "all/1801-1820/Goochland County",
          "all/1841-1860/Campbell County",
          "all/1801-1820/Campbell County",
          "all/1781-1800/Caroline County",
          "all/1801-1820/Accomack County",
          "all/1781-1800/Accomack County",
          "all/1841-1860/Campbell County",
          "all/1801-1820/Campbell County",
          "all/1821-1840/Campbell County",
          "all/1821-1840/Campbell County",
          "all/1760-1780/Goochland County",
          "all/1801-1820/Campbell County",
          "all/1801-1820/Campbell County",
          "all/1801-1820/Campbell County",
          "all/1760-1780/Accomack County",
          "all/1841-1860/Goochland County",
          "all/1781-1800/Rockingham County",
          "all/1781-1800/Campbell County",
          "all/1841-1860/Campbell County",
          "all/1821-1840/Campbell County",
          "all/1821-1840/Campbell County",
          "all/1781-1800/Accomack County",
          "all/1801-1820/Goochland County",
          "all/1821-1840/Campbell County",
          "all/1841-1860/Campbell County",
          "all/1760-1780/Norfolk County",
          "all/1841-1860/Goochland County",
          "all/1841-1860/Campbell County",
          "all/1821-1840/Campbell County",
          "all/1841-1860/Campbell County",
          "all/1781-1800/Accomack County",
          "all/1801-1820/Accomack County",
          "all/1801-1820/Accomack County",
          "all/1801-1820/Campbell County",
          "all/1781-1800/Campbell County",
          "all/1841-1860/Rockingham County",
          "all/1801-1820/Lancaster County",
          "all/1801-1820/Accomack County",
          "all/1781-1800/Campbell County",
          "all/1821-1840/Campbell County",
          "all/1801-1820/Lancaster County",
          "all/1801-1820/Accomack County",
          "all/1821-1840/Campbell County",
          "all/1821-1840/Southampton County",
          "all/1821-1840/Campbell County",
          "all/1841-1860/Campbell County",
          "all/1841-1860/Campbell County",
          "all/1801-1820/Accomack County",
          "all/1801-1820/Accomack County",
          "all/1801-1820/Accomack County",
          "all/1821-1840/Lancaster County",
          "all/1801-1820/Campbell County",
          "all/1821-1840/Campbell County",
          "all/1781-1800/Campbell County",
          "all/1841-1860/Campbell County",
          "all/1841-1860/Campbell County",
          "all/1841-1860/Goochland County",
          "all/1781-1800/Campbell County",
          "all/1821-1840/Norfolk County",
          "all/1801-1820/Accomack County",
          "all/1821-1840/Campbell County",
          "all/1781-1800/Accomack County",
          "all/1821-1840/Campbell County",
          "all/1781-1800/Accomack County",
          "all/1801-1820/Accomack County",
          "all/1801-1820/Campbell County",
          "all/1821-1840/Campbell County",
          "all/1801-1820/Goochland County",
          "all/1841-1860/Campbell County",
          "all/1801-1820/Accomack County",
          "all/1841-1860/Goochland County",
          "all/1841-1860/Campbell County",
          "all/1801-1820/Accomack County",
          "all/1841-1860/Campbell County",
          "all/1801-1820/Accomack County",
          "all/1781-1800/Goochland County",
          "all/1841-1860/Campbell County",
          "all/1781-1800/Prince Edward County",
          "all/1781-1800/Rockingham County",
          "all/1841-1860/Goochland County",
          "all/1801-1820/Accomack County",
          "all/1801-1820/Campbell County",
          "all/1841-1860/Campbell County",
          "all/1801-1820/Accomack County",
          "all/1801-1820/Arlington County",
          "all/1801-1820/Campbell County",
          "all/1801-1820/Goochland County",
          "all/1821-1840/Campbell County",
          "all/1801-1820/Accomack County",
          "all/1801-1820/Accomack County",
          "all/1801-1820/Accomack County",
          "all/1801-1820/Lancaster County",
          "all/1821-1840/Campbell County",
          "all/1821-1840/Campbell County",
          "all/1801-1820/Lancaster County",
          "all/1841-1860/Lancaster County",
          "all/1801-1820/Accomack County",
          "all/1801-1820/Accomack County",
          "all/1760-1780/Norfolk County",
          "all/1821-1840/Campbell County",
          "all/1781-1800/Campbell County",
          "all/1821-1840/Campbell County",
          "all/1841-1860/Campbell County",
          "all/1841-1860/Campbell County",
          "all/1760-1780/Goochland County",
          "all/1841-1860/Campbell County",
          "all/1841-1860/Campbell County",
          "all/1801-1820/Campbell County",
          "all/1841-1860/Campbell County",
          "all/1841-1860/Campbell County",
          "all/1821-1840/Campbell County",
          "all/1781-1800/Accomack County",
          "all/1801-1820/Accomack County",
          "all/1821-1840/Campbell County",
          "all/1841-1860/Campbell County",
          "all/1781-1800/Accomack County",
          "all/1821-1840/Petersburg City",
          "all/1801-1820/Lancaster County",
          "all/1801-1820/Accomack County",
          "all/1821-1840/Staunton City",
          "all/1841-1860/Campbell County",
          "all/1781-1800/Accomack County",
          "all/1821-1840/Petersburg City",
          "all/1821-1840/Campbell County",
          "all/1801-1820/Accomack County",
          "all/1781-1800/Accomack County",
          "all/1801-1820/Accomack County",
          "all/1821-1840/Campbell County",
          "all/1821-1840/Campbell County",
          "all/1801-1820/Lancaster County",
          "all/1841-1860/Campbell County",
          "all/1841-1860/Goochland County",
          "all/1841-1860/Campbell County",
          "all/1801-1820/Goochland County",
          "all/1821-1840/Henry County",
          "all/1821-1840/Henry County",
          "all/1801-1820/Campbell County",
          "all/1801-1820/Accomack County",
          "all/1801-1820/Accomack County",
          "all/1781-1800/Middlesex County",
          "all/1801-1820/Campbell County",
          "all/1781-1800/Accomack County",
          "all/1781-1800/Accomack County",
          "all/1841-1860/Campbell County",
          "all/1801-1820/Accomack County",
          "all/1801-1820/Lancaster County",
          "all/1801-1820/Accomack County",
          "all/1801-1820/Accomack County",
          "all/1781-1800/Goochland County",
          "all/1821-1840/Campbell County",
          "all/1781-1800/Rockingham County",
          "all/1801-1820/Lancaster County",
          "all/1781-1800/Accomack County",
          "all/1760-1780/Middlesex County",
          "all/1841-1860/Goochland County",
          "all/1841-1860/Goochland County",
          "all/1801-1820/Accomack County",
          "all/1841-1860/Campbell County",
          "all/1821-1840/Goochland County",
          "all/1801-1820/Accomack County",
          "all/1801-1820/Accomack County",
          "all/1821-1840/Campbell County",
          "all/1841-1860/Campbell County",
          "all/1841-1860/Goochland County",
          "all/1821-1840/Lancaster County",
          "all/1781-1800/Norfolk County",
          "all/1801-1820/Norfolk County",
          "all/1801-1820/Accomack County",
          "all/1841-1860/Campbell County",
          "all/1801-1820/Lancaster County",
          "all/1821-1840/Campbell County",
          "all/1841-1860/Campbell County",
          "all/1841-1860/Campbell County",
          "all/1841-1860/Campbell County",
          "all/1841-1860/Southampton County",
          "all/1841-1860/Goochland County",
          "all/1841-1860/Campbell County",
          "all/1841-1860/Campbell County",
          "all/1841-1860/Campbell County",
          "all/1801-1820/Accomack County",
          "all/1801-1820/Accomack County",
          "all/1841-1860/Campbell County",
          "all/1821-1840/Campbell County",
          "all/1841-1860/Campbell County",
          "all/1801-1820/Campbell County",
          "all/1821-1840/Campbell County",
          "all/1841-1860/Campbell County",
          "all/1781-1800/Campbell County",
          "all/1821-1840/Campbell County",
          "all/1801-1820/Lancaster County",
          "all/1801-1820/Accomack County",
          "all/1801-1820/Goochland County",
          "all/1801-1820/Accomack County",
          "all/1801-1820/Lancaster County",
          "all/1841-1860/Campbell County",
          "all/1801-1820/Arlington County",
          "all/1801-1820/Accomack County",
          "all/1801-1820/Accomack County",
          "all/1781-1800/Accomack County",
          "all/1801-1820/Accomack County",
          "all/1760-1780/Goochland County",
          "all/1781-1800/Accomack County",
          "all/1801-1820/Campbell County",
          "all/1801-1820/Campbell County",
          "all/1781-1800/Accomack County",
          "all/1781-1800/Accomack County",
          "all/1781-1800/Accomack County",
          "all/1801-1820/Lancaster County",
          "all/1821-1840/Campbell County",
          "all/1801-1820/Goochland County",
          "all/1760-1780",
          "all/1781-1800",
          "all/1801-1820",
          "all/1801-1820",
          "all/1781-1800",
          "all/1801-1820",
          "all/1821-1840",
          "all/1841-1860",
          "all/1781-1800",
          "all/1821-1840",
          "all/1760-1780",
          "all/1781-1800",
          "all/1801-1820",
          "all/1821-1840",
          "all/1841-1860",
          "all/1821-1840",
          "all/1781-1800",
          "all/1801-1820",
          "all/1821-1840",
          "all/1841-1860",
          "all/1760-1780",
          "all/1781-1800",
          "all/1760-1780",
          "all/1781-1800",
          "all/1801-1820",
          "all/1821-1840",
          "all/1841-1860",
          "all/1781-1800",
          "all/1801-1820",
          "all/1821-1840",
          "all/1781-1800",
          "all/1781-1800",
          "all/1841-1860",
          "all/1821-1840",
          "all/1841-1860",
          "all/1821-1840",
          "all",
          "all",
          "all",
          "all",
          "all",
          ""
         ],
         "root": {
          "color": "lightgrey"
         },
         "tiling": {
          "orientation": "h"
         },
         "type": "icicle",
         "values": [
          1,
          1,
          1,
          1,
          3,
          1,
          1,
          1,
          6,
          1,
          8,
          1,
          1,
          2,
          8,
          2,
          2,
          1,
          9,
          3,
          24,
          1,
          1,
          2,
          4,
          2,
          2,
          1,
          3,
          6,
          1,
          2,
          1,
          4,
          1,
          1,
          1,
          2,
          1,
          13,
          1,
          4,
          1,
          2,
          2,
          1,
          1,
          19,
          1,
          1,
          1,
          1,
          8,
          2,
          1,
          1,
          1,
          12,
          1,
          4,
          1,
          5,
          1,
          5,
          1,
          1,
          4,
          2,
          4,
          1,
          1,
          30,
          5,
          1,
          3,
          2,
          5,
          1,
          2,
          1,
          4,
          2,
          1,
          7,
          2,
          4,
          1,
          2,
          1,
          1,
          12,
          12,
          1,
          1,
          2,
          1,
          1,
          2,
          11,
          4,
          2,
          1,
          7,
          4,
          1,
          2,
          4,
          1,
          1,
          1,
          2,
          1,
          1,
          1,
          5,
          1,
          1,
          2,
          3,
          1,
          1,
          2,
          1,
          14,
          8,
          1,
          3,
          2,
          1,
          7,
          2,
          1,
          4,
          8,
          6,
          5,
          1,
          4,
          1,
          1,
          3,
          1,
          20,
          3,
          13,
          2,
          1,
          1,
          1,
          3,
          1,
          1,
          1,
          3,
          4,
          3,
          4,
          1,
          3,
          1,
          1,
          3,
          1,
          3,
          1,
          7,
          2,
          8,
          1,
          5,
          1,
          3,
          1,
          1,
          1,
          3,
          1,
          18,
          1,
          1,
          1,
          2,
          1,
          1,
          1,
          1,
          4,
          3,
          1,
          1,
          4,
          5,
          1,
          2,
          1,
          1,
          4,
          1,
          1,
          1,
          5,
          6,
          1,
          2,
          2,
          1,
          1,
          1,
          1,
          11,
          1,
          1,
          2,
          6,
          3,
          7,
          3,
          1,
          3,
          1,
          1,
          14,
          1,
          7,
          5,
          3,
          3,
          1,
          1,
          2,
          2,
          1,
          4,
          2,
          6,
          5,
          1,
          1,
          1,
          1,
          6,
          1,
          1,
          3,
          1,
          1,
          8,
          2,
          4,
          7,
          4,
          2,
          1,
          1,
          4,
          4,
          4,
          8,
          1,
          3,
          7,
          4,
          2,
          1,
          2,
          1,
          1,
          1,
          3,
          1,
          10,
          1,
          1,
          1,
          2,
          4,
          2,
          6,
          3,
          1,
          1,
          1,
          1,
          10,
          5,
          1,
          1,
          1,
          5,
          1,
          2,
          3,
          3,
          3,
          1,
          7,
          1,
          1,
          1,
          1,
          1,
          15,
          1,
          1,
          9,
          1,
          2,
          1,
          5,
          3,
          51,
          2,
          3,
          1,
          4,
          2,
          10,
          2,
          4,
          8,
          3,
          1,
          24,
          4,
          1,
          4,
          1,
          1,
          2,
          1,
          1,
          2,
          1,
          4,
          7,
          3,
          3,
          3,
          2,
          3,
          1,
          1,
          4,
          1,
          1,
          1,
          5,
          4,
          3,
          6,
          1,
          1,
          1,
          15,
          3,
          2,
          1,
          3,
          95,
          137,
          5,
          27,
          107,
          281,
          242,
          1,
          2,
          15,
          20,
          22,
          1,
          107,
          2,
          4,
          39,
          6,
          1,
          4,
          1,
          2,
          4,
          1,
          3,
          1,
          1,
          2,
          2,
          5,
          14,
          1,
          4,
          1,
          1,
          24,
          172,
          313,
          302,
          353,
          1164
         ]
        }
       ],
       "layout": {
        "coloraxis": {
         "colorbar": {
          "title": {
           "text": "Age"
          }
         },
         "colorscale": [
          [
           0,
           "#0d0887"
          ],
          [
           0.1111111111111111,
           "#46039f"
          ],
          [
           0.2222222222222222,
           "#7201a8"
          ],
          [
           0.3333333333333333,
           "#9c179e"
          ],
          [
           0.4444444444444444,
           "#bd3786"
          ],
          [
           0.5555555555555556,
           "#d8576b"
          ],
          [
           0.6666666666666666,
           "#ed7953"
          ],
          [
           0.7777777777777778,
           "#fb9f3a"
          ],
          [
           0.8888888888888888,
           "#fdca26"
          ],
          [
           1,
           "#f0f921"
          ]
         ]
        },
        "legend": {
         "tracegroupgap": 0
        },
        "margin": {
         "t": 60
        },
        "template": {
         "data": {
          "bar": [
           {
            "error_x": {
             "color": "#2a3f5f"
            },
            "error_y": {
             "color": "#2a3f5f"
            },
            "marker": {
             "line": {
              "color": "#E5ECF6",
              "width": 0.5
             },
             "pattern": {
              "fillmode": "overlay",
              "size": 10,
              "solidity": 0.2
             }
            },
            "type": "bar"
           }
          ],
          "barpolar": [
           {
            "marker": {
             "line": {
              "color": "#E5ECF6",
              "width": 0.5
             },
             "pattern": {
              "fillmode": "overlay",
              "size": 10,
              "solidity": 0.2
             }
            },
            "type": "barpolar"
           }
          ],
          "carpet": [
           {
            "aaxis": {
             "endlinecolor": "#2a3f5f",
             "gridcolor": "white",
             "linecolor": "white",
             "minorgridcolor": "white",
             "startlinecolor": "#2a3f5f"
            },
            "baxis": {
             "endlinecolor": "#2a3f5f",
             "gridcolor": "white",
             "linecolor": "white",
             "minorgridcolor": "white",
             "startlinecolor": "#2a3f5f"
            },
            "type": "carpet"
           }
          ],
          "choropleth": [
           {
            "colorbar": {
             "outlinewidth": 0,
             "ticks": ""
            },
            "type": "choropleth"
           }
          ],
          "contour": [
           {
            "colorbar": {
             "outlinewidth": 0,
             "ticks": ""
            },
            "colorscale": [
             [
              0,
              "#0d0887"
             ],
             [
              0.1111111111111111,
              "#46039f"
             ],
             [
              0.2222222222222222,
              "#7201a8"
             ],
             [
              0.3333333333333333,
              "#9c179e"
             ],
             [
              0.4444444444444444,
              "#bd3786"
             ],
             [
              0.5555555555555556,
              "#d8576b"
             ],
             [
              0.6666666666666666,
              "#ed7953"
             ],
             [
              0.7777777777777778,
              "#fb9f3a"
             ],
             [
              0.8888888888888888,
              "#fdca26"
             ],
             [
              1,
              "#f0f921"
             ]
            ],
            "type": "contour"
           }
          ],
          "contourcarpet": [
           {
            "colorbar": {
             "outlinewidth": 0,
             "ticks": ""
            },
            "type": "contourcarpet"
           }
          ],
          "heatmap": [
           {
            "colorbar": {
             "outlinewidth": 0,
             "ticks": ""
            },
            "colorscale": [
             [
              0,
              "#0d0887"
             ],
             [
              0.1111111111111111,
              "#46039f"
             ],
             [
              0.2222222222222222,
              "#7201a8"
             ],
             [
              0.3333333333333333,
              "#9c179e"
             ],
             [
              0.4444444444444444,
              "#bd3786"
             ],
             [
              0.5555555555555556,
              "#d8576b"
             ],
             [
              0.6666666666666666,
              "#ed7953"
             ],
             [
              0.7777777777777778,
              "#fb9f3a"
             ],
             [
              0.8888888888888888,
              "#fdca26"
             ],
             [
              1,
              "#f0f921"
             ]
            ],
            "type": "heatmap"
           }
          ],
          "heatmapgl": [
           {
            "colorbar": {
             "outlinewidth": 0,
             "ticks": ""
            },
            "colorscale": [
             [
              0,
              "#0d0887"
             ],
             [
              0.1111111111111111,
              "#46039f"
             ],
             [
              0.2222222222222222,
              "#7201a8"
             ],
             [
              0.3333333333333333,
              "#9c179e"
             ],
             [
              0.4444444444444444,
              "#bd3786"
             ],
             [
              0.5555555555555556,
              "#d8576b"
             ],
             [
              0.6666666666666666,
              "#ed7953"
             ],
             [
              0.7777777777777778,
              "#fb9f3a"
             ],
             [
              0.8888888888888888,
              "#fdca26"
             ],
             [
              1,
              "#f0f921"
             ]
            ],
            "type": "heatmapgl"
           }
          ],
          "histogram": [
           {
            "marker": {
             "pattern": {
              "fillmode": "overlay",
              "size": 10,
              "solidity": 0.2
             }
            },
            "type": "histogram"
           }
          ],
          "histogram2d": [
           {
            "colorbar": {
             "outlinewidth": 0,
             "ticks": ""
            },
            "colorscale": [
             [
              0,
              "#0d0887"
             ],
             [
              0.1111111111111111,
              "#46039f"
             ],
             [
              0.2222222222222222,
              "#7201a8"
             ],
             [
              0.3333333333333333,
              "#9c179e"
             ],
             [
              0.4444444444444444,
              "#bd3786"
             ],
             [
              0.5555555555555556,
              "#d8576b"
             ],
             [
              0.6666666666666666,
              "#ed7953"
             ],
             [
              0.7777777777777778,
              "#fb9f3a"
             ],
             [
              0.8888888888888888,
              "#fdca26"
             ],
             [
              1,
              "#f0f921"
             ]
            ],
            "type": "histogram2d"
           }
          ],
          "histogram2dcontour": [
           {
            "colorbar": {
             "outlinewidth": 0,
             "ticks": ""
            },
            "colorscale": [
             [
              0,
              "#0d0887"
             ],
             [
              0.1111111111111111,
              "#46039f"
             ],
             [
              0.2222222222222222,
              "#7201a8"
             ],
             [
              0.3333333333333333,
              "#9c179e"
             ],
             [
              0.4444444444444444,
              "#bd3786"
             ],
             [
              0.5555555555555556,
              "#d8576b"
             ],
             [
              0.6666666666666666,
              "#ed7953"
             ],
             [
              0.7777777777777778,
              "#fb9f3a"
             ],
             [
              0.8888888888888888,
              "#fdca26"
             ],
             [
              1,
              "#f0f921"
             ]
            ],
            "type": "histogram2dcontour"
           }
          ],
          "mesh3d": [
           {
            "colorbar": {
             "outlinewidth": 0,
             "ticks": ""
            },
            "type": "mesh3d"
           }
          ],
          "parcoords": [
           {
            "line": {
             "colorbar": {
              "outlinewidth": 0,
              "ticks": ""
             }
            },
            "type": "parcoords"
           }
          ],
          "pie": [
           {
            "automargin": true,
            "type": "pie"
           }
          ],
          "scatter": [
           {
            "marker": {
             "colorbar": {
              "outlinewidth": 0,
              "ticks": ""
             }
            },
            "type": "scatter"
           }
          ],
          "scatter3d": [
           {
            "line": {
             "colorbar": {
              "outlinewidth": 0,
              "ticks": ""
             }
            },
            "marker": {
             "colorbar": {
              "outlinewidth": 0,
              "ticks": ""
             }
            },
            "type": "scatter3d"
           }
          ],
          "scattercarpet": [
           {
            "marker": {
             "colorbar": {
              "outlinewidth": 0,
              "ticks": ""
             }
            },
            "type": "scattercarpet"
           }
          ],
          "scattergeo": [
           {
            "marker": {
             "colorbar": {
              "outlinewidth": 0,
              "ticks": ""
             }
            },
            "type": "scattergeo"
           }
          ],
          "scattergl": [
           {
            "marker": {
             "colorbar": {
              "outlinewidth": 0,
              "ticks": ""
             }
            },
            "type": "scattergl"
           }
          ],
          "scattermapbox": [
           {
            "marker": {
             "colorbar": {
              "outlinewidth": 0,
              "ticks": ""
             }
            },
            "type": "scattermapbox"
           }
          ],
          "scatterpolar": [
           {
            "marker": {
             "colorbar": {
              "outlinewidth": 0,
              "ticks": ""
             }
            },
            "type": "scatterpolar"
           }
          ],
          "scatterpolargl": [
           {
            "marker": {
             "colorbar": {
              "outlinewidth": 0,
              "ticks": ""
             }
            },
            "type": "scatterpolargl"
           }
          ],
          "scatterternary": [
           {
            "marker": {
             "colorbar": {
              "outlinewidth": 0,
              "ticks": ""
             }
            },
            "type": "scatterternary"
           }
          ],
          "surface": [
           {
            "colorbar": {
             "outlinewidth": 0,
             "ticks": ""
            },
            "colorscale": [
             [
              0,
              "#0d0887"
             ],
             [
              0.1111111111111111,
              "#46039f"
             ],
             [
              0.2222222222222222,
              "#7201a8"
             ],
             [
              0.3333333333333333,
              "#9c179e"
             ],
             [
              0.4444444444444444,
              "#bd3786"
             ],
             [
              0.5555555555555556,
              "#d8576b"
             ],
             [
              0.6666666666666666,
              "#ed7953"
             ],
             [
              0.7777777777777778,
              "#fb9f3a"
             ],
             [
              0.8888888888888888,
              "#fdca26"
             ],
             [
              1,
              "#f0f921"
             ]
            ],
            "type": "surface"
           }
          ],
          "table": [
           {
            "cells": {
             "fill": {
              "color": "#EBF0F8"
             },
             "line": {
              "color": "white"
             }
            },
            "header": {
             "fill": {
              "color": "#C8D4E3"
             },
             "line": {
              "color": "white"
             }
            },
            "type": "table"
           }
          ]
         },
         "layout": {
          "annotationdefaults": {
           "arrowcolor": "#2a3f5f",
           "arrowhead": 0,
           "arrowwidth": 1
          },
          "autotypenumbers": "strict",
          "coloraxis": {
           "colorbar": {
            "outlinewidth": 0,
            "ticks": ""
           }
          },
          "colorscale": {
           "diverging": [
            [
             0,
             "#8e0152"
            ],
            [
             0.1,
             "#c51b7d"
            ],
            [
             0.2,
             "#de77ae"
            ],
            [
             0.3,
             "#f1b6da"
            ],
            [
             0.4,
             "#fde0ef"
            ],
            [
             0.5,
             "#f7f7f7"
            ],
            [
             0.6,
             "#e6f5d0"
            ],
            [
             0.7,
             "#b8e186"
            ],
            [
             0.8,
             "#7fbc41"
            ],
            [
             0.9,
             "#4d9221"
            ],
            [
             1,
             "#276419"
            ]
           ],
           "sequential": [
            [
             0,
             "#0d0887"
            ],
            [
             0.1111111111111111,
             "#46039f"
            ],
            [
             0.2222222222222222,
             "#7201a8"
            ],
            [
             0.3333333333333333,
             "#9c179e"
            ],
            [
             0.4444444444444444,
             "#bd3786"
            ],
            [
             0.5555555555555556,
             "#d8576b"
            ],
            [
             0.6666666666666666,
             "#ed7953"
            ],
            [
             0.7777777777777778,
             "#fb9f3a"
            ],
            [
             0.8888888888888888,
             "#fdca26"
            ],
            [
             1,
             "#f0f921"
            ]
           ],
           "sequentialminus": [
            [
             0,
             "#0d0887"
            ],
            [
             0.1111111111111111,
             "#46039f"
            ],
            [
             0.2222222222222222,
             "#7201a8"
            ],
            [
             0.3333333333333333,
             "#9c179e"
            ],
            [
             0.4444444444444444,
             "#bd3786"
            ],
            [
             0.5555555555555556,
             "#d8576b"
            ],
            [
             0.6666666666666666,
             "#ed7953"
            ],
            [
             0.7777777777777778,
             "#fb9f3a"
            ],
            [
             0.8888888888888888,
             "#fdca26"
            ],
            [
             1,
             "#f0f921"
            ]
           ]
          },
          "colorway": [
           "#636efa",
           "#EF553B",
           "#00cc96",
           "#ab63fa",
           "#FFA15A",
           "#19d3f3",
           "#FF6692",
           "#B6E880",
           "#FF97FF",
           "#FECB52"
          ],
          "font": {
           "color": "#2a3f5f"
          },
          "geo": {
           "bgcolor": "white",
           "lakecolor": "white",
           "landcolor": "#E5ECF6",
           "showlakes": true,
           "showland": true,
           "subunitcolor": "white"
          },
          "hoverlabel": {
           "align": "left"
          },
          "hovermode": "closest",
          "mapbox": {
           "style": "light"
          },
          "paper_bgcolor": "white",
          "plot_bgcolor": "#E5ECF6",
          "polar": {
           "angularaxis": {
            "gridcolor": "white",
            "linecolor": "white",
            "ticks": ""
           },
           "bgcolor": "#E5ECF6",
           "radialaxis": {
            "gridcolor": "white",
            "linecolor": "white",
            "ticks": ""
           }
          },
          "scene": {
           "xaxis": {
            "backgroundcolor": "#E5ECF6",
            "gridcolor": "white",
            "gridwidth": 2,
            "linecolor": "white",
            "showbackground": true,
            "ticks": "",
            "zerolinecolor": "white"
           },
           "yaxis": {
            "backgroundcolor": "#E5ECF6",
            "gridcolor": "white",
            "gridwidth": 2,
            "linecolor": "white",
            "showbackground": true,
            "ticks": "",
            "zerolinecolor": "white"
           },
           "zaxis": {
            "backgroundcolor": "#E5ECF6",
            "gridcolor": "white",
            "gridwidth": 2,
            "linecolor": "white",
            "showbackground": true,
            "ticks": "",
            "zerolinecolor": "white"
           }
          },
          "shapedefaults": {
           "line": {
            "color": "#2a3f5f"
           }
          },
          "ternary": {
           "aaxis": {
            "gridcolor": "white",
            "linecolor": "white",
            "ticks": ""
           },
           "baxis": {
            "gridcolor": "white",
            "linecolor": "white",
            "ticks": ""
           },
           "bgcolor": "#E5ECF6",
           "caxis": {
            "gridcolor": "white",
            "linecolor": "white",
            "ticks": ""
           }
          },
          "title": {
           "x": 0.05
          },
          "xaxis": {
           "automargin": true,
           "gridcolor": "white",
           "linecolor": "white",
           "ticks": "",
           "title": {
            "standoff": 15
           },
           "zerolinecolor": "white",
           "zerolinewidth": 2
          },
          "yaxis": {
           "automargin": true,
           "gridcolor": "white",
           "linecolor": "white",
           "ticks": "",
           "title": {
            "standoff": 15
           },
           "zerolinecolor": "white",
           "zerolinewidth": 2
          }
         }
        }
       }
      }
     },
     "metadata": {},
     "output_type": "display_data"
    }
   ],
   "source": [
    "\n",
    "fig = px.icicle(df, \n",
    "                path=[px.Constant(\"all\"), 'Period', 'Locality', 'Enslaver_Buyer'],\n",
    "                values='Slaves', \n",
    "                color='Age')\n",
    "\n",
    "fig.update_traces(root_color=\"lightgrey\", \n",
    "                  tiling=dict(orientation='h'))\n",
    "\n",
    "fig.show()"
   ]
  },
  {
   "cell_type": "code",
   "execution_count": 31,
   "metadata": {},
   "outputs": [
    {
     "data": {
      "application/vnd.plotly.v1+json": {
       "config": {
        "plotlyServerURL": "https://plot.ly"
       },
       "data": [
        {
         "branchvalues": "total",
         "customdata": [
          [
           null
          ],
          [
           null
          ],
          [
           null
          ],
          [
           9
          ],
          [
           null
          ],
          [
           null
          ],
          [
           null
          ],
          [
           null
          ],
          [
           null
          ],
          [
           null
          ],
          [
           null
          ],
          [
           null
          ],
          [
           null
          ],
          [
           null
          ],
          [
           null
          ],
          [
           null
          ],
          [
           null
          ],
          [
           null
          ],
          [
           null
          ],
          [
           null
          ],
          [
           null
          ],
          [
           null
          ],
          [
           null
          ],
          [
           null
          ],
          [
           null
          ],
          [
           null
          ],
          [
           35
          ],
          [
           null
          ],
          [
           null
          ],
          [
           null
          ],
          [
           null
          ],
          [
           null
          ],
          [
           null
          ],
          [
           null
          ],
          [
           null
          ],
          [
           null
          ],
          [
           null
          ],
          [
           8.5
          ],
          [
           null
          ],
          [
           null
          ],
          [
           null
          ],
          [
           null
          ],
          [
           12
          ],
          [
           20
          ],
          [
           null
          ],
          [
           null
          ],
          [
           null
          ],
          [
           null
          ],
          [
           null
          ],
          [
           null
          ],
          [
           null
          ],
          [
           9
          ],
          [
           null
          ],
          [
           null
          ],
          [
           null
          ],
          [
           null
          ],
          [
           null
          ],
          [
           null
          ],
          [
           null
          ],
          [
           null
          ],
          [
           null
          ],
          [
           null
          ],
          [
           null
          ],
          [
           null
          ],
          [
           null
          ],
          [
           null
          ],
          [
           15.25
          ],
          [
           null
          ],
          [
           null
          ],
          [
           null
          ],
          [
           null
          ],
          [
           null
          ],
          [
           null
          ],
          [
           null
          ],
          [
           null
          ],
          [
           11
          ],
          [
           null
          ],
          [
           null
          ],
          [
           40
          ],
          [
           null
          ],
          [
           null
          ],
          [
           null
          ],
          [
           null
          ],
          [
           null
          ],
          [
           null
          ],
          [
           null
          ],
          [
           null
          ],
          [
           null
          ],
          [
           6
          ],
          [
           null
          ],
          [
           null
          ],
          [
           null
          ],
          [
           null
          ],
          [
           19
          ],
          [
           12.5
          ],
          [
           null
          ],
          [
           15
          ],
          [
           null
          ],
          [
           null
          ],
          [
           13.75
          ],
          [
           null
          ],
          [
           null
          ],
          [
           null
          ],
          [
           18.25
          ],
          [
           null
          ],
          [
           null
          ],
          [
           null
          ],
          [
           null
          ],
          [
           null
          ],
          [
           null
          ],
          [
           null
          ],
          [
           null
          ],
          [
           null
          ],
          [
           null
          ],
          [
           null
          ],
          [
           null
          ],
          [
           null
          ],
          [
           null
          ],
          [
           null
          ],
          [
           null
          ],
          [
           null
          ],
          [
           null
          ],
          [
           null
          ],
          [
           null
          ],
          [
           null
          ],
          [
           null
          ],
          [
           null
          ],
          [
           19
          ],
          [
           null
          ],
          [
           null
          ],
          [
           14
          ],
          [
           null
          ],
          [
           null
          ],
          [
           null
          ],
          [
           null
          ],
          [
           null
          ],
          [
           null
          ],
          [
           null
          ],
          [
           null
          ],
          [
           14
          ],
          [
           null
          ],
          [
           20
          ],
          [
           null
          ],
          [
           null
          ],
          [
           null
          ],
          [
           null
          ],
          [
           null
          ],
          [
           null
          ],
          [
           null
          ],
          [
           null
          ],
          [
           null
          ],
          [
           null
          ],
          [
           null
          ],
          [
           null
          ],
          [
           null
          ],
          [
           null
          ],
          [
           null
          ],
          [
           null
          ],
          [
           null
          ],
          [
           null
          ],
          [
           null
          ],
          [
           null
          ],
          [
           null
          ],
          [
           28.333333333333332
          ],
          [
           null
          ],
          [
           null
          ],
          [
           null
          ],
          [
           null
          ],
          [
           null
          ],
          [
           null
          ],
          [
           null
          ],
          [
           null
          ],
          [
           null
          ],
          [
           null
          ],
          [
           null
          ],
          [
           null
          ],
          [
           null
          ],
          [
           null
          ],
          [
           null
          ],
          [
           null
          ],
          [
           null
          ],
          [
           null
          ],
          [
           21
          ],
          [
           null
          ],
          [
           2
          ],
          [
           14
          ],
          [
           null
          ],
          [
           null
          ],
          [
           null
          ],
          [
           null
          ],
          [
           null
          ],
          [
           17.8
          ],
          [
           14
          ],
          [
           null
          ],
          [
           null
          ],
          [
           56
          ],
          [
           null
          ],
          [
           null
          ],
          [
           13
          ],
          [
           null
          ],
          [
           null
          ],
          [
           null
          ],
          [
           null
          ],
          [
           null
          ],
          [
           null
          ],
          [
           null
          ],
          [
           null
          ],
          [
           null
          ],
          [
           10
          ],
          [
           null
          ],
          [
           null
          ],
          [
           null
          ],
          [
           null
          ],
          [
           null
          ],
          [
           null
          ],
          [
           null
          ],
          [
           null
          ],
          [
           null
          ],
          [
           null
          ],
          [
           null
          ],
          [
           1
          ],
          [
           null
          ],
          [
           15
          ],
          [
           15.142857142857142
          ],
          [
           null
          ],
          [
           null
          ],
          [
           null
          ],
          [
           null
          ],
          [
           null
          ],
          [
           null
          ],
          [
           null
          ],
          [
           null
          ],
          [
           null
          ],
          [
           null
          ],
          [
           18.333333333333332
          ],
          [
           null
          ],
          [
           null
          ],
          [
           null
          ],
          [
           null
          ],
          [
           null
          ],
          [
           null
          ],
          [
           null
          ],
          [
           null
          ],
          [
           null
          ],
          [
           null
          ],
          [
           null
          ],
          [
           null
          ],
          [
           null
          ],
          [
           null
          ],
          [
           null
          ],
          [
           null
          ],
          [
           null
          ],
          [
           8
          ],
          [
           null
          ],
          [
           null
          ],
          [
           null
          ],
          [
           null
          ],
          [
           null
          ],
          [
           null
          ],
          [
           null
          ],
          [
           null
          ],
          [
           null
          ],
          [
           null
          ],
          [
           20
          ],
          [
           null
          ],
          [
           null
          ],
          [
           15
          ],
          [
           24
          ],
          [
           null
          ],
          [
           null
          ],
          [
           null
          ],
          [
           null
          ],
          [
           null
          ],
          [
           null
          ],
          [
           12
          ],
          [
           null
          ],
          [
           null
          ],
          [
           null
          ],
          [
           null
          ],
          [
           null
          ],
          [
           null
          ],
          [
           null
          ],
          [
           null
          ],
          [
           null
          ],
          [
           null
          ],
          [
           null
          ],
          [
           null
          ],
          [
           null
          ],
          [
           null
          ],
          [
           12
          ],
          [
           null
          ],
          [
           null
          ],
          [
           null
          ],
          [
           null
          ],
          [
           null
          ],
          [
           19.142857142857142
          ],
          [
           27
          ],
          [
           null
          ],
          [
           null
          ],
          [
           null
          ],
          [
           null
          ],
          [
           null
          ],
          [
           null
          ],
          [
           null
          ],
          [
           null
          ],
          [
           null
          ],
          [
           12.5
          ],
          [
           null
          ],
          [
           null
          ],
          [
           null
          ],
          [
           null
          ],
          [
           null
          ],
          [
           null
          ],
          [
           null
          ],
          [
           null
          ],
          [
           null
          ],
          [
           null
          ],
          [
           null
          ],
          [
           null
          ],
          [
           null
          ],
          [
           null
          ],
          [
           4
          ],
          [
           null
          ],
          [
           null
          ],
          [
           null
          ],
          [
           null
          ],
          [
           null
          ],
          [
           null
          ],
          [
           15.5
          ],
          [
           null
          ],
          [
           null
          ],
          [
           15
          ],
          [
           null
          ],
          [
           null
          ],
          [
           null
          ],
          [
           null
          ],
          [
           null
          ],
          [
           null
          ],
          [
           null
          ],
          [
           null
          ],
          [
           null
          ],
          [
           null
          ],
          [
           11.5
          ],
          [
           null
          ],
          [
           null
          ],
          [
           null
          ],
          [
           null
          ],
          [
           null
          ],
          [
           null
          ],
          [
           null
          ],
          [
           null
          ],
          [
           13
          ],
          [
           null
          ],
          [
           null
          ],
          [
           null
          ],
          [
           null
          ],
          [
           null
          ],
          [
           null
          ],
          [
           null
          ],
          [
           null
          ],
          [
           null
          ],
          [
           null
          ],
          [
           null
          ],
          [
           null
          ],
          [
           null
          ],
          [
           null
          ],
          [
           40
          ],
          [
           null
          ],
          [
           null
          ],
          [
           null
          ],
          [
           null
          ],
          [
           null
          ],
          [
           null
          ],
          [
           15.25
          ],
          [
           null
          ],
          [
           null
          ],
          [
           null
          ],
          [
           null
          ],
          [
           null
          ],
          [
           null
          ],
          [
           null
          ],
          [
           null
          ],
          [
           null
          ],
          [
           null
          ],
          [
           null
          ],
          [
           null
          ],
          [
           null
          ],
          [
           null
          ],
          [
           null
          ],
          [
           21
          ],
          [
           null
          ],
          [
           4
          ],
          [
           15
          ],
          [
           null
          ],
          [
           null
          ],
          [
           null
          ],
          [
           null
          ],
          [
           null
          ],
          [
           null
          ]
         ],
         "domain": {
          "x": [
           0,
           1
          ],
          "y": [
           0,
           1
          ]
         },
         "hovertemplate": "labels=%{label}<br>Slaves=%{value}<br>parent=%{parent}<br>id=%{id}<br>Age=%{color}<extra></extra>",
         "ids": [
          "all/1821-1840/Lancaster County/A L Willis",
          "all/1801-1820/Accomack County/Abel W. Kellum",
          "all/1841-1860/Campbell County/Abner Anthony Jr; Grief Miller",
          "all/1801-1820/Petersburg City/Abram Leath",
          "all/1781-1800/Rockingham County/Addam Sellars",
          "all/1781-1800/Accomack County/Admr of Levin Pruet, deceased",
          "all/1781-1800/Goochland County/Alexander Donald",
          "all/1841-1860/Campbell County/Alexander M Lewis",
          "all/1841-1860/Campbell County/Alexander T Ward; William M Withers",
          "all/1781-1800/Petersburg City/Alexander W. McRae",
          "all/1841-1860/Campbell County/Allen S Wyllie",
          "all/1841-1860/Campbell County/Amanda J Gilliam",
          "all/1801-1820/Accomack County/Andrew",
          "all/1841-1860/Campbell County/Ann E L Lewellin; Catherine Lewellin",
          "all/1781-1800/Accomack County/Ann Hatton",
          "all/1801-1820/Accomack County/Ann Maria Parker Kelly",
          "all/1801-1820/Accomack County/Ann Meriah Parker",
          "all/1781-1800/Accomack County/Ann Sandford",
          "all/1821-1840/Campbell County/Ann Scott",
          "all/1801-1820/Campbell County/Anthony North",
          "all/1801-1820/Campbell County/Archibald Bryan Jr; William G Poindexter; William Miller",
          "all/1841-1860/Goochland County/Archibald S Richards",
          "all/1801-1820/Accomack County/Armistead Mears",
          "all/1801-1820/Campbell County/Armstead Pamplin",
          "all/1801-1820/Accomack County/Arthur Savage",
          "all/1801-1820/Lancaster County/Baldwin M Leland",
          "all/1801-1820/Campbell County/Bartley Baugh",
          "all/1781-1800/Campbell County/Battan Dobbins",
          "all/1781-1800/Campbell County/Benjamin Cox",
          "all/1801-1820/Campbell County/Benjamin Moore",
          "all/1801-1820/Campbell County/Betsy Hensbarger Gamble; Alexander Gamble",
          "all/1841-1860/Campbell County/Branch J Worsham",
          "all/1841-1860/Campbell County/Bridget Carson; John A Shearer; Letitia E M Sherer; James M Carson; Thomas F Carson; Moses Carson",
          "all/1821-1840/Campbell County/Bryant Nowlin; Robert P Phelps",
          "all/1841-1860/Campbell County/C Alonzo Hunt",
          "all/1781-1800/Campbell County/Caleb Tate",
          "all/1781-1800/Goochland County/Capt Thomas Miller",
          "all/1801-1820/Accomack County/Cassia Waples",
          "all/1781-1800/Accomack County/Catharine Martin; Elizabeth Martin",
          "all/1801-1820/Campbell County/Charles Cross",
          "all/1801-1820/Accomack County/Charles West",
          "all/1801-1820/Accomack County/Charlotte Henderson",
          "all/1801-1820/Campbell County/Chiswell Dabney",
          "all/1821-1840/Campbell County/Christopher Todd",
          "all/1801-1820/Accomack County/Crippen Taylor",
          "all/1781-1800/Accomack County/Custis Kellum",
          "all/1801-1820/Goochland County/D Johnson",
          "all/1821-1840/Campbell County/Daniel M Black",
          "all/1821-1840/Campbell County/Daniel Stone",
          "all/1801-1820/Accomack County/Daniel Twiford",
          "all/1801-1820/Lancaster County/David Edwards",
          "all/1821-1840/Campbell County/David Jones",
          "all/1760-1780/Goochland County/David Ross",
          "all/1801-1820/Accomack County/Derry Broadwater",
          "all/1821-1840/Campbell County/Dudley Terrell",
          "all/1801-1820/Goochland County/E Dejarnatt",
          "all/1821-1840/Norfolk County/E. T. Gayle",
          "all/1841-1860/Campbell County/Ed D Christian; A Christian, Trustees",
          "all/1781-1800/Norfolk County/Edmund Daniell",
          "all/1841-1860/Campbell County/Edward Bolling",
          "all/1801-1820/Petersburg City/Edward Simmons",
          "all/1801-1820/Accomack County/Edwin L Harris",
          "all/1801-1820/Accomack County/Edwin L. Harris",
          "all/1821-1840/Campbell County/Edwin Matthews; Melville Talbot",
          "all/1841-1860/Campbell County/Edwin R Page, Trustee",
          "all/1781-1800/Accomack County/Eli Hornsby",
          "all/1781-1800/Lancaster County/Elias Edmonds Jr",
          "all/1821-1840/Campbell County/Elizabeth Craddock",
          "all/1821-1840/Campbell County/Elizabeth Gilliam",
          "all/1781-1800/Accomack County/Elizabeth Henry",
          "all/1801-1820/Campbell County/Elizabeth McIver",
          "all/1821-1840/Campbell County/Elizabeth Tabetha Leftwich",
          "all/1781-1800/Accomack County/Elizabeth Teackle Sr",
          "all/1781-1800/Accomack County/Elizabeth Teackle Sr.",
          "all/1841-1860/Goochland County/Ellison Houchins",
          "all/1841-1860/Campbell County/Elvira B Irvine; Patrick Irvine; Jesse Irvine",
          "all/1801-1820/Accomack County/Ethel Lyon Exr of Sarah Lyon deceased",
          "all/1801-1820/Accomack County/Ethel Lyon Exr of Sarah Lyon, deceased",
          "all/1821-1840/Frederick County/Evelina Graham; James Graham; Richard John Graham; William Duncan Graham",
          "all/1821-1840/Campbell County/Exrs of George Cabell Dec'd; by Sarah Cabell; and Thomas F Buldin Executors",
          "all/1841-1860/Campbell County/Ezekiel Horner",
          "all/1801-1820/Lancaster County/Fanney Lawson",
          "all/1781-1800/Goochland County/Francis Harris",
          "all/1801-1820/Campbell County/Gabriel Jones; Robert Goode; Patsy Goode",
          "all/1801-1820/Accomack County/George Coleburn",
          "all/1781-1800/Accomack County/George Dunton",
          "all/1801-1820/Accomack County/George Scarburgh",
          "all/1781-1800/Accomack County/George Simpson",
          "all/1841-1860/Campbell County/Gilbert Hayth; Emaline Pettersen",
          "all/1801-1820/Accomack County/Gilbert Milby",
          "all/1841-1860/Campbell County/Giles B Portwood",
          "all/1821-1840/Campbell County/Granville Jordan; Josiah Shepperson; Howel Lewis",
          "all/1801-1820/Goochland County/H Lewis",
          "all/1801-1820/Campbell County/Hart Brown & Co; Charles G Watkins Sr",
          "all/1821-1840/Campbell County/Hartwell Epps; Joseph Gaddy",
          "all/1841-1860/Goochland County/Hector Davis",
          "all/1841-1860/Campbell County/Hector Harris",
          "all/1841-1860/Campbell County/Hector Harris, Trustee of Elizabeth Jenks",
          "all/1841-1860/Campbell County/Henry C Wade",
          "all/1781-1800/Rockingham County/Henry Ewin",
          "all/1781-1800/Accomack County/Henry Fletcher Sr",
          "all/1781-1800/Accomack County/Henry Fletcher Sr.",
          "all/1841-1860/Campbell County/Henry J Brown; James L Brown; John D Murrell",
          "all/1821-1840/Campbell County/Henry Keeling",
          "all/1841-1860/Norfolk County/Henry T. & Ann L. Parsons Williamson",
          "all/1781-1800/Campbell County/Henry Tate",
          "all/1841-1860/Campbell County/Henry Ward's Legatees",
          "all/1801-1820/Accomack County/Henry White; Thomas Abbot",
          "all/1781-1800/Goochland County/Henry Wood",
          "all/1781-1800/Accomack County/Hessesy Tunnell",
          "all/1801-1820/Accomack County/Higgins & McCollom",
          "all/1801-1820/Goochland County/Hugart",
          "all/1821-1840/Campbell County/Huston Davenport",
          "all/1821-1840/Lancaster County/Isaac Brent",
          "all/1781-1800/Accomack County/Isaac West; Nathaniel West",
          "all/1821-1840/Campbell County/Isabella S Wheeler",
          "all/1801-1820/Accomack County/Isaiah Johnson Sr.",
          "all/1801-1820/Goochland County/J A Grant",
          "all/1841-1860/Campbell County/J C Moorman",
          "all/1801-1820/Goochland County/J Chapman",
          "all/1841-1860/Campbell County/J H Smith",
          "all/1781-1800/Accomack County/Jabez Pitt",
          "all/1781-1800/Accomack County/Jacob Bird",
          "all/1821-1840/Campbell County/James Campbell",
          "all/1841-1860/Campbell County/James Cobbs",
          "all/1821-1840/Norfolk County/James Culpepper",
          "all/1760-1780/Middlesex County/James Daniel",
          "all/1821-1840/Campbell County/James G Dearing",
          "all/1801-1820/Accomack County/James Gibbons",
          "all/1841-1860/Campbell County/James L Claytor; Charles R Slaugher; James L Brown; John D Murrell",
          "all/1801-1820/Accomack County/James Melvin; Peter Delastatius",
          "all/1801-1820/Campbell County/James Moseley",
          "all/1841-1860/Campbell County/James P Scott",
          "all/1781-1800/Goochland County/James Robards",
          "all/1841-1860/Campbell County/James S Clator; George W Turner",
          "all/1821-1840/Campbell County/James Steptoe Sr",
          "all/1821-1840/Campbell County/James V Knight",
          "all/1821-1840/Campbell County/James Wiley; Samuel Fleming",
          "all/1821-1840/Lancaster County/Jasper Scott",
          "all/1841-1860/Campbell County/Jeffrey Murrell",
          "all/1801-1820/Lancaster County/Jesse Robins",
          "all/1841-1860/Campbell County/John A Alexander; Ann B Finch",
          "all/1821-1840/Campbell County/John Alexander",
          "all/1801-1820/Accomack County/John Artis",
          "all/1821-1840/Campbell County/John B Dabney; Fortunatus Sydnor",
          "all/1821-1840/Campbell County/John B Dabney; William Daniel Jr",
          "all/1801-1820/Accomack County/John Bird Jr.",
          "all/1801-1820/Goochland County/John Bridgewater",
          "all/1841-1860/Campbell County/John D Alexander",
          "all/1801-1820/Campbell County/John Franklin",
          "all/1781-1800/Caroline County/John George Graves, Benjamin Graves, Frances Graves",
          "all/1801-1820/Accomack County/John Gibson",
          "all/1781-1800/Accomack County/John Gootee; Edmund Custis",
          "all/1841-1860/Campbell County/John H Wade",
          "all/1801-1820/Campbell County/John Hancock",
          "all/1821-1840/Campbell County/John Hobson etc",
          "all/1821-1840/Campbell County/John Hockaday",
          "all/1760-1780/Goochland County/John K.",
          "all/1801-1820/Campbell County/John L Armistead",
          "all/1801-1820/Campbell County/John M Gordon",
          "all/1801-1820/Campbell County/John McAllister",
          "all/1760-1780/Accomack County/John Milby; Daniel Sulivan",
          "all/1841-1860/Goochland County/John Morris",
          "all/1781-1800/Rockingham County/John Morrison",
          "all/1781-1800/Campbell County/John Mosley Haden",
          "all/1841-1860/Campbell County/John P Minton; Poindexter Brown",
          "all/1821-1840/Campbell County/John Reaveley",
          "all/1821-1840/Campbell County/John Rosser",
          "all/1781-1800/Accomack County/John Sandford",
          "all/1801-1820/Goochland County/John Shelton Sr",
          "all/1821-1840/Campbell County/John Smith Jr; Richard G Haden",
          "all/1841-1860/Campbell County/John T Wood",
          "all/1760-1780/Norfolk County/John Taylor, Nickols Creekmur, John Williams",
          "all/1841-1860/Goochland County/John Thompson Jr",
          "all/1841-1860/Campbell County/John V Wheeler",
          "all/1821-1840/Campbell County/John W Keeton Gdn of Edward T Fowlkes; Samuel H Fowlkes",
          "all/1841-1860/Campbell County/John W Stratton",
          "all/1781-1800/Accomack County/John Wallup",
          "all/1801-1820/Accomack County/John Ward Kellum",
          "all/1801-1820/Accomack County/John Wharton",
          "all/1801-1820/Campbell County/Jonathan Bailey",
          "all/1781-1800/Campbell County/Jones Wynne",
          "all/1841-1860/Rockingham County/Joseph Mauzy",
          "all/1801-1820/Lancaster County/Joseph Mott",
          "all/1801-1820/Accomack County/Joshua Stutson",
          "all/1781-1800/Campbell County/Joshua Wynne Jr",
          "all/1821-1840/Campbell County/Josiah Shepperson",
          "all/1801-1820/Lancaster County/Josias Ingram",
          "all/1801-1820/Accomack County/Labon Gunter",
          "all/1821-1840/Campbell County/Laurence B Stern; Nathaniel D Inge",
          "all/1821-1840/Southampton County/Leonard Cobb",
          "all/1821-1840/Campbell County/Lewis E Williams",
          "all/1841-1860/Campbell County/Littleberry Hazelwood",
          "all/1841-1860/Campbell County/M Hollins",
          "all/1801-1820/Accomack County/Major Duffy",
          "all/1801-1820/Accomack County/Margaret Ewell",
          "all/1801-1820/Accomack County/Margaret Joynes; Elias Joynes",
          "all/1821-1840/Lancaster County/Margaret S Bryant",
          "all/1801-1820/Campbell County/Maria S Gray",
          "all/1821-1840/Campbell County/Martha Ann Thomas",
          "all/1781-1800/Campbell County/Martha Hart",
          "all/1841-1860/Campbell County/Martha J Swinney",
          "all/1841-1860/Campbell County/Martin Hollins & Co",
          "all/1841-1860/Goochland County/Martin Key",
          "all/1781-1800/Campbell County/Mary Ann Moseley",
          "all/1821-1840/Norfolk County/Mary Flowers",
          "all/1801-1820/Accomack County/Mary Griffin",
          "all/1821-1840/Campbell County/Mary Lewis",
          "all/1781-1800/Accomack County/Mary Marshall",
          "all/1821-1840/Campbell County/Mary Roberts",
          "all/1781-1800/Accomack County/Matthew Beard",
          "all/1801-1820/Accomack County/Molly Hall",
          "all/1801-1820/Campbell County/Morris Roberts",
          "all/1821-1840/Campbell County/Moses Steele",
          "all/1801-1820/Goochland County/Mr Hendrick",
          "all/1841-1860/Campbell County/Nancy Edds; Featherston Akers",
          "all/1801-1820/Accomack County/Nancy Glen",
          "all/1841-1860/Goochland County/Narcissus W Miller",
          "all/1841-1860/Campbell County/Oden G Clay; Creed T Wills",
          "all/1801-1820/Accomack County/Otter Jubilee",
          "all/1841-1860/Campbell County/Palenia Steward",
          "all/1801-1820/Accomack County/Pattey Walker",
          "all/1781-1800/Goochland County/Paul Dismukes",
          "all/1841-1860/Campbell County/Paul Jones",
          "all/1781-1800/Prince Edward County/Philimon Holcombe",
          "all/1781-1800/Rockingham County/Philip Buckner",
          "all/1841-1860/Goochland County/Pleasant Turner",
          "all/1801-1820/Accomack County/Polly A. Outten; George T. Outten; Julian Outten; Fanny Outten; John P. Outten",
          "all/1801-1820/Campbell County/Polly Douglass",
          "all/1841-1860/Campbell County/R G H Kean",
          "all/1801-1820/Accomack County/Ralph Corbin",
          "all/1801-1820/Arlington County/Ralph Longden",
          "all/1801-1820/Campbell County/Randolph D Carden",
          "all/1801-1820/Goochland County/Reb Saunders",
          "all/1821-1840/Campbell County/Reuben D Palmer; Jack E Cheathem",
          "all/1801-1820/Accomack County/Richard Bayly; John Bayly",
          "all/1801-1820/Accomack County/Richard D Bayly & Co",
          "all/1801-1820/Accomack County/Richard D. Bayly & Co",
          "all/1801-1820/Lancaster County/Richard Davis",
          "all/1821-1840/Campbell County/Richard G Brown; Edmund Herndon",
          "all/1821-1840/Campbell County/Richard G Haden",
          "all/1801-1820/Lancaster County/Richard Mitchell",
          "all/1841-1860/Lancaster County/Richard Norris",
          "all/1801-1820/Accomack County/Richard R Savage",
          "all/1801-1820/Accomack County/Richard R. Savage",
          "all/1760-1780/Norfolk County/Richard Silvester",
          "all/1821-1840/Campbell County/Richard Tyree; John H Tyree; George T Johnson",
          "all/1781-1800/Campbell County/Robert Bradfute",
          "all/1821-1840/Campbell County/Robert C Penn",
          "all/1841-1860/Campbell County/Robert E Withers",
          "all/1841-1860/Campbell County/Robert Hunter",
          "all/1760-1780/Goochland County/Robert Payne; Archer Payne",
          "all/1841-1860/Campbell County/Robert R Hargrove; Mary E Hargrove",
          "all/1841-1860/Campbell County/Robert W Scott",
          "all/1801-1820/Campbell County/Robert W Withers",
          "all/1841-1860/Campbell County/Robert W Withers; Robert E Withers",
          "all/1841-1860/Campbell County/Robert Ward",
          "all/1821-1840/Campbell County/Rowland Ward",
          "all/1781-1800/Accomack County/Salathiel West",
          "all/1801-1820/Accomack County/Samuel Coward",
          "all/1821-1840/Campbell County/Samuel Garland; Maurice H Garland",
          "all/1841-1860/Campbell County/Samuel Garland; Pembroke Garland",
          "all/1781-1800/Accomack County/Samuel Johnson",
          "all/1821-1840/Petersburg City/Samuel V. Brown",
          "all/1801-1820/Lancaster County/Sarah C Lawson",
          "all/1801-1820/Accomack County/Sarah Floyd",
          "all/1821-1840/Staunton City/Sarah Fuller",
          "all/1841-1860/Campbell County/Seth Woodruff",
          "all/1781-1800/Accomack County/Severn Teackle",
          "all/1821-1840/Petersburg City/Shadrick Brandon",
          "all/1821-1840/Campbell County/Simeon Austin",
          "all/1801-1820/Accomack County/Sinah Harman",
          "all/1781-1800/Accomack County/Sleathel Baker",
          "all/1801-1820/Accomack County/Stephen Drummond",
          "all/1821-1840/Campbell County/Stephen Terry; Lucinda Terry",
          "all/1821-1840/Campbell County/Sterling C Anderson",
          "all/1801-1820/Lancaster County/Sueanne M Lawson",
          "all/1841-1860/Campbell County/Susan E N Clark",
          "all/1841-1860/Goochland County/Sylvester Cocke",
          "all/1841-1860/Campbell County/T B Johnson",
          "all/1801-1820/Goochland County/T. Massie",
          "all/1821-1840/Henry County/Tavnor C Shelton",
          "all/1821-1840/Henry County/Tavnor C. Shelton",
          "all/1801-1820/Campbell County/Thomas B Jones",
          "all/1801-1820/Accomack County/Thomas Beard Jr",
          "all/1801-1820/Accomack County/Thomas Beard Jr.",
          "all/1781-1800/Middlesex County/Thomas Dillard",
          "all/1801-1820/Campbell County/Thomas Franklin",
          "all/1781-1800/Accomack County/Thomas Grinalds",
          "all/1781-1800/Accomack County/Thomas Guy",
          "all/1841-1860/Campbell County/Thomas H Lain Admr of Jesse Edds Dec'd",
          "all/1801-1820/Accomack County/Thomas Joynes",
          "all/1801-1820/Lancaster County/Thomas Lawson",
          "all/1801-1820/Accomack County/Thomas M Bayly",
          "all/1801-1820/Accomack County/Thomas M. Bayly",
          "all/1781-1800/Goochland County/Thomas Miller",
          "all/1821-1840/Campbell County/Thomas Praithor; Joseph Wilson",
          "all/1781-1800/Rockingham County/Thomas Scott",
          "all/1801-1820/Lancaster County/Thomas Shearman",
          "all/1781-1800/Accomack County/Thomas Snead",
          "all/1760-1780/Middlesex County/Thomas Stiff",
          "all/1841-1860/Goochland County/Thomas W Herndon; Wilson M Houchins",
          "all/1841-1860/Goochland County/Thomas W. Herndon; Wilson M. Houchins",
          "all/1801-1820/Accomack County/Thorowgood Taylor",
          "all/1841-1860/Campbell County/Timothy H Stamps Attorney in Fact for James Anderson",
          "all/1821-1840/Goochland County/Trustees of Thomas Robertson; Trustees of Mary Robertson",
          "all/1801-1820/Accomack County/Tully Snead; Francis Only",
          "all/1801-1820/Accomack County/Unknown",
          "all/1821-1840/Campbell County/Unknown",
          "all/1841-1860/Campbell County/Unknown",
          "all/1841-1860/Goochland County/Unknown",
          "all/1821-1840/Lancaster County/Unknown",
          "all/1781-1800/Norfolk County/Unknown",
          "all/1801-1820/Norfolk County/Unknown",
          "all/1801-1820/Accomack County/Walston and Custis",
          "all/1841-1860/Campbell County/Walter S Withers",
          "all/1801-1820/Lancaster County/Widow of Henry Lawson deceased",
          "all/1821-1840/Campbell County/William A Clement",
          "all/1841-1860/Campbell County/William A Clement",
          "all/1841-1860/Campbell County/William A Clement; Adam Clement",
          "all/1841-1860/Campbell County/William A Shands",
          "all/1841-1860/Southampton County/William Babb",
          "all/1841-1860/Goochland County/William C Adams",
          "all/1841-1860/Campbell County/William C Burton",
          "all/1841-1860/Campbell County/William C Hollins",
          "all/1841-1860/Campbell County/William C Perrow",
          "all/1801-1820/Accomack County/William Drummond",
          "all/1801-1820/Accomack County/William Duncan",
          "all/1841-1860/Campbell County/William H Tardy; Samuel C Tardy",
          "all/1821-1840/Campbell County/William Hiter Jones",
          "all/1841-1860/Campbell County/William Hollins",
          "all/1801-1820/Campbell County/William Irvine",
          "all/1821-1840/Campbell County/William J Harvey",
          "all/1841-1860/Campbell County/William J Tynes; Ednis D Tynes; Virginia Tynes; Aley C Tynes; Mary C Tynes",
          "all/1781-1800/Campbell County/William Jones; Elizabeth Jones",
          "all/1821-1840/Campbell County/William King",
          "all/1801-1820/Lancaster County/William Lawson",
          "all/1801-1820/Accomack County/William Lecato",
          "all/1801-1820/Goochland County/William Miller",
          "all/1801-1820/Accomack County/William Moore",
          "all/1801-1820/Lancaster County/William Newby",
          "all/1841-1860/Campbell County/William P Hayth",
          "all/1801-1820/Arlington County/William Reiley",
          "all/1801-1820/Accomack County/William Robert Custis",
          "all/1801-1820/Accomack County/William Selby",
          "all/1781-1800/Accomack County/William Silverthorn; Joseph Waggoman",
          "all/1801-1820/Accomack County/William Smart",
          "all/1760-1780/Goochland County/William Stamps",
          "all/1781-1800/Accomack County/William Taylor",
          "all/1801-1820/Campbell County/William Tharp",
          "all/1801-1820/Campbell County/William Trigg; Jesse Leftwich",
          "all/1781-1800/Accomack County/William Vessells Sr.",
          "all/1781-1800/Accomack County/William Vessels Sr.",
          "all/1781-1800/Accomack County/William Williams",
          "all/1801-1820/Lancaster County/Winefred K Lawson",
          "all/1821-1840/Campbell County/Zacchus E Cheatham; Joseph Wilson",
          "all/1801-1820/Goochland County/unidentified",
          "all/1760-1780/Accomack County",
          "all/1781-1800/Accomack County",
          "all/1801-1820/Accomack County",
          "all/1801-1820/Arlington County",
          "all/1781-1800/Campbell County",
          "all/1801-1820/Campbell County",
          "all/1821-1840/Campbell County",
          "all/1841-1860/Campbell County",
          "all/1781-1800/Caroline County",
          "all/1821-1840/Frederick County",
          "all/1760-1780/Goochland County",
          "all/1781-1800/Goochland County",
          "all/1801-1820/Goochland County",
          "all/1821-1840/Goochland County",
          "all/1841-1860/Goochland County",
          "all/1821-1840/Henry County",
          "all/1781-1800/Lancaster County",
          "all/1801-1820/Lancaster County",
          "all/1821-1840/Lancaster County",
          "all/1841-1860/Lancaster County",
          "all/1760-1780/Middlesex County",
          "all/1781-1800/Middlesex County",
          "all/1760-1780/Norfolk County",
          "all/1781-1800/Norfolk County",
          "all/1801-1820/Norfolk County",
          "all/1821-1840/Norfolk County",
          "all/1841-1860/Norfolk County",
          "all/1781-1800/Petersburg City",
          "all/1801-1820/Petersburg City",
          "all/1821-1840/Petersburg City",
          "all/1781-1800/Prince Edward County",
          "all/1781-1800/Rockingham County",
          "all/1841-1860/Rockingham County",
          "all/1821-1840/Southampton County",
          "all/1841-1860/Southampton County",
          "all/1821-1840/Staunton City",
          "all/1760-1780",
          "all/1781-1800",
          "all/1801-1820",
          "all/1821-1840",
          "all/1841-1860",
          "all"
         ],
         "labels": [
          "A L Willis",
          "Abel W. Kellum",
          "Abner Anthony Jr; Grief Miller",
          "Abram Leath",
          "Addam Sellars",
          "Admr of Levin Pruet, deceased",
          "Alexander Donald",
          "Alexander M Lewis",
          "Alexander T Ward; William M Withers",
          "Alexander W. McRae",
          "Allen S Wyllie",
          "Amanda J Gilliam",
          "Andrew",
          "Ann E L Lewellin; Catherine Lewellin",
          "Ann Hatton",
          "Ann Maria Parker Kelly",
          "Ann Meriah Parker",
          "Ann Sandford",
          "Ann Scott",
          "Anthony North",
          "Archibald Bryan Jr; William G Poindexter; William Miller",
          "Archibald S Richards",
          "Armistead Mears",
          "Armstead Pamplin",
          "Arthur Savage",
          "Baldwin M Leland",
          "Bartley Baugh",
          "Battan Dobbins",
          "Benjamin Cox",
          "Benjamin Moore",
          "Betsy Hensbarger Gamble; Alexander Gamble",
          "Branch J Worsham",
          "Bridget Carson; John A Shearer; Letitia E M Sherer; James M Carson; Thomas F Carson; Moses Carson",
          "Bryant Nowlin; Robert P Phelps",
          "C Alonzo Hunt",
          "Caleb Tate",
          "Capt Thomas Miller",
          "Cassia Waples",
          "Catharine Martin; Elizabeth Martin",
          "Charles Cross",
          "Charles West",
          "Charlotte Henderson",
          "Chiswell Dabney",
          "Christopher Todd",
          "Crippen Taylor",
          "Custis Kellum",
          "D Johnson",
          "Daniel M Black",
          "Daniel Stone",
          "Daniel Twiford",
          "David Edwards",
          "David Jones",
          "David Ross",
          "Derry Broadwater",
          "Dudley Terrell",
          "E Dejarnatt",
          "E. T. Gayle",
          "Ed D Christian; A Christian, Trustees",
          "Edmund Daniell",
          "Edward Bolling",
          "Edward Simmons",
          "Edwin L Harris",
          "Edwin L. Harris",
          "Edwin Matthews; Melville Talbot",
          "Edwin R Page, Trustee",
          "Eli Hornsby",
          "Elias Edmonds Jr",
          "Elizabeth Craddock",
          "Elizabeth Gilliam",
          "Elizabeth Henry",
          "Elizabeth McIver",
          "Elizabeth Tabetha Leftwich",
          "Elizabeth Teackle Sr",
          "Elizabeth Teackle Sr.",
          "Ellison Houchins",
          "Elvira B Irvine; Patrick Irvine; Jesse Irvine",
          "Ethel Lyon Exr of Sarah Lyon deceased",
          "Ethel Lyon Exr of Sarah Lyon, deceased",
          "Evelina Graham; James Graham; Richard John Graham; William Duncan Graham",
          "Exrs of George Cabell Dec'd; by Sarah Cabell; and Thomas F Buldin Executors",
          "Ezekiel Horner",
          "Fanney Lawson",
          "Francis Harris",
          "Gabriel Jones; Robert Goode; Patsy Goode",
          "George Coleburn",
          "George Dunton",
          "George Scarburgh",
          "George Simpson",
          "Gilbert Hayth; Emaline Pettersen",
          "Gilbert Milby",
          "Giles B Portwood",
          "Granville Jordan; Josiah Shepperson; Howel Lewis",
          "H Lewis",
          "Hart Brown & Co; Charles G Watkins Sr",
          "Hartwell Epps; Joseph Gaddy",
          "Hector Davis",
          "Hector Harris",
          "Hector Harris, Trustee of Elizabeth Jenks",
          "Henry C Wade",
          "Henry Ewin",
          "Henry Fletcher Sr",
          "Henry Fletcher Sr.",
          "Henry J Brown; James L Brown; John D Murrell",
          "Henry Keeling",
          "Henry T. & Ann L. Parsons Williamson",
          "Henry Tate",
          "Henry Ward's Legatees",
          "Henry White; Thomas Abbot",
          "Henry Wood",
          "Hessesy Tunnell",
          "Higgins & McCollom",
          "Hugart",
          "Huston Davenport",
          "Isaac Brent",
          "Isaac West; Nathaniel West",
          "Isabella S Wheeler",
          "Isaiah Johnson Sr.",
          "J A Grant",
          "J C Moorman",
          "J Chapman",
          "J H Smith",
          "Jabez Pitt",
          "Jacob Bird",
          "James Campbell",
          "James Cobbs",
          "James Culpepper",
          "James Daniel",
          "James G Dearing",
          "James Gibbons",
          "James L Claytor; Charles R Slaugher; James L Brown; John D Murrell",
          "James Melvin; Peter Delastatius",
          "James Moseley",
          "James P Scott",
          "James Robards",
          "James S Clator; George W Turner",
          "James Steptoe Sr",
          "James V Knight",
          "James Wiley; Samuel Fleming",
          "Jasper Scott",
          "Jeffrey Murrell",
          "Jesse Robins",
          "John A Alexander; Ann B Finch",
          "John Alexander",
          "John Artis",
          "John B Dabney; Fortunatus Sydnor",
          "John B Dabney; William Daniel Jr",
          "John Bird Jr.",
          "John Bridgewater",
          "John D Alexander",
          "John Franklin",
          "John George Graves, Benjamin Graves, Frances Graves",
          "John Gibson",
          "John Gootee; Edmund Custis",
          "John H Wade",
          "John Hancock",
          "John Hobson etc",
          "John Hockaday",
          "John K.",
          "John L Armistead",
          "John M Gordon",
          "John McAllister",
          "John Milby; Daniel Sulivan",
          "John Morris",
          "John Morrison",
          "John Mosley Haden",
          "John P Minton; Poindexter Brown",
          "John Reaveley",
          "John Rosser",
          "John Sandford",
          "John Shelton Sr",
          "John Smith Jr; Richard G Haden",
          "John T Wood",
          "John Taylor, Nickols Creekmur, John Williams",
          "John Thompson Jr",
          "John V Wheeler",
          "John W Keeton Gdn of Edward T Fowlkes; Samuel H Fowlkes",
          "John W Stratton",
          "John Wallup",
          "John Ward Kellum",
          "John Wharton",
          "Jonathan Bailey",
          "Jones Wynne",
          "Joseph Mauzy",
          "Joseph Mott",
          "Joshua Stutson",
          "Joshua Wynne Jr",
          "Josiah Shepperson",
          "Josias Ingram",
          "Labon Gunter",
          "Laurence B Stern; Nathaniel D Inge",
          "Leonard Cobb",
          "Lewis E Williams",
          "Littleberry Hazelwood",
          "M Hollins",
          "Major Duffy",
          "Margaret Ewell",
          "Margaret Joynes; Elias Joynes",
          "Margaret S Bryant",
          "Maria S Gray",
          "Martha Ann Thomas",
          "Martha Hart",
          "Martha J Swinney",
          "Martin Hollins & Co",
          "Martin Key",
          "Mary Ann Moseley",
          "Mary Flowers",
          "Mary Griffin",
          "Mary Lewis",
          "Mary Marshall",
          "Mary Roberts",
          "Matthew Beard",
          "Molly Hall",
          "Morris Roberts",
          "Moses Steele",
          "Mr Hendrick",
          "Nancy Edds; Featherston Akers",
          "Nancy Glen",
          "Narcissus W Miller",
          "Oden G Clay; Creed T Wills",
          "Otter Jubilee",
          "Palenia Steward",
          "Pattey Walker",
          "Paul Dismukes",
          "Paul Jones",
          "Philimon Holcombe",
          "Philip Buckner",
          "Pleasant Turner",
          "Polly A. Outten; George T. Outten; Julian Outten; Fanny Outten; John P. Outten",
          "Polly Douglass",
          "R G H Kean",
          "Ralph Corbin",
          "Ralph Longden",
          "Randolph D Carden",
          "Reb Saunders",
          "Reuben D Palmer; Jack E Cheathem",
          "Richard Bayly; John Bayly",
          "Richard D Bayly & Co",
          "Richard D. Bayly & Co",
          "Richard Davis",
          "Richard G Brown; Edmund Herndon",
          "Richard G Haden",
          "Richard Mitchell",
          "Richard Norris",
          "Richard R Savage",
          "Richard R. Savage",
          "Richard Silvester",
          "Richard Tyree; John H Tyree; George T Johnson",
          "Robert Bradfute",
          "Robert C Penn",
          "Robert E Withers",
          "Robert Hunter",
          "Robert Payne; Archer Payne",
          "Robert R Hargrove; Mary E Hargrove",
          "Robert W Scott",
          "Robert W Withers",
          "Robert W Withers; Robert E Withers",
          "Robert Ward",
          "Rowland Ward",
          "Salathiel West",
          "Samuel Coward",
          "Samuel Garland; Maurice H Garland",
          "Samuel Garland; Pembroke Garland",
          "Samuel Johnson",
          "Samuel V. Brown",
          "Sarah C Lawson",
          "Sarah Floyd",
          "Sarah Fuller",
          "Seth Woodruff",
          "Severn Teackle",
          "Shadrick Brandon",
          "Simeon Austin",
          "Sinah Harman",
          "Sleathel Baker",
          "Stephen Drummond",
          "Stephen Terry; Lucinda Terry",
          "Sterling C Anderson",
          "Sueanne M Lawson",
          "Susan E N Clark",
          "Sylvester Cocke",
          "T B Johnson",
          "T. Massie",
          "Tavnor C Shelton",
          "Tavnor C. Shelton",
          "Thomas B Jones",
          "Thomas Beard Jr",
          "Thomas Beard Jr.",
          "Thomas Dillard",
          "Thomas Franklin",
          "Thomas Grinalds",
          "Thomas Guy",
          "Thomas H Lain Admr of Jesse Edds Dec'd",
          "Thomas Joynes",
          "Thomas Lawson",
          "Thomas M Bayly",
          "Thomas M. Bayly",
          "Thomas Miller",
          "Thomas Praithor; Joseph Wilson",
          "Thomas Scott",
          "Thomas Shearman",
          "Thomas Snead",
          "Thomas Stiff",
          "Thomas W Herndon; Wilson M Houchins",
          "Thomas W. Herndon; Wilson M. Houchins",
          "Thorowgood Taylor",
          "Timothy H Stamps Attorney in Fact for James Anderson",
          "Trustees of Thomas Robertson; Trustees of Mary Robertson",
          "Tully Snead; Francis Only",
          "Unknown",
          "Unknown",
          "Unknown",
          "Unknown",
          "Unknown",
          "Unknown",
          "Unknown",
          "Walston and Custis",
          "Walter S Withers",
          "Widow of Henry Lawson deceased",
          "William A Clement",
          "William A Clement",
          "William A Clement; Adam Clement",
          "William A Shands",
          "William Babb",
          "William C Adams",
          "William C Burton",
          "William C Hollins",
          "William C Perrow",
          "William Drummond",
          "William Duncan",
          "William H Tardy; Samuel C Tardy",
          "William Hiter Jones",
          "William Hollins",
          "William Irvine",
          "William J Harvey",
          "William J Tynes; Ednis D Tynes; Virginia Tynes; Aley C Tynes; Mary C Tynes",
          "William Jones; Elizabeth Jones",
          "William King",
          "William Lawson",
          "William Lecato",
          "William Miller",
          "William Moore",
          "William Newby",
          "William P Hayth",
          "William Reiley",
          "William Robert Custis",
          "William Selby",
          "William Silverthorn; Joseph Waggoman",
          "William Smart",
          "William Stamps",
          "William Taylor",
          "William Tharp",
          "William Trigg; Jesse Leftwich",
          "William Vessells Sr.",
          "William Vessels Sr.",
          "William Williams",
          "Winefred K Lawson",
          "Zacchus E Cheatham; Joseph Wilson",
          "unidentified",
          "Accomack County",
          "Accomack County",
          "Accomack County",
          "Arlington County",
          "Campbell County",
          "Campbell County",
          "Campbell County",
          "Campbell County",
          "Caroline County",
          "Frederick County",
          "Goochland County",
          "Goochland County",
          "Goochland County",
          "Goochland County",
          "Goochland County",
          "Henry County",
          "Lancaster County",
          "Lancaster County",
          "Lancaster County",
          "Lancaster County",
          "Middlesex County",
          "Middlesex County",
          "Norfolk County",
          "Norfolk County",
          "Norfolk County",
          "Norfolk County",
          "Norfolk County",
          "Petersburg City",
          "Petersburg City",
          "Petersburg City",
          "Prince Edward County",
          "Rockingham County",
          "Rockingham County",
          "Southampton County",
          "Southampton County",
          "Staunton City",
          "1760-1780",
          "1781-1800",
          "1801-1820",
          "1821-1840",
          "1841-1860",
          "all"
         ],
         "marker": {
          "coloraxis": "coloraxis",
          "colors": [
           null,
           null,
           null,
           9,
           null,
           null,
           null,
           null,
           null,
           null,
           null,
           null,
           null,
           null,
           null,
           null,
           null,
           null,
           null,
           null,
           null,
           null,
           null,
           null,
           null,
           null,
           35,
           null,
           null,
           null,
           null,
           null,
           null,
           null,
           null,
           null,
           null,
           8.5,
           null,
           null,
           null,
           null,
           12,
           20,
           null,
           null,
           null,
           null,
           null,
           null,
           null,
           9,
           null,
           null,
           null,
           null,
           null,
           null,
           null,
           null,
           null,
           null,
           null,
           null,
           null,
           null,
           15.25,
           null,
           null,
           null,
           null,
           null,
           null,
           null,
           null,
           11,
           null,
           null,
           40,
           null,
           null,
           null,
           null,
           null,
           null,
           null,
           null,
           null,
           6,
           null,
           null,
           null,
           null,
           19,
           12.5,
           null,
           15,
           null,
           null,
           13.75,
           null,
           null,
           null,
           18.25,
           null,
           null,
           null,
           null,
           null,
           null,
           null,
           null,
           null,
           null,
           null,
           null,
           null,
           null,
           null,
           null,
           null,
           null,
           null,
           null,
           null,
           null,
           null,
           19,
           null,
           null,
           14,
           null,
           null,
           null,
           null,
           null,
           null,
           null,
           null,
           14,
           null,
           20,
           null,
           null,
           null,
           null,
           null,
           null,
           null,
           null,
           null,
           null,
           null,
           null,
           null,
           null,
           null,
           null,
           null,
           null,
           null,
           null,
           null,
           28.333333333333332,
           null,
           null,
           null,
           null,
           null,
           null,
           null,
           null,
           null,
           null,
           null,
           null,
           null,
           null,
           null,
           null,
           null,
           null,
           21,
           null,
           2,
           14,
           null,
           null,
           null,
           null,
           null,
           17.8,
           14,
           null,
           null,
           56,
           null,
           null,
           13,
           null,
           null,
           null,
           null,
           null,
           null,
           null,
           null,
           null,
           10,
           null,
           null,
           null,
           null,
           null,
           null,
           null,
           null,
           null,
           null,
           null,
           1,
           null,
           15,
           15.142857142857142,
           null,
           null,
           null,
           null,
           null,
           null,
           null,
           null,
           null,
           null,
           18.333333333333332,
           null,
           null,
           null,
           null,
           null,
           null,
           null,
           null,
           null,
           null,
           null,
           null,
           null,
           null,
           null,
           null,
           null,
           8,
           null,
           null,
           null,
           null,
           null,
           null,
           null,
           null,
           null,
           null,
           20,
           null,
           null,
           15,
           24,
           null,
           null,
           null,
           null,
           null,
           null,
           12,
           null,
           null,
           null,
           null,
           null,
           null,
           null,
           null,
           null,
           null,
           null,
           null,
           null,
           null,
           12,
           null,
           null,
           null,
           null,
           null,
           19.142857142857142,
           27,
           null,
           null,
           null,
           null,
           null,
           null,
           null,
           null,
           null,
           12.5,
           null,
           null,
           null,
           null,
           null,
           null,
           null,
           null,
           null,
           null,
           null,
           null,
           null,
           null,
           4,
           null,
           null,
           null,
           null,
           null,
           null,
           15.5,
           null,
           null,
           15,
           null,
           null,
           null,
           null,
           null,
           null,
           null,
           null,
           null,
           null,
           11.5,
           null,
           null,
           null,
           null,
           null,
           null,
           null,
           null,
           13,
           null,
           null,
           null,
           null,
           null,
           null,
           null,
           null,
           null,
           null,
           null,
           null,
           null,
           null,
           40,
           null,
           null,
           null,
           null,
           null,
           null,
           15.25,
           null,
           null,
           null,
           null,
           null,
           null,
           null,
           null,
           null,
           null,
           null,
           null,
           null,
           null,
           null,
           21,
           null,
           4,
           15,
           null,
           null,
           null,
           null,
           null,
           null
          ]
         },
         "name": "",
         "parents": [
          "all/1821-1840/Lancaster County",
          "all/1801-1820/Accomack County",
          "all/1841-1860/Campbell County",
          "all/1801-1820/Petersburg City",
          "all/1781-1800/Rockingham County",
          "all/1781-1800/Accomack County",
          "all/1781-1800/Goochland County",
          "all/1841-1860/Campbell County",
          "all/1841-1860/Campbell County",
          "all/1781-1800/Petersburg City",
          "all/1841-1860/Campbell County",
          "all/1841-1860/Campbell County",
          "all/1801-1820/Accomack County",
          "all/1841-1860/Campbell County",
          "all/1781-1800/Accomack County",
          "all/1801-1820/Accomack County",
          "all/1801-1820/Accomack County",
          "all/1781-1800/Accomack County",
          "all/1821-1840/Campbell County",
          "all/1801-1820/Campbell County",
          "all/1801-1820/Campbell County",
          "all/1841-1860/Goochland County",
          "all/1801-1820/Accomack County",
          "all/1801-1820/Campbell County",
          "all/1801-1820/Accomack County",
          "all/1801-1820/Lancaster County",
          "all/1801-1820/Campbell County",
          "all/1781-1800/Campbell County",
          "all/1781-1800/Campbell County",
          "all/1801-1820/Campbell County",
          "all/1801-1820/Campbell County",
          "all/1841-1860/Campbell County",
          "all/1841-1860/Campbell County",
          "all/1821-1840/Campbell County",
          "all/1841-1860/Campbell County",
          "all/1781-1800/Campbell County",
          "all/1781-1800/Goochland County",
          "all/1801-1820/Accomack County",
          "all/1781-1800/Accomack County",
          "all/1801-1820/Campbell County",
          "all/1801-1820/Accomack County",
          "all/1801-1820/Accomack County",
          "all/1801-1820/Campbell County",
          "all/1821-1840/Campbell County",
          "all/1801-1820/Accomack County",
          "all/1781-1800/Accomack County",
          "all/1801-1820/Goochland County",
          "all/1821-1840/Campbell County",
          "all/1821-1840/Campbell County",
          "all/1801-1820/Accomack County",
          "all/1801-1820/Lancaster County",
          "all/1821-1840/Campbell County",
          "all/1760-1780/Goochland County",
          "all/1801-1820/Accomack County",
          "all/1821-1840/Campbell County",
          "all/1801-1820/Goochland County",
          "all/1821-1840/Norfolk County",
          "all/1841-1860/Campbell County",
          "all/1781-1800/Norfolk County",
          "all/1841-1860/Campbell County",
          "all/1801-1820/Petersburg City",
          "all/1801-1820/Accomack County",
          "all/1801-1820/Accomack County",
          "all/1821-1840/Campbell County",
          "all/1841-1860/Campbell County",
          "all/1781-1800/Accomack County",
          "all/1781-1800/Lancaster County",
          "all/1821-1840/Campbell County",
          "all/1821-1840/Campbell County",
          "all/1781-1800/Accomack County",
          "all/1801-1820/Campbell County",
          "all/1821-1840/Campbell County",
          "all/1781-1800/Accomack County",
          "all/1781-1800/Accomack County",
          "all/1841-1860/Goochland County",
          "all/1841-1860/Campbell County",
          "all/1801-1820/Accomack County",
          "all/1801-1820/Accomack County",
          "all/1821-1840/Frederick County",
          "all/1821-1840/Campbell County",
          "all/1841-1860/Campbell County",
          "all/1801-1820/Lancaster County",
          "all/1781-1800/Goochland County",
          "all/1801-1820/Campbell County",
          "all/1801-1820/Accomack County",
          "all/1781-1800/Accomack County",
          "all/1801-1820/Accomack County",
          "all/1781-1800/Accomack County",
          "all/1841-1860/Campbell County",
          "all/1801-1820/Accomack County",
          "all/1841-1860/Campbell County",
          "all/1821-1840/Campbell County",
          "all/1801-1820/Goochland County",
          "all/1801-1820/Campbell County",
          "all/1821-1840/Campbell County",
          "all/1841-1860/Goochland County",
          "all/1841-1860/Campbell County",
          "all/1841-1860/Campbell County",
          "all/1841-1860/Campbell County",
          "all/1781-1800/Rockingham County",
          "all/1781-1800/Accomack County",
          "all/1781-1800/Accomack County",
          "all/1841-1860/Campbell County",
          "all/1821-1840/Campbell County",
          "all/1841-1860/Norfolk County",
          "all/1781-1800/Campbell County",
          "all/1841-1860/Campbell County",
          "all/1801-1820/Accomack County",
          "all/1781-1800/Goochland County",
          "all/1781-1800/Accomack County",
          "all/1801-1820/Accomack County",
          "all/1801-1820/Goochland County",
          "all/1821-1840/Campbell County",
          "all/1821-1840/Lancaster County",
          "all/1781-1800/Accomack County",
          "all/1821-1840/Campbell County",
          "all/1801-1820/Accomack County",
          "all/1801-1820/Goochland County",
          "all/1841-1860/Campbell County",
          "all/1801-1820/Goochland County",
          "all/1841-1860/Campbell County",
          "all/1781-1800/Accomack County",
          "all/1781-1800/Accomack County",
          "all/1821-1840/Campbell County",
          "all/1841-1860/Campbell County",
          "all/1821-1840/Norfolk County",
          "all/1760-1780/Middlesex County",
          "all/1821-1840/Campbell County",
          "all/1801-1820/Accomack County",
          "all/1841-1860/Campbell County",
          "all/1801-1820/Accomack County",
          "all/1801-1820/Campbell County",
          "all/1841-1860/Campbell County",
          "all/1781-1800/Goochland County",
          "all/1841-1860/Campbell County",
          "all/1821-1840/Campbell County",
          "all/1821-1840/Campbell County",
          "all/1821-1840/Campbell County",
          "all/1821-1840/Lancaster County",
          "all/1841-1860/Campbell County",
          "all/1801-1820/Lancaster County",
          "all/1841-1860/Campbell County",
          "all/1821-1840/Campbell County",
          "all/1801-1820/Accomack County",
          "all/1821-1840/Campbell County",
          "all/1821-1840/Campbell County",
          "all/1801-1820/Accomack County",
          "all/1801-1820/Goochland County",
          "all/1841-1860/Campbell County",
          "all/1801-1820/Campbell County",
          "all/1781-1800/Caroline County",
          "all/1801-1820/Accomack County",
          "all/1781-1800/Accomack County",
          "all/1841-1860/Campbell County",
          "all/1801-1820/Campbell County",
          "all/1821-1840/Campbell County",
          "all/1821-1840/Campbell County",
          "all/1760-1780/Goochland County",
          "all/1801-1820/Campbell County",
          "all/1801-1820/Campbell County",
          "all/1801-1820/Campbell County",
          "all/1760-1780/Accomack County",
          "all/1841-1860/Goochland County",
          "all/1781-1800/Rockingham County",
          "all/1781-1800/Campbell County",
          "all/1841-1860/Campbell County",
          "all/1821-1840/Campbell County",
          "all/1821-1840/Campbell County",
          "all/1781-1800/Accomack County",
          "all/1801-1820/Goochland County",
          "all/1821-1840/Campbell County",
          "all/1841-1860/Campbell County",
          "all/1760-1780/Norfolk County",
          "all/1841-1860/Goochland County",
          "all/1841-1860/Campbell County",
          "all/1821-1840/Campbell County",
          "all/1841-1860/Campbell County",
          "all/1781-1800/Accomack County",
          "all/1801-1820/Accomack County",
          "all/1801-1820/Accomack County",
          "all/1801-1820/Campbell County",
          "all/1781-1800/Campbell County",
          "all/1841-1860/Rockingham County",
          "all/1801-1820/Lancaster County",
          "all/1801-1820/Accomack County",
          "all/1781-1800/Campbell County",
          "all/1821-1840/Campbell County",
          "all/1801-1820/Lancaster County",
          "all/1801-1820/Accomack County",
          "all/1821-1840/Campbell County",
          "all/1821-1840/Southampton County",
          "all/1821-1840/Campbell County",
          "all/1841-1860/Campbell County",
          "all/1841-1860/Campbell County",
          "all/1801-1820/Accomack County",
          "all/1801-1820/Accomack County",
          "all/1801-1820/Accomack County",
          "all/1821-1840/Lancaster County",
          "all/1801-1820/Campbell County",
          "all/1821-1840/Campbell County",
          "all/1781-1800/Campbell County",
          "all/1841-1860/Campbell County",
          "all/1841-1860/Campbell County",
          "all/1841-1860/Goochland County",
          "all/1781-1800/Campbell County",
          "all/1821-1840/Norfolk County",
          "all/1801-1820/Accomack County",
          "all/1821-1840/Campbell County",
          "all/1781-1800/Accomack County",
          "all/1821-1840/Campbell County",
          "all/1781-1800/Accomack County",
          "all/1801-1820/Accomack County",
          "all/1801-1820/Campbell County",
          "all/1821-1840/Campbell County",
          "all/1801-1820/Goochland County",
          "all/1841-1860/Campbell County",
          "all/1801-1820/Accomack County",
          "all/1841-1860/Goochland County",
          "all/1841-1860/Campbell County",
          "all/1801-1820/Accomack County",
          "all/1841-1860/Campbell County",
          "all/1801-1820/Accomack County",
          "all/1781-1800/Goochland County",
          "all/1841-1860/Campbell County",
          "all/1781-1800/Prince Edward County",
          "all/1781-1800/Rockingham County",
          "all/1841-1860/Goochland County",
          "all/1801-1820/Accomack County",
          "all/1801-1820/Campbell County",
          "all/1841-1860/Campbell County",
          "all/1801-1820/Accomack County",
          "all/1801-1820/Arlington County",
          "all/1801-1820/Campbell County",
          "all/1801-1820/Goochland County",
          "all/1821-1840/Campbell County",
          "all/1801-1820/Accomack County",
          "all/1801-1820/Accomack County",
          "all/1801-1820/Accomack County",
          "all/1801-1820/Lancaster County",
          "all/1821-1840/Campbell County",
          "all/1821-1840/Campbell County",
          "all/1801-1820/Lancaster County",
          "all/1841-1860/Lancaster County",
          "all/1801-1820/Accomack County",
          "all/1801-1820/Accomack County",
          "all/1760-1780/Norfolk County",
          "all/1821-1840/Campbell County",
          "all/1781-1800/Campbell County",
          "all/1821-1840/Campbell County",
          "all/1841-1860/Campbell County",
          "all/1841-1860/Campbell County",
          "all/1760-1780/Goochland County",
          "all/1841-1860/Campbell County",
          "all/1841-1860/Campbell County",
          "all/1801-1820/Campbell County",
          "all/1841-1860/Campbell County",
          "all/1841-1860/Campbell County",
          "all/1821-1840/Campbell County",
          "all/1781-1800/Accomack County",
          "all/1801-1820/Accomack County",
          "all/1821-1840/Campbell County",
          "all/1841-1860/Campbell County",
          "all/1781-1800/Accomack County",
          "all/1821-1840/Petersburg City",
          "all/1801-1820/Lancaster County",
          "all/1801-1820/Accomack County",
          "all/1821-1840/Staunton City",
          "all/1841-1860/Campbell County",
          "all/1781-1800/Accomack County",
          "all/1821-1840/Petersburg City",
          "all/1821-1840/Campbell County",
          "all/1801-1820/Accomack County",
          "all/1781-1800/Accomack County",
          "all/1801-1820/Accomack County",
          "all/1821-1840/Campbell County",
          "all/1821-1840/Campbell County",
          "all/1801-1820/Lancaster County",
          "all/1841-1860/Campbell County",
          "all/1841-1860/Goochland County",
          "all/1841-1860/Campbell County",
          "all/1801-1820/Goochland County",
          "all/1821-1840/Henry County",
          "all/1821-1840/Henry County",
          "all/1801-1820/Campbell County",
          "all/1801-1820/Accomack County",
          "all/1801-1820/Accomack County",
          "all/1781-1800/Middlesex County",
          "all/1801-1820/Campbell County",
          "all/1781-1800/Accomack County",
          "all/1781-1800/Accomack County",
          "all/1841-1860/Campbell County",
          "all/1801-1820/Accomack County",
          "all/1801-1820/Lancaster County",
          "all/1801-1820/Accomack County",
          "all/1801-1820/Accomack County",
          "all/1781-1800/Goochland County",
          "all/1821-1840/Campbell County",
          "all/1781-1800/Rockingham County",
          "all/1801-1820/Lancaster County",
          "all/1781-1800/Accomack County",
          "all/1760-1780/Middlesex County",
          "all/1841-1860/Goochland County",
          "all/1841-1860/Goochland County",
          "all/1801-1820/Accomack County",
          "all/1841-1860/Campbell County",
          "all/1821-1840/Goochland County",
          "all/1801-1820/Accomack County",
          "all/1801-1820/Accomack County",
          "all/1821-1840/Campbell County",
          "all/1841-1860/Campbell County",
          "all/1841-1860/Goochland County",
          "all/1821-1840/Lancaster County",
          "all/1781-1800/Norfolk County",
          "all/1801-1820/Norfolk County",
          "all/1801-1820/Accomack County",
          "all/1841-1860/Campbell County",
          "all/1801-1820/Lancaster County",
          "all/1821-1840/Campbell County",
          "all/1841-1860/Campbell County",
          "all/1841-1860/Campbell County",
          "all/1841-1860/Campbell County",
          "all/1841-1860/Southampton County",
          "all/1841-1860/Goochland County",
          "all/1841-1860/Campbell County",
          "all/1841-1860/Campbell County",
          "all/1841-1860/Campbell County",
          "all/1801-1820/Accomack County",
          "all/1801-1820/Accomack County",
          "all/1841-1860/Campbell County",
          "all/1821-1840/Campbell County",
          "all/1841-1860/Campbell County",
          "all/1801-1820/Campbell County",
          "all/1821-1840/Campbell County",
          "all/1841-1860/Campbell County",
          "all/1781-1800/Campbell County",
          "all/1821-1840/Campbell County",
          "all/1801-1820/Lancaster County",
          "all/1801-1820/Accomack County",
          "all/1801-1820/Goochland County",
          "all/1801-1820/Accomack County",
          "all/1801-1820/Lancaster County",
          "all/1841-1860/Campbell County",
          "all/1801-1820/Arlington County",
          "all/1801-1820/Accomack County",
          "all/1801-1820/Accomack County",
          "all/1781-1800/Accomack County",
          "all/1801-1820/Accomack County",
          "all/1760-1780/Goochland County",
          "all/1781-1800/Accomack County",
          "all/1801-1820/Campbell County",
          "all/1801-1820/Campbell County",
          "all/1781-1800/Accomack County",
          "all/1781-1800/Accomack County",
          "all/1781-1800/Accomack County",
          "all/1801-1820/Lancaster County",
          "all/1821-1840/Campbell County",
          "all/1801-1820/Goochland County",
          "all/1760-1780",
          "all/1781-1800",
          "all/1801-1820",
          "all/1801-1820",
          "all/1781-1800",
          "all/1801-1820",
          "all/1821-1840",
          "all/1841-1860",
          "all/1781-1800",
          "all/1821-1840",
          "all/1760-1780",
          "all/1781-1800",
          "all/1801-1820",
          "all/1821-1840",
          "all/1841-1860",
          "all/1821-1840",
          "all/1781-1800",
          "all/1801-1820",
          "all/1821-1840",
          "all/1841-1860",
          "all/1760-1780",
          "all/1781-1800",
          "all/1760-1780",
          "all/1781-1800",
          "all/1801-1820",
          "all/1821-1840",
          "all/1841-1860",
          "all/1781-1800",
          "all/1801-1820",
          "all/1821-1840",
          "all/1781-1800",
          "all/1781-1800",
          "all/1841-1860",
          "all/1821-1840",
          "all/1841-1860",
          "all/1821-1840",
          "all",
          "all",
          "all",
          "all",
          "all",
          ""
         ],
         "root": {
          "color": "lightgrey"
         },
         "tiling": {
          "orientation": "h"
         },
         "type": "icicle",
         "values": [
          1,
          1,
          1,
          1,
          3,
          1,
          1,
          1,
          6,
          1,
          8,
          1,
          1,
          2,
          8,
          2,
          2,
          1,
          9,
          3,
          24,
          1,
          1,
          2,
          4,
          2,
          2,
          1,
          3,
          6,
          1,
          2,
          1,
          4,
          1,
          1,
          1,
          2,
          1,
          13,
          1,
          4,
          1,
          2,
          2,
          1,
          1,
          19,
          1,
          1,
          1,
          1,
          8,
          2,
          1,
          1,
          1,
          12,
          1,
          4,
          1,
          5,
          1,
          5,
          1,
          1,
          4,
          2,
          4,
          1,
          1,
          30,
          5,
          1,
          3,
          2,
          5,
          1,
          2,
          1,
          4,
          2,
          1,
          7,
          2,
          4,
          1,
          2,
          1,
          1,
          12,
          12,
          1,
          1,
          2,
          1,
          1,
          2,
          11,
          4,
          2,
          1,
          7,
          4,
          1,
          2,
          4,
          1,
          1,
          1,
          2,
          1,
          1,
          1,
          5,
          1,
          1,
          2,
          3,
          1,
          1,
          2,
          1,
          14,
          8,
          1,
          3,
          2,
          1,
          7,
          2,
          1,
          4,
          8,
          6,
          5,
          1,
          4,
          1,
          1,
          3,
          1,
          20,
          3,
          13,
          2,
          1,
          1,
          1,
          3,
          1,
          1,
          1,
          3,
          4,
          3,
          4,
          1,
          3,
          1,
          1,
          3,
          1,
          3,
          1,
          7,
          2,
          8,
          1,
          5,
          1,
          3,
          1,
          1,
          1,
          3,
          1,
          18,
          1,
          1,
          1,
          2,
          1,
          1,
          1,
          1,
          4,
          3,
          1,
          1,
          4,
          5,
          1,
          2,
          1,
          1,
          4,
          1,
          1,
          1,
          5,
          6,
          1,
          2,
          2,
          1,
          1,
          1,
          1,
          11,
          1,
          1,
          2,
          6,
          3,
          7,
          3,
          1,
          3,
          1,
          1,
          14,
          1,
          7,
          5,
          3,
          3,
          1,
          1,
          2,
          2,
          1,
          4,
          2,
          6,
          5,
          1,
          1,
          1,
          1,
          6,
          1,
          1,
          3,
          1,
          1,
          8,
          2,
          4,
          7,
          4,
          2,
          1,
          1,
          4,
          4,
          4,
          8,
          1,
          3,
          7,
          4,
          2,
          1,
          2,
          1,
          1,
          1,
          3,
          1,
          10,
          1,
          1,
          1,
          2,
          4,
          2,
          6,
          3,
          1,
          1,
          1,
          1,
          10,
          5,
          1,
          1,
          1,
          5,
          1,
          2,
          3,
          3,
          3,
          1,
          7,
          1,
          1,
          1,
          1,
          1,
          15,
          1,
          1,
          9,
          1,
          2,
          1,
          5,
          3,
          51,
          2,
          3,
          1,
          4,
          2,
          10,
          2,
          4,
          8,
          3,
          1,
          24,
          4,
          1,
          4,
          1,
          1,
          2,
          1,
          1,
          2,
          1,
          4,
          7,
          3,
          3,
          3,
          2,
          3,
          1,
          1,
          4,
          1,
          1,
          1,
          5,
          4,
          3,
          6,
          1,
          1,
          1,
          15,
          3,
          2,
          1,
          3,
          95,
          137,
          5,
          27,
          107,
          281,
          242,
          1,
          2,
          15,
          20,
          22,
          1,
          107,
          2,
          4,
          39,
          6,
          1,
          4,
          1,
          2,
          4,
          1,
          3,
          1,
          1,
          2,
          2,
          5,
          14,
          1,
          4,
          1,
          1,
          24,
          172,
          313,
          302,
          353,
          1164
         ]
        }
       ],
       "layout": {
        "coloraxis": {
         "colorbar": {
          "title": {
           "text": "Age"
          }
         },
         "colorscale": [
          [
           0,
           "rgb(103,0,31)"
          ],
          [
           0.1,
           "rgb(178,24,43)"
          ],
          [
           0.2,
           "rgb(214,96,77)"
          ],
          [
           0.3,
           "rgb(244,165,130)"
          ],
          [
           0.4,
           "rgb(253,219,199)"
          ],
          [
           0.5,
           "rgb(247,247,247)"
          ],
          [
           0.6,
           "rgb(209,229,240)"
          ],
          [
           0.7,
           "rgb(146,197,222)"
          ],
          [
           0.8,
           "rgb(67,147,195)"
          ],
          [
           0.9,
           "rgb(33,102,172)"
          ],
          [
           1,
           "rgb(5,48,97)"
          ]
         ]
        },
        "legend": {
         "tracegroupgap": 0
        },
        "margin": {
         "t": 60
        },
        "template": {
         "data": {
          "bar": [
           {
            "error_x": {
             "color": "#2a3f5f"
            },
            "error_y": {
             "color": "#2a3f5f"
            },
            "marker": {
             "line": {
              "color": "#E5ECF6",
              "width": 0.5
             },
             "pattern": {
              "fillmode": "overlay",
              "size": 10,
              "solidity": 0.2
             }
            },
            "type": "bar"
           }
          ],
          "barpolar": [
           {
            "marker": {
             "line": {
              "color": "#E5ECF6",
              "width": 0.5
             },
             "pattern": {
              "fillmode": "overlay",
              "size": 10,
              "solidity": 0.2
             }
            },
            "type": "barpolar"
           }
          ],
          "carpet": [
           {
            "aaxis": {
             "endlinecolor": "#2a3f5f",
             "gridcolor": "white",
             "linecolor": "white",
             "minorgridcolor": "white",
             "startlinecolor": "#2a3f5f"
            },
            "baxis": {
             "endlinecolor": "#2a3f5f",
             "gridcolor": "white",
             "linecolor": "white",
             "minorgridcolor": "white",
             "startlinecolor": "#2a3f5f"
            },
            "type": "carpet"
           }
          ],
          "choropleth": [
           {
            "colorbar": {
             "outlinewidth": 0,
             "ticks": ""
            },
            "type": "choropleth"
           }
          ],
          "contour": [
           {
            "colorbar": {
             "outlinewidth": 0,
             "ticks": ""
            },
            "colorscale": [
             [
              0,
              "#0d0887"
             ],
             [
              0.1111111111111111,
              "#46039f"
             ],
             [
              0.2222222222222222,
              "#7201a8"
             ],
             [
              0.3333333333333333,
              "#9c179e"
             ],
             [
              0.4444444444444444,
              "#bd3786"
             ],
             [
              0.5555555555555556,
              "#d8576b"
             ],
             [
              0.6666666666666666,
              "#ed7953"
             ],
             [
              0.7777777777777778,
              "#fb9f3a"
             ],
             [
              0.8888888888888888,
              "#fdca26"
             ],
             [
              1,
              "#f0f921"
             ]
            ],
            "type": "contour"
           }
          ],
          "contourcarpet": [
           {
            "colorbar": {
             "outlinewidth": 0,
             "ticks": ""
            },
            "type": "contourcarpet"
           }
          ],
          "heatmap": [
           {
            "colorbar": {
             "outlinewidth": 0,
             "ticks": ""
            },
            "colorscale": [
             [
              0,
              "#0d0887"
             ],
             [
              0.1111111111111111,
              "#46039f"
             ],
             [
              0.2222222222222222,
              "#7201a8"
             ],
             [
              0.3333333333333333,
              "#9c179e"
             ],
             [
              0.4444444444444444,
              "#bd3786"
             ],
             [
              0.5555555555555556,
              "#d8576b"
             ],
             [
              0.6666666666666666,
              "#ed7953"
             ],
             [
              0.7777777777777778,
              "#fb9f3a"
             ],
             [
              0.8888888888888888,
              "#fdca26"
             ],
             [
              1,
              "#f0f921"
             ]
            ],
            "type": "heatmap"
           }
          ],
          "heatmapgl": [
           {
            "colorbar": {
             "outlinewidth": 0,
             "ticks": ""
            },
            "colorscale": [
             [
              0,
              "#0d0887"
             ],
             [
              0.1111111111111111,
              "#46039f"
             ],
             [
              0.2222222222222222,
              "#7201a8"
             ],
             [
              0.3333333333333333,
              "#9c179e"
             ],
             [
              0.4444444444444444,
              "#bd3786"
             ],
             [
              0.5555555555555556,
              "#d8576b"
             ],
             [
              0.6666666666666666,
              "#ed7953"
             ],
             [
              0.7777777777777778,
              "#fb9f3a"
             ],
             [
              0.8888888888888888,
              "#fdca26"
             ],
             [
              1,
              "#f0f921"
             ]
            ],
            "type": "heatmapgl"
           }
          ],
          "histogram": [
           {
            "marker": {
             "pattern": {
              "fillmode": "overlay",
              "size": 10,
              "solidity": 0.2
             }
            },
            "type": "histogram"
           }
          ],
          "histogram2d": [
           {
            "colorbar": {
             "outlinewidth": 0,
             "ticks": ""
            },
            "colorscale": [
             [
              0,
              "#0d0887"
             ],
             [
              0.1111111111111111,
              "#46039f"
             ],
             [
              0.2222222222222222,
              "#7201a8"
             ],
             [
              0.3333333333333333,
              "#9c179e"
             ],
             [
              0.4444444444444444,
              "#bd3786"
             ],
             [
              0.5555555555555556,
              "#d8576b"
             ],
             [
              0.6666666666666666,
              "#ed7953"
             ],
             [
              0.7777777777777778,
              "#fb9f3a"
             ],
             [
              0.8888888888888888,
              "#fdca26"
             ],
             [
              1,
              "#f0f921"
             ]
            ],
            "type": "histogram2d"
           }
          ],
          "histogram2dcontour": [
           {
            "colorbar": {
             "outlinewidth": 0,
             "ticks": ""
            },
            "colorscale": [
             [
              0,
              "#0d0887"
             ],
             [
              0.1111111111111111,
              "#46039f"
             ],
             [
              0.2222222222222222,
              "#7201a8"
             ],
             [
              0.3333333333333333,
              "#9c179e"
             ],
             [
              0.4444444444444444,
              "#bd3786"
             ],
             [
              0.5555555555555556,
              "#d8576b"
             ],
             [
              0.6666666666666666,
              "#ed7953"
             ],
             [
              0.7777777777777778,
              "#fb9f3a"
             ],
             [
              0.8888888888888888,
              "#fdca26"
             ],
             [
              1,
              "#f0f921"
             ]
            ],
            "type": "histogram2dcontour"
           }
          ],
          "mesh3d": [
           {
            "colorbar": {
             "outlinewidth": 0,
             "ticks": ""
            },
            "type": "mesh3d"
           }
          ],
          "parcoords": [
           {
            "line": {
             "colorbar": {
              "outlinewidth": 0,
              "ticks": ""
             }
            },
            "type": "parcoords"
           }
          ],
          "pie": [
           {
            "automargin": true,
            "type": "pie"
           }
          ],
          "scatter": [
           {
            "marker": {
             "colorbar": {
              "outlinewidth": 0,
              "ticks": ""
             }
            },
            "type": "scatter"
           }
          ],
          "scatter3d": [
           {
            "line": {
             "colorbar": {
              "outlinewidth": 0,
              "ticks": ""
             }
            },
            "marker": {
             "colorbar": {
              "outlinewidth": 0,
              "ticks": ""
             }
            },
            "type": "scatter3d"
           }
          ],
          "scattercarpet": [
           {
            "marker": {
             "colorbar": {
              "outlinewidth": 0,
              "ticks": ""
             }
            },
            "type": "scattercarpet"
           }
          ],
          "scattergeo": [
           {
            "marker": {
             "colorbar": {
              "outlinewidth": 0,
              "ticks": ""
             }
            },
            "type": "scattergeo"
           }
          ],
          "scattergl": [
           {
            "marker": {
             "colorbar": {
              "outlinewidth": 0,
              "ticks": ""
             }
            },
            "type": "scattergl"
           }
          ],
          "scattermapbox": [
           {
            "marker": {
             "colorbar": {
              "outlinewidth": 0,
              "ticks": ""
             }
            },
            "type": "scattermapbox"
           }
          ],
          "scatterpolar": [
           {
            "marker": {
             "colorbar": {
              "outlinewidth": 0,
              "ticks": ""
             }
            },
            "type": "scatterpolar"
           }
          ],
          "scatterpolargl": [
           {
            "marker": {
             "colorbar": {
              "outlinewidth": 0,
              "ticks": ""
             }
            },
            "type": "scatterpolargl"
           }
          ],
          "scatterternary": [
           {
            "marker": {
             "colorbar": {
              "outlinewidth": 0,
              "ticks": ""
             }
            },
            "type": "scatterternary"
           }
          ],
          "surface": [
           {
            "colorbar": {
             "outlinewidth": 0,
             "ticks": ""
            },
            "colorscale": [
             [
              0,
              "#0d0887"
             ],
             [
              0.1111111111111111,
              "#46039f"
             ],
             [
              0.2222222222222222,
              "#7201a8"
             ],
             [
              0.3333333333333333,
              "#9c179e"
             ],
             [
              0.4444444444444444,
              "#bd3786"
             ],
             [
              0.5555555555555556,
              "#d8576b"
             ],
             [
              0.6666666666666666,
              "#ed7953"
             ],
             [
              0.7777777777777778,
              "#fb9f3a"
             ],
             [
              0.8888888888888888,
              "#fdca26"
             ],
             [
              1,
              "#f0f921"
             ]
            ],
            "type": "surface"
           }
          ],
          "table": [
           {
            "cells": {
             "fill": {
              "color": "#EBF0F8"
             },
             "line": {
              "color": "white"
             }
            },
            "header": {
             "fill": {
              "color": "#C8D4E3"
             },
             "line": {
              "color": "white"
             }
            },
            "type": "table"
           }
          ]
         },
         "layout": {
          "annotationdefaults": {
           "arrowcolor": "#2a3f5f",
           "arrowhead": 0,
           "arrowwidth": 1
          },
          "autotypenumbers": "strict",
          "coloraxis": {
           "colorbar": {
            "outlinewidth": 0,
            "ticks": ""
           }
          },
          "colorscale": {
           "diverging": [
            [
             0,
             "#8e0152"
            ],
            [
             0.1,
             "#c51b7d"
            ],
            [
             0.2,
             "#de77ae"
            ],
            [
             0.3,
             "#f1b6da"
            ],
            [
             0.4,
             "#fde0ef"
            ],
            [
             0.5,
             "#f7f7f7"
            ],
            [
             0.6,
             "#e6f5d0"
            ],
            [
             0.7,
             "#b8e186"
            ],
            [
             0.8,
             "#7fbc41"
            ],
            [
             0.9,
             "#4d9221"
            ],
            [
             1,
             "#276419"
            ]
           ],
           "sequential": [
            [
             0,
             "#0d0887"
            ],
            [
             0.1111111111111111,
             "#46039f"
            ],
            [
             0.2222222222222222,
             "#7201a8"
            ],
            [
             0.3333333333333333,
             "#9c179e"
            ],
            [
             0.4444444444444444,
             "#bd3786"
            ],
            [
             0.5555555555555556,
             "#d8576b"
            ],
            [
             0.6666666666666666,
             "#ed7953"
            ],
            [
             0.7777777777777778,
             "#fb9f3a"
            ],
            [
             0.8888888888888888,
             "#fdca26"
            ],
            [
             1,
             "#f0f921"
            ]
           ],
           "sequentialminus": [
            [
             0,
             "#0d0887"
            ],
            [
             0.1111111111111111,
             "#46039f"
            ],
            [
             0.2222222222222222,
             "#7201a8"
            ],
            [
             0.3333333333333333,
             "#9c179e"
            ],
            [
             0.4444444444444444,
             "#bd3786"
            ],
            [
             0.5555555555555556,
             "#d8576b"
            ],
            [
             0.6666666666666666,
             "#ed7953"
            ],
            [
             0.7777777777777778,
             "#fb9f3a"
            ],
            [
             0.8888888888888888,
             "#fdca26"
            ],
            [
             1,
             "#f0f921"
            ]
           ]
          },
          "colorway": [
           "#636efa",
           "#EF553B",
           "#00cc96",
           "#ab63fa",
           "#FFA15A",
           "#19d3f3",
           "#FF6692",
           "#B6E880",
           "#FF97FF",
           "#FECB52"
          ],
          "font": {
           "color": "#2a3f5f"
          },
          "geo": {
           "bgcolor": "white",
           "lakecolor": "white",
           "landcolor": "#E5ECF6",
           "showlakes": true,
           "showland": true,
           "subunitcolor": "white"
          },
          "hoverlabel": {
           "align": "left"
          },
          "hovermode": "closest",
          "mapbox": {
           "style": "light"
          },
          "paper_bgcolor": "white",
          "plot_bgcolor": "#E5ECF6",
          "polar": {
           "angularaxis": {
            "gridcolor": "white",
            "linecolor": "white",
            "ticks": ""
           },
           "bgcolor": "#E5ECF6",
           "radialaxis": {
            "gridcolor": "white",
            "linecolor": "white",
            "ticks": ""
           }
          },
          "scene": {
           "xaxis": {
            "backgroundcolor": "#E5ECF6",
            "gridcolor": "white",
            "gridwidth": 2,
            "linecolor": "white",
            "showbackground": true,
            "ticks": "",
            "zerolinecolor": "white"
           },
           "yaxis": {
            "backgroundcolor": "#E5ECF6",
            "gridcolor": "white",
            "gridwidth": 2,
            "linecolor": "white",
            "showbackground": true,
            "ticks": "",
            "zerolinecolor": "white"
           },
           "zaxis": {
            "backgroundcolor": "#E5ECF6",
            "gridcolor": "white",
            "gridwidth": 2,
            "linecolor": "white",
            "showbackground": true,
            "ticks": "",
            "zerolinecolor": "white"
           }
          },
          "shapedefaults": {
           "line": {
            "color": "#2a3f5f"
           }
          },
          "ternary": {
           "aaxis": {
            "gridcolor": "white",
            "linecolor": "white",
            "ticks": ""
           },
           "baxis": {
            "gridcolor": "white",
            "linecolor": "white",
            "ticks": ""
           },
           "bgcolor": "#E5ECF6",
           "caxis": {
            "gridcolor": "white",
            "linecolor": "white",
            "ticks": ""
           }
          },
          "title": {
           "x": 0.05
          },
          "xaxis": {
           "automargin": true,
           "gridcolor": "white",
           "linecolor": "white",
           "ticks": "",
           "title": {
            "standoff": 15
           },
           "zerolinecolor": "white",
           "zerolinewidth": 2
          },
          "yaxis": {
           "automargin": true,
           "gridcolor": "white",
           "linecolor": "white",
           "ticks": "",
           "title": {
            "standoff": 15
           },
           "zerolinecolor": "white",
           "zerolinewidth": 2
          }
         }
        }
       }
      }
     },
     "metadata": {},
     "output_type": "display_data"
    }
   ],
   "source": [
    "\n",
    "fig = px.icicle(df, \n",
    "                path=[px.Constant(\"all\"), 'Period', 'Locality', 'Enslaver_Buyer'],\n",
    "                values='Slaves', \n",
    "                color='Age', \n",
    "                color_continuous_scale='RdBu')\n",
    "fig.update_traces(root_color=\"lightgrey\", tiling=dict(orientation='h'))\n",
    "\n",
    "fig.show()"
   ]
  },
  {
   "cell_type": "code",
   "execution_count": 32,
   "metadata": {},
   "outputs": [
    {
     "data": {
      "application/vnd.plotly.v1+json": {
       "config": {
        "plotlyServerURL": "https://plot.ly"
       },
       "data": [
        {
         "branchvalues": "total",
         "customdata": [
          [
           "Middlesex County"
          ],
          [
           "Norfolk County"
          ],
          [
           "Norfolk County"
          ],
          [
           "Petersburg City"
          ],
          [
           "Petersburg City"
          ],
          [
           "Prince Edward County"
          ],
          [
           "Middlesex County"
          ],
          [
           "Lancaster County"
          ],
          [
           "Southampton County"
          ],
          [
           "Staunton City"
          ],
          [
           "(?)"
          ],
          [
           "(?)"
          ],
          [
           "(?)"
          ],
          [
           "(?)"
          ],
          [
           "Rockingham County"
          ],
          [
           "Norfolk County"
          ],
          [
           "Southampton County"
          ],
          [
           "Rockingham County"
          ],
          [
           "Norfolk County"
          ],
          [
           "Accomack County"
          ],
          [
           "Goochland County"
          ],
          [
           "Campbell County"
          ],
          [
           "Caroline County"
          ],
          [
           "Frederick County"
          ],
          [
           "Lancaster County"
          ],
          [
           "Arlington County"
          ],
          [
           "Goochland County"
          ],
          [
           "Accomack County"
          ],
          [
           "Goochland County"
          ],
          [
           "Goochland County"
          ],
          [
           "Lancaster County"
          ],
          [
           "Goochland County"
          ],
          [
           "Accomack County"
          ],
          [
           "Norfolk County"
          ],
          [
           "Campbell County"
          ],
          [
           "Campbell County"
          ],
          [
           "Campbell County"
          ],
          [
           "Henry County"
          ],
          [
           "Lancaster County"
          ],
          [
           "(?)"
          ],
          [
           "Petersburg City"
          ],
          [
           "(?)"
          ]
         ],
         "domain": {
          "x": [
           0,
           1
          ],
          "y": [
           0,
           1
          ]
         },
         "hovertemplate": "labels=%{label}<br>Slaves=%{value}<br>parent=%{parent}<br>id=%{id}<br>Locality=%{customdata[0]}<extra></extra>",
         "ids": [
          "all/1760-1780/Middlesex County",
          "all/1821-1840/Norfolk County",
          "all/1841-1860/Norfolk County",
          "all/1781-1800/Petersburg City",
          "all/1801-1820/Petersburg City",
          "all/1781-1800/Prince Edward County",
          "all/1781-1800/Middlesex County",
          "all/1841-1860/Lancaster County",
          "all/1841-1860/Southampton County",
          "all/1821-1840/Staunton City",
          "all/1760-1780",
          "all/1781-1800",
          "all/1801-1820",
          "all/1821-1840",
          "all/1841-1860/Rockingham County",
          "all/1801-1820/Norfolk County",
          "all/1821-1840/Southampton County",
          "all/1781-1800/Rockingham County",
          "all/1760-1780/Norfolk County",
          "all/1760-1780/Accomack County",
          "all/1760-1780/Goochland County",
          "all/1841-1860/Campbell County",
          "all/1781-1800/Caroline County",
          "all/1821-1840/Frederick County",
          "all/1821-1840/Lancaster County",
          "all/1801-1820/Arlington County",
          "all/1781-1800/Goochland County",
          "all/1781-1800/Accomack County",
          "all/1821-1840/Goochland County",
          "all/1841-1860/Goochland County",
          "all/1801-1820/Lancaster County",
          "all/1801-1820/Goochland County",
          "all/1801-1820/Accomack County",
          "all/1781-1800/Norfolk County",
          "all/1821-1840/Campbell County",
          "all/1801-1820/Campbell County",
          "all/1781-1800/Campbell County",
          "all/1821-1840/Henry County",
          "all/1781-1800/Lancaster County",
          "all/1841-1860",
          "all/1821-1840/Petersburg City",
          "all"
         ],
         "labels": [
          "Middlesex County",
          "Norfolk County",
          "Norfolk County",
          "Petersburg City",
          "Petersburg City",
          "Prince Edward County",
          "Middlesex County",
          "Lancaster County",
          "Southampton County",
          "Staunton City",
          "1760-1780",
          "1781-1800",
          "1801-1820",
          "1821-1840",
          "Rockingham County",
          "Norfolk County",
          "Southampton County",
          "Rockingham County",
          "Norfolk County",
          "Accomack County",
          "Goochland County",
          "Campbell County",
          "Caroline County",
          "Frederick County",
          "Lancaster County",
          "Arlington County",
          "Goochland County",
          "Accomack County",
          "Goochland County",
          "Goochland County",
          "Lancaster County",
          "Goochland County",
          "Accomack County",
          "Norfolk County",
          "Campbell County",
          "Campbell County",
          "Campbell County",
          "Henry County",
          "Lancaster County",
          "1841-1860",
          "Petersburg City",
          "all"
         ],
         "marker": {
          "colors": [
           "#636efa",
           "#EF553B",
           "#EF553B",
           "#00cc96",
           "#00cc96",
           "#ab63fa",
           "#636efa",
           "#FFA15A",
           "#19d3f3",
           "#FF6692",
           "#B6E880",
           "#B6E880",
           "#B6E880",
           "#B6E880",
           "#FF97FF",
           "#EF553B",
           "#19d3f3",
           "#FF97FF",
           "#EF553B",
           "#FECB52",
           "#636efa",
           "#EF553B",
           "#00cc96",
           "#ab63fa",
           "#FFA15A",
           "#FFA15A",
           "#636efa",
           "#FECB52",
           "#636efa",
           "#636efa",
           "#FFA15A",
           "#636efa",
           "#FECB52",
           "#EF553B",
           "#EF553B",
           "#EF553B",
           "#EF553B",
           "#19d3f3",
           "#FFA15A",
           "#B6E880",
           "#00cc96",
           "#B6E880"
          ]
         },
         "name": "",
         "parents": [
          "all/1760-1780",
          "all/1821-1840",
          "all/1841-1860",
          "all/1781-1800",
          "all/1801-1820",
          "all/1781-1800",
          "all/1781-1800",
          "all/1841-1860",
          "all/1841-1860",
          "all/1821-1840",
          "all",
          "all",
          "all",
          "all",
          "all/1841-1860",
          "all/1801-1820",
          "all/1821-1840",
          "all/1781-1800",
          "all/1760-1780",
          "all/1760-1780",
          "all/1760-1780",
          "all/1841-1860",
          "all/1781-1800",
          "all/1821-1840",
          "all/1821-1840",
          "all/1801-1820",
          "all/1781-1800",
          "all/1781-1800",
          "all/1821-1840",
          "all/1841-1860",
          "all/1801-1820",
          "all/1801-1820",
          "all/1801-1820",
          "all/1781-1800",
          "all/1821-1840",
          "all/1801-1820",
          "all/1781-1800",
          "all/1821-1840",
          "all/1781-1800",
          "all",
          "all/1821-1840",
          ""
         ],
         "root": {
          "color": "lightgrey"
         },
         "tiling": {
          "flip": "x",
          "orientation": "h"
         },
         "type": "icicle",
         "values": [
          4,
          3,
          1,
          1,
          2,
          5,
          1,
          1,
          1,
          1,
          24,
          172,
          313,
          302,
          1,
          1,
          4,
          14,
          2,
          3,
          15,
          242,
          1,
          2,
          6,
          5,
          20,
          95,
          1,
          107,
          39,
          22,
          137,
          4,
          281,
          107,
          27,
          2,
          4,
          353,
          2,
          1164
         ]
        }
       ],
       "layout": {
        "legend": {
         "tracegroupgap": 0
        },
        "margin": {
         "t": 60
        },
        "template": {
         "data": {
          "bar": [
           {
            "error_x": {
             "color": "#2a3f5f"
            },
            "error_y": {
             "color": "#2a3f5f"
            },
            "marker": {
             "line": {
              "color": "#E5ECF6",
              "width": 0.5
             },
             "pattern": {
              "fillmode": "overlay",
              "size": 10,
              "solidity": 0.2
             }
            },
            "type": "bar"
           }
          ],
          "barpolar": [
           {
            "marker": {
             "line": {
              "color": "#E5ECF6",
              "width": 0.5
             },
             "pattern": {
              "fillmode": "overlay",
              "size": 10,
              "solidity": 0.2
             }
            },
            "type": "barpolar"
           }
          ],
          "carpet": [
           {
            "aaxis": {
             "endlinecolor": "#2a3f5f",
             "gridcolor": "white",
             "linecolor": "white",
             "minorgridcolor": "white",
             "startlinecolor": "#2a3f5f"
            },
            "baxis": {
             "endlinecolor": "#2a3f5f",
             "gridcolor": "white",
             "linecolor": "white",
             "minorgridcolor": "white",
             "startlinecolor": "#2a3f5f"
            },
            "type": "carpet"
           }
          ],
          "choropleth": [
           {
            "colorbar": {
             "outlinewidth": 0,
             "ticks": ""
            },
            "type": "choropleth"
           }
          ],
          "contour": [
           {
            "colorbar": {
             "outlinewidth": 0,
             "ticks": ""
            },
            "colorscale": [
             [
              0,
              "#0d0887"
             ],
             [
              0.1111111111111111,
              "#46039f"
             ],
             [
              0.2222222222222222,
              "#7201a8"
             ],
             [
              0.3333333333333333,
              "#9c179e"
             ],
             [
              0.4444444444444444,
              "#bd3786"
             ],
             [
              0.5555555555555556,
              "#d8576b"
             ],
             [
              0.6666666666666666,
              "#ed7953"
             ],
             [
              0.7777777777777778,
              "#fb9f3a"
             ],
             [
              0.8888888888888888,
              "#fdca26"
             ],
             [
              1,
              "#f0f921"
             ]
            ],
            "type": "contour"
           }
          ],
          "contourcarpet": [
           {
            "colorbar": {
             "outlinewidth": 0,
             "ticks": ""
            },
            "type": "contourcarpet"
           }
          ],
          "heatmap": [
           {
            "colorbar": {
             "outlinewidth": 0,
             "ticks": ""
            },
            "colorscale": [
             [
              0,
              "#0d0887"
             ],
             [
              0.1111111111111111,
              "#46039f"
             ],
             [
              0.2222222222222222,
              "#7201a8"
             ],
             [
              0.3333333333333333,
              "#9c179e"
             ],
             [
              0.4444444444444444,
              "#bd3786"
             ],
             [
              0.5555555555555556,
              "#d8576b"
             ],
             [
              0.6666666666666666,
              "#ed7953"
             ],
             [
              0.7777777777777778,
              "#fb9f3a"
             ],
             [
              0.8888888888888888,
              "#fdca26"
             ],
             [
              1,
              "#f0f921"
             ]
            ],
            "type": "heatmap"
           }
          ],
          "heatmapgl": [
           {
            "colorbar": {
             "outlinewidth": 0,
             "ticks": ""
            },
            "colorscale": [
             [
              0,
              "#0d0887"
             ],
             [
              0.1111111111111111,
              "#46039f"
             ],
             [
              0.2222222222222222,
              "#7201a8"
             ],
             [
              0.3333333333333333,
              "#9c179e"
             ],
             [
              0.4444444444444444,
              "#bd3786"
             ],
             [
              0.5555555555555556,
              "#d8576b"
             ],
             [
              0.6666666666666666,
              "#ed7953"
             ],
             [
              0.7777777777777778,
              "#fb9f3a"
             ],
             [
              0.8888888888888888,
              "#fdca26"
             ],
             [
              1,
              "#f0f921"
             ]
            ],
            "type": "heatmapgl"
           }
          ],
          "histogram": [
           {
            "marker": {
             "pattern": {
              "fillmode": "overlay",
              "size": 10,
              "solidity": 0.2
             }
            },
            "type": "histogram"
           }
          ],
          "histogram2d": [
           {
            "colorbar": {
             "outlinewidth": 0,
             "ticks": ""
            },
            "colorscale": [
             [
              0,
              "#0d0887"
             ],
             [
              0.1111111111111111,
              "#46039f"
             ],
             [
              0.2222222222222222,
              "#7201a8"
             ],
             [
              0.3333333333333333,
              "#9c179e"
             ],
             [
              0.4444444444444444,
              "#bd3786"
             ],
             [
              0.5555555555555556,
              "#d8576b"
             ],
             [
              0.6666666666666666,
              "#ed7953"
             ],
             [
              0.7777777777777778,
              "#fb9f3a"
             ],
             [
              0.8888888888888888,
              "#fdca26"
             ],
             [
              1,
              "#f0f921"
             ]
            ],
            "type": "histogram2d"
           }
          ],
          "histogram2dcontour": [
           {
            "colorbar": {
             "outlinewidth": 0,
             "ticks": ""
            },
            "colorscale": [
             [
              0,
              "#0d0887"
             ],
             [
              0.1111111111111111,
              "#46039f"
             ],
             [
              0.2222222222222222,
              "#7201a8"
             ],
             [
              0.3333333333333333,
              "#9c179e"
             ],
             [
              0.4444444444444444,
              "#bd3786"
             ],
             [
              0.5555555555555556,
              "#d8576b"
             ],
             [
              0.6666666666666666,
              "#ed7953"
             ],
             [
              0.7777777777777778,
              "#fb9f3a"
             ],
             [
              0.8888888888888888,
              "#fdca26"
             ],
             [
              1,
              "#f0f921"
             ]
            ],
            "type": "histogram2dcontour"
           }
          ],
          "mesh3d": [
           {
            "colorbar": {
             "outlinewidth": 0,
             "ticks": ""
            },
            "type": "mesh3d"
           }
          ],
          "parcoords": [
           {
            "line": {
             "colorbar": {
              "outlinewidth": 0,
              "ticks": ""
             }
            },
            "type": "parcoords"
           }
          ],
          "pie": [
           {
            "automargin": true,
            "type": "pie"
           }
          ],
          "scatter": [
           {
            "marker": {
             "colorbar": {
              "outlinewidth": 0,
              "ticks": ""
             }
            },
            "type": "scatter"
           }
          ],
          "scatter3d": [
           {
            "line": {
             "colorbar": {
              "outlinewidth": 0,
              "ticks": ""
             }
            },
            "marker": {
             "colorbar": {
              "outlinewidth": 0,
              "ticks": ""
             }
            },
            "type": "scatter3d"
           }
          ],
          "scattercarpet": [
           {
            "marker": {
             "colorbar": {
              "outlinewidth": 0,
              "ticks": ""
             }
            },
            "type": "scattercarpet"
           }
          ],
          "scattergeo": [
           {
            "marker": {
             "colorbar": {
              "outlinewidth": 0,
              "ticks": ""
             }
            },
            "type": "scattergeo"
           }
          ],
          "scattergl": [
           {
            "marker": {
             "colorbar": {
              "outlinewidth": 0,
              "ticks": ""
             }
            },
            "type": "scattergl"
           }
          ],
          "scattermapbox": [
           {
            "marker": {
             "colorbar": {
              "outlinewidth": 0,
              "ticks": ""
             }
            },
            "type": "scattermapbox"
           }
          ],
          "scatterpolar": [
           {
            "marker": {
             "colorbar": {
              "outlinewidth": 0,
              "ticks": ""
             }
            },
            "type": "scatterpolar"
           }
          ],
          "scatterpolargl": [
           {
            "marker": {
             "colorbar": {
              "outlinewidth": 0,
              "ticks": ""
             }
            },
            "type": "scatterpolargl"
           }
          ],
          "scatterternary": [
           {
            "marker": {
             "colorbar": {
              "outlinewidth": 0,
              "ticks": ""
             }
            },
            "type": "scatterternary"
           }
          ],
          "surface": [
           {
            "colorbar": {
             "outlinewidth": 0,
             "ticks": ""
            },
            "colorscale": [
             [
              0,
              "#0d0887"
             ],
             [
              0.1111111111111111,
              "#46039f"
             ],
             [
              0.2222222222222222,
              "#7201a8"
             ],
             [
              0.3333333333333333,
              "#9c179e"
             ],
             [
              0.4444444444444444,
              "#bd3786"
             ],
             [
              0.5555555555555556,
              "#d8576b"
             ],
             [
              0.6666666666666666,
              "#ed7953"
             ],
             [
              0.7777777777777778,
              "#fb9f3a"
             ],
             [
              0.8888888888888888,
              "#fdca26"
             ],
             [
              1,
              "#f0f921"
             ]
            ],
            "type": "surface"
           }
          ],
          "table": [
           {
            "cells": {
             "fill": {
              "color": "#EBF0F8"
             },
             "line": {
              "color": "white"
             }
            },
            "header": {
             "fill": {
              "color": "#C8D4E3"
             },
             "line": {
              "color": "white"
             }
            },
            "type": "table"
           }
          ]
         },
         "layout": {
          "annotationdefaults": {
           "arrowcolor": "#2a3f5f",
           "arrowhead": 0,
           "arrowwidth": 1
          },
          "autotypenumbers": "strict",
          "coloraxis": {
           "colorbar": {
            "outlinewidth": 0,
            "ticks": ""
           }
          },
          "colorscale": {
           "diverging": [
            [
             0,
             "#8e0152"
            ],
            [
             0.1,
             "#c51b7d"
            ],
            [
             0.2,
             "#de77ae"
            ],
            [
             0.3,
             "#f1b6da"
            ],
            [
             0.4,
             "#fde0ef"
            ],
            [
             0.5,
             "#f7f7f7"
            ],
            [
             0.6,
             "#e6f5d0"
            ],
            [
             0.7,
             "#b8e186"
            ],
            [
             0.8,
             "#7fbc41"
            ],
            [
             0.9,
             "#4d9221"
            ],
            [
             1,
             "#276419"
            ]
           ],
           "sequential": [
            [
             0,
             "#0d0887"
            ],
            [
             0.1111111111111111,
             "#46039f"
            ],
            [
             0.2222222222222222,
             "#7201a8"
            ],
            [
             0.3333333333333333,
             "#9c179e"
            ],
            [
             0.4444444444444444,
             "#bd3786"
            ],
            [
             0.5555555555555556,
             "#d8576b"
            ],
            [
             0.6666666666666666,
             "#ed7953"
            ],
            [
             0.7777777777777778,
             "#fb9f3a"
            ],
            [
             0.8888888888888888,
             "#fdca26"
            ],
            [
             1,
             "#f0f921"
            ]
           ],
           "sequentialminus": [
            [
             0,
             "#0d0887"
            ],
            [
             0.1111111111111111,
             "#46039f"
            ],
            [
             0.2222222222222222,
             "#7201a8"
            ],
            [
             0.3333333333333333,
             "#9c179e"
            ],
            [
             0.4444444444444444,
             "#bd3786"
            ],
            [
             0.5555555555555556,
             "#d8576b"
            ],
            [
             0.6666666666666666,
             "#ed7953"
            ],
            [
             0.7777777777777778,
             "#fb9f3a"
            ],
            [
             0.8888888888888888,
             "#fdca26"
            ],
            [
             1,
             "#f0f921"
            ]
           ]
          },
          "colorway": [
           "#636efa",
           "#EF553B",
           "#00cc96",
           "#ab63fa",
           "#FFA15A",
           "#19d3f3",
           "#FF6692",
           "#B6E880",
           "#FF97FF",
           "#FECB52"
          ],
          "font": {
           "color": "#2a3f5f"
          },
          "geo": {
           "bgcolor": "white",
           "lakecolor": "white",
           "landcolor": "#E5ECF6",
           "showlakes": true,
           "showland": true,
           "subunitcolor": "white"
          },
          "hoverlabel": {
           "align": "left"
          },
          "hovermode": "closest",
          "mapbox": {
           "style": "light"
          },
          "paper_bgcolor": "white",
          "plot_bgcolor": "#E5ECF6",
          "polar": {
           "angularaxis": {
            "gridcolor": "white",
            "linecolor": "white",
            "ticks": ""
           },
           "bgcolor": "#E5ECF6",
           "radialaxis": {
            "gridcolor": "white",
            "linecolor": "white",
            "ticks": ""
           }
          },
          "scene": {
           "xaxis": {
            "backgroundcolor": "#E5ECF6",
            "gridcolor": "white",
            "gridwidth": 2,
            "linecolor": "white",
            "showbackground": true,
            "ticks": "",
            "zerolinecolor": "white"
           },
           "yaxis": {
            "backgroundcolor": "#E5ECF6",
            "gridcolor": "white",
            "gridwidth": 2,
            "linecolor": "white",
            "showbackground": true,
            "ticks": "",
            "zerolinecolor": "white"
           },
           "zaxis": {
            "backgroundcolor": "#E5ECF6",
            "gridcolor": "white",
            "gridwidth": 2,
            "linecolor": "white",
            "showbackground": true,
            "ticks": "",
            "zerolinecolor": "white"
           }
          },
          "shapedefaults": {
           "line": {
            "color": "#2a3f5f"
           }
          },
          "ternary": {
           "aaxis": {
            "gridcolor": "white",
            "linecolor": "white",
            "ticks": ""
           },
           "baxis": {
            "gridcolor": "white",
            "linecolor": "white",
            "ticks": ""
           },
           "bgcolor": "#E5ECF6",
           "caxis": {
            "gridcolor": "white",
            "linecolor": "white",
            "ticks": ""
           }
          },
          "title": {
           "x": 0.05
          },
          "xaxis": {
           "automargin": true,
           "gridcolor": "white",
           "linecolor": "white",
           "ticks": "",
           "title": {
            "standoff": 15
           },
           "zerolinecolor": "white",
           "zerolinewidth": 2
          },
          "yaxis": {
           "automargin": true,
           "gridcolor": "white",
           "linecolor": "white",
           "ticks": "",
           "title": {
            "standoff": 15
           },
           "zerolinecolor": "white",
           "zerolinewidth": 2
          }
         }
        }
       }
      }
     },
     "metadata": {},
     "output_type": "display_data"
    }
   ],
   "source": [
    "\n",
    "fig = px.icicle(df, \n",
    "                path=[px.Constant(\"all\"), 'Period', 'Locality'],\n",
    "                values='Slaves', \n",
    "                color='Locality')\n",
    "\n",
    "fig.update_traces(root_color=\"lightgrey\", \n",
    "                  tiling=dict(orientation='h', flip='x'))\n",
    "\n",
    "fig.show()"
   ]
  },
  {
   "cell_type": "code",
   "execution_count": 33,
   "metadata": {},
   "outputs": [
    {
     "data": {
      "application/vnd.plotly.v1+json": {
       "config": {
        "plotlyServerURL": "https://plot.ly"
       },
       "data": [
        {
         "branchvalues": "total",
         "customdata": [
          [
           "Middlesex County"
          ],
          [
           "Norfolk County"
          ],
          [
           "Norfolk County"
          ],
          [
           "Petersburg City"
          ],
          [
           "Petersburg City"
          ],
          [
           "Prince Edward County"
          ],
          [
           "Middlesex County"
          ],
          [
           "Lancaster County"
          ],
          [
           "Southampton County"
          ],
          [
           "Staunton City"
          ],
          [
           "(?)"
          ],
          [
           "(?)"
          ],
          [
           "(?)"
          ],
          [
           "(?)"
          ],
          [
           "Rockingham County"
          ],
          [
           "Norfolk County"
          ],
          [
           "Southampton County"
          ],
          [
           "Rockingham County"
          ],
          [
           "Norfolk County"
          ],
          [
           "Accomack County"
          ],
          [
           "Goochland County"
          ],
          [
           "Campbell County"
          ],
          [
           "Caroline County"
          ],
          [
           "Frederick County"
          ],
          [
           "Lancaster County"
          ],
          [
           "Arlington County"
          ],
          [
           "Goochland County"
          ],
          [
           "Accomack County"
          ],
          [
           "Goochland County"
          ],
          [
           "Goochland County"
          ],
          [
           "Lancaster County"
          ],
          [
           "Goochland County"
          ],
          [
           "Accomack County"
          ],
          [
           "Norfolk County"
          ],
          [
           "Campbell County"
          ],
          [
           "Campbell County"
          ],
          [
           "Campbell County"
          ],
          [
           "Henry County"
          ],
          [
           "Lancaster County"
          ],
          [
           "(?)"
          ],
          [
           "Petersburg City"
          ],
          [
           "(?)"
          ]
         ],
         "domain": {
          "x": [
           0,
           1
          ],
          "y": [
           0,
           1
          ]
         },
         "hovertemplate": "labels=%{label}<br>Slaves=%{value}<br>parent=%{parent}<br>id=%{id}<br>Locality=%{customdata[0]}<extra></extra>",
         "ids": [
          "all/1760-1780/Middlesex County",
          "all/1821-1840/Norfolk County",
          "all/1841-1860/Norfolk County",
          "all/1781-1800/Petersburg City",
          "all/1801-1820/Petersburg City",
          "all/1781-1800/Prince Edward County",
          "all/1781-1800/Middlesex County",
          "all/1841-1860/Lancaster County",
          "all/1841-1860/Southampton County",
          "all/1821-1840/Staunton City",
          "all/1760-1780",
          "all/1781-1800",
          "all/1801-1820",
          "all/1821-1840",
          "all/1841-1860/Rockingham County",
          "all/1801-1820/Norfolk County",
          "all/1821-1840/Southampton County",
          "all/1781-1800/Rockingham County",
          "all/1760-1780/Norfolk County",
          "all/1760-1780/Accomack County",
          "all/1760-1780/Goochland County",
          "all/1841-1860/Campbell County",
          "all/1781-1800/Caroline County",
          "all/1821-1840/Frederick County",
          "all/1821-1840/Lancaster County",
          "all/1801-1820/Arlington County",
          "all/1781-1800/Goochland County",
          "all/1781-1800/Accomack County",
          "all/1821-1840/Goochland County",
          "all/1841-1860/Goochland County",
          "all/1801-1820/Lancaster County",
          "all/1801-1820/Goochland County",
          "all/1801-1820/Accomack County",
          "all/1781-1800/Norfolk County",
          "all/1821-1840/Campbell County",
          "all/1801-1820/Campbell County",
          "all/1781-1800/Campbell County",
          "all/1821-1840/Henry County",
          "all/1781-1800/Lancaster County",
          "all/1841-1860",
          "all/1821-1840/Petersburg City",
          "all"
         ],
         "labels": [
          "Middlesex County",
          "Norfolk County",
          "Norfolk County",
          "Petersburg City",
          "Petersburg City",
          "Prince Edward County",
          "Middlesex County",
          "Lancaster County",
          "Southampton County",
          "Staunton City",
          "1760-1780",
          "1781-1800",
          "1801-1820",
          "1821-1840",
          "Rockingham County",
          "Norfolk County",
          "Southampton County",
          "Rockingham County",
          "Norfolk County",
          "Accomack County",
          "Goochland County",
          "Campbell County",
          "Caroline County",
          "Frederick County",
          "Lancaster County",
          "Arlington County",
          "Goochland County",
          "Accomack County",
          "Goochland County",
          "Goochland County",
          "Lancaster County",
          "Goochland County",
          "Accomack County",
          "Norfolk County",
          "Campbell County",
          "Campbell County",
          "Campbell County",
          "Henry County",
          "Lancaster County",
          "1841-1860",
          "Petersburg City",
          "all"
         ],
         "marker": {
          "colors": [
           "#636efa",
           "#EF553B",
           "#EF553B",
           "#00cc96",
           "#00cc96",
           "#ab63fa",
           "#636efa",
           "#FFA15A",
           "#19d3f3",
           "#FF6692",
           "#B6E880",
           "#B6E880",
           "#B6E880",
           "#B6E880",
           "#FF97FF",
           "#EF553B",
           "#19d3f3",
           "#FF97FF",
           "#EF553B",
           "#FECB52",
           "#636efa",
           "#EF553B",
           "#00cc96",
           "#ab63fa",
           "#FFA15A",
           "#FFA15A",
           "#636efa",
           "#FECB52",
           "#636efa",
           "#636efa",
           "#FFA15A",
           "#636efa",
           "#FECB52",
           "#EF553B",
           "#EF553B",
           "#EF553B",
           "#EF553B",
           "#19d3f3",
           "#FFA15A",
           "#B6E880",
           "#00cc96",
           "#B6E880"
          ]
         },
         "name": "",
         "parents": [
          "all/1760-1780",
          "all/1821-1840",
          "all/1841-1860",
          "all/1781-1800",
          "all/1801-1820",
          "all/1781-1800",
          "all/1781-1800",
          "all/1841-1860",
          "all/1841-1860",
          "all/1821-1840",
          "all",
          "all",
          "all",
          "all",
          "all/1841-1860",
          "all/1801-1820",
          "all/1821-1840",
          "all/1781-1800",
          "all/1760-1780",
          "all/1760-1780",
          "all/1760-1780",
          "all/1841-1860",
          "all/1781-1800",
          "all/1821-1840",
          "all/1821-1840",
          "all/1801-1820",
          "all/1781-1800",
          "all/1781-1800",
          "all/1821-1840",
          "all/1841-1860",
          "all/1801-1820",
          "all/1801-1820",
          "all/1801-1820",
          "all/1781-1800",
          "all/1821-1840",
          "all/1801-1820",
          "all/1781-1800",
          "all/1821-1840",
          "all/1781-1800",
          "all",
          "all/1821-1840",
          ""
         ],
         "root": {
          "color": "lightgrey"
         },
         "tiling": {
          "flip": "y",
          "orientation": "v"
         },
         "type": "icicle",
         "values": [
          4,
          3,
          1,
          1,
          2,
          5,
          1,
          1,
          1,
          1,
          24,
          172,
          313,
          302,
          1,
          1,
          4,
          14,
          2,
          3,
          15,
          242,
          1,
          2,
          6,
          5,
          20,
          95,
          1,
          107,
          39,
          22,
          137,
          4,
          281,
          107,
          27,
          2,
          4,
          353,
          2,
          1164
         ]
        }
       ],
       "layout": {
        "legend": {
         "tracegroupgap": 0
        },
        "margin": {
         "t": 60
        },
        "template": {
         "data": {
          "bar": [
           {
            "error_x": {
             "color": "#2a3f5f"
            },
            "error_y": {
             "color": "#2a3f5f"
            },
            "marker": {
             "line": {
              "color": "#E5ECF6",
              "width": 0.5
             },
             "pattern": {
              "fillmode": "overlay",
              "size": 10,
              "solidity": 0.2
             }
            },
            "type": "bar"
           }
          ],
          "barpolar": [
           {
            "marker": {
             "line": {
              "color": "#E5ECF6",
              "width": 0.5
             },
             "pattern": {
              "fillmode": "overlay",
              "size": 10,
              "solidity": 0.2
             }
            },
            "type": "barpolar"
           }
          ],
          "carpet": [
           {
            "aaxis": {
             "endlinecolor": "#2a3f5f",
             "gridcolor": "white",
             "linecolor": "white",
             "minorgridcolor": "white",
             "startlinecolor": "#2a3f5f"
            },
            "baxis": {
             "endlinecolor": "#2a3f5f",
             "gridcolor": "white",
             "linecolor": "white",
             "minorgridcolor": "white",
             "startlinecolor": "#2a3f5f"
            },
            "type": "carpet"
           }
          ],
          "choropleth": [
           {
            "colorbar": {
             "outlinewidth": 0,
             "ticks": ""
            },
            "type": "choropleth"
           }
          ],
          "contour": [
           {
            "colorbar": {
             "outlinewidth": 0,
             "ticks": ""
            },
            "colorscale": [
             [
              0,
              "#0d0887"
             ],
             [
              0.1111111111111111,
              "#46039f"
             ],
             [
              0.2222222222222222,
              "#7201a8"
             ],
             [
              0.3333333333333333,
              "#9c179e"
             ],
             [
              0.4444444444444444,
              "#bd3786"
             ],
             [
              0.5555555555555556,
              "#d8576b"
             ],
             [
              0.6666666666666666,
              "#ed7953"
             ],
             [
              0.7777777777777778,
              "#fb9f3a"
             ],
             [
              0.8888888888888888,
              "#fdca26"
             ],
             [
              1,
              "#f0f921"
             ]
            ],
            "type": "contour"
           }
          ],
          "contourcarpet": [
           {
            "colorbar": {
             "outlinewidth": 0,
             "ticks": ""
            },
            "type": "contourcarpet"
           }
          ],
          "heatmap": [
           {
            "colorbar": {
             "outlinewidth": 0,
             "ticks": ""
            },
            "colorscale": [
             [
              0,
              "#0d0887"
             ],
             [
              0.1111111111111111,
              "#46039f"
             ],
             [
              0.2222222222222222,
              "#7201a8"
             ],
             [
              0.3333333333333333,
              "#9c179e"
             ],
             [
              0.4444444444444444,
              "#bd3786"
             ],
             [
              0.5555555555555556,
              "#d8576b"
             ],
             [
              0.6666666666666666,
              "#ed7953"
             ],
             [
              0.7777777777777778,
              "#fb9f3a"
             ],
             [
              0.8888888888888888,
              "#fdca26"
             ],
             [
              1,
              "#f0f921"
             ]
            ],
            "type": "heatmap"
           }
          ],
          "heatmapgl": [
           {
            "colorbar": {
             "outlinewidth": 0,
             "ticks": ""
            },
            "colorscale": [
             [
              0,
              "#0d0887"
             ],
             [
              0.1111111111111111,
              "#46039f"
             ],
             [
              0.2222222222222222,
              "#7201a8"
             ],
             [
              0.3333333333333333,
              "#9c179e"
             ],
             [
              0.4444444444444444,
              "#bd3786"
             ],
             [
              0.5555555555555556,
              "#d8576b"
             ],
             [
              0.6666666666666666,
              "#ed7953"
             ],
             [
              0.7777777777777778,
              "#fb9f3a"
             ],
             [
              0.8888888888888888,
              "#fdca26"
             ],
             [
              1,
              "#f0f921"
             ]
            ],
            "type": "heatmapgl"
           }
          ],
          "histogram": [
           {
            "marker": {
             "pattern": {
              "fillmode": "overlay",
              "size": 10,
              "solidity": 0.2
             }
            },
            "type": "histogram"
           }
          ],
          "histogram2d": [
           {
            "colorbar": {
             "outlinewidth": 0,
             "ticks": ""
            },
            "colorscale": [
             [
              0,
              "#0d0887"
             ],
             [
              0.1111111111111111,
              "#46039f"
             ],
             [
              0.2222222222222222,
              "#7201a8"
             ],
             [
              0.3333333333333333,
              "#9c179e"
             ],
             [
              0.4444444444444444,
              "#bd3786"
             ],
             [
              0.5555555555555556,
              "#d8576b"
             ],
             [
              0.6666666666666666,
              "#ed7953"
             ],
             [
              0.7777777777777778,
              "#fb9f3a"
             ],
             [
              0.8888888888888888,
              "#fdca26"
             ],
             [
              1,
              "#f0f921"
             ]
            ],
            "type": "histogram2d"
           }
          ],
          "histogram2dcontour": [
           {
            "colorbar": {
             "outlinewidth": 0,
             "ticks": ""
            },
            "colorscale": [
             [
              0,
              "#0d0887"
             ],
             [
              0.1111111111111111,
              "#46039f"
             ],
             [
              0.2222222222222222,
              "#7201a8"
             ],
             [
              0.3333333333333333,
              "#9c179e"
             ],
             [
              0.4444444444444444,
              "#bd3786"
             ],
             [
              0.5555555555555556,
              "#d8576b"
             ],
             [
              0.6666666666666666,
              "#ed7953"
             ],
             [
              0.7777777777777778,
              "#fb9f3a"
             ],
             [
              0.8888888888888888,
              "#fdca26"
             ],
             [
              1,
              "#f0f921"
             ]
            ],
            "type": "histogram2dcontour"
           }
          ],
          "mesh3d": [
           {
            "colorbar": {
             "outlinewidth": 0,
             "ticks": ""
            },
            "type": "mesh3d"
           }
          ],
          "parcoords": [
           {
            "line": {
             "colorbar": {
              "outlinewidth": 0,
              "ticks": ""
             }
            },
            "type": "parcoords"
           }
          ],
          "pie": [
           {
            "automargin": true,
            "type": "pie"
           }
          ],
          "scatter": [
           {
            "marker": {
             "colorbar": {
              "outlinewidth": 0,
              "ticks": ""
             }
            },
            "type": "scatter"
           }
          ],
          "scatter3d": [
           {
            "line": {
             "colorbar": {
              "outlinewidth": 0,
              "ticks": ""
             }
            },
            "marker": {
             "colorbar": {
              "outlinewidth": 0,
              "ticks": ""
             }
            },
            "type": "scatter3d"
           }
          ],
          "scattercarpet": [
           {
            "marker": {
             "colorbar": {
              "outlinewidth": 0,
              "ticks": ""
             }
            },
            "type": "scattercarpet"
           }
          ],
          "scattergeo": [
           {
            "marker": {
             "colorbar": {
              "outlinewidth": 0,
              "ticks": ""
             }
            },
            "type": "scattergeo"
           }
          ],
          "scattergl": [
           {
            "marker": {
             "colorbar": {
              "outlinewidth": 0,
              "ticks": ""
             }
            },
            "type": "scattergl"
           }
          ],
          "scattermapbox": [
           {
            "marker": {
             "colorbar": {
              "outlinewidth": 0,
              "ticks": ""
             }
            },
            "type": "scattermapbox"
           }
          ],
          "scatterpolar": [
           {
            "marker": {
             "colorbar": {
              "outlinewidth": 0,
              "ticks": ""
             }
            },
            "type": "scatterpolar"
           }
          ],
          "scatterpolargl": [
           {
            "marker": {
             "colorbar": {
              "outlinewidth": 0,
              "ticks": ""
             }
            },
            "type": "scatterpolargl"
           }
          ],
          "scatterternary": [
           {
            "marker": {
             "colorbar": {
              "outlinewidth": 0,
              "ticks": ""
             }
            },
            "type": "scatterternary"
           }
          ],
          "surface": [
           {
            "colorbar": {
             "outlinewidth": 0,
             "ticks": ""
            },
            "colorscale": [
             [
              0,
              "#0d0887"
             ],
             [
              0.1111111111111111,
              "#46039f"
             ],
             [
              0.2222222222222222,
              "#7201a8"
             ],
             [
              0.3333333333333333,
              "#9c179e"
             ],
             [
              0.4444444444444444,
              "#bd3786"
             ],
             [
              0.5555555555555556,
              "#d8576b"
             ],
             [
              0.6666666666666666,
              "#ed7953"
             ],
             [
              0.7777777777777778,
              "#fb9f3a"
             ],
             [
              0.8888888888888888,
              "#fdca26"
             ],
             [
              1,
              "#f0f921"
             ]
            ],
            "type": "surface"
           }
          ],
          "table": [
           {
            "cells": {
             "fill": {
              "color": "#EBF0F8"
             },
             "line": {
              "color": "white"
             }
            },
            "header": {
             "fill": {
              "color": "#C8D4E3"
             },
             "line": {
              "color": "white"
             }
            },
            "type": "table"
           }
          ]
         },
         "layout": {
          "annotationdefaults": {
           "arrowcolor": "#2a3f5f",
           "arrowhead": 0,
           "arrowwidth": 1
          },
          "autotypenumbers": "strict",
          "coloraxis": {
           "colorbar": {
            "outlinewidth": 0,
            "ticks": ""
           }
          },
          "colorscale": {
           "diverging": [
            [
             0,
             "#8e0152"
            ],
            [
             0.1,
             "#c51b7d"
            ],
            [
             0.2,
             "#de77ae"
            ],
            [
             0.3,
             "#f1b6da"
            ],
            [
             0.4,
             "#fde0ef"
            ],
            [
             0.5,
             "#f7f7f7"
            ],
            [
             0.6,
             "#e6f5d0"
            ],
            [
             0.7,
             "#b8e186"
            ],
            [
             0.8,
             "#7fbc41"
            ],
            [
             0.9,
             "#4d9221"
            ],
            [
             1,
             "#276419"
            ]
           ],
           "sequential": [
            [
             0,
             "#0d0887"
            ],
            [
             0.1111111111111111,
             "#46039f"
            ],
            [
             0.2222222222222222,
             "#7201a8"
            ],
            [
             0.3333333333333333,
             "#9c179e"
            ],
            [
             0.4444444444444444,
             "#bd3786"
            ],
            [
             0.5555555555555556,
             "#d8576b"
            ],
            [
             0.6666666666666666,
             "#ed7953"
            ],
            [
             0.7777777777777778,
             "#fb9f3a"
            ],
            [
             0.8888888888888888,
             "#fdca26"
            ],
            [
             1,
             "#f0f921"
            ]
           ],
           "sequentialminus": [
            [
             0,
             "#0d0887"
            ],
            [
             0.1111111111111111,
             "#46039f"
            ],
            [
             0.2222222222222222,
             "#7201a8"
            ],
            [
             0.3333333333333333,
             "#9c179e"
            ],
            [
             0.4444444444444444,
             "#bd3786"
            ],
            [
             0.5555555555555556,
             "#d8576b"
            ],
            [
             0.6666666666666666,
             "#ed7953"
            ],
            [
             0.7777777777777778,
             "#fb9f3a"
            ],
            [
             0.8888888888888888,
             "#fdca26"
            ],
            [
             1,
             "#f0f921"
            ]
           ]
          },
          "colorway": [
           "#636efa",
           "#EF553B",
           "#00cc96",
           "#ab63fa",
           "#FFA15A",
           "#19d3f3",
           "#FF6692",
           "#B6E880",
           "#FF97FF",
           "#FECB52"
          ],
          "font": {
           "color": "#2a3f5f"
          },
          "geo": {
           "bgcolor": "white",
           "lakecolor": "white",
           "landcolor": "#E5ECF6",
           "showlakes": true,
           "showland": true,
           "subunitcolor": "white"
          },
          "hoverlabel": {
           "align": "left"
          },
          "hovermode": "closest",
          "mapbox": {
           "style": "light"
          },
          "paper_bgcolor": "white",
          "plot_bgcolor": "#E5ECF6",
          "polar": {
           "angularaxis": {
            "gridcolor": "white",
            "linecolor": "white",
            "ticks": ""
           },
           "bgcolor": "#E5ECF6",
           "radialaxis": {
            "gridcolor": "white",
            "linecolor": "white",
            "ticks": ""
           }
          },
          "scene": {
           "xaxis": {
            "backgroundcolor": "#E5ECF6",
            "gridcolor": "white",
            "gridwidth": 2,
            "linecolor": "white",
            "showbackground": true,
            "ticks": "",
            "zerolinecolor": "white"
           },
           "yaxis": {
            "backgroundcolor": "#E5ECF6",
            "gridcolor": "white",
            "gridwidth": 2,
            "linecolor": "white",
            "showbackground": true,
            "ticks": "",
            "zerolinecolor": "white"
           },
           "zaxis": {
            "backgroundcolor": "#E5ECF6",
            "gridcolor": "white",
            "gridwidth": 2,
            "linecolor": "white",
            "showbackground": true,
            "ticks": "",
            "zerolinecolor": "white"
           }
          },
          "shapedefaults": {
           "line": {
            "color": "#2a3f5f"
           }
          },
          "ternary": {
           "aaxis": {
            "gridcolor": "white",
            "linecolor": "white",
            "ticks": ""
           },
           "baxis": {
            "gridcolor": "white",
            "linecolor": "white",
            "ticks": ""
           },
           "bgcolor": "#E5ECF6",
           "caxis": {
            "gridcolor": "white",
            "linecolor": "white",
            "ticks": ""
           }
          },
          "title": {
           "x": 0.05
          },
          "xaxis": {
           "automargin": true,
           "gridcolor": "white",
           "linecolor": "white",
           "ticks": "",
           "title": {
            "standoff": 15
           },
           "zerolinecolor": "white",
           "zerolinewidth": 2
          },
          "yaxis": {
           "automargin": true,
           "gridcolor": "white",
           "linecolor": "white",
           "ticks": "",
           "title": {
            "standoff": 15
           },
           "zerolinecolor": "white",
           "zerolinewidth": 2
          }
         }
        }
       }
      }
     },
     "metadata": {},
     "output_type": "display_data"
    }
   ],
   "source": [
    "\n",
    "fig = px.icicle(df, \n",
    "                path=[px.Constant(\"all\"), 'Period', 'Locality'],\n",
    "                values='Slaves', \n",
    "                color='Locality')\n",
    "\n",
    "fig.update_traces(root_color=\"lightgrey\", \n",
    "                  tiling=dict(orientation='v', flip='y'))\n",
    "\n",
    "fig.show()"
   ]
  },
  {
   "cell_type": "code",
   "execution_count": 34,
   "metadata": {},
   "outputs": [
    {
     "data": {
      "application/vnd.plotly.v1+json": {
       "config": {
        "plotlyServerURL": "https://plot.ly"
       },
       "data": [
        {
         "branchvalues": "total",
         "domain": {
          "x": [
           0,
           1
          ],
          "y": [
           0,
           1
          ]
         },
         "hovertemplate": "labels=%{label}<br>Slaves=%{value}<br>parent=%{parent}<br>id=%{id}<extra></extra>",
         "ids": [
          "all/1760-1780/Accomack County",
          "all/1781-1800/Accomack County",
          "all/1801-1820/Accomack County",
          "all/1801-1820/Arlington County",
          "all/1781-1800/Campbell County",
          "all/1801-1820/Campbell County",
          "all/1821-1840/Campbell County",
          "all/1841-1860/Campbell County",
          "all/1781-1800/Caroline County",
          "all/1821-1840/Frederick County",
          "all/1760-1780/Goochland County",
          "all/1781-1800/Goochland County",
          "all/1801-1820/Goochland County",
          "all/1821-1840/Goochland County",
          "all/1841-1860/Goochland County",
          "all/1821-1840/Henry County",
          "all/1781-1800/Lancaster County",
          "all/1801-1820/Lancaster County",
          "all/1821-1840/Lancaster County",
          "all/1841-1860/Lancaster County",
          "all/1760-1780/Middlesex County",
          "all/1781-1800/Middlesex County",
          "all/1760-1780/Norfolk County",
          "all/1781-1800/Norfolk County",
          "all/1801-1820/Norfolk County",
          "all/1821-1840/Norfolk County",
          "all/1841-1860/Norfolk County",
          "all/1781-1800/Petersburg City",
          "all/1801-1820/Petersburg City",
          "all/1821-1840/Petersburg City",
          "all/1781-1800/Prince Edward County",
          "all/1781-1800/Rockingham County",
          "all/1841-1860/Rockingham County",
          "all/1821-1840/Southampton County",
          "all/1841-1860/Southampton County",
          "all/1821-1840/Staunton City",
          "all/1760-1780",
          "all/1781-1800",
          "all/1801-1820",
          "all/1821-1840",
          "all/1841-1860",
          "all"
         ],
         "labels": [
          "Accomack County",
          "Accomack County",
          "Accomack County",
          "Arlington County",
          "Campbell County",
          "Campbell County",
          "Campbell County",
          "Campbell County",
          "Caroline County",
          "Frederick County",
          "Goochland County",
          "Goochland County",
          "Goochland County",
          "Goochland County",
          "Goochland County",
          "Henry County",
          "Lancaster County",
          "Lancaster County",
          "Lancaster County",
          "Lancaster County",
          "Middlesex County",
          "Middlesex County",
          "Norfolk County",
          "Norfolk County",
          "Norfolk County",
          "Norfolk County",
          "Norfolk County",
          "Petersburg City",
          "Petersburg City",
          "Petersburg City",
          "Prince Edward County",
          "Rockingham County",
          "Rockingham County",
          "Southampton County",
          "Southampton County",
          "Staunton City",
          "1760-1780",
          "1781-1800",
          "1801-1820",
          "1821-1840",
          "1841-1860",
          "all"
         ],
         "maxdepth": 2,
         "name": "",
         "parents": [
          "all/1760-1780",
          "all/1781-1800",
          "all/1801-1820",
          "all/1801-1820",
          "all/1781-1800",
          "all/1801-1820",
          "all/1821-1840",
          "all/1841-1860",
          "all/1781-1800",
          "all/1821-1840",
          "all/1760-1780",
          "all/1781-1800",
          "all/1801-1820",
          "all/1821-1840",
          "all/1841-1860",
          "all/1821-1840",
          "all/1781-1800",
          "all/1801-1820",
          "all/1821-1840",
          "all/1841-1860",
          "all/1760-1780",
          "all/1781-1800",
          "all/1760-1780",
          "all/1781-1800",
          "all/1801-1820",
          "all/1821-1840",
          "all/1841-1860",
          "all/1781-1800",
          "all/1801-1820",
          "all/1821-1840",
          "all/1781-1800",
          "all/1781-1800",
          "all/1841-1860",
          "all/1821-1840",
          "all/1841-1860",
          "all/1821-1840",
          "all",
          "all",
          "all",
          "all",
          "all",
          ""
         ],
         "type": "icicle",
         "values": [
          3,
          95,
          137,
          5,
          27,
          107,
          281,
          242,
          1,
          2,
          15,
          20,
          22,
          1,
          107,
          2,
          4,
          39,
          6,
          1,
          4,
          1,
          2,
          4,
          1,
          3,
          1,
          1,
          2,
          2,
          5,
          14,
          1,
          4,
          1,
          1,
          24,
          172,
          313,
          302,
          353,
          1164
         ]
        }
       ],
       "layout": {
        "legend": {
         "tracegroupgap": 0
        },
        "margin": {
         "t": 60
        },
        "template": {
         "data": {
          "bar": [
           {
            "error_x": {
             "color": "#2a3f5f"
            },
            "error_y": {
             "color": "#2a3f5f"
            },
            "marker": {
             "line": {
              "color": "#E5ECF6",
              "width": 0.5
             },
             "pattern": {
              "fillmode": "overlay",
              "size": 10,
              "solidity": 0.2
             }
            },
            "type": "bar"
           }
          ],
          "barpolar": [
           {
            "marker": {
             "line": {
              "color": "#E5ECF6",
              "width": 0.5
             },
             "pattern": {
              "fillmode": "overlay",
              "size": 10,
              "solidity": 0.2
             }
            },
            "type": "barpolar"
           }
          ],
          "carpet": [
           {
            "aaxis": {
             "endlinecolor": "#2a3f5f",
             "gridcolor": "white",
             "linecolor": "white",
             "minorgridcolor": "white",
             "startlinecolor": "#2a3f5f"
            },
            "baxis": {
             "endlinecolor": "#2a3f5f",
             "gridcolor": "white",
             "linecolor": "white",
             "minorgridcolor": "white",
             "startlinecolor": "#2a3f5f"
            },
            "type": "carpet"
           }
          ],
          "choropleth": [
           {
            "colorbar": {
             "outlinewidth": 0,
             "ticks": ""
            },
            "type": "choropleth"
           }
          ],
          "contour": [
           {
            "colorbar": {
             "outlinewidth": 0,
             "ticks": ""
            },
            "colorscale": [
             [
              0,
              "#0d0887"
             ],
             [
              0.1111111111111111,
              "#46039f"
             ],
             [
              0.2222222222222222,
              "#7201a8"
             ],
             [
              0.3333333333333333,
              "#9c179e"
             ],
             [
              0.4444444444444444,
              "#bd3786"
             ],
             [
              0.5555555555555556,
              "#d8576b"
             ],
             [
              0.6666666666666666,
              "#ed7953"
             ],
             [
              0.7777777777777778,
              "#fb9f3a"
             ],
             [
              0.8888888888888888,
              "#fdca26"
             ],
             [
              1,
              "#f0f921"
             ]
            ],
            "type": "contour"
           }
          ],
          "contourcarpet": [
           {
            "colorbar": {
             "outlinewidth": 0,
             "ticks": ""
            },
            "type": "contourcarpet"
           }
          ],
          "heatmap": [
           {
            "colorbar": {
             "outlinewidth": 0,
             "ticks": ""
            },
            "colorscale": [
             [
              0,
              "#0d0887"
             ],
             [
              0.1111111111111111,
              "#46039f"
             ],
             [
              0.2222222222222222,
              "#7201a8"
             ],
             [
              0.3333333333333333,
              "#9c179e"
             ],
             [
              0.4444444444444444,
              "#bd3786"
             ],
             [
              0.5555555555555556,
              "#d8576b"
             ],
             [
              0.6666666666666666,
              "#ed7953"
             ],
             [
              0.7777777777777778,
              "#fb9f3a"
             ],
             [
              0.8888888888888888,
              "#fdca26"
             ],
             [
              1,
              "#f0f921"
             ]
            ],
            "type": "heatmap"
           }
          ],
          "heatmapgl": [
           {
            "colorbar": {
             "outlinewidth": 0,
             "ticks": ""
            },
            "colorscale": [
             [
              0,
              "#0d0887"
             ],
             [
              0.1111111111111111,
              "#46039f"
             ],
             [
              0.2222222222222222,
              "#7201a8"
             ],
             [
              0.3333333333333333,
              "#9c179e"
             ],
             [
              0.4444444444444444,
              "#bd3786"
             ],
             [
              0.5555555555555556,
              "#d8576b"
             ],
             [
              0.6666666666666666,
              "#ed7953"
             ],
             [
              0.7777777777777778,
              "#fb9f3a"
             ],
             [
              0.8888888888888888,
              "#fdca26"
             ],
             [
              1,
              "#f0f921"
             ]
            ],
            "type": "heatmapgl"
           }
          ],
          "histogram": [
           {
            "marker": {
             "pattern": {
              "fillmode": "overlay",
              "size": 10,
              "solidity": 0.2
             }
            },
            "type": "histogram"
           }
          ],
          "histogram2d": [
           {
            "colorbar": {
             "outlinewidth": 0,
             "ticks": ""
            },
            "colorscale": [
             [
              0,
              "#0d0887"
             ],
             [
              0.1111111111111111,
              "#46039f"
             ],
             [
              0.2222222222222222,
              "#7201a8"
             ],
             [
              0.3333333333333333,
              "#9c179e"
             ],
             [
              0.4444444444444444,
              "#bd3786"
             ],
             [
              0.5555555555555556,
              "#d8576b"
             ],
             [
              0.6666666666666666,
              "#ed7953"
             ],
             [
              0.7777777777777778,
              "#fb9f3a"
             ],
             [
              0.8888888888888888,
              "#fdca26"
             ],
             [
              1,
              "#f0f921"
             ]
            ],
            "type": "histogram2d"
           }
          ],
          "histogram2dcontour": [
           {
            "colorbar": {
             "outlinewidth": 0,
             "ticks": ""
            },
            "colorscale": [
             [
              0,
              "#0d0887"
             ],
             [
              0.1111111111111111,
              "#46039f"
             ],
             [
              0.2222222222222222,
              "#7201a8"
             ],
             [
              0.3333333333333333,
              "#9c179e"
             ],
             [
              0.4444444444444444,
              "#bd3786"
             ],
             [
              0.5555555555555556,
              "#d8576b"
             ],
             [
              0.6666666666666666,
              "#ed7953"
             ],
             [
              0.7777777777777778,
              "#fb9f3a"
             ],
             [
              0.8888888888888888,
              "#fdca26"
             ],
             [
              1,
              "#f0f921"
             ]
            ],
            "type": "histogram2dcontour"
           }
          ],
          "mesh3d": [
           {
            "colorbar": {
             "outlinewidth": 0,
             "ticks": ""
            },
            "type": "mesh3d"
           }
          ],
          "parcoords": [
           {
            "line": {
             "colorbar": {
              "outlinewidth": 0,
              "ticks": ""
             }
            },
            "type": "parcoords"
           }
          ],
          "pie": [
           {
            "automargin": true,
            "type": "pie"
           }
          ],
          "scatter": [
           {
            "marker": {
             "colorbar": {
              "outlinewidth": 0,
              "ticks": ""
             }
            },
            "type": "scatter"
           }
          ],
          "scatter3d": [
           {
            "line": {
             "colorbar": {
              "outlinewidth": 0,
              "ticks": ""
             }
            },
            "marker": {
             "colorbar": {
              "outlinewidth": 0,
              "ticks": ""
             }
            },
            "type": "scatter3d"
           }
          ],
          "scattercarpet": [
           {
            "marker": {
             "colorbar": {
              "outlinewidth": 0,
              "ticks": ""
             }
            },
            "type": "scattercarpet"
           }
          ],
          "scattergeo": [
           {
            "marker": {
             "colorbar": {
              "outlinewidth": 0,
              "ticks": ""
             }
            },
            "type": "scattergeo"
           }
          ],
          "scattergl": [
           {
            "marker": {
             "colorbar": {
              "outlinewidth": 0,
              "ticks": ""
             }
            },
            "type": "scattergl"
           }
          ],
          "scattermapbox": [
           {
            "marker": {
             "colorbar": {
              "outlinewidth": 0,
              "ticks": ""
             }
            },
            "type": "scattermapbox"
           }
          ],
          "scatterpolar": [
           {
            "marker": {
             "colorbar": {
              "outlinewidth": 0,
              "ticks": ""
             }
            },
            "type": "scatterpolar"
           }
          ],
          "scatterpolargl": [
           {
            "marker": {
             "colorbar": {
              "outlinewidth": 0,
              "ticks": ""
             }
            },
            "type": "scatterpolargl"
           }
          ],
          "scatterternary": [
           {
            "marker": {
             "colorbar": {
              "outlinewidth": 0,
              "ticks": ""
             }
            },
            "type": "scatterternary"
           }
          ],
          "surface": [
           {
            "colorbar": {
             "outlinewidth": 0,
             "ticks": ""
            },
            "colorscale": [
             [
              0,
              "#0d0887"
             ],
             [
              0.1111111111111111,
              "#46039f"
             ],
             [
              0.2222222222222222,
              "#7201a8"
             ],
             [
              0.3333333333333333,
              "#9c179e"
             ],
             [
              0.4444444444444444,
              "#bd3786"
             ],
             [
              0.5555555555555556,
              "#d8576b"
             ],
             [
              0.6666666666666666,
              "#ed7953"
             ],
             [
              0.7777777777777778,
              "#fb9f3a"
             ],
             [
              0.8888888888888888,
              "#fdca26"
             ],
             [
              1,
              "#f0f921"
             ]
            ],
            "type": "surface"
           }
          ],
          "table": [
           {
            "cells": {
             "fill": {
              "color": "#EBF0F8"
             },
             "line": {
              "color": "white"
             }
            },
            "header": {
             "fill": {
              "color": "#C8D4E3"
             },
             "line": {
              "color": "white"
             }
            },
            "type": "table"
           }
          ]
         },
         "layout": {
          "annotationdefaults": {
           "arrowcolor": "#2a3f5f",
           "arrowhead": 0,
           "arrowwidth": 1
          },
          "autotypenumbers": "strict",
          "coloraxis": {
           "colorbar": {
            "outlinewidth": 0,
            "ticks": ""
           }
          },
          "colorscale": {
           "diverging": [
            [
             0,
             "#8e0152"
            ],
            [
             0.1,
             "#c51b7d"
            ],
            [
             0.2,
             "#de77ae"
            ],
            [
             0.3,
             "#f1b6da"
            ],
            [
             0.4,
             "#fde0ef"
            ],
            [
             0.5,
             "#f7f7f7"
            ],
            [
             0.6,
             "#e6f5d0"
            ],
            [
             0.7,
             "#b8e186"
            ],
            [
             0.8,
             "#7fbc41"
            ],
            [
             0.9,
             "#4d9221"
            ],
            [
             1,
             "#276419"
            ]
           ],
           "sequential": [
            [
             0,
             "#0d0887"
            ],
            [
             0.1111111111111111,
             "#46039f"
            ],
            [
             0.2222222222222222,
             "#7201a8"
            ],
            [
             0.3333333333333333,
             "#9c179e"
            ],
            [
             0.4444444444444444,
             "#bd3786"
            ],
            [
             0.5555555555555556,
             "#d8576b"
            ],
            [
             0.6666666666666666,
             "#ed7953"
            ],
            [
             0.7777777777777778,
             "#fb9f3a"
            ],
            [
             0.8888888888888888,
             "#fdca26"
            ],
            [
             1,
             "#f0f921"
            ]
           ],
           "sequentialminus": [
            [
             0,
             "#0d0887"
            ],
            [
             0.1111111111111111,
             "#46039f"
            ],
            [
             0.2222222222222222,
             "#7201a8"
            ],
            [
             0.3333333333333333,
             "#9c179e"
            ],
            [
             0.4444444444444444,
             "#bd3786"
            ],
            [
             0.5555555555555556,
             "#d8576b"
            ],
            [
             0.6666666666666666,
             "#ed7953"
            ],
            [
             0.7777777777777778,
             "#fb9f3a"
            ],
            [
             0.8888888888888888,
             "#fdca26"
            ],
            [
             1,
             "#f0f921"
            ]
           ]
          },
          "colorway": [
           "#636efa",
           "#EF553B",
           "#00cc96",
           "#ab63fa",
           "#FFA15A",
           "#19d3f3",
           "#FF6692",
           "#B6E880",
           "#FF97FF",
           "#FECB52"
          ],
          "font": {
           "color": "#2a3f5f"
          },
          "geo": {
           "bgcolor": "white",
           "lakecolor": "white",
           "landcolor": "#E5ECF6",
           "showlakes": true,
           "showland": true,
           "subunitcolor": "white"
          },
          "hoverlabel": {
           "align": "left"
          },
          "hovermode": "closest",
          "mapbox": {
           "style": "light"
          },
          "paper_bgcolor": "white",
          "plot_bgcolor": "#E5ECF6",
          "polar": {
           "angularaxis": {
            "gridcolor": "white",
            "linecolor": "white",
            "ticks": ""
           },
           "bgcolor": "#E5ECF6",
           "radialaxis": {
            "gridcolor": "white",
            "linecolor": "white",
            "ticks": ""
           }
          },
          "scene": {
           "xaxis": {
            "backgroundcolor": "#E5ECF6",
            "gridcolor": "white",
            "gridwidth": 2,
            "linecolor": "white",
            "showbackground": true,
            "ticks": "",
            "zerolinecolor": "white"
           },
           "yaxis": {
            "backgroundcolor": "#E5ECF6",
            "gridcolor": "white",
            "gridwidth": 2,
            "linecolor": "white",
            "showbackground": true,
            "ticks": "",
            "zerolinecolor": "white"
           },
           "zaxis": {
            "backgroundcolor": "#E5ECF6",
            "gridcolor": "white",
            "gridwidth": 2,
            "linecolor": "white",
            "showbackground": true,
            "ticks": "",
            "zerolinecolor": "white"
           }
          },
          "shapedefaults": {
           "line": {
            "color": "#2a3f5f"
           }
          },
          "ternary": {
           "aaxis": {
            "gridcolor": "white",
            "linecolor": "white",
            "ticks": ""
           },
           "baxis": {
            "gridcolor": "white",
            "linecolor": "white",
            "ticks": ""
           },
           "bgcolor": "#E5ECF6",
           "caxis": {
            "gridcolor": "white",
            "linecolor": "white",
            "ticks": ""
           }
          },
          "title": {
           "x": 0.05
          },
          "xaxis": {
           "automargin": true,
           "gridcolor": "white",
           "linecolor": "white",
           "ticks": "",
           "title": {
            "standoff": 15
           },
           "zerolinecolor": "white",
           "zerolinewidth": 2
          },
          "yaxis": {
           "automargin": true,
           "gridcolor": "white",
           "linecolor": "white",
           "ticks": "",
           "title": {
            "standoff": 15
           },
           "zerolinecolor": "white",
           "zerolinewidth": 2
          }
         }
        }
       }
      }
     },
     "metadata": {},
     "output_type": "display_data"
    }
   ],
   "source": [
    "\n",
    "fig = px.icicle(df, \n",
    "                path=[px.Constant(\"all\"), 'Period', 'Locality'],\n",
    "                values='Slaves', \n",
    "                maxdepth=2)\n",
    "\n",
    "fig.show()"
   ]
  },
  {
   "cell_type": "code",
   "execution_count": null,
   "metadata": {},
   "outputs": [],
   "source": []
  }
 ],
 "metadata": {
  "interpreter": {
   "hash": "38cca0c38332a56087b24af0bc80247f4fced29cb4f7f437d91dc159adec9c4e"
  },
  "kernelspec": {
   "display_name": "Python 3.9.7 ('base')",
   "language": "python",
   "name": "python3"
  },
  "language_info": {
   "codemirror_mode": {
    "name": "ipython",
    "version": 3
   },
   "file_extension": ".py",
   "mimetype": "text/x-python",
   "name": "python",
   "nbconvert_exporter": "python",
   "pygments_lexer": "ipython3",
   "version": "3.9.7"
  },
  "orig_nbformat": 4
 },
 "nbformat": 4,
 "nbformat_minor": 2
}
