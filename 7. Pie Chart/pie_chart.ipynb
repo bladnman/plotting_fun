{
 "cells": [
  {
   "cell_type": "markdown",
   "metadata": {},
   "source": [
    "# Pie Chart\n",
    "\n",
    "The Pie Chart: using Plotly Express & Python, this tutorial will teach you everything about the Pie chart. How to build it, shape it, style it, and slice the data. We will be using real-life data on the Coronavirus. \n",
    "\n",
    "🎥 [Video](https://www.youtube.com/watch?v=BBg7aV8UBnA&list=PLh3I780jNsiTXlWYiNWjq2rBgg3UsL1Ub&index=8)\n",
    "🔗 [The Code](https://github.com/Coding-with-Adam/Dash-by-Plotly/blob/master/Plotly_Graphs/Pie/pie.py)\n",
    "🔗 [The Data](https://drive.google.com/file/d/1lprY2tp86VLFQ3PrjIe_g_w5kPtqdoTr/view)\n",
    "🔗 [Pie Charts with Plotly](https://plotly.com/python/pie-charts/)\n",
    "🔗 [Pie Chart Documentation](https://plotly.com/python-api-reference/generated/plotly.express.pie.html#plotly.express.pie)\n",
    "🔗 [Pie Chart Layout Reference](https://plotly.com/python-api-reference/generated/plotly.graph_objects.Pie.html#plotly.graph_objects.Pie)"
   ]
  },
  {
   "cell_type": "code",
   "execution_count": 2,
   "metadata": {},
   "outputs": [
    {
     "data": {
      "text/html": [
       "<div>\n",
       "<style scoped>\n",
       "    .dataframe tbody tr th:only-of-type {\n",
       "        vertical-align: middle;\n",
       "    }\n",
       "\n",
       "    .dataframe tbody tr th {\n",
       "        vertical-align: top;\n",
       "    }\n",
       "\n",
       "    .dataframe thead th {\n",
       "        text-align: right;\n",
       "    }\n",
       "</style>\n",
       "<table border=\"1\" class=\"dataframe\">\n",
       "  <thead>\n",
       "    <tr style=\"text-align: right;\">\n",
       "      <th></th>\n",
       "      <th>date</th>\n",
       "      <th>state</th>\n",
       "      <th>positive</th>\n",
       "      <th>negative</th>\n",
       "      <th>pending</th>\n",
       "      <th>death</th>\n",
       "      <th>total</th>\n",
       "      <th>dateChecked</th>\n",
       "    </tr>\n",
       "  </thead>\n",
       "  <tbody>\n",
       "    <tr>\n",
       "      <th>4</th>\n",
       "      <td>20200317</td>\n",
       "      <td>CA</td>\n",
       "      <td>483.0</td>\n",
       "      <td>7981.0</td>\n",
       "      <td>NaN</td>\n",
       "      <td>11.0</td>\n",
       "      <td>8407.0</td>\n",
       "      <td>2020-03-17 20:00:00+00:00</td>\n",
       "    </tr>\n",
       "    <tr>\n",
       "      <th>9</th>\n",
       "      <td>20200317</td>\n",
       "      <td>FL</td>\n",
       "      <td>186.0</td>\n",
       "      <td>940.0</td>\n",
       "      <td>NaN</td>\n",
       "      <td>6.0</td>\n",
       "      <td>1126.0</td>\n",
       "      <td>2020-03-17 20:00:00+00:00</td>\n",
       "    </tr>\n",
       "    <tr>\n",
       "      <th>34</th>\n",
       "      <td>20200317</td>\n",
       "      <td>NY</td>\n",
       "      <td>1700.0</td>\n",
       "      <td>5506.0</td>\n",
       "      <td>NaN</td>\n",
       "      <td>7.0</td>\n",
       "      <td>7206.0</td>\n",
       "      <td>2020-03-17 20:00:00+00:00</td>\n",
       "    </tr>\n",
       "    <tr>\n",
       "      <th>47</th>\n",
       "      <td>20200317</td>\n",
       "      <td>WA</td>\n",
       "      <td>904.0</td>\n",
       "      <td>11582.0</td>\n",
       "      <td>NaN</td>\n",
       "      <td>48.0</td>\n",
       "      <td>12486.0</td>\n",
       "      <td>2020-03-17 20:00:00+00:00</td>\n",
       "    </tr>\n",
       "  </tbody>\n",
       "</table>\n",
       "</div>"
      ],
      "text/plain": [
       "        date state  positive  negative  pending  death    total  \\\n",
       "4   20200317    CA     483.0    7981.0      NaN   11.0   8407.0   \n",
       "9   20200317    FL     186.0     940.0      NaN    6.0   1126.0   \n",
       "34  20200317    NY    1700.0    5506.0      NaN    7.0   7206.0   \n",
       "47  20200317    WA     904.0   11582.0      NaN   48.0  12486.0   \n",
       "\n",
       "                 dateChecked  \n",
       "4  2020-03-17 20:00:00+00:00  \n",
       "9  2020-03-17 20:00:00+00:00  \n",
       "34 2020-03-17 20:00:00+00:00  \n",
       "47 2020-03-17 20:00:00+00:00  "
      ]
     },
     "execution_count": 2,
     "metadata": {},
     "output_type": "execute_result"
    }
   ],
   "source": [
    "import pandas as pd     #(version 1.0.0)\n",
    "import plotly           #(version 4.5.4) #pip install plotly==4.5.4\n",
    "import plotly.express as px\n",
    "import plotly.io as pio\n",
    "\n",
    "#------------------------------------------------------------------------\n",
    "# Filter the data\n",
    "# Data from https://covidtracking.com/api/\n",
    "df = pd.read_csv(\"covid-19-states-daily.csv\")\n",
    "df['dateChecked'] = pd.to_datetime(df['dateChecked'])\n",
    "df = df[df['dateChecked'].dt.date.astype(str) == '2020-03-17']\n",
    "df = df[df['death'] >= 5]\n",
    "\n",
    "df"
   ]
  },
  {
   "cell_type": "code",
   "execution_count": 5,
   "metadata": {},
   "outputs": [
    {
     "data": {
      "application/vnd.plotly.v1+json": {
       "config": {
        "plotlyServerURL": "https://plot.ly"
       },
       "data": [
        {
         "customdata": [
          [
           "CA"
          ],
          [
           "FL"
          ],
          [
           "NY"
          ],
          [
           "WA"
          ]
         ],
         "domain": {
          "x": [
           0,
           1
          ],
          "y": [
           0,
           1
          ]
         },
         "hole": 0.5,
         "hovertemplate": "<b>%{hovertext}</b><br><br>the State=%{customdata[0]}<br>death=%{value}<extra></extra>",
         "hovertext": [
          7981,
          940,
          5506,
          11582
         ],
         "labels": [
          "CA",
          "FL",
          "NY",
          "WA"
         ],
         "legendgroup": "",
         "marker": {
          "colors": [
           "red",
           "green",
           "blue",
           "orange"
          ]
         },
         "name": "",
         "showlegend": true,
         "type": "pie",
         "values": [
          11,
          6,
          7,
          48
         ]
        }
       ],
       "layout": {
        "height": 600,
        "legend": {
         "tracegroupgap": 0
        },
        "piecolorway": [
         "red",
         "green",
         "blue",
         "orange"
        ],
        "template": {
         "data": {
          "pie": [
           {
            "automargin": true,
            "type": "pie"
           }
          ],
          "scatter": [
           {
            "line": {
             "width": 3
            },
            "marker": {
             "size": 9
            },
            "type": "scatter"
           }
          ],
          "scatter3d": [
           {
            "line": {
             "width": 3
            },
            "marker": {
             "size": 9
            },
            "type": "scatter3d"
           }
          ],
          "scattergeo": [
           {
            "line": {
             "width": 3
            },
            "marker": {
             "size": 9
            },
            "type": "scattergeo"
           }
          ],
          "scattergl": [
           {
            "line": {
             "width": 3
            },
            "marker": {
             "size": 9
            },
            "type": "scattergl"
           }
          ],
          "scatterpolar": [
           {
            "line": {
             "width": 3
            },
            "marker": {
             "size": 9
            },
            "type": "scatterpolar"
           }
          ],
          "scatterpolargl": [
           {
            "line": {
             "width": 3
            },
            "marker": {
             "size": 9
            },
            "type": "scatterpolargl"
           }
          ],
          "scatterternary": [
           {
            "line": {
             "width": 3
            },
            "marker": {
             "size": 9
            },
            "type": "scatterternary"
           }
          ],
          "table": [
           {
            "cells": {
             "height": 30
            },
            "header": {
             "height": 36
            },
            "type": "table"
           }
          ]
         },
         "layout": {
          "font": {
           "size": 18
          },
          "xaxis": {
           "title": {
            "standoff": 15
           }
          },
          "yaxis": {
           "title": {
            "standoff": 15
           }
          }
         }
        },
        "title": {
         "text": "Coronavirus in the USA"
        },
        "width": 800
       }
      }
     },
     "metadata": {},
     "output_type": "display_data"
    }
   ],
   "source": [
    "\n",
    "pie_chart = px.pie(\n",
    "        data_frame=df,\n",
    "        values='death',\n",
    "        names='state',\n",
    "        color='state',                      #differentiate markers (discrete) by color\n",
    "        color_discrete_sequence=[\"red\",\"green\",\"blue\",\"orange\"],     #set marker colors\n",
    "        # color_discrete_map={\"WA\":\"yellow\",\"CA\":\"red\",\"NY\":\"black\",\"FL\":\"brown\"},\n",
    "        hover_name='negative',              #values appear in bold in the hover tooltip\n",
    "        # hover_data=['positive'],            #values appear as extra data in the hover tooltip\n",
    "        # custom_data=['total'],              #values are extra data to be used in Dash callbacks\n",
    "        labels={\"state\":\"the State\"},       #map the labels\n",
    "        title='Coronavirus in the USA',     #figure title\n",
    "        template='presentation',            #'ggplot2', 'seaborn', 'simple_white', 'plotly',\n",
    "                                            #'plotly_white', 'plotly_dark', 'presentation',\n",
    "                                            #'xgridoff', 'ygridoff', 'gridon', 'none'\n",
    "        width=800,                          #figure width in pixels\n",
    "        height=600,                         #figure height in pixels\n",
    "        hole=0.5,                           #represents the hole in middle of pie\n",
    "        )\n",
    "\n",
    "\n",
    "pio.show(pie_chart)"
   ]
  },
  {
   "cell_type": "code",
   "execution_count": 6,
   "metadata": {},
   "outputs": [
    {
     "data": {
      "application/vnd.plotly.v1+json": {
       "config": {
        "plotlyServerURL": "https://plot.ly"
       },
       "data": [
        {
         "customdata": [
          [
           "CA"
          ],
          [
           "FL"
          ],
          [
           "NY"
          ],
          [
           "WA"
          ]
         ],
         "domain": {
          "x": [
           0,
           1
          ],
          "y": [
           0,
           1
          ]
         },
         "hole": 0.5,
         "hovertemplate": "<b>%{hovertext}</b><br><br>the State=%{customdata[0]}<br>death=%{value}<extra></extra>",
         "hovertext": [
          7981,
          940,
          5506,
          11582
         ],
         "labels": [
          "CA",
          "FL",
          "NY",
          "WA"
         ],
         "legendgroup": "",
         "marker": {
          "colors": [
           "red",
           "green",
           "blue",
           "orange"
          ],
          "line": {
           "color": "#000000",
           "width": 4
          }
         },
         "name": "",
         "opacity": 0.7,
         "pull": [
          0,
          0,
          0.2,
          0
         ],
         "rotation": 180,
         "showlegend": true,
         "textinfo": "percent+label",
         "textposition": "outside",
         "type": "pie",
         "values": [
          11,
          6,
          7,
          48
         ]
        }
       ],
       "layout": {
        "height": 600,
        "legend": {
         "tracegroupgap": 0
        },
        "piecolorway": [
         "red",
         "green",
         "blue",
         "orange"
        ],
        "template": {
         "data": {
          "pie": [
           {
            "automargin": true,
            "type": "pie"
           }
          ],
          "scatter": [
           {
            "line": {
             "width": 3
            },
            "marker": {
             "size": 9
            },
            "type": "scatter"
           }
          ],
          "scatter3d": [
           {
            "line": {
             "width": 3
            },
            "marker": {
             "size": 9
            },
            "type": "scatter3d"
           }
          ],
          "scattergeo": [
           {
            "line": {
             "width": 3
            },
            "marker": {
             "size": 9
            },
            "type": "scattergeo"
           }
          ],
          "scattergl": [
           {
            "line": {
             "width": 3
            },
            "marker": {
             "size": 9
            },
            "type": "scattergl"
           }
          ],
          "scatterpolar": [
           {
            "line": {
             "width": 3
            },
            "marker": {
             "size": 9
            },
            "type": "scatterpolar"
           }
          ],
          "scatterpolargl": [
           {
            "line": {
             "width": 3
            },
            "marker": {
             "size": 9
            },
            "type": "scatterpolargl"
           }
          ],
          "scatterternary": [
           {
            "line": {
             "width": 3
            },
            "marker": {
             "size": 9
            },
            "type": "scatterternary"
           }
          ],
          "table": [
           {
            "cells": {
             "height": 30
            },
            "header": {
             "height": 36
            },
            "type": "table"
           }
          ]
         },
         "layout": {
          "font": {
           "size": 18
          },
          "xaxis": {
           "title": {
            "standoff": 15
           }
          },
          "yaxis": {
           "title": {
            "standoff": 15
           }
          }
         }
        },
        "title": {
         "text": "Coronavirus in the USA"
        },
        "width": 800
       }
      }
     },
     "metadata": {},
     "output_type": "display_data"
    }
   ],
   "source": [
    "\n",
    "pie_chart = px.pie(\n",
    "        data_frame=df,\n",
    "        values='death',\n",
    "        names='state',\n",
    "        color='state',                      #differentiate markers (discrete) by color\n",
    "        color_discrete_sequence=[\"red\",\"green\",\"blue\",\"orange\"],     #set marker colors\n",
    "        # color_discrete_map={\"WA\":\"yellow\",\"CA\":\"red\",\"NY\":\"black\",\"FL\":\"brown\"},\n",
    "        hover_name='negative',              #values appear in bold in the hover tooltip\n",
    "        # hover_data=['positive'],            #values appear as extra data in the hover tooltip\n",
    "        # custom_data=['total'],              #values are extra data to be used in Dash callbacks\n",
    "        labels={\"state\":\"the State\"},       #map the labels\n",
    "        title='Coronavirus in the USA',     #figure title\n",
    "        template='presentation',            #'ggplot2', 'seaborn', 'simple_white', 'plotly',\n",
    "                                            #'plotly_white', 'plotly_dark', 'presentation',\n",
    "                                            #'xgridoff', 'ygridoff', 'gridon', 'none'\n",
    "        width=800,                          #figure width in pixels\n",
    "        height=600,                         #figure height in pixels\n",
    "        hole=0.5,                           #represents the hole in middle of pie\n",
    "        )\n",
    "\n",
    "pie_chart.update_traces(textposition='outside', \n",
    "                        textinfo='percent+label',\n",
    "                        marker=dict(line=dict(color='#000000', width=4)),\n",
    "                        pull=[0, 0, 0.2, 0], \n",
    "                        opacity=0.7, \n",
    "                        rotation=180)\n",
    "\n",
    "\n",
    "\n",
    "pio.show(pie_chart)"
   ]
  },
  {
   "cell_type": "code",
   "execution_count": null,
   "metadata": {},
   "outputs": [],
   "source": []
  }
 ],
 "metadata": {
  "interpreter": {
   "hash": "38cca0c38332a56087b24af0bc80247f4fced29cb4f7f437d91dc159adec9c4e"
  },
  "kernelspec": {
   "display_name": "Python 3.9.7 ('base')",
   "language": "python",
   "name": "python3"
  },
  "language_info": {
   "codemirror_mode": {
    "name": "ipython",
    "version": 3
   },
   "file_extension": ".py",
   "mimetype": "text/x-python",
   "name": "python",
   "nbconvert_exporter": "python",
   "pygments_lexer": "ipython3",
   "version": "3.9.7"
  },
  "orig_nbformat": 4
 },
 "nbformat": 4,
 "nbformat_minor": 2
}
