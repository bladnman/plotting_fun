{
 "cells": [
  {
   "cell_type": "markdown",
   "metadata": {},
   "source": [
    "# Sunburst\n",
    "\n",
    "Learn to create the Sunburst Diagram in python to visualize hierarchical data. I'll share the source Code and link to data. The sunburst is often referred to as a radial tree map. Under 30 lines of code, and using Plotly Express, we will create multiple Sunbursts, change the styling, hover, color, and much more.\n",
    "\n",
    "🎥 [Video](https://www.youtube.com/watch?v=6OMKTl7RKjQ&list=PLh3I780jNsiTXlWYiNWjq2rBgg3UsL1Ub&index=4)\n",
    "⛓ [Code](https://www.youtube.com/redirect?event=video_description&redir_token=QUFFLUhqbWhIQmtzeTJNMDRhWjFyRk51dXVJMHdKcXhkZ3xBQ3Jtc0ttbDZlb2xQdmRHS0Q1bGI2N0hPSjk3MHREMXVEcGUxN3RJVnRRYTl1ZEVvbS1sNjBFVDRhb1g2Y3Frd1pQMTd1enAzM3pFdmhaV3lnSXQ2R19XMVA2M01OX015LUtkWkp0ZXF4X3JIdEw5ZlpQZGRTSQ&q=https%3A%2F%2Fgithub.com%2FCoding-with-Adam%2FDash-by-Plotly%2Ftree%2Fmaster%2FPlotly_Graphs%2FSunburst)\n",
    "⛓ [Data](https://drive.google.com/file/d/1zKRiqisK5JHQZ873P-FWCPvVDeSbV-kZ/view)\n",
    "⛓ [Data Source: Mapping Police Violence](https://mappingpoliceviolence.org)\n",
    "⛓ [Sunburst Parameters](https://plotly.com/python-api-reference/generated/plotly.express.sunburst.html)\n",
    "⛓ [Plotly Sunburst Examples](https://plotly.com/python/sunburst-charts/)\n",
    "⛓ [Plotly Sunburst Complete Parameters](https://plotly.com/python/reference/#sunburst)\n",
    "⛓ [Continuous Color Scales](https://plotly.com/python/builtin-colorscales/)\n",
    "⛓ [Discrete Color Scales](https://plotly.com/python/discrete-color/)\n"
   ]
  },
  {
   "cell_type": "code",
   "execution_count": 7,
   "metadata": {},
   "outputs": [],
   "source": [
    "\n",
    "import pandas as pd     #(version 1.0.0)\n",
    "import plotly           #(version 4.5.4) #pip install plotly==4.5.4\n",
    "import plotly.express as px\n",
    "import plotly.io as pio\n",
    "import numpy as np\n",
    "\n",
    "from plotly.offline import plot"
   ]
  },
  {
   "cell_type": "code",
   "execution_count": 17,
   "metadata": {},
   "outputs": [],
   "source": [
    "df_orig = pd.read_csv(\"./MPVDataset.csv\")"
   ]
  },
  {
   "cell_type": "code",
   "execution_count": 35,
   "metadata": {},
   "outputs": [],
   "source": [
    "def clean(df):\n",
    "    # numericalize age\n",
    "    df[\"Victim_Age\"] = pd.to_numeric(df[\"Victim's age\"], errors='coerce').fillna(0).astype(np.int64)\n",
    "    # rename columns\n",
    "    df.rename(columns={'Fleeing (Source: WaPo)': 'Fleeing'}, inplace=True)\n",
    "    # filter data\n",
    "    df = df[df[\"State\"].isin(['NY', 'CA', 'TX'])]\n",
    "    df = df[df[\"Victim's race\"].isin([\"White\", \"Black\", \"Hispanic\", \"Asian\"])]\n",
    "    return df\n",
    "\n",
    "def clean_challenge(df):\n",
    "    # numericalize age\n",
    "    df[\"Victim_Age\"] = pd.to_numeric(df[\"Victim's age\"], errors='coerce').fillna(0).astype(np.int64)\n",
    "    # rename columns\n",
    "    df.rename(columns={'Fleeing (Source: WaPo)': 'Fleeing'}, inplace=True)\n",
    "    # filter data\n",
    "    df = df[df[\"State\"].isin(['AL', 'SC', 'OR'])]\n",
    "    df = df[df[\"Victim's race\"].isin([\"White\", \"Black\", \"Hispanic\", \"Asian\"])]\n",
    "    return df\n",
    "\n"
   ]
  },
  {
   "cell_type": "code",
   "execution_count": 19,
   "metadata": {},
   "outputs": [
    {
     "data": {
      "application/vnd.plotly.v1+json": {
       "config": {
        "plotlyServerURL": "https://plot.ly"
       },
       "data": [
        {
         "branchvalues": "total",
         "customdata": [
          [
           "Allegedly Armed"
          ],
          [
           "Unclear"
          ],
          [
           "Unarmed"
          ],
          [
           "Vehicle"
          ],
          [
           "Vehicle"
          ],
          [
           "Unarmed"
          ],
          [
           "Unclear"
          ],
          [
           "Allegedly Armed"
          ],
          [
           "Vehicle"
          ],
          [
           "Unclear"
          ],
          [
           "Unclear"
          ],
          [
           "Unarmed"
          ],
          [
           "Unclear"
          ],
          [
           "Vehicle"
          ],
          [
           "Allegedly Armed"
          ],
          [
           "Unarmed"
          ],
          [
           "Allegedly Armed"
          ],
          [
           "Unarmed"
          ],
          [
           "Unclear"
          ],
          [
           "Unclear"
          ],
          [
           "Vehicle"
          ],
          [
           "Allegedly Armed"
          ],
          [
           "Unarmed"
          ],
          [
           "Unclear"
          ],
          [
           "Allegedly Armed"
          ],
          [
           "Vehicle"
          ],
          [
           "Vehicle"
          ],
          [
           "Vehicle"
          ],
          [
           "Unarmed"
          ],
          [
           "Unclear"
          ],
          [
           "Unclear"
          ],
          [
           "Allegedly Armed"
          ],
          [
           "Allegedly Armed"
          ],
          [
           "Vehicle"
          ],
          [
           "Allegedly Armed"
          ],
          [
           "Vehicle"
          ],
          [
           "Unarmed"
          ],
          [
           "Unarmed"
          ],
          [
           "Unarmed"
          ],
          [
           "Unarmed"
          ],
          [
           "Allegedly Armed"
          ],
          [
           "Unarmed"
          ],
          [
           "Allegedly Armed"
          ],
          [
           "Allegedly Armed"
          ],
          [
           "Unclear"
          ],
          [
           "Vehicle"
          ],
          [
           "Vehicle"
          ],
          [
           "Unclear"
          ],
          [
           "Unarmed"
          ],
          [
           "Unclear"
          ],
          [
           "Allegedly Armed"
          ],
          [
           "Allegedly Armed"
          ],
          [
           "Unarmed"
          ],
          [
           "Unclear"
          ],
          [
           "Vehicle"
          ],
          [
           "Allegedly Armed"
          ],
          [
           "Allegedly Armed"
          ]
         ],
         "domain": {
          "x": [
           0,
           1
          ],
          "y": [
           0,
           1
          ]
         },
         "hovertemplate": "labels=%{label}<br>count=%{value}<br>parent=%{parent}<br>id=%{id}<br>Unarmed=%{customdata[0]}<extra></extra>",
         "ids": [
          "Allegedly Armed/CA/Asian",
          "Unclear/NY/Hispanic",
          "Unarmed/TX/Hispanic",
          "Vehicle/TX/Hispanic",
          "Vehicle/CA/White",
          "Unarmed/NY/White",
          "Unclear/NY/White",
          "Allegedly Armed/TX/White",
          "Vehicle/CA/Hispanic",
          "Unclear/TX/White",
          "Unclear/CA",
          "Unarmed/NY",
          "Unclear/NY",
          "Vehicle/NY",
          "Allegedly Armed/TX",
          "Unarmed/TX",
          "Allegedly Armed",
          "Unarmed/CA",
          "Unclear/CA/Hispanic",
          "Unclear/TX/Hispanic",
          "Vehicle",
          "Allegedly Armed/NY/Black",
          "Unarmed/NY/Black",
          "Unclear/NY/Black",
          "Allegedly Armed/CA/Black",
          "Vehicle/CA/Black",
          "Vehicle/TX/Asian",
          "Vehicle/NY/Black",
          "Unarmed/TX/Black",
          "Unclear/CA/Asian",
          "Unclear/TX/Black",
          "Allegedly Armed/TX/Black",
          "Allegedly Armed/CA/Hispanic",
          "Vehicle/CA/Asian",
          "Allegedly Armed/NY",
          "Vehicle/CA",
          "Unarmed/CA/Asian",
          "Unarmed/CA/Black",
          "Unarmed",
          "Unarmed/TX/White",
          "Allegedly Armed/NY/Hispanic",
          "Unarmed/NY/Hispanic",
          "Allegedly Armed/TX/Hispanic",
          "Allegedly Armed/CA/White",
          "Unclear",
          "Vehicle/TX/White",
          "Vehicle/TX",
          "Unclear/CA/Black",
          "Unarmed/CA/Hispanic",
          "Unclear/CA/White",
          "Allegedly Armed/NY/White",
          "Allegedly Armed/CA",
          "Unarmed/CA/White",
          "Unclear/TX",
          "Vehicle/TX/Black",
          "Allegedly Armed/TX/Asian",
          "Allegedly Armed/NY/Asian"
         ],
         "labels": [
          "Asian",
          "Hispanic",
          "Hispanic",
          "Hispanic",
          "White",
          "White",
          "White",
          "White",
          "Hispanic",
          "White",
          "CA",
          "NY",
          "NY",
          "NY",
          "TX",
          "TX",
          "Allegedly Armed",
          "CA",
          "Hispanic",
          "Hispanic",
          "Vehicle",
          "Black",
          "Black",
          "Black",
          "Black",
          "Black",
          "Asian",
          "Black",
          "Black",
          "Asian",
          "Black",
          "Black",
          "Hispanic",
          "Asian",
          "NY",
          "CA",
          "Asian",
          "Black",
          "Unarmed",
          "White",
          "Hispanic",
          "Hispanic",
          "Hispanic",
          "White",
          "Unclear",
          "White",
          "TX",
          "Black",
          "Hispanic",
          "White",
          "White",
          "CA",
          "White",
          "TX",
          "Black",
          "Asian",
          "Asian"
         ],
         "marker": {
          "colors": [
           "rgb(102, 197, 204)",
           "rgb(246, 207, 113)",
           "rgb(248, 156, 116)",
           "rgb(220, 176, 242)",
           "rgb(220, 176, 242)",
           "rgb(248, 156, 116)",
           "rgb(246, 207, 113)",
           "rgb(102, 197, 204)",
           "rgb(220, 176, 242)",
           "rgb(246, 207, 113)",
           "rgb(246, 207, 113)",
           "rgb(248, 156, 116)",
           "rgb(246, 207, 113)",
           "rgb(220, 176, 242)",
           "rgb(102, 197, 204)",
           "rgb(248, 156, 116)",
           "rgb(102, 197, 204)",
           "rgb(248, 156, 116)",
           "rgb(246, 207, 113)",
           "rgb(246, 207, 113)",
           "rgb(220, 176, 242)",
           "rgb(102, 197, 204)",
           "rgb(248, 156, 116)",
           "rgb(246, 207, 113)",
           "rgb(102, 197, 204)",
           "rgb(220, 176, 242)",
           "rgb(220, 176, 242)",
           "rgb(220, 176, 242)",
           "rgb(248, 156, 116)",
           "rgb(246, 207, 113)",
           "rgb(246, 207, 113)",
           "rgb(102, 197, 204)",
           "rgb(102, 197, 204)",
           "rgb(220, 176, 242)",
           "rgb(102, 197, 204)",
           "rgb(220, 176, 242)",
           "rgb(248, 156, 116)",
           "rgb(248, 156, 116)",
           "rgb(248, 156, 116)",
           "rgb(248, 156, 116)",
           "rgb(102, 197, 204)",
           "rgb(248, 156, 116)",
           "rgb(102, 197, 204)",
           "rgb(102, 197, 204)",
           "rgb(246, 207, 113)",
           "rgb(220, 176, 242)",
           "rgb(220, 176, 242)",
           "rgb(246, 207, 113)",
           "rgb(248, 156, 116)",
           "rgb(246, 207, 113)",
           "rgb(102, 197, 204)",
           "rgb(102, 197, 204)",
           "rgb(248, 156, 116)",
           "rgb(246, 207, 113)",
           "rgb(220, 176, 242)",
           "rgb(102, 197, 204)",
           "rgb(102, 197, 204)"
          ]
         },
         "name": "",
         "parents": [
          "Allegedly Armed/CA",
          "Unclear/NY",
          "Unarmed/TX",
          "Vehicle/TX",
          "Vehicle/CA",
          "Unarmed/NY",
          "Unclear/NY",
          "Allegedly Armed/TX",
          "Vehicle/CA",
          "Unclear/TX",
          "Unclear",
          "Unarmed",
          "Unclear",
          "Vehicle",
          "Allegedly Armed",
          "Unarmed",
          "",
          "Unarmed",
          "Unclear/CA",
          "Unclear/TX",
          "",
          "Allegedly Armed/NY",
          "Unarmed/NY",
          "Unclear/NY",
          "Allegedly Armed/CA",
          "Vehicle/CA",
          "Vehicle/TX",
          "Vehicle/NY",
          "Unarmed/TX",
          "Unclear/CA",
          "Unclear/TX",
          "Allegedly Armed/TX",
          "Allegedly Armed/CA",
          "Vehicle/CA",
          "Allegedly Armed",
          "Vehicle",
          "Unarmed/CA",
          "Unarmed/CA",
          "",
          "Unarmed/TX",
          "Allegedly Armed/NY",
          "Unarmed/NY",
          "Allegedly Armed/TX",
          "Allegedly Armed/CA",
          "",
          "Vehicle/TX",
          "Vehicle",
          "Unclear/CA",
          "Unarmed/CA",
          "Unclear/CA",
          "Allegedly Armed/NY",
          "Allegedly Armed",
          "Unarmed/CA",
          "Unclear",
          "Vehicle/TX",
          "Allegedly Armed/TX",
          "Allegedly Armed/NY"
         ],
         "textinfo": "label+percent entry",
         "type": "sunburst",
         "values": [
          34,
          1,
          29,
          10,
          19,
          11,
          1,
          194,
          30,
          18,
          114,
          34,
          7,
          2,
          460,
          102,
          1245,
          191,
          55,
          16,
          104,
          47,
          17,
          5,
          112,
          12,
          1,
          2,
          40,
          3,
          9,
          93,
          315,
          2,
          100,
          63,
          5,
          40,
          327,
          33,
          11,
          6,
          164,
          224,
          164,
          13,
          39,
          22,
          90,
          34,
          41,
          685,
          56,
          43,
          15,
          9,
          1
         ]
        }
       ],
       "layout": {
        "legend": {
         "tracegroupgap": 0
        },
        "margin": {
         "b": 0,
         "l": 0,
         "r": 0,
         "t": 0
        },
        "sunburstcolorway": [
         "rgb(102, 197, 204)",
         "rgb(246, 207, 113)",
         "rgb(248, 156, 116)",
         "rgb(220, 176, 242)",
         "rgb(135, 197, 95)",
         "rgb(158, 185, 243)",
         "rgb(254, 136, 177)",
         "rgb(201, 219, 116)",
         "rgb(139, 224, 164)",
         "rgb(180, 151, 231)",
         "rgb(179, 179, 179)"
        ],
        "template": {
         "data": {
          "bar": [
           {
            "error_x": {
             "color": "#2a3f5f"
            },
            "error_y": {
             "color": "#2a3f5f"
            },
            "marker": {
             "line": {
              "color": "#E5ECF6",
              "width": 0.5
             },
             "pattern": {
              "fillmode": "overlay",
              "size": 10,
              "solidity": 0.2
             }
            },
            "type": "bar"
           }
          ],
          "barpolar": [
           {
            "marker": {
             "line": {
              "color": "#E5ECF6",
              "width": 0.5
             },
             "pattern": {
              "fillmode": "overlay",
              "size": 10,
              "solidity": 0.2
             }
            },
            "type": "barpolar"
           }
          ],
          "carpet": [
           {
            "aaxis": {
             "endlinecolor": "#2a3f5f",
             "gridcolor": "white",
             "linecolor": "white",
             "minorgridcolor": "white",
             "startlinecolor": "#2a3f5f"
            },
            "baxis": {
             "endlinecolor": "#2a3f5f",
             "gridcolor": "white",
             "linecolor": "white",
             "minorgridcolor": "white",
             "startlinecolor": "#2a3f5f"
            },
            "type": "carpet"
           }
          ],
          "choropleth": [
           {
            "colorbar": {
             "outlinewidth": 0,
             "ticks": ""
            },
            "type": "choropleth"
           }
          ],
          "contour": [
           {
            "colorbar": {
             "outlinewidth": 0,
             "ticks": ""
            },
            "colorscale": [
             [
              0,
              "#0d0887"
             ],
             [
              0.1111111111111111,
              "#46039f"
             ],
             [
              0.2222222222222222,
              "#7201a8"
             ],
             [
              0.3333333333333333,
              "#9c179e"
             ],
             [
              0.4444444444444444,
              "#bd3786"
             ],
             [
              0.5555555555555556,
              "#d8576b"
             ],
             [
              0.6666666666666666,
              "#ed7953"
             ],
             [
              0.7777777777777778,
              "#fb9f3a"
             ],
             [
              0.8888888888888888,
              "#fdca26"
             ],
             [
              1,
              "#f0f921"
             ]
            ],
            "type": "contour"
           }
          ],
          "contourcarpet": [
           {
            "colorbar": {
             "outlinewidth": 0,
             "ticks": ""
            },
            "type": "contourcarpet"
           }
          ],
          "heatmap": [
           {
            "colorbar": {
             "outlinewidth": 0,
             "ticks": ""
            },
            "colorscale": [
             [
              0,
              "#0d0887"
             ],
             [
              0.1111111111111111,
              "#46039f"
             ],
             [
              0.2222222222222222,
              "#7201a8"
             ],
             [
              0.3333333333333333,
              "#9c179e"
             ],
             [
              0.4444444444444444,
              "#bd3786"
             ],
             [
              0.5555555555555556,
              "#d8576b"
             ],
             [
              0.6666666666666666,
              "#ed7953"
             ],
             [
              0.7777777777777778,
              "#fb9f3a"
             ],
             [
              0.8888888888888888,
              "#fdca26"
             ],
             [
              1,
              "#f0f921"
             ]
            ],
            "type": "heatmap"
           }
          ],
          "heatmapgl": [
           {
            "colorbar": {
             "outlinewidth": 0,
             "ticks": ""
            },
            "colorscale": [
             [
              0,
              "#0d0887"
             ],
             [
              0.1111111111111111,
              "#46039f"
             ],
             [
              0.2222222222222222,
              "#7201a8"
             ],
             [
              0.3333333333333333,
              "#9c179e"
             ],
             [
              0.4444444444444444,
              "#bd3786"
             ],
             [
              0.5555555555555556,
              "#d8576b"
             ],
             [
              0.6666666666666666,
              "#ed7953"
             ],
             [
              0.7777777777777778,
              "#fb9f3a"
             ],
             [
              0.8888888888888888,
              "#fdca26"
             ],
             [
              1,
              "#f0f921"
             ]
            ],
            "type": "heatmapgl"
           }
          ],
          "histogram": [
           {
            "marker": {
             "pattern": {
              "fillmode": "overlay",
              "size": 10,
              "solidity": 0.2
             }
            },
            "type": "histogram"
           }
          ],
          "histogram2d": [
           {
            "colorbar": {
             "outlinewidth": 0,
             "ticks": ""
            },
            "colorscale": [
             [
              0,
              "#0d0887"
             ],
             [
              0.1111111111111111,
              "#46039f"
             ],
             [
              0.2222222222222222,
              "#7201a8"
             ],
             [
              0.3333333333333333,
              "#9c179e"
             ],
             [
              0.4444444444444444,
              "#bd3786"
             ],
             [
              0.5555555555555556,
              "#d8576b"
             ],
             [
              0.6666666666666666,
              "#ed7953"
             ],
             [
              0.7777777777777778,
              "#fb9f3a"
             ],
             [
              0.8888888888888888,
              "#fdca26"
             ],
             [
              1,
              "#f0f921"
             ]
            ],
            "type": "histogram2d"
           }
          ],
          "histogram2dcontour": [
           {
            "colorbar": {
             "outlinewidth": 0,
             "ticks": ""
            },
            "colorscale": [
             [
              0,
              "#0d0887"
             ],
             [
              0.1111111111111111,
              "#46039f"
             ],
             [
              0.2222222222222222,
              "#7201a8"
             ],
             [
              0.3333333333333333,
              "#9c179e"
             ],
             [
              0.4444444444444444,
              "#bd3786"
             ],
             [
              0.5555555555555556,
              "#d8576b"
             ],
             [
              0.6666666666666666,
              "#ed7953"
             ],
             [
              0.7777777777777778,
              "#fb9f3a"
             ],
             [
              0.8888888888888888,
              "#fdca26"
             ],
             [
              1,
              "#f0f921"
             ]
            ],
            "type": "histogram2dcontour"
           }
          ],
          "mesh3d": [
           {
            "colorbar": {
             "outlinewidth": 0,
             "ticks": ""
            },
            "type": "mesh3d"
           }
          ],
          "parcoords": [
           {
            "line": {
             "colorbar": {
              "outlinewidth": 0,
              "ticks": ""
             }
            },
            "type": "parcoords"
           }
          ],
          "pie": [
           {
            "automargin": true,
            "type": "pie"
           }
          ],
          "scatter": [
           {
            "marker": {
             "colorbar": {
              "outlinewidth": 0,
              "ticks": ""
             }
            },
            "type": "scatter"
           }
          ],
          "scatter3d": [
           {
            "line": {
             "colorbar": {
              "outlinewidth": 0,
              "ticks": ""
             }
            },
            "marker": {
             "colorbar": {
              "outlinewidth": 0,
              "ticks": ""
             }
            },
            "type": "scatter3d"
           }
          ],
          "scattercarpet": [
           {
            "marker": {
             "colorbar": {
              "outlinewidth": 0,
              "ticks": ""
             }
            },
            "type": "scattercarpet"
           }
          ],
          "scattergeo": [
           {
            "marker": {
             "colorbar": {
              "outlinewidth": 0,
              "ticks": ""
             }
            },
            "type": "scattergeo"
           }
          ],
          "scattergl": [
           {
            "marker": {
             "colorbar": {
              "outlinewidth": 0,
              "ticks": ""
             }
            },
            "type": "scattergl"
           }
          ],
          "scattermapbox": [
           {
            "marker": {
             "colorbar": {
              "outlinewidth": 0,
              "ticks": ""
             }
            },
            "type": "scattermapbox"
           }
          ],
          "scatterpolar": [
           {
            "marker": {
             "colorbar": {
              "outlinewidth": 0,
              "ticks": ""
             }
            },
            "type": "scatterpolar"
           }
          ],
          "scatterpolargl": [
           {
            "marker": {
             "colorbar": {
              "outlinewidth": 0,
              "ticks": ""
             }
            },
            "type": "scatterpolargl"
           }
          ],
          "scatterternary": [
           {
            "marker": {
             "colorbar": {
              "outlinewidth": 0,
              "ticks": ""
             }
            },
            "type": "scatterternary"
           }
          ],
          "surface": [
           {
            "colorbar": {
             "outlinewidth": 0,
             "ticks": ""
            },
            "colorscale": [
             [
              0,
              "#0d0887"
             ],
             [
              0.1111111111111111,
              "#46039f"
             ],
             [
              0.2222222222222222,
              "#7201a8"
             ],
             [
              0.3333333333333333,
              "#9c179e"
             ],
             [
              0.4444444444444444,
              "#bd3786"
             ],
             [
              0.5555555555555556,
              "#d8576b"
             ],
             [
              0.6666666666666666,
              "#ed7953"
             ],
             [
              0.7777777777777778,
              "#fb9f3a"
             ],
             [
              0.8888888888888888,
              "#fdca26"
             ],
             [
              1,
              "#f0f921"
             ]
            ],
            "type": "surface"
           }
          ],
          "table": [
           {
            "cells": {
             "fill": {
              "color": "#EBF0F8"
             },
             "line": {
              "color": "white"
             }
            },
            "header": {
             "fill": {
              "color": "#C8D4E3"
             },
             "line": {
              "color": "white"
             }
            },
            "type": "table"
           }
          ]
         },
         "layout": {
          "annotationdefaults": {
           "arrowcolor": "#2a3f5f",
           "arrowhead": 0,
           "arrowwidth": 1
          },
          "autotypenumbers": "strict",
          "coloraxis": {
           "colorbar": {
            "outlinewidth": 0,
            "ticks": ""
           }
          },
          "colorscale": {
           "diverging": [
            [
             0,
             "#8e0152"
            ],
            [
             0.1,
             "#c51b7d"
            ],
            [
             0.2,
             "#de77ae"
            ],
            [
             0.3,
             "#f1b6da"
            ],
            [
             0.4,
             "#fde0ef"
            ],
            [
             0.5,
             "#f7f7f7"
            ],
            [
             0.6,
             "#e6f5d0"
            ],
            [
             0.7,
             "#b8e186"
            ],
            [
             0.8,
             "#7fbc41"
            ],
            [
             0.9,
             "#4d9221"
            ],
            [
             1,
             "#276419"
            ]
           ],
           "sequential": [
            [
             0,
             "#0d0887"
            ],
            [
             0.1111111111111111,
             "#46039f"
            ],
            [
             0.2222222222222222,
             "#7201a8"
            ],
            [
             0.3333333333333333,
             "#9c179e"
            ],
            [
             0.4444444444444444,
             "#bd3786"
            ],
            [
             0.5555555555555556,
             "#d8576b"
            ],
            [
             0.6666666666666666,
             "#ed7953"
            ],
            [
             0.7777777777777778,
             "#fb9f3a"
            ],
            [
             0.8888888888888888,
             "#fdca26"
            ],
            [
             1,
             "#f0f921"
            ]
           ],
           "sequentialminus": [
            [
             0,
             "#0d0887"
            ],
            [
             0.1111111111111111,
             "#46039f"
            ],
            [
             0.2222222222222222,
             "#7201a8"
            ],
            [
             0.3333333333333333,
             "#9c179e"
            ],
            [
             0.4444444444444444,
             "#bd3786"
            ],
            [
             0.5555555555555556,
             "#d8576b"
            ],
            [
             0.6666666666666666,
             "#ed7953"
            ],
            [
             0.7777777777777778,
             "#fb9f3a"
            ],
            [
             0.8888888888888888,
             "#fdca26"
            ],
            [
             1,
             "#f0f921"
            ]
           ]
          },
          "colorway": [
           "#636efa",
           "#EF553B",
           "#00cc96",
           "#ab63fa",
           "#FFA15A",
           "#19d3f3",
           "#FF6692",
           "#B6E880",
           "#FF97FF",
           "#FECB52"
          ],
          "font": {
           "color": "#2a3f5f"
          },
          "geo": {
           "bgcolor": "white",
           "lakecolor": "white",
           "landcolor": "#E5ECF6",
           "showlakes": true,
           "showland": true,
           "subunitcolor": "white"
          },
          "hoverlabel": {
           "align": "left"
          },
          "hovermode": "closest",
          "mapbox": {
           "style": "light"
          },
          "paper_bgcolor": "white",
          "plot_bgcolor": "#E5ECF6",
          "polar": {
           "angularaxis": {
            "gridcolor": "white",
            "linecolor": "white",
            "ticks": ""
           },
           "bgcolor": "#E5ECF6",
           "radialaxis": {
            "gridcolor": "white",
            "linecolor": "white",
            "ticks": ""
           }
          },
          "scene": {
           "xaxis": {
            "backgroundcolor": "#E5ECF6",
            "gridcolor": "white",
            "gridwidth": 2,
            "linecolor": "white",
            "showbackground": true,
            "ticks": "",
            "zerolinecolor": "white"
           },
           "yaxis": {
            "backgroundcolor": "#E5ECF6",
            "gridcolor": "white",
            "gridwidth": 2,
            "linecolor": "white",
            "showbackground": true,
            "ticks": "",
            "zerolinecolor": "white"
           },
           "zaxis": {
            "backgroundcolor": "#E5ECF6",
            "gridcolor": "white",
            "gridwidth": 2,
            "linecolor": "white",
            "showbackground": true,
            "ticks": "",
            "zerolinecolor": "white"
           }
          },
          "shapedefaults": {
           "line": {
            "color": "#2a3f5f"
           }
          },
          "ternary": {
           "aaxis": {
            "gridcolor": "white",
            "linecolor": "white",
            "ticks": ""
           },
           "baxis": {
            "gridcolor": "white",
            "linecolor": "white",
            "ticks": ""
           },
           "bgcolor": "#E5ECF6",
           "caxis": {
            "gridcolor": "white",
            "linecolor": "white",
            "ticks": ""
           }
          },
          "title": {
           "x": 0.05
          },
          "xaxis": {
           "automargin": true,
           "gridcolor": "white",
           "linecolor": "white",
           "ticks": "",
           "title": {
            "standoff": 15
           },
           "zerolinecolor": "white",
           "zerolinewidth": 2
          },
          "yaxis": {
           "automargin": true,
           "gridcolor": "white",
           "linecolor": "white",
           "ticks": "",
           "title": {
            "standoff": 15
           },
           "zerolinecolor": "white",
           "zerolinewidth": 2
          }
         }
        }
       }
      }
     },
     "metadata": {},
     "output_type": "display_data"
    }
   ],
   "source": [
    "df = clean(df_orig)\n",
    "\n",
    "fig = px.sunburst(\n",
    "    data_frame=df,\n",
    "    path=[\"Unarmed\", 'State', \"Victim's race\"],  # Root, branches, leaves\n",
    "    color=\"Unarmed\",\n",
    "    color_discrete_sequence=px.colors.qualitative.Pastel,\n",
    "    # maxdepth=-1,                        # set the sectors rendered. -1 will render all levels in the hierarchy\n",
    "    # color=\"Victim's age\",\n",
    "    # color_continuous_scale=px.colors.sequential.BuGn,\n",
    "    # range_color=[10,100],\n",
    "\n",
    "    # branchvalues=\"total\",               # or 'remainder'\n",
    "    # hover_name=\"Unarmed\",\n",
    "    # # hover_data={'Unarmed': False},    # remove column name from tooltip  (Plotly version >= 4.8.0)\n",
    "    # title=\"7-year Breakdown of Deaths by Police\",\n",
    "    # template='ggplot2',               # 'ggplot2', 'seaborn', 'simple_white', 'plotly',\n",
    "    #                                   # 'plotly_white', 'plotly_dark', 'presentation',\n",
    "    #                                   # 'xgridoff', 'ygridoff', 'gridon', 'none'\n",
    ")\n",
    "\n",
    "fig.update_traces(textinfo='label+percent entry')\n",
    "fig.update_layout(margin=dict(t=0, l=0, r=0, b=0))\n",
    "\n",
    "fig.show()"
   ]
  },
  {
   "cell_type": "markdown",
   "metadata": {},
   "source": [
    "## Change Root\n",
    "\n",
    "Let's change what we're seeing at the center"
   ]
  },
  {
   "cell_type": "code",
   "execution_count": 20,
   "metadata": {},
   "outputs": [
    {
     "data": {
      "application/vnd.plotly.v1+json": {
       "config": {
        "plotlyServerURL": "https://plot.ly"
       },
       "data": [
        {
         "branchvalues": "total",
         "customdata": [
          [
           "Car"
          ],
          [
           "Unknown"
          ],
          [
           "Other"
          ],
          [
           "Not fleeing"
          ],
          [
           "Foot"
          ],
          [
           "Car"
          ],
          [
           "Unknown"
          ],
          [
           "Car"
          ],
          [
           "Other"
          ],
          [
           "Foot"
          ],
          [
           "Car"
          ],
          [
           "Unknown"
          ],
          [
           "Other"
          ],
          [
           "Not fleeing"
          ],
          [
           "Foot"
          ],
          [
           "Not fleeing"
          ],
          [
           "Car"
          ],
          [
           "Foot"
          ],
          [
           "Other"
          ],
          [
           "Not fleeing"
          ],
          [
           "Foot"
          ],
          [
           "Car"
          ],
          [
           "Unknown"
          ],
          [
           "Other"
          ],
          [
           "Not fleeing"
          ],
          [
           "Not fleeing"
          ],
          [
           "Foot"
          ],
          [
           "Unknown"
          ],
          [
           "Other"
          ],
          [
           "Not fleeing"
          ],
          [
           "Foot"
          ],
          [
           "Car"
          ],
          [
           "Unknown"
          ],
          [
           "Car"
          ],
          [
           "Other"
          ],
          [
           "Unknown"
          ],
          [
           "Not fleeing"
          ],
          [
           "Foot"
          ],
          [
           "Car"
          ],
          [
           "Unknown"
          ],
          [
           "Other"
          ],
          [
           "Not fleeing"
          ],
          [
           "Foot"
          ],
          [
           "Not fleeing"
          ],
          [
           "Car"
          ],
          [
           "Not fleeing"
          ],
          [
           "Not fleeing"
          ],
          [
           "Unknown"
          ],
          [
           "Other"
          ],
          [
           "Not fleeing"
          ],
          [
           "Foot"
          ],
          [
           "Unknown"
          ],
          [
           "Other"
          ],
          [
           "Unknown"
          ],
          [
           "Foot"
          ],
          [
           "Foot"
          ],
          [
           "Car"
          ],
          [
           "Unknown"
          ],
          [
           "Other"
          ],
          [
           "Not fleeing"
          ],
          [
           "Foot"
          ],
          [
           "Car"
          ],
          [
           "Unknown"
          ],
          [
           "Not fleeing"
          ],
          [
           "Foot"
          ],
          [
           "Car"
          ],
          [
           "Unknown"
          ],
          [
           "Other"
          ],
          [
           "Not fleeing"
          ],
          [
           "Other"
          ],
          [
           "Unknown"
          ]
         ],
         "domain": {
          "x": [
           0,
           1
          ],
          "y": [
           0,
           1
          ]
         },
         "hovertemplate": "labels=%{label}<br>count=%{value}<br>parent=%{parent}<br>id=%{id}<br>Fleeing=%{customdata[0]}<extra></extra>",
         "ids": [
          "Car/CA/Asian",
          "Unknown/TX/White",
          "Other/TX/White",
          "Not fleeing/TX/White",
          "Foot/TX/White",
          "Car/TX/White",
          "Unknown/NY/White",
          "Car/CA",
          "Other/NY/White",
          "Foot/NY/White",
          "Car/NY/White",
          "Unknown/CA/White",
          "Other/CA/White",
          "Not fleeing/CA/White",
          "Foot/CA/White",
          "Not fleeing/NY/White",
          "Car/CA/White",
          "Foot/CA",
          "Other/CA",
          "Not fleeing",
          "Foot",
          "Car",
          "Unknown/TX",
          "Other/TX",
          "Not fleeing/TX",
          "Not fleeing/CA",
          "Foot/TX",
          "Unknown/NY",
          "Other/NY",
          "Not fleeing/NY",
          "Foot/NY",
          "Car/NY",
          "Unknown/CA",
          "Car/TX",
          "Other",
          "Unknown/TX/Hispanic",
          "Not fleeing/TX/Hispanic",
          "Foot/NY/Black",
          "Car/NY/Black",
          "Unknown/CA/Black",
          "Other/CA/Black",
          "Not fleeing/CA/Black",
          "Foot/CA/Black",
          "Not fleeing/NY/Black",
          "Car/CA/Black",
          "Not fleeing/TX/Asian",
          "Not fleeing/NY/Asian",
          "Unknown/CA/Asian",
          "Other/CA/Asian",
          "Not fleeing/CA/Asian",
          "Foot/CA/Asian",
          "Unknown/TX/Asian",
          "Other/TX/Hispanic",
          "Unknown/NY/Black",
          "Foot/TX/Black",
          "Foot/TX/Hispanic",
          "Car/TX/Hispanic",
          "Unknown/NY/Hispanic",
          "Other/NY/Hispanic",
          "Not fleeing/NY/Hispanic",
          "Foot/NY/Hispanic",
          "Car/TX/Black",
          "Unknown/CA/Hispanic",
          "Not fleeing/CA/Hispanic",
          "Foot/CA/Hispanic",
          "Car/CA/Hispanic",
          "Unknown/TX/Black",
          "Other/TX/Black",
          "Not fleeing/TX/Black",
          "Other/CA/Hispanic",
          "Unknown"
         ],
         "labels": [
          "Asian",
          "White",
          "White",
          "White",
          "White",
          "White",
          "White",
          "CA",
          "White",
          "White",
          "White",
          "White",
          "White",
          "White",
          "White",
          "White",
          "White",
          "CA",
          "CA",
          "Not fleeing",
          "Foot",
          "Car",
          "TX",
          "TX",
          "TX",
          "CA",
          "TX",
          "NY",
          "NY",
          "NY",
          "NY",
          "NY",
          "CA",
          "TX",
          "Other",
          "Hispanic",
          "Hispanic",
          "Black",
          "Black",
          "Black",
          "Black",
          "Black",
          "Black",
          "Black",
          "Black",
          "Asian",
          "Asian",
          "Asian",
          "Asian",
          "Asian",
          "Asian",
          "Asian",
          "Hispanic",
          "Black",
          "Black",
          "Hispanic",
          "Hispanic",
          "Hispanic",
          "Hispanic",
          "Hispanic",
          "Hispanic",
          "Black",
          "Hispanic",
          "Hispanic",
          "Hispanic",
          "Hispanic",
          "Black",
          "Black",
          "Black",
          "Hispanic",
          "Unknown"
         ],
         "marker": {
          "colors": [
           "rgb(102, 197, 204)",
           "rgb(246, 207, 113)",
           "rgb(248, 156, 116)",
           "rgb(220, 176, 242)",
           "rgb(135, 197, 95)",
           "rgb(102, 197, 204)",
           "rgb(246, 207, 113)",
           "rgb(102, 197, 204)",
           "rgb(248, 156, 116)",
           "rgb(135, 197, 95)",
           "rgb(102, 197, 204)",
           "rgb(246, 207, 113)",
           "rgb(248, 156, 116)",
           "rgb(220, 176, 242)",
           "rgb(135, 197, 95)",
           "rgb(220, 176, 242)",
           "rgb(102, 197, 204)",
           "rgb(135, 197, 95)",
           "rgb(248, 156, 116)",
           "rgb(220, 176, 242)",
           "rgb(135, 197, 95)",
           "rgb(102, 197, 204)",
           "rgb(246, 207, 113)",
           "rgb(248, 156, 116)",
           "rgb(220, 176, 242)",
           "rgb(220, 176, 242)",
           "rgb(135, 197, 95)",
           "rgb(246, 207, 113)",
           "rgb(248, 156, 116)",
           "rgb(220, 176, 242)",
           "rgb(135, 197, 95)",
           "rgb(102, 197, 204)",
           "rgb(246, 207, 113)",
           "rgb(102, 197, 204)",
           "rgb(248, 156, 116)",
           "rgb(246, 207, 113)",
           "rgb(220, 176, 242)",
           "rgb(135, 197, 95)",
           "rgb(102, 197, 204)",
           "rgb(246, 207, 113)",
           "rgb(248, 156, 116)",
           "rgb(220, 176, 242)",
           "rgb(135, 197, 95)",
           "rgb(220, 176, 242)",
           "rgb(102, 197, 204)",
           "rgb(220, 176, 242)",
           "rgb(220, 176, 242)",
           "rgb(246, 207, 113)",
           "rgb(248, 156, 116)",
           "rgb(220, 176, 242)",
           "rgb(135, 197, 95)",
           "rgb(246, 207, 113)",
           "rgb(248, 156, 116)",
           "rgb(246, 207, 113)",
           "rgb(135, 197, 95)",
           "rgb(135, 197, 95)",
           "rgb(102, 197, 204)",
           "rgb(246, 207, 113)",
           "rgb(248, 156, 116)",
           "rgb(220, 176, 242)",
           "rgb(135, 197, 95)",
           "rgb(102, 197, 204)",
           "rgb(246, 207, 113)",
           "rgb(220, 176, 242)",
           "rgb(135, 197, 95)",
           "rgb(102, 197, 204)",
           "rgb(246, 207, 113)",
           "rgb(248, 156, 116)",
           "rgb(220, 176, 242)",
           "rgb(248, 156, 116)",
           "rgb(246, 207, 113)"
          ]
         },
         "name": "",
         "parents": [
          "Car/CA",
          "Unknown/TX",
          "Other/TX",
          "Not fleeing/TX",
          "Foot/TX",
          "Car/TX",
          "Unknown/NY",
          "Car",
          "Other/NY",
          "Foot/NY",
          "Car/NY",
          "Unknown/CA",
          "Other/CA",
          "Not fleeing/CA",
          "Foot/CA",
          "Not fleeing/NY",
          "Car/CA",
          "Foot",
          "Other",
          "",
          "",
          "",
          "Unknown",
          "Other",
          "Not fleeing",
          "Not fleeing",
          "Foot",
          "Unknown",
          "Other",
          "Not fleeing",
          "Foot",
          "Car",
          "Unknown",
          "Car",
          "",
          "Unknown/TX",
          "Not fleeing/TX",
          "Foot/NY",
          "Car/NY",
          "Unknown/CA",
          "Other/CA",
          "Not fleeing/CA",
          "Foot/CA",
          "Not fleeing/NY",
          "Car/CA",
          "Not fleeing/TX",
          "Not fleeing/NY",
          "Unknown/CA",
          "Other/CA",
          "Not fleeing/CA",
          "Foot/CA",
          "Unknown/TX",
          "Other/TX",
          "Unknown/NY",
          "Foot/TX",
          "Foot/TX",
          "Car/TX",
          "Unknown/NY",
          "Other/NY",
          "Not fleeing/NY",
          "Foot/NY",
          "Car/TX",
          "Unknown/CA",
          "Not fleeing/CA",
          "Foot/CA",
          "Car/CA",
          "Unknown/TX",
          "Other/TX",
          "Not fleeing/TX",
          "Other/CA",
          ""
         ],
         "textinfo": "label+percent entry",
         "type": "sunburst",
         "values": [
          3,
          95,
          12,
          110,
          16,
          25,
          19,
          101,
          2,
          2,
          5,
          119,
          4,
          157,
          18,
          25,
          35,
          99,
          16,
          794,
          167,
          178,
          243,
          16,
          265,
          467,
          51,
          53,
          3,
          62,
          17,
          8,
          370,
          69,
          35,
          78,
          96,
          11,
          3,
          61,
          1,
          78,
          27,
          29,
          19,
          5,
          1,
          16,
          1,
          19,
          5,
          5,
          3,
          28,
          19,
          16,
          26,
          6,
          1,
          7,
          4,
          18,
          174,
          213,
          49,
          44,
          65,
          1,
          54,
          10,
          666
         ]
        }
       ],
       "layout": {
        "legend": {
         "tracegroupgap": 0
        },
        "margin": {
         "b": 0,
         "l": 0,
         "r": 0,
         "t": 0
        },
        "sunburstcolorway": [
         "rgb(102, 197, 204)",
         "rgb(246, 207, 113)",
         "rgb(248, 156, 116)",
         "rgb(220, 176, 242)",
         "rgb(135, 197, 95)",
         "rgb(158, 185, 243)",
         "rgb(254, 136, 177)",
         "rgb(201, 219, 116)",
         "rgb(139, 224, 164)",
         "rgb(180, 151, 231)",
         "rgb(179, 179, 179)"
        ],
        "template": {
         "data": {
          "bar": [
           {
            "error_x": {
             "color": "#2a3f5f"
            },
            "error_y": {
             "color": "#2a3f5f"
            },
            "marker": {
             "line": {
              "color": "#E5ECF6",
              "width": 0.5
             },
             "pattern": {
              "fillmode": "overlay",
              "size": 10,
              "solidity": 0.2
             }
            },
            "type": "bar"
           }
          ],
          "barpolar": [
           {
            "marker": {
             "line": {
              "color": "#E5ECF6",
              "width": 0.5
             },
             "pattern": {
              "fillmode": "overlay",
              "size": 10,
              "solidity": 0.2
             }
            },
            "type": "barpolar"
           }
          ],
          "carpet": [
           {
            "aaxis": {
             "endlinecolor": "#2a3f5f",
             "gridcolor": "white",
             "linecolor": "white",
             "minorgridcolor": "white",
             "startlinecolor": "#2a3f5f"
            },
            "baxis": {
             "endlinecolor": "#2a3f5f",
             "gridcolor": "white",
             "linecolor": "white",
             "minorgridcolor": "white",
             "startlinecolor": "#2a3f5f"
            },
            "type": "carpet"
           }
          ],
          "choropleth": [
           {
            "colorbar": {
             "outlinewidth": 0,
             "ticks": ""
            },
            "type": "choropleth"
           }
          ],
          "contour": [
           {
            "colorbar": {
             "outlinewidth": 0,
             "ticks": ""
            },
            "colorscale": [
             [
              0,
              "#0d0887"
             ],
             [
              0.1111111111111111,
              "#46039f"
             ],
             [
              0.2222222222222222,
              "#7201a8"
             ],
             [
              0.3333333333333333,
              "#9c179e"
             ],
             [
              0.4444444444444444,
              "#bd3786"
             ],
             [
              0.5555555555555556,
              "#d8576b"
             ],
             [
              0.6666666666666666,
              "#ed7953"
             ],
             [
              0.7777777777777778,
              "#fb9f3a"
             ],
             [
              0.8888888888888888,
              "#fdca26"
             ],
             [
              1,
              "#f0f921"
             ]
            ],
            "type": "contour"
           }
          ],
          "contourcarpet": [
           {
            "colorbar": {
             "outlinewidth": 0,
             "ticks": ""
            },
            "type": "contourcarpet"
           }
          ],
          "heatmap": [
           {
            "colorbar": {
             "outlinewidth": 0,
             "ticks": ""
            },
            "colorscale": [
             [
              0,
              "#0d0887"
             ],
             [
              0.1111111111111111,
              "#46039f"
             ],
             [
              0.2222222222222222,
              "#7201a8"
             ],
             [
              0.3333333333333333,
              "#9c179e"
             ],
             [
              0.4444444444444444,
              "#bd3786"
             ],
             [
              0.5555555555555556,
              "#d8576b"
             ],
             [
              0.6666666666666666,
              "#ed7953"
             ],
             [
              0.7777777777777778,
              "#fb9f3a"
             ],
             [
              0.8888888888888888,
              "#fdca26"
             ],
             [
              1,
              "#f0f921"
             ]
            ],
            "type": "heatmap"
           }
          ],
          "heatmapgl": [
           {
            "colorbar": {
             "outlinewidth": 0,
             "ticks": ""
            },
            "colorscale": [
             [
              0,
              "#0d0887"
             ],
             [
              0.1111111111111111,
              "#46039f"
             ],
             [
              0.2222222222222222,
              "#7201a8"
             ],
             [
              0.3333333333333333,
              "#9c179e"
             ],
             [
              0.4444444444444444,
              "#bd3786"
             ],
             [
              0.5555555555555556,
              "#d8576b"
             ],
             [
              0.6666666666666666,
              "#ed7953"
             ],
             [
              0.7777777777777778,
              "#fb9f3a"
             ],
             [
              0.8888888888888888,
              "#fdca26"
             ],
             [
              1,
              "#f0f921"
             ]
            ],
            "type": "heatmapgl"
           }
          ],
          "histogram": [
           {
            "marker": {
             "pattern": {
              "fillmode": "overlay",
              "size": 10,
              "solidity": 0.2
             }
            },
            "type": "histogram"
           }
          ],
          "histogram2d": [
           {
            "colorbar": {
             "outlinewidth": 0,
             "ticks": ""
            },
            "colorscale": [
             [
              0,
              "#0d0887"
             ],
             [
              0.1111111111111111,
              "#46039f"
             ],
             [
              0.2222222222222222,
              "#7201a8"
             ],
             [
              0.3333333333333333,
              "#9c179e"
             ],
             [
              0.4444444444444444,
              "#bd3786"
             ],
             [
              0.5555555555555556,
              "#d8576b"
             ],
             [
              0.6666666666666666,
              "#ed7953"
             ],
             [
              0.7777777777777778,
              "#fb9f3a"
             ],
             [
              0.8888888888888888,
              "#fdca26"
             ],
             [
              1,
              "#f0f921"
             ]
            ],
            "type": "histogram2d"
           }
          ],
          "histogram2dcontour": [
           {
            "colorbar": {
             "outlinewidth": 0,
             "ticks": ""
            },
            "colorscale": [
             [
              0,
              "#0d0887"
             ],
             [
              0.1111111111111111,
              "#46039f"
             ],
             [
              0.2222222222222222,
              "#7201a8"
             ],
             [
              0.3333333333333333,
              "#9c179e"
             ],
             [
              0.4444444444444444,
              "#bd3786"
             ],
             [
              0.5555555555555556,
              "#d8576b"
             ],
             [
              0.6666666666666666,
              "#ed7953"
             ],
             [
              0.7777777777777778,
              "#fb9f3a"
             ],
             [
              0.8888888888888888,
              "#fdca26"
             ],
             [
              1,
              "#f0f921"
             ]
            ],
            "type": "histogram2dcontour"
           }
          ],
          "mesh3d": [
           {
            "colorbar": {
             "outlinewidth": 0,
             "ticks": ""
            },
            "type": "mesh3d"
           }
          ],
          "parcoords": [
           {
            "line": {
             "colorbar": {
              "outlinewidth": 0,
              "ticks": ""
             }
            },
            "type": "parcoords"
           }
          ],
          "pie": [
           {
            "automargin": true,
            "type": "pie"
           }
          ],
          "scatter": [
           {
            "marker": {
             "colorbar": {
              "outlinewidth": 0,
              "ticks": ""
             }
            },
            "type": "scatter"
           }
          ],
          "scatter3d": [
           {
            "line": {
             "colorbar": {
              "outlinewidth": 0,
              "ticks": ""
             }
            },
            "marker": {
             "colorbar": {
              "outlinewidth": 0,
              "ticks": ""
             }
            },
            "type": "scatter3d"
           }
          ],
          "scattercarpet": [
           {
            "marker": {
             "colorbar": {
              "outlinewidth": 0,
              "ticks": ""
             }
            },
            "type": "scattercarpet"
           }
          ],
          "scattergeo": [
           {
            "marker": {
             "colorbar": {
              "outlinewidth": 0,
              "ticks": ""
             }
            },
            "type": "scattergeo"
           }
          ],
          "scattergl": [
           {
            "marker": {
             "colorbar": {
              "outlinewidth": 0,
              "ticks": ""
             }
            },
            "type": "scattergl"
           }
          ],
          "scattermapbox": [
           {
            "marker": {
             "colorbar": {
              "outlinewidth": 0,
              "ticks": ""
             }
            },
            "type": "scattermapbox"
           }
          ],
          "scatterpolar": [
           {
            "marker": {
             "colorbar": {
              "outlinewidth": 0,
              "ticks": ""
             }
            },
            "type": "scatterpolar"
           }
          ],
          "scatterpolargl": [
           {
            "marker": {
             "colorbar": {
              "outlinewidth": 0,
              "ticks": ""
             }
            },
            "type": "scatterpolargl"
           }
          ],
          "scatterternary": [
           {
            "marker": {
             "colorbar": {
              "outlinewidth": 0,
              "ticks": ""
             }
            },
            "type": "scatterternary"
           }
          ],
          "surface": [
           {
            "colorbar": {
             "outlinewidth": 0,
             "ticks": ""
            },
            "colorscale": [
             [
              0,
              "#0d0887"
             ],
             [
              0.1111111111111111,
              "#46039f"
             ],
             [
              0.2222222222222222,
              "#7201a8"
             ],
             [
              0.3333333333333333,
              "#9c179e"
             ],
             [
              0.4444444444444444,
              "#bd3786"
             ],
             [
              0.5555555555555556,
              "#d8576b"
             ],
             [
              0.6666666666666666,
              "#ed7953"
             ],
             [
              0.7777777777777778,
              "#fb9f3a"
             ],
             [
              0.8888888888888888,
              "#fdca26"
             ],
             [
              1,
              "#f0f921"
             ]
            ],
            "type": "surface"
           }
          ],
          "table": [
           {
            "cells": {
             "fill": {
              "color": "#EBF0F8"
             },
             "line": {
              "color": "white"
             }
            },
            "header": {
             "fill": {
              "color": "#C8D4E3"
             },
             "line": {
              "color": "white"
             }
            },
            "type": "table"
           }
          ]
         },
         "layout": {
          "annotationdefaults": {
           "arrowcolor": "#2a3f5f",
           "arrowhead": 0,
           "arrowwidth": 1
          },
          "autotypenumbers": "strict",
          "coloraxis": {
           "colorbar": {
            "outlinewidth": 0,
            "ticks": ""
           }
          },
          "colorscale": {
           "diverging": [
            [
             0,
             "#8e0152"
            ],
            [
             0.1,
             "#c51b7d"
            ],
            [
             0.2,
             "#de77ae"
            ],
            [
             0.3,
             "#f1b6da"
            ],
            [
             0.4,
             "#fde0ef"
            ],
            [
             0.5,
             "#f7f7f7"
            ],
            [
             0.6,
             "#e6f5d0"
            ],
            [
             0.7,
             "#b8e186"
            ],
            [
             0.8,
             "#7fbc41"
            ],
            [
             0.9,
             "#4d9221"
            ],
            [
             1,
             "#276419"
            ]
           ],
           "sequential": [
            [
             0,
             "#0d0887"
            ],
            [
             0.1111111111111111,
             "#46039f"
            ],
            [
             0.2222222222222222,
             "#7201a8"
            ],
            [
             0.3333333333333333,
             "#9c179e"
            ],
            [
             0.4444444444444444,
             "#bd3786"
            ],
            [
             0.5555555555555556,
             "#d8576b"
            ],
            [
             0.6666666666666666,
             "#ed7953"
            ],
            [
             0.7777777777777778,
             "#fb9f3a"
            ],
            [
             0.8888888888888888,
             "#fdca26"
            ],
            [
             1,
             "#f0f921"
            ]
           ],
           "sequentialminus": [
            [
             0,
             "#0d0887"
            ],
            [
             0.1111111111111111,
             "#46039f"
            ],
            [
             0.2222222222222222,
             "#7201a8"
            ],
            [
             0.3333333333333333,
             "#9c179e"
            ],
            [
             0.4444444444444444,
             "#bd3786"
            ],
            [
             0.5555555555555556,
             "#d8576b"
            ],
            [
             0.6666666666666666,
             "#ed7953"
            ],
            [
             0.7777777777777778,
             "#fb9f3a"
            ],
            [
             0.8888888888888888,
             "#fdca26"
            ],
            [
             1,
             "#f0f921"
            ]
           ]
          },
          "colorway": [
           "#636efa",
           "#EF553B",
           "#00cc96",
           "#ab63fa",
           "#FFA15A",
           "#19d3f3",
           "#FF6692",
           "#B6E880",
           "#FF97FF",
           "#FECB52"
          ],
          "font": {
           "color": "#2a3f5f"
          },
          "geo": {
           "bgcolor": "white",
           "lakecolor": "white",
           "landcolor": "#E5ECF6",
           "showlakes": true,
           "showland": true,
           "subunitcolor": "white"
          },
          "hoverlabel": {
           "align": "left"
          },
          "hovermode": "closest",
          "mapbox": {
           "style": "light"
          },
          "paper_bgcolor": "white",
          "plot_bgcolor": "#E5ECF6",
          "polar": {
           "angularaxis": {
            "gridcolor": "white",
            "linecolor": "white",
            "ticks": ""
           },
           "bgcolor": "#E5ECF6",
           "radialaxis": {
            "gridcolor": "white",
            "linecolor": "white",
            "ticks": ""
           }
          },
          "scene": {
           "xaxis": {
            "backgroundcolor": "#E5ECF6",
            "gridcolor": "white",
            "gridwidth": 2,
            "linecolor": "white",
            "showbackground": true,
            "ticks": "",
            "zerolinecolor": "white"
           },
           "yaxis": {
            "backgroundcolor": "#E5ECF6",
            "gridcolor": "white",
            "gridwidth": 2,
            "linecolor": "white",
            "showbackground": true,
            "ticks": "",
            "zerolinecolor": "white"
           },
           "zaxis": {
            "backgroundcolor": "#E5ECF6",
            "gridcolor": "white",
            "gridwidth": 2,
            "linecolor": "white",
            "showbackground": true,
            "ticks": "",
            "zerolinecolor": "white"
           }
          },
          "shapedefaults": {
           "line": {
            "color": "#2a3f5f"
           }
          },
          "ternary": {
           "aaxis": {
            "gridcolor": "white",
            "linecolor": "white",
            "ticks": ""
           },
           "baxis": {
            "gridcolor": "white",
            "linecolor": "white",
            "ticks": ""
           },
           "bgcolor": "#E5ECF6",
           "caxis": {
            "gridcolor": "white",
            "linecolor": "white",
            "ticks": ""
           }
          },
          "title": {
           "x": 0.05
          },
          "xaxis": {
           "automargin": true,
           "gridcolor": "white",
           "linecolor": "white",
           "ticks": "",
           "title": {
            "standoff": 15
           },
           "zerolinecolor": "white",
           "zerolinewidth": 2
          },
          "yaxis": {
           "automargin": true,
           "gridcolor": "white",
           "linecolor": "white",
           "ticks": "",
           "title": {
            "standoff": 15
           },
           "zerolinecolor": "white",
           "zerolinewidth": 2
          }
         }
        }
       }
      }
     },
     "metadata": {},
     "output_type": "display_data"
    }
   ],
   "source": [
    "df = clean(df_orig)\n",
    "\n",
    "fig = px.sunburst(\n",
    "    data_frame=df,\n",
    "    path=[\"Fleeing\", 'State', \"Victim's race\"],  # Root, branches, leaves\n",
    "    color=\"Fleeing\",\n",
    "    color_discrete_sequence=px.colors.qualitative.Pastel,\n",
    "    # maxdepth=-1,                        # set the sectors rendered. -1 will render all levels in the hierarchy\n",
    "    # color=\"Victim's age\",\n",
    "    # color_continuous_scale=px.colors.sequential.BuGn,\n",
    "    # range_color=[10,100],\n",
    "\n",
    "    # branchvalues=\"total\",               # or 'remainder'\n",
    "    # hover_name=\"Unarmed\",\n",
    "    # # hover_data={'Unarmed': False},    # remove column name from tooltip  (Plotly version >= 4.8.0)\n",
    "    # title=\"7-year Breakdown of Deaths by Police\",\n",
    "    # template='ggplot2',               # 'ggplot2', 'seaborn', 'simple_white', 'plotly',\n",
    "    #                                   # 'plotly_white', 'plotly_dark', 'presentation',\n",
    "    #                                   # 'xgridoff', 'ygridoff', 'gridon', 'none'\n",
    ")\n",
    "\n",
    "fig.update_traces(textinfo='label+percent entry')\n",
    "fig.update_layout(margin=dict(t=0, l=0, r=0, b=0))\n",
    "\n",
    "fig.show()"
   ]
  },
  {
   "cell_type": "markdown",
   "metadata": {},
   "source": [
    "## Change Root Again"
   ]
  },
  {
   "cell_type": "code",
   "execution_count": 22,
   "metadata": {},
   "outputs": [
    {
     "data": {
      "application/vnd.plotly.v1+json": {
       "config": {
        "plotlyServerURL": "https://plot.ly"
       },
       "data": [
        {
         "branchvalues": "total",
         "customdata": [
          [
           "Female"
          ],
          [
           "Female"
          ],
          [
           "Male"
          ],
          [
           "Female"
          ],
          [
           "Male"
          ],
          [
           "Female"
          ],
          [
           "Male"
          ],
          [
           "Male"
          ],
          [
           "Female"
          ],
          [
           "Female"
          ],
          [
           "Male"
          ],
          [
           "Transgender"
          ],
          [
           "Unknown"
          ],
          [
           "Female"
          ],
          [
           "Male"
          ],
          [
           "Male"
          ],
          [
           "Female"
          ],
          [
           "Transgender"
          ],
          [
           "Male"
          ],
          [
           "Male"
          ],
          [
           "Male"
          ],
          [
           "Male"
          ],
          [
           "Female"
          ],
          [
           "Male"
          ],
          [
           "Female"
          ],
          [
           "Male"
          ],
          [
           "Female"
          ],
          [
           "Male"
          ],
          [
           "Unknown"
          ],
          [
           "Female"
          ],
          [
           "Male"
          ],
          [
           "Female"
          ],
          [
           "Male"
          ],
          [
           "Female"
          ],
          [
           "Transgender"
          ],
          [
           "Unknown"
          ]
         ],
         "domain": {
          "x": [
           0,
           1
          ],
          "y": [
           0,
           1
          ]
         },
         "hovertemplate": "labels=%{label}<br>count=%{value}<br>parent=%{parent}<br>id=%{id}<br>Victim's gender=%{customdata[0]}<extra></extra>",
         "ids": [
          "Female/CA/Asian",
          "Female/NY/White",
          "Male/NY/White",
          "Female/TX/White",
          "Male/TX/White",
          "Female/CA",
          "Male/CA",
          "Male/CA/White",
          "Female/NY",
          "Female/TX",
          "Male/TX",
          "Transgender/TX",
          "Unknown/TX",
          "Female",
          "Male",
          "Male/NY",
          "Female/CA/White",
          "Transgender/TX/Hispanic",
          "Male/TX/Hispanic",
          "Male/CA/Asian",
          "Male/NY/Asian",
          "Male/TX/Asian",
          "Female/CA/Black",
          "Male/CA/Black",
          "Female/NY/Black",
          "Male/NY/Black",
          "Female/TX/Black",
          "Male/TX/Black",
          "Unknown/TX/Black",
          "Female/CA/Hispanic",
          "Male/CA/Hispanic",
          "Female/NY/Hispanic",
          "Male/NY/Hispanic",
          "Female/TX/Hispanic",
          "Transgender",
          "Unknown"
         ],
         "labels": [
          "Asian",
          "White",
          "White",
          "White",
          "White",
          "CA",
          "CA",
          "White",
          "NY",
          "TX",
          "TX",
          "TX",
          "TX",
          "Female",
          "Male",
          "NY",
          "White",
          "Hispanic",
          "Hispanic",
          "Asian",
          "Asian",
          "Asian",
          "Black",
          "Black",
          "Black",
          "Black",
          "Black",
          "Black",
          "Black",
          "Hispanic",
          "Hispanic",
          "Hispanic",
          "Hispanic",
          "Hispanic",
          "Transgender",
          "Unknown"
         ],
         "marker": {
          "colors": [
           "rgb(102, 197, 204)",
           "rgb(102, 197, 204)",
           "rgb(246, 207, 113)",
           "rgb(102, 197, 204)",
           "rgb(246, 207, 113)",
           "rgb(102, 197, 204)",
           "rgb(246, 207, 113)",
           "rgb(246, 207, 113)",
           "rgb(102, 197, 204)",
           "rgb(102, 197, 204)",
           "rgb(246, 207, 113)",
           "rgb(248, 156, 116)",
           "rgb(220, 176, 242)",
           "rgb(102, 197, 204)",
           "rgb(246, 207, 113)",
           "rgb(246, 207, 113)",
           "rgb(102, 197, 204)",
           "rgb(248, 156, 116)",
           "rgb(246, 207, 113)",
           "rgb(246, 207, 113)",
           "rgb(246, 207, 113)",
           "rgb(246, 207, 113)",
           "rgb(102, 197, 204)",
           "rgb(246, 207, 113)",
           "rgb(102, 197, 204)",
           "rgb(246, 207, 113)",
           "rgb(102, 197, 204)",
           "rgb(246, 207, 113)",
           "rgb(220, 176, 242)",
           "rgb(102, 197, 204)",
           "rgb(246, 207, 113)",
           "rgb(102, 197, 204)",
           "rgb(246, 207, 113)",
           "rgb(102, 197, 204)",
           "rgb(248, 156, 116)",
           "rgb(220, 176, 242)"
          ]
         },
         "name": "",
         "parents": [
          "Female/CA",
          "Female/NY",
          "Male/NY",
          "Female/TX",
          "Male/TX",
          "Female",
          "Male",
          "Male/CA",
          "Female",
          "Female",
          "Male",
          "Transgender",
          "Unknown",
          "",
          "",
          "Male",
          "Female/CA",
          "Transgender/TX",
          "Male/TX",
          "Male/CA",
          "Male/NY",
          "Male/TX",
          "Female/CA",
          "Male/CA",
          "Female/NY",
          "Male/NY",
          "Female/TX",
          "Male/TX",
          "Unknown/TX",
          "Female/CA",
          "Male/CA",
          "Female/NY",
          "Male/NY",
          "Female/TX",
          "",
          ""
         ],
         "textinfo": "label+percent entry",
         "type": "sunburst",
         "values": [
          2,
          3,
          50,
          27,
          231,
          55,
          998,
          307,
          8,
          44,
          598,
          1,
          1,
          107,
          1731,
          135,
          26,
          1,
          209,
          42,
          1,
          10,
          8,
          178,
          4,
          67,
          8,
          148,
          1,
          19,
          471,
          1,
          17,
          9,
          1,
          1
         ]
        }
       ],
       "layout": {
        "legend": {
         "tracegroupgap": 0
        },
        "margin": {
         "b": 0,
         "l": 0,
         "r": 0,
         "t": 0
        },
        "sunburstcolorway": [
         "rgb(102, 197, 204)",
         "rgb(246, 207, 113)",
         "rgb(248, 156, 116)",
         "rgb(220, 176, 242)",
         "rgb(135, 197, 95)",
         "rgb(158, 185, 243)",
         "rgb(254, 136, 177)",
         "rgb(201, 219, 116)",
         "rgb(139, 224, 164)",
         "rgb(180, 151, 231)",
         "rgb(179, 179, 179)"
        ],
        "template": {
         "data": {
          "bar": [
           {
            "error_x": {
             "color": "#2a3f5f"
            },
            "error_y": {
             "color": "#2a3f5f"
            },
            "marker": {
             "line": {
              "color": "#E5ECF6",
              "width": 0.5
             },
             "pattern": {
              "fillmode": "overlay",
              "size": 10,
              "solidity": 0.2
             }
            },
            "type": "bar"
           }
          ],
          "barpolar": [
           {
            "marker": {
             "line": {
              "color": "#E5ECF6",
              "width": 0.5
             },
             "pattern": {
              "fillmode": "overlay",
              "size": 10,
              "solidity": 0.2
             }
            },
            "type": "barpolar"
           }
          ],
          "carpet": [
           {
            "aaxis": {
             "endlinecolor": "#2a3f5f",
             "gridcolor": "white",
             "linecolor": "white",
             "minorgridcolor": "white",
             "startlinecolor": "#2a3f5f"
            },
            "baxis": {
             "endlinecolor": "#2a3f5f",
             "gridcolor": "white",
             "linecolor": "white",
             "minorgridcolor": "white",
             "startlinecolor": "#2a3f5f"
            },
            "type": "carpet"
           }
          ],
          "choropleth": [
           {
            "colorbar": {
             "outlinewidth": 0,
             "ticks": ""
            },
            "type": "choropleth"
           }
          ],
          "contour": [
           {
            "colorbar": {
             "outlinewidth": 0,
             "ticks": ""
            },
            "colorscale": [
             [
              0,
              "#0d0887"
             ],
             [
              0.1111111111111111,
              "#46039f"
             ],
             [
              0.2222222222222222,
              "#7201a8"
             ],
             [
              0.3333333333333333,
              "#9c179e"
             ],
             [
              0.4444444444444444,
              "#bd3786"
             ],
             [
              0.5555555555555556,
              "#d8576b"
             ],
             [
              0.6666666666666666,
              "#ed7953"
             ],
             [
              0.7777777777777778,
              "#fb9f3a"
             ],
             [
              0.8888888888888888,
              "#fdca26"
             ],
             [
              1,
              "#f0f921"
             ]
            ],
            "type": "contour"
           }
          ],
          "contourcarpet": [
           {
            "colorbar": {
             "outlinewidth": 0,
             "ticks": ""
            },
            "type": "contourcarpet"
           }
          ],
          "heatmap": [
           {
            "colorbar": {
             "outlinewidth": 0,
             "ticks": ""
            },
            "colorscale": [
             [
              0,
              "#0d0887"
             ],
             [
              0.1111111111111111,
              "#46039f"
             ],
             [
              0.2222222222222222,
              "#7201a8"
             ],
             [
              0.3333333333333333,
              "#9c179e"
             ],
             [
              0.4444444444444444,
              "#bd3786"
             ],
             [
              0.5555555555555556,
              "#d8576b"
             ],
             [
              0.6666666666666666,
              "#ed7953"
             ],
             [
              0.7777777777777778,
              "#fb9f3a"
             ],
             [
              0.8888888888888888,
              "#fdca26"
             ],
             [
              1,
              "#f0f921"
             ]
            ],
            "type": "heatmap"
           }
          ],
          "heatmapgl": [
           {
            "colorbar": {
             "outlinewidth": 0,
             "ticks": ""
            },
            "colorscale": [
             [
              0,
              "#0d0887"
             ],
             [
              0.1111111111111111,
              "#46039f"
             ],
             [
              0.2222222222222222,
              "#7201a8"
             ],
             [
              0.3333333333333333,
              "#9c179e"
             ],
             [
              0.4444444444444444,
              "#bd3786"
             ],
             [
              0.5555555555555556,
              "#d8576b"
             ],
             [
              0.6666666666666666,
              "#ed7953"
             ],
             [
              0.7777777777777778,
              "#fb9f3a"
             ],
             [
              0.8888888888888888,
              "#fdca26"
             ],
             [
              1,
              "#f0f921"
             ]
            ],
            "type": "heatmapgl"
           }
          ],
          "histogram": [
           {
            "marker": {
             "pattern": {
              "fillmode": "overlay",
              "size": 10,
              "solidity": 0.2
             }
            },
            "type": "histogram"
           }
          ],
          "histogram2d": [
           {
            "colorbar": {
             "outlinewidth": 0,
             "ticks": ""
            },
            "colorscale": [
             [
              0,
              "#0d0887"
             ],
             [
              0.1111111111111111,
              "#46039f"
             ],
             [
              0.2222222222222222,
              "#7201a8"
             ],
             [
              0.3333333333333333,
              "#9c179e"
             ],
             [
              0.4444444444444444,
              "#bd3786"
             ],
             [
              0.5555555555555556,
              "#d8576b"
             ],
             [
              0.6666666666666666,
              "#ed7953"
             ],
             [
              0.7777777777777778,
              "#fb9f3a"
             ],
             [
              0.8888888888888888,
              "#fdca26"
             ],
             [
              1,
              "#f0f921"
             ]
            ],
            "type": "histogram2d"
           }
          ],
          "histogram2dcontour": [
           {
            "colorbar": {
             "outlinewidth": 0,
             "ticks": ""
            },
            "colorscale": [
             [
              0,
              "#0d0887"
             ],
             [
              0.1111111111111111,
              "#46039f"
             ],
             [
              0.2222222222222222,
              "#7201a8"
             ],
             [
              0.3333333333333333,
              "#9c179e"
             ],
             [
              0.4444444444444444,
              "#bd3786"
             ],
             [
              0.5555555555555556,
              "#d8576b"
             ],
             [
              0.6666666666666666,
              "#ed7953"
             ],
             [
              0.7777777777777778,
              "#fb9f3a"
             ],
             [
              0.8888888888888888,
              "#fdca26"
             ],
             [
              1,
              "#f0f921"
             ]
            ],
            "type": "histogram2dcontour"
           }
          ],
          "mesh3d": [
           {
            "colorbar": {
             "outlinewidth": 0,
             "ticks": ""
            },
            "type": "mesh3d"
           }
          ],
          "parcoords": [
           {
            "line": {
             "colorbar": {
              "outlinewidth": 0,
              "ticks": ""
             }
            },
            "type": "parcoords"
           }
          ],
          "pie": [
           {
            "automargin": true,
            "type": "pie"
           }
          ],
          "scatter": [
           {
            "marker": {
             "colorbar": {
              "outlinewidth": 0,
              "ticks": ""
             }
            },
            "type": "scatter"
           }
          ],
          "scatter3d": [
           {
            "line": {
             "colorbar": {
              "outlinewidth": 0,
              "ticks": ""
             }
            },
            "marker": {
             "colorbar": {
              "outlinewidth": 0,
              "ticks": ""
             }
            },
            "type": "scatter3d"
           }
          ],
          "scattercarpet": [
           {
            "marker": {
             "colorbar": {
              "outlinewidth": 0,
              "ticks": ""
             }
            },
            "type": "scattercarpet"
           }
          ],
          "scattergeo": [
           {
            "marker": {
             "colorbar": {
              "outlinewidth": 0,
              "ticks": ""
             }
            },
            "type": "scattergeo"
           }
          ],
          "scattergl": [
           {
            "marker": {
             "colorbar": {
              "outlinewidth": 0,
              "ticks": ""
             }
            },
            "type": "scattergl"
           }
          ],
          "scattermapbox": [
           {
            "marker": {
             "colorbar": {
              "outlinewidth": 0,
              "ticks": ""
             }
            },
            "type": "scattermapbox"
           }
          ],
          "scatterpolar": [
           {
            "marker": {
             "colorbar": {
              "outlinewidth": 0,
              "ticks": ""
             }
            },
            "type": "scatterpolar"
           }
          ],
          "scatterpolargl": [
           {
            "marker": {
             "colorbar": {
              "outlinewidth": 0,
              "ticks": ""
             }
            },
            "type": "scatterpolargl"
           }
          ],
          "scatterternary": [
           {
            "marker": {
             "colorbar": {
              "outlinewidth": 0,
              "ticks": ""
             }
            },
            "type": "scatterternary"
           }
          ],
          "surface": [
           {
            "colorbar": {
             "outlinewidth": 0,
             "ticks": ""
            },
            "colorscale": [
             [
              0,
              "#0d0887"
             ],
             [
              0.1111111111111111,
              "#46039f"
             ],
             [
              0.2222222222222222,
              "#7201a8"
             ],
             [
              0.3333333333333333,
              "#9c179e"
             ],
             [
              0.4444444444444444,
              "#bd3786"
             ],
             [
              0.5555555555555556,
              "#d8576b"
             ],
             [
              0.6666666666666666,
              "#ed7953"
             ],
             [
              0.7777777777777778,
              "#fb9f3a"
             ],
             [
              0.8888888888888888,
              "#fdca26"
             ],
             [
              1,
              "#f0f921"
             ]
            ],
            "type": "surface"
           }
          ],
          "table": [
           {
            "cells": {
             "fill": {
              "color": "#EBF0F8"
             },
             "line": {
              "color": "white"
             }
            },
            "header": {
             "fill": {
              "color": "#C8D4E3"
             },
             "line": {
              "color": "white"
             }
            },
            "type": "table"
           }
          ]
         },
         "layout": {
          "annotationdefaults": {
           "arrowcolor": "#2a3f5f",
           "arrowhead": 0,
           "arrowwidth": 1
          },
          "autotypenumbers": "strict",
          "coloraxis": {
           "colorbar": {
            "outlinewidth": 0,
            "ticks": ""
           }
          },
          "colorscale": {
           "diverging": [
            [
             0,
             "#8e0152"
            ],
            [
             0.1,
             "#c51b7d"
            ],
            [
             0.2,
             "#de77ae"
            ],
            [
             0.3,
             "#f1b6da"
            ],
            [
             0.4,
             "#fde0ef"
            ],
            [
             0.5,
             "#f7f7f7"
            ],
            [
             0.6,
             "#e6f5d0"
            ],
            [
             0.7,
             "#b8e186"
            ],
            [
             0.8,
             "#7fbc41"
            ],
            [
             0.9,
             "#4d9221"
            ],
            [
             1,
             "#276419"
            ]
           ],
           "sequential": [
            [
             0,
             "#0d0887"
            ],
            [
             0.1111111111111111,
             "#46039f"
            ],
            [
             0.2222222222222222,
             "#7201a8"
            ],
            [
             0.3333333333333333,
             "#9c179e"
            ],
            [
             0.4444444444444444,
             "#bd3786"
            ],
            [
             0.5555555555555556,
             "#d8576b"
            ],
            [
             0.6666666666666666,
             "#ed7953"
            ],
            [
             0.7777777777777778,
             "#fb9f3a"
            ],
            [
             0.8888888888888888,
             "#fdca26"
            ],
            [
             1,
             "#f0f921"
            ]
           ],
           "sequentialminus": [
            [
             0,
             "#0d0887"
            ],
            [
             0.1111111111111111,
             "#46039f"
            ],
            [
             0.2222222222222222,
             "#7201a8"
            ],
            [
             0.3333333333333333,
             "#9c179e"
            ],
            [
             0.4444444444444444,
             "#bd3786"
            ],
            [
             0.5555555555555556,
             "#d8576b"
            ],
            [
             0.6666666666666666,
             "#ed7953"
            ],
            [
             0.7777777777777778,
             "#fb9f3a"
            ],
            [
             0.8888888888888888,
             "#fdca26"
            ],
            [
             1,
             "#f0f921"
            ]
           ]
          },
          "colorway": [
           "#636efa",
           "#EF553B",
           "#00cc96",
           "#ab63fa",
           "#FFA15A",
           "#19d3f3",
           "#FF6692",
           "#B6E880",
           "#FF97FF",
           "#FECB52"
          ],
          "font": {
           "color": "#2a3f5f"
          },
          "geo": {
           "bgcolor": "white",
           "lakecolor": "white",
           "landcolor": "#E5ECF6",
           "showlakes": true,
           "showland": true,
           "subunitcolor": "white"
          },
          "hoverlabel": {
           "align": "left"
          },
          "hovermode": "closest",
          "mapbox": {
           "style": "light"
          },
          "paper_bgcolor": "white",
          "plot_bgcolor": "#E5ECF6",
          "polar": {
           "angularaxis": {
            "gridcolor": "white",
            "linecolor": "white",
            "ticks": ""
           },
           "bgcolor": "#E5ECF6",
           "radialaxis": {
            "gridcolor": "white",
            "linecolor": "white",
            "ticks": ""
           }
          },
          "scene": {
           "xaxis": {
            "backgroundcolor": "#E5ECF6",
            "gridcolor": "white",
            "gridwidth": 2,
            "linecolor": "white",
            "showbackground": true,
            "ticks": "",
            "zerolinecolor": "white"
           },
           "yaxis": {
            "backgroundcolor": "#E5ECF6",
            "gridcolor": "white",
            "gridwidth": 2,
            "linecolor": "white",
            "showbackground": true,
            "ticks": "",
            "zerolinecolor": "white"
           },
           "zaxis": {
            "backgroundcolor": "#E5ECF6",
            "gridcolor": "white",
            "gridwidth": 2,
            "linecolor": "white",
            "showbackground": true,
            "ticks": "",
            "zerolinecolor": "white"
           }
          },
          "shapedefaults": {
           "line": {
            "color": "#2a3f5f"
           }
          },
          "ternary": {
           "aaxis": {
            "gridcolor": "white",
            "linecolor": "white",
            "ticks": ""
           },
           "baxis": {
            "gridcolor": "white",
            "linecolor": "white",
            "ticks": ""
           },
           "bgcolor": "#E5ECF6",
           "caxis": {
            "gridcolor": "white",
            "linecolor": "white",
            "ticks": ""
           }
          },
          "title": {
           "x": 0.05
          },
          "xaxis": {
           "automargin": true,
           "gridcolor": "white",
           "linecolor": "white",
           "ticks": "",
           "title": {
            "standoff": 15
           },
           "zerolinecolor": "white",
           "zerolinewidth": 2
          },
          "yaxis": {
           "automargin": true,
           "gridcolor": "white",
           "linecolor": "white",
           "ticks": "",
           "title": {
            "standoff": 15
           },
           "zerolinecolor": "white",
           "zerolinewidth": 2
          }
         }
        }
       }
      }
     },
     "metadata": {},
     "output_type": "display_data"
    }
   ],
   "source": [
    "df = clean(df_orig)\n",
    "\n",
    "fig = px.sunburst(\n",
    "    data_frame=df,\n",
    "    path=[\"Victim's gender\", 'State', \"Victim's race\"],  # Root, branches, leaves\n",
    "    color=\"Victim's gender\",\n",
    "    color_discrete_sequence=px.colors.qualitative.Pastel,\n",
    "    # maxdepth=-1,                        # set the sectors rendered. -1 will render all levels in the hierarchy\n",
    "    # color=\"Victim's age\",\n",
    "    # color_continuous_scale=px.colors.sequential.BuGn,\n",
    "    # range_color=[10,100],\n",
    "\n",
    "    # branchvalues=\"total\",               # or 'remainder'\n",
    "    # hover_name=\"Unarmed\",\n",
    "    # # hover_data={'Unarmed': False},    # remove column name from tooltip  (Plotly version >= 4.8.0)\n",
    "    # title=\"7-year Breakdown of Deaths by Police\",\n",
    "    # template='ggplot2',               # 'ggplot2', 'seaborn', 'simple_white', 'plotly',\n",
    "    #                                   # 'plotly_white', 'plotly_dark', 'presentation',\n",
    "    #                                   # 'xgridoff', 'ygridoff', 'gridon', 'none'\n",
    ")\n",
    "\n",
    "fig.update_traces(textinfo='label+percent entry')\n",
    "fig.update_layout(margin=dict(t=0, l=0, r=0, b=0))\n",
    "\n",
    "fig.show()"
   ]
  },
  {
   "cell_type": "markdown",
   "metadata": {},
   "source": [
    "## Add a level"
   ]
  },
  {
   "cell_type": "code",
   "execution_count": 23,
   "metadata": {},
   "outputs": [
    {
     "data": {
      "application/vnd.plotly.v1+json": {
       "config": {
        "plotlyServerURL": "https://plot.ly"
       },
       "data": [
        {
         "branchvalues": "total",
         "customdata": [
          [
           "Allegedly Armed"
          ],
          [
           "Vehicle"
          ],
          [
           "Unarmed"
          ],
          [
           "Vehicle"
          ],
          [
           "Unclear"
          ],
          [
           "Allegedly Armed"
          ],
          [
           "Vehicle"
          ],
          [
           "Allegedly Armed"
          ],
          [
           "Unclear"
          ],
          [
           "Unarmed"
          ],
          [
           "Allegedly Armed"
          ],
          [
           "Vehicle"
          ],
          [
           "Unclear"
          ],
          [
           "Unarmed"
          ],
          [
           "Unclear"
          ],
          [
           "Unarmed"
          ],
          [
           "Unclear"
          ],
          [
           "Unclear"
          ],
          [
           "Unarmed"
          ],
          [
           "Allegedly Armed"
          ],
          [
           "Allegedly Armed"
          ],
          [
           "Unarmed"
          ],
          [
           "Unclear"
          ],
          [
           "Unarmed"
          ],
          [
           "Unarmed"
          ],
          [
           "Allegedly Armed"
          ],
          [
           "Unclear"
          ],
          [
           "Unarmed"
          ],
          [
           "Vehicle"
          ],
          [
           "Unarmed"
          ],
          [
           "Vehicle"
          ],
          [
           "Unclear"
          ],
          [
           "Unarmed"
          ],
          [
           "Vehicle"
          ],
          [
           "Allegedly Armed"
          ],
          [
           "Unclear"
          ],
          [
           "Unarmed"
          ],
          [
           "Vehicle"
          ],
          [
           "Unclear"
          ],
          [
           "Unarmed"
          ],
          [
           "Allegedly Armed"
          ],
          [
           "Vehicle"
          ],
          [
           "Unclear"
          ],
          [
           "Unarmed"
          ],
          [
           "Allegedly Armed"
          ],
          [
           "Unclear"
          ],
          [
           "Vehicle"
          ],
          [
           "Vehicle"
          ],
          [
           "Unclear"
          ],
          [
           "Unarmed"
          ],
          [
           "Unarmed"
          ],
          [
           "Allegedly Armed"
          ],
          [
           "Vehicle"
          ],
          [
           "Unarmed"
          ],
          [
           "Allegedly Armed"
          ],
          [
           "Allegedly Armed"
          ],
          [
           "Allegedly Armed"
          ],
          [
           "Unarmed"
          ],
          [
           "Allegedly Armed"
          ],
          [
           "Allegedly Armed"
          ],
          [
           "Unarmed"
          ],
          [
           "Vehicle"
          ],
          [
           "Unarmed"
          ],
          [
           "Vehicle"
          ],
          [
           "Allegedly Armed"
          ],
          [
           "Unclear"
          ],
          [
           "Unarmed"
          ],
          [
           "Unarmed"
          ],
          [
           "Unclear"
          ],
          [
           "Vehicle"
          ],
          [
           "Vehicle"
          ],
          [
           "Allegedly Armed"
          ],
          [
           "Allegedly Armed"
          ],
          [
           "Vehicle"
          ],
          [
           "Allegedly Armed"
          ],
          [
           "Allegedly Armed"
          ],
          [
           "Unarmed"
          ],
          [
           "Allegedly Armed"
          ],
          [
           "Unclear"
          ],
          [
           "Vehicle"
          ],
          [
           "Vehicle"
          ],
          [
           "Allegedly Armed"
          ],
          [
           "Unclear"
          ],
          [
           "Unarmed"
          ],
          [
           "Unclear"
          ],
          [
           "Vehicle"
          ],
          [
           "Unclear"
          ],
          [
           "Vehicle"
          ],
          [
           "Vehicle"
          ],
          [
           "Unclear"
          ],
          [
           "Allegedly Armed"
          ],
          [
           "Allegedly Armed"
          ],
          [
           "Allegedly Armed"
          ],
          [
           "Unarmed"
          ],
          [
           "Vehicle"
          ],
          [
           "Unarmed"
          ],
          [
           "Allegedly Armed"
          ],
          [
           "Allegedly Armed"
          ],
          [
           "Unarmed"
          ],
          [
           "Vehicle"
          ],
          [
           "Unarmed"
          ],
          [
           "Unclear"
          ],
          [
           "Unarmed"
          ],
          [
           "Unarmed"
          ],
          [
           "Unclear"
          ],
          [
           "Allegedly Armed"
          ],
          [
           "Unclear"
          ],
          [
           "Allegedly Armed"
          ],
          [
           "Unarmed"
          ],
          [
           "Vehicle"
          ],
          [
           "Allegedly Armed"
          ],
          [
           "Allegedly Armed"
          ],
          [
           "Unarmed"
          ],
          [
           "Allegedly Armed"
          ],
          [
           "Unarmed"
          ],
          [
           "Unarmed"
          ],
          [
           "Allegedly Armed"
          ],
          [
           "Allegedly Armed"
          ],
          [
           "Vehicle"
          ],
          [
           "Allegedly Armed"
          ],
          [
           "Vehicle"
          ],
          [
           "Unclear"
          ],
          [
           "Unclear"
          ],
          [
           "Allegedly Armed"
          ],
          [
           "Allegedly Armed"
          ]
         ],
         "domain": {
          "x": [
           0,
           1
          ],
          "y": [
           0,
           1
          ]
         },
         "hovertemplate": "labels=%{label}<br>count=%{value}<br>parent=%{parent}<br>id=%{id}<br>Unarmed=%{customdata[0]}<extra></extra>",
         "ids": [
          "Allegedly Armed/CA/Asian/Female",
          "Vehicle/NY/Black",
          "Unarmed/NY/Black",
          "Vehicle/CA/Black",
          "Unclear/CA/Black",
          "Allegedly Armed/CA/Black",
          "Vehicle/TX/Asian",
          "Allegedly Armed/NY/Asian",
          "Unclear/CA/Asian",
          "Unarmed/CA/Asian",
          "Allegedly Armed/CA/Asian",
          "Vehicle/TX/White/Male",
          "Unclear/TX/White/Male",
          "Unarmed/NY/White/Male",
          "Unclear/CA/White/Male",
          "Unarmed/CA/White/Male",
          "Unclear/TX/Hispanic/Male",
          "Unclear/NY/Hispanic/Male",
          "Unarmed/NY/Hispanic/Male",
          "Allegedly Armed/NY/Hispanic/Male",
          "Allegedly Armed/TX/Black",
          "Unarmed/TX/Black",
          "Unclear/CA/Hispanic",
          "Unarmed/NY/Hispanic",
          "Unarmed",
          "Allegedly Armed",
          "Unclear/TX",
          "Unarmed/TX",
          "Vehicle/NY",
          "Unarmed/NY",
          "Vehicle/CA",
          "Unclear/CA",
          "Unarmed/CA",
          "Vehicle/CA/Hispanic/Male",
          "Allegedly Armed/CA",
          "Unclear/NY/White",
          "Unarmed/NY/White",
          "Vehicle/CA/White",
          "Unclear/CA/White",
          "Unarmed/CA/White",
          "Allegedly Armed/CA/White",
          "Vehicle/TX/Hispanic",
          "Unclear/TX/Hispanic",
          "Unarmed/TX/Hispanic",
          "Allegedly Armed/TX/White",
          "Unclear/CA/Hispanic/Male",
          "Vehicle",
          "Vehicle/CA/Black/Male",
          "Unclear/CA/White/Female",
          "Unarmed/CA/White/Female",
          "Unarmed/CA/Black/Male",
          "Allegedly Armed/CA/White/Female",
          "Vehicle/TX/Hispanic/Female",
          "Unarmed/TX/Hispanic/Female",
          "Allegedly Armed/CA/Asian/Male",
          "Allegedly Armed/NY/Black/Male",
          "Allegedly Armed/TX/Hispanic/Female",
          "Unarmed/NY/Hispanic/Female",
          "Allegedly Armed/TX/White/Female",
          "Allegedly Armed/NY/White/Female",
          "Unarmed/NY/Black/Male",
          "Vehicle/CA/Asian/Male",
          "Unarmed/TX/Black/Female",
          "Vehicle/NY/Black/Male",
          "Allegedly Armed/TX/Black/Female",
          "Unclear/CA/Asian/Male",
          "Unarmed/TX/White/Female",
          "Unarmed/CA/Black/Female",
          "Unclear/TX/Black/Male",
          "Vehicle/TX/Black/Male",
          "Vehicle/CA/Hispanic/Female",
          "Allegedly Armed/NY/Asian/Male",
          "Allegedly Armed/NY/Hispanic",
          "Vehicle/TX/Black",
          "Allegedly Armed/CA/Hispanic/Male",
          "Allegedly Armed/TX/Hispanic",
          "Unarmed/TX/White",
          "Allegedly Armed/CA/Hispanic/Female",
          "Unclear/NY",
          "Vehicle/CA/Black/Female",
          "Vehicle/TX",
          "Allegedly Armed/CA/Black/Female",
          "Unclear/NY/Hispanic",
          "Unarmed/CA/Hispanic/Male",
          "Unclear/TX/Black",
          "Vehicle/TX/White/Female",
          "Unclear/TX/White/Female",
          "Vehicle/CA/Asian",
          "Vehicle/CA/White/Male",
          "Unclear/NY/Black/Male",
          "Allegedly Armed/TX/Black/Unknown",
          "Allegedly Armed/CA/White/Male",
          "Allegedly Armed/TX/Asian/Male",
          "Unarmed/CA/Asian/Male",
          "Vehicle/TX/Hispanic/Male",
          "Unarmed/TX/Hispanic/Transgender",
          "Allegedly Armed/TX",
          "Allegedly Armed/TX/Black/Male",
          "Unarmed/CA/Hispanic/Female",
          "Vehicle/TX/White",
          "Unarmed/TX/Hispanic/Male",
          "Unclear",
          "Unarmed/TX/Black/Male",
          "Unarmed/TX/White/Male",
          "Unclear/CA/Black/Male",
          "Allegedly Armed/CA/Black/Male",
          "Unclear/NY/Black",
          "Allegedly Armed/CA/Hispanic",
          "Unarmed/NY/White/Female",
          "Vehicle/CA/Hispanic",
          "Allegedly Armed/NY/Black",
          "Allegedly Armed/TX/Hispanic/Male",
          "Unarmed/CA/Hispanic",
          "Allegedly Armed/NY/Black/Female",
          "Unarmed/NY/Black/Female",
          "Unarmed/CA/Black",
          "Allegedly Armed/NY",
          "Allegedly Armed/TX/Asian",
          "Vehicle/TX/Asian/Male",
          "Allegedly Armed/NY/White/Male",
          "Vehicle/CA/White/Female",
          "Unclear/TX/White",
          "Unclear/NY/White/Male",
          "Allegedly Armed/NY/White",
          "Allegedly Armed/TX/White/Male"
         ],
         "labels": [
          "Female",
          "Black",
          "Black",
          "Black",
          "Black",
          "Black",
          "Asian",
          "Asian",
          "Asian",
          "Asian",
          "Asian",
          "Male",
          "Male",
          "Male",
          "Male",
          "Male",
          "Male",
          "Male",
          "Male",
          "Male",
          "Black",
          "Black",
          "Hispanic",
          "Hispanic",
          "Unarmed",
          "Allegedly Armed",
          "TX",
          "TX",
          "NY",
          "NY",
          "CA",
          "CA",
          "CA",
          "Male",
          "CA",
          "White",
          "White",
          "White",
          "White",
          "White",
          "White",
          "Hispanic",
          "Hispanic",
          "Hispanic",
          "White",
          "Male",
          "Vehicle",
          "Male",
          "Female",
          "Female",
          "Male",
          "Female",
          "Female",
          "Female",
          "Male",
          "Male",
          "Female",
          "Female",
          "Female",
          "Female",
          "Male",
          "Male",
          "Female",
          "Male",
          "Female",
          "Male",
          "Female",
          "Female",
          "Male",
          "Male",
          "Female",
          "Male",
          "Hispanic",
          "Black",
          "Male",
          "Hispanic",
          "White",
          "Female",
          "NY",
          "Female",
          "TX",
          "Female",
          "Hispanic",
          "Male",
          "Black",
          "Female",
          "Female",
          "Asian",
          "Male",
          "Male",
          "Unknown",
          "Male",
          "Male",
          "Male",
          "Male",
          "Transgender",
          "TX",
          "Male",
          "Female",
          "White",
          "Male",
          "Unclear",
          "Male",
          "Male",
          "Male",
          "Male",
          "Black",
          "Hispanic",
          "Female",
          "Hispanic",
          "Black",
          "Male",
          "Hispanic",
          "Female",
          "Female",
          "Black",
          "NY",
          "Asian",
          "Male",
          "Male",
          "Female",
          "White",
          "Male",
          "White",
          "Male"
         ],
         "marker": {
          "colors": [
           "rgb(102, 197, 204)",
           "rgb(246, 207, 113)",
           "rgb(248, 156, 116)",
           "rgb(246, 207, 113)",
           "rgb(220, 176, 242)",
           "rgb(102, 197, 204)",
           "rgb(246, 207, 113)",
           "rgb(102, 197, 204)",
           "rgb(220, 176, 242)",
           "rgb(248, 156, 116)",
           "rgb(102, 197, 204)",
           "rgb(246, 207, 113)",
           "rgb(220, 176, 242)",
           "rgb(248, 156, 116)",
           "rgb(220, 176, 242)",
           "rgb(248, 156, 116)",
           "rgb(220, 176, 242)",
           "rgb(220, 176, 242)",
           "rgb(248, 156, 116)",
           "rgb(102, 197, 204)",
           "rgb(102, 197, 204)",
           "rgb(248, 156, 116)",
           "rgb(220, 176, 242)",
           "rgb(248, 156, 116)",
           "rgb(248, 156, 116)",
           "rgb(102, 197, 204)",
           "rgb(220, 176, 242)",
           "rgb(248, 156, 116)",
           "rgb(246, 207, 113)",
           "rgb(248, 156, 116)",
           "rgb(246, 207, 113)",
           "rgb(220, 176, 242)",
           "rgb(248, 156, 116)",
           "rgb(246, 207, 113)",
           "rgb(102, 197, 204)",
           "rgb(220, 176, 242)",
           "rgb(248, 156, 116)",
           "rgb(246, 207, 113)",
           "rgb(220, 176, 242)",
           "rgb(248, 156, 116)",
           "rgb(102, 197, 204)",
           "rgb(246, 207, 113)",
           "rgb(220, 176, 242)",
           "rgb(248, 156, 116)",
           "rgb(102, 197, 204)",
           "rgb(220, 176, 242)",
           "rgb(246, 207, 113)",
           "rgb(246, 207, 113)",
           "rgb(220, 176, 242)",
           "rgb(248, 156, 116)",
           "rgb(248, 156, 116)",
           "rgb(102, 197, 204)",
           "rgb(246, 207, 113)",
           "rgb(248, 156, 116)",
           "rgb(102, 197, 204)",
           "rgb(102, 197, 204)",
           "rgb(102, 197, 204)",
           "rgb(248, 156, 116)",
           "rgb(102, 197, 204)",
           "rgb(102, 197, 204)",
           "rgb(248, 156, 116)",
           "rgb(246, 207, 113)",
           "rgb(248, 156, 116)",
           "rgb(246, 207, 113)",
           "rgb(102, 197, 204)",
           "rgb(220, 176, 242)",
           "rgb(248, 156, 116)",
           "rgb(248, 156, 116)",
           "rgb(220, 176, 242)",
           "rgb(246, 207, 113)",
           "rgb(246, 207, 113)",
           "rgb(102, 197, 204)",
           "rgb(102, 197, 204)",
           "rgb(246, 207, 113)",
           "rgb(102, 197, 204)",
           "rgb(102, 197, 204)",
           "rgb(248, 156, 116)",
           "rgb(102, 197, 204)",
           "rgb(220, 176, 242)",
           "rgb(246, 207, 113)",
           "rgb(246, 207, 113)",
           "rgb(102, 197, 204)",
           "rgb(220, 176, 242)",
           "rgb(248, 156, 116)",
           "rgb(220, 176, 242)",
           "rgb(246, 207, 113)",
           "rgb(220, 176, 242)",
           "rgb(246, 207, 113)",
           "rgb(246, 207, 113)",
           "rgb(220, 176, 242)",
           "rgb(102, 197, 204)",
           "rgb(102, 197, 204)",
           "rgb(102, 197, 204)",
           "rgb(248, 156, 116)",
           "rgb(246, 207, 113)",
           "rgb(248, 156, 116)",
           "rgb(102, 197, 204)",
           "rgb(102, 197, 204)",
           "rgb(248, 156, 116)",
           "rgb(246, 207, 113)",
           "rgb(248, 156, 116)",
           "rgb(220, 176, 242)",
           "rgb(248, 156, 116)",
           "rgb(248, 156, 116)",
           "rgb(220, 176, 242)",
           "rgb(102, 197, 204)",
           "rgb(220, 176, 242)",
           "rgb(102, 197, 204)",
           "rgb(248, 156, 116)",
           "rgb(246, 207, 113)",
           "rgb(102, 197, 204)",
           "rgb(102, 197, 204)",
           "rgb(248, 156, 116)",
           "rgb(102, 197, 204)",
           "rgb(248, 156, 116)",
           "rgb(248, 156, 116)",
           "rgb(102, 197, 204)",
           "rgb(102, 197, 204)",
           "rgb(246, 207, 113)",
           "rgb(102, 197, 204)",
           "rgb(246, 207, 113)",
           "rgb(220, 176, 242)",
           "rgb(220, 176, 242)",
           "rgb(102, 197, 204)",
           "rgb(102, 197, 204)"
          ]
         },
         "name": "",
         "parents": [
          "Allegedly Armed/CA/Asian",
          "Vehicle/NY",
          "Unarmed/NY",
          "Vehicle/CA",
          "Unclear/CA",
          "Allegedly Armed/CA",
          "Vehicle/TX",
          "Allegedly Armed/NY",
          "Unclear/CA",
          "Unarmed/CA",
          "Allegedly Armed/CA",
          "Vehicle/TX/White",
          "Unclear/TX/White",
          "Unarmed/NY/White",
          "Unclear/CA/White",
          "Unarmed/CA/White",
          "Unclear/TX/Hispanic",
          "Unclear/NY/Hispanic",
          "Unarmed/NY/Hispanic",
          "Allegedly Armed/NY/Hispanic",
          "Allegedly Armed/TX",
          "Unarmed/TX",
          "Unclear/CA",
          "Unarmed/NY",
          "",
          "",
          "Unclear",
          "Unarmed",
          "Vehicle",
          "Unarmed",
          "Vehicle",
          "Unclear",
          "Unarmed",
          "Vehicle/CA/Hispanic",
          "Allegedly Armed",
          "Unclear/NY",
          "Unarmed/NY",
          "Vehicle/CA",
          "Unclear/CA",
          "Unarmed/CA",
          "Allegedly Armed/CA",
          "Vehicle/TX",
          "Unclear/TX",
          "Unarmed/TX",
          "Allegedly Armed/TX",
          "Unclear/CA/Hispanic",
          "",
          "Vehicle/CA/Black",
          "Unclear/CA/White",
          "Unarmed/CA/White",
          "Unarmed/CA/Black",
          "Allegedly Armed/CA/White",
          "Vehicle/TX/Hispanic",
          "Unarmed/TX/Hispanic",
          "Allegedly Armed/CA/Asian",
          "Allegedly Armed/NY/Black",
          "Allegedly Armed/TX/Hispanic",
          "Unarmed/NY/Hispanic",
          "Allegedly Armed/TX/White",
          "Allegedly Armed/NY/White",
          "Unarmed/NY/Black",
          "Vehicle/CA/Asian",
          "Unarmed/TX/Black",
          "Vehicle/NY/Black",
          "Allegedly Armed/TX/Black",
          "Unclear/CA/Asian",
          "Unarmed/TX/White",
          "Unarmed/CA/Black",
          "Unclear/TX/Black",
          "Vehicle/TX/Black",
          "Vehicle/CA/Hispanic",
          "Allegedly Armed/NY/Asian",
          "Allegedly Armed/NY",
          "Vehicle/TX",
          "Allegedly Armed/CA/Hispanic",
          "Allegedly Armed/TX",
          "Unarmed/TX",
          "Allegedly Armed/CA/Hispanic",
          "Unclear",
          "Vehicle/CA/Black",
          "Vehicle",
          "Allegedly Armed/CA/Black",
          "Unclear/NY",
          "Unarmed/CA/Hispanic",
          "Unclear/TX",
          "Vehicle/TX/White",
          "Unclear/TX/White",
          "Vehicle/CA",
          "Vehicle/CA/White",
          "Unclear/NY/Black",
          "Allegedly Armed/TX/Black",
          "Allegedly Armed/CA/White",
          "Allegedly Armed/TX/Asian",
          "Unarmed/CA/Asian",
          "Vehicle/TX/Hispanic",
          "Unarmed/TX/Hispanic",
          "Allegedly Armed",
          "Allegedly Armed/TX/Black",
          "Unarmed/CA/Hispanic",
          "Vehicle/TX",
          "Unarmed/TX/Hispanic",
          "",
          "Unarmed/TX/Black",
          "Unarmed/TX/White",
          "Unclear/CA/Black",
          "Allegedly Armed/CA/Black",
          "Unclear/NY",
          "Allegedly Armed/CA",
          "Unarmed/NY/White",
          "Vehicle/CA",
          "Allegedly Armed/NY",
          "Allegedly Armed/TX/Hispanic",
          "Unarmed/CA",
          "Allegedly Armed/NY/Black",
          "Unarmed/NY/Black",
          "Unarmed/CA",
          "Allegedly Armed",
          "Allegedly Armed/TX",
          "Vehicle/TX/Asian",
          "Allegedly Armed/NY/White",
          "Vehicle/CA/White",
          "Unclear/TX",
          "Unclear/NY/White",
          "Allegedly Armed/NY",
          "Allegedly Armed/TX/White"
         ],
         "textinfo": "label+percent entry",
         "type": "sunburst",
         "values": [
          2,
          2,
          17,
          12,
          22,
          112,
          1,
          1,
          3,
          5,
          34,
          12,
          17,
          9,
          33,
          49,
          16,
          1,
          5,
          11,
          93,
          40,
          55,
          6,
          327,
          1245,
          43,
          102,
          2,
          34,
          63,
          114,
          191,
          25,
          685,
          1,
          11,
          19,
          34,
          56,
          224,
          10,
          16,
          29,
          194,
          55,
          104,
          10,
          1,
          7,
          39,
          13,
          1,
          6,
          32,
          44,
          2,
          1,
          18,
          1,
          16,
          2,
          4,
          2,
          4,
          3,
          7,
          1,
          9,
          15,
          5,
          1,
          11,
          15,
          306,
          164,
          33,
          9,
          7,
          2,
          39,
          5,
          1,
          85,
          9,
          1,
          1,
          2,
          14,
          5,
          1,
          211,
          9,
          5,
          9,
          1,
          460,
          88,
          5,
          13,
          22,
          164,
          36,
          26,
          22,
          107,
          5,
          315,
          2,
          30,
          47,
          162,
          90,
          3,
          1,
          40,
          100,
          9,
          1,
          40,
          5,
          18,
          1,
          41,
          176
         ]
        }
       ],
       "layout": {
        "legend": {
         "tracegroupgap": 0
        },
        "margin": {
         "b": 0,
         "l": 0,
         "r": 0,
         "t": 0
        },
        "sunburstcolorway": [
         "rgb(102, 197, 204)",
         "rgb(246, 207, 113)",
         "rgb(248, 156, 116)",
         "rgb(220, 176, 242)",
         "rgb(135, 197, 95)",
         "rgb(158, 185, 243)",
         "rgb(254, 136, 177)",
         "rgb(201, 219, 116)",
         "rgb(139, 224, 164)",
         "rgb(180, 151, 231)",
         "rgb(179, 179, 179)"
        ],
        "template": {
         "data": {
          "bar": [
           {
            "error_x": {
             "color": "#2a3f5f"
            },
            "error_y": {
             "color": "#2a3f5f"
            },
            "marker": {
             "line": {
              "color": "#E5ECF6",
              "width": 0.5
             },
             "pattern": {
              "fillmode": "overlay",
              "size": 10,
              "solidity": 0.2
             }
            },
            "type": "bar"
           }
          ],
          "barpolar": [
           {
            "marker": {
             "line": {
              "color": "#E5ECF6",
              "width": 0.5
             },
             "pattern": {
              "fillmode": "overlay",
              "size": 10,
              "solidity": 0.2
             }
            },
            "type": "barpolar"
           }
          ],
          "carpet": [
           {
            "aaxis": {
             "endlinecolor": "#2a3f5f",
             "gridcolor": "white",
             "linecolor": "white",
             "minorgridcolor": "white",
             "startlinecolor": "#2a3f5f"
            },
            "baxis": {
             "endlinecolor": "#2a3f5f",
             "gridcolor": "white",
             "linecolor": "white",
             "minorgridcolor": "white",
             "startlinecolor": "#2a3f5f"
            },
            "type": "carpet"
           }
          ],
          "choropleth": [
           {
            "colorbar": {
             "outlinewidth": 0,
             "ticks": ""
            },
            "type": "choropleth"
           }
          ],
          "contour": [
           {
            "colorbar": {
             "outlinewidth": 0,
             "ticks": ""
            },
            "colorscale": [
             [
              0,
              "#0d0887"
             ],
             [
              0.1111111111111111,
              "#46039f"
             ],
             [
              0.2222222222222222,
              "#7201a8"
             ],
             [
              0.3333333333333333,
              "#9c179e"
             ],
             [
              0.4444444444444444,
              "#bd3786"
             ],
             [
              0.5555555555555556,
              "#d8576b"
             ],
             [
              0.6666666666666666,
              "#ed7953"
             ],
             [
              0.7777777777777778,
              "#fb9f3a"
             ],
             [
              0.8888888888888888,
              "#fdca26"
             ],
             [
              1,
              "#f0f921"
             ]
            ],
            "type": "contour"
           }
          ],
          "contourcarpet": [
           {
            "colorbar": {
             "outlinewidth": 0,
             "ticks": ""
            },
            "type": "contourcarpet"
           }
          ],
          "heatmap": [
           {
            "colorbar": {
             "outlinewidth": 0,
             "ticks": ""
            },
            "colorscale": [
             [
              0,
              "#0d0887"
             ],
             [
              0.1111111111111111,
              "#46039f"
             ],
             [
              0.2222222222222222,
              "#7201a8"
             ],
             [
              0.3333333333333333,
              "#9c179e"
             ],
             [
              0.4444444444444444,
              "#bd3786"
             ],
             [
              0.5555555555555556,
              "#d8576b"
             ],
             [
              0.6666666666666666,
              "#ed7953"
             ],
             [
              0.7777777777777778,
              "#fb9f3a"
             ],
             [
              0.8888888888888888,
              "#fdca26"
             ],
             [
              1,
              "#f0f921"
             ]
            ],
            "type": "heatmap"
           }
          ],
          "heatmapgl": [
           {
            "colorbar": {
             "outlinewidth": 0,
             "ticks": ""
            },
            "colorscale": [
             [
              0,
              "#0d0887"
             ],
             [
              0.1111111111111111,
              "#46039f"
             ],
             [
              0.2222222222222222,
              "#7201a8"
             ],
             [
              0.3333333333333333,
              "#9c179e"
             ],
             [
              0.4444444444444444,
              "#bd3786"
             ],
             [
              0.5555555555555556,
              "#d8576b"
             ],
             [
              0.6666666666666666,
              "#ed7953"
             ],
             [
              0.7777777777777778,
              "#fb9f3a"
             ],
             [
              0.8888888888888888,
              "#fdca26"
             ],
             [
              1,
              "#f0f921"
             ]
            ],
            "type": "heatmapgl"
           }
          ],
          "histogram": [
           {
            "marker": {
             "pattern": {
              "fillmode": "overlay",
              "size": 10,
              "solidity": 0.2
             }
            },
            "type": "histogram"
           }
          ],
          "histogram2d": [
           {
            "colorbar": {
             "outlinewidth": 0,
             "ticks": ""
            },
            "colorscale": [
             [
              0,
              "#0d0887"
             ],
             [
              0.1111111111111111,
              "#46039f"
             ],
             [
              0.2222222222222222,
              "#7201a8"
             ],
             [
              0.3333333333333333,
              "#9c179e"
             ],
             [
              0.4444444444444444,
              "#bd3786"
             ],
             [
              0.5555555555555556,
              "#d8576b"
             ],
             [
              0.6666666666666666,
              "#ed7953"
             ],
             [
              0.7777777777777778,
              "#fb9f3a"
             ],
             [
              0.8888888888888888,
              "#fdca26"
             ],
             [
              1,
              "#f0f921"
             ]
            ],
            "type": "histogram2d"
           }
          ],
          "histogram2dcontour": [
           {
            "colorbar": {
             "outlinewidth": 0,
             "ticks": ""
            },
            "colorscale": [
             [
              0,
              "#0d0887"
             ],
             [
              0.1111111111111111,
              "#46039f"
             ],
             [
              0.2222222222222222,
              "#7201a8"
             ],
             [
              0.3333333333333333,
              "#9c179e"
             ],
             [
              0.4444444444444444,
              "#bd3786"
             ],
             [
              0.5555555555555556,
              "#d8576b"
             ],
             [
              0.6666666666666666,
              "#ed7953"
             ],
             [
              0.7777777777777778,
              "#fb9f3a"
             ],
             [
              0.8888888888888888,
              "#fdca26"
             ],
             [
              1,
              "#f0f921"
             ]
            ],
            "type": "histogram2dcontour"
           }
          ],
          "mesh3d": [
           {
            "colorbar": {
             "outlinewidth": 0,
             "ticks": ""
            },
            "type": "mesh3d"
           }
          ],
          "parcoords": [
           {
            "line": {
             "colorbar": {
              "outlinewidth": 0,
              "ticks": ""
             }
            },
            "type": "parcoords"
           }
          ],
          "pie": [
           {
            "automargin": true,
            "type": "pie"
           }
          ],
          "scatter": [
           {
            "marker": {
             "colorbar": {
              "outlinewidth": 0,
              "ticks": ""
             }
            },
            "type": "scatter"
           }
          ],
          "scatter3d": [
           {
            "line": {
             "colorbar": {
              "outlinewidth": 0,
              "ticks": ""
             }
            },
            "marker": {
             "colorbar": {
              "outlinewidth": 0,
              "ticks": ""
             }
            },
            "type": "scatter3d"
           }
          ],
          "scattercarpet": [
           {
            "marker": {
             "colorbar": {
              "outlinewidth": 0,
              "ticks": ""
             }
            },
            "type": "scattercarpet"
           }
          ],
          "scattergeo": [
           {
            "marker": {
             "colorbar": {
              "outlinewidth": 0,
              "ticks": ""
             }
            },
            "type": "scattergeo"
           }
          ],
          "scattergl": [
           {
            "marker": {
             "colorbar": {
              "outlinewidth": 0,
              "ticks": ""
             }
            },
            "type": "scattergl"
           }
          ],
          "scattermapbox": [
           {
            "marker": {
             "colorbar": {
              "outlinewidth": 0,
              "ticks": ""
             }
            },
            "type": "scattermapbox"
           }
          ],
          "scatterpolar": [
           {
            "marker": {
             "colorbar": {
              "outlinewidth": 0,
              "ticks": ""
             }
            },
            "type": "scatterpolar"
           }
          ],
          "scatterpolargl": [
           {
            "marker": {
             "colorbar": {
              "outlinewidth": 0,
              "ticks": ""
             }
            },
            "type": "scatterpolargl"
           }
          ],
          "scatterternary": [
           {
            "marker": {
             "colorbar": {
              "outlinewidth": 0,
              "ticks": ""
             }
            },
            "type": "scatterternary"
           }
          ],
          "surface": [
           {
            "colorbar": {
             "outlinewidth": 0,
             "ticks": ""
            },
            "colorscale": [
             [
              0,
              "#0d0887"
             ],
             [
              0.1111111111111111,
              "#46039f"
             ],
             [
              0.2222222222222222,
              "#7201a8"
             ],
             [
              0.3333333333333333,
              "#9c179e"
             ],
             [
              0.4444444444444444,
              "#bd3786"
             ],
             [
              0.5555555555555556,
              "#d8576b"
             ],
             [
              0.6666666666666666,
              "#ed7953"
             ],
             [
              0.7777777777777778,
              "#fb9f3a"
             ],
             [
              0.8888888888888888,
              "#fdca26"
             ],
             [
              1,
              "#f0f921"
             ]
            ],
            "type": "surface"
           }
          ],
          "table": [
           {
            "cells": {
             "fill": {
              "color": "#EBF0F8"
             },
             "line": {
              "color": "white"
             }
            },
            "header": {
             "fill": {
              "color": "#C8D4E3"
             },
             "line": {
              "color": "white"
             }
            },
            "type": "table"
           }
          ]
         },
         "layout": {
          "annotationdefaults": {
           "arrowcolor": "#2a3f5f",
           "arrowhead": 0,
           "arrowwidth": 1
          },
          "autotypenumbers": "strict",
          "coloraxis": {
           "colorbar": {
            "outlinewidth": 0,
            "ticks": ""
           }
          },
          "colorscale": {
           "diverging": [
            [
             0,
             "#8e0152"
            ],
            [
             0.1,
             "#c51b7d"
            ],
            [
             0.2,
             "#de77ae"
            ],
            [
             0.3,
             "#f1b6da"
            ],
            [
             0.4,
             "#fde0ef"
            ],
            [
             0.5,
             "#f7f7f7"
            ],
            [
             0.6,
             "#e6f5d0"
            ],
            [
             0.7,
             "#b8e186"
            ],
            [
             0.8,
             "#7fbc41"
            ],
            [
             0.9,
             "#4d9221"
            ],
            [
             1,
             "#276419"
            ]
           ],
           "sequential": [
            [
             0,
             "#0d0887"
            ],
            [
             0.1111111111111111,
             "#46039f"
            ],
            [
             0.2222222222222222,
             "#7201a8"
            ],
            [
             0.3333333333333333,
             "#9c179e"
            ],
            [
             0.4444444444444444,
             "#bd3786"
            ],
            [
             0.5555555555555556,
             "#d8576b"
            ],
            [
             0.6666666666666666,
             "#ed7953"
            ],
            [
             0.7777777777777778,
             "#fb9f3a"
            ],
            [
             0.8888888888888888,
             "#fdca26"
            ],
            [
             1,
             "#f0f921"
            ]
           ],
           "sequentialminus": [
            [
             0,
             "#0d0887"
            ],
            [
             0.1111111111111111,
             "#46039f"
            ],
            [
             0.2222222222222222,
             "#7201a8"
            ],
            [
             0.3333333333333333,
             "#9c179e"
            ],
            [
             0.4444444444444444,
             "#bd3786"
            ],
            [
             0.5555555555555556,
             "#d8576b"
            ],
            [
             0.6666666666666666,
             "#ed7953"
            ],
            [
             0.7777777777777778,
             "#fb9f3a"
            ],
            [
             0.8888888888888888,
             "#fdca26"
            ],
            [
             1,
             "#f0f921"
            ]
           ]
          },
          "colorway": [
           "#636efa",
           "#EF553B",
           "#00cc96",
           "#ab63fa",
           "#FFA15A",
           "#19d3f3",
           "#FF6692",
           "#B6E880",
           "#FF97FF",
           "#FECB52"
          ],
          "font": {
           "color": "#2a3f5f"
          },
          "geo": {
           "bgcolor": "white",
           "lakecolor": "white",
           "landcolor": "#E5ECF6",
           "showlakes": true,
           "showland": true,
           "subunitcolor": "white"
          },
          "hoverlabel": {
           "align": "left"
          },
          "hovermode": "closest",
          "mapbox": {
           "style": "light"
          },
          "paper_bgcolor": "white",
          "plot_bgcolor": "#E5ECF6",
          "polar": {
           "angularaxis": {
            "gridcolor": "white",
            "linecolor": "white",
            "ticks": ""
           },
           "bgcolor": "#E5ECF6",
           "radialaxis": {
            "gridcolor": "white",
            "linecolor": "white",
            "ticks": ""
           }
          },
          "scene": {
           "xaxis": {
            "backgroundcolor": "#E5ECF6",
            "gridcolor": "white",
            "gridwidth": 2,
            "linecolor": "white",
            "showbackground": true,
            "ticks": "",
            "zerolinecolor": "white"
           },
           "yaxis": {
            "backgroundcolor": "#E5ECF6",
            "gridcolor": "white",
            "gridwidth": 2,
            "linecolor": "white",
            "showbackground": true,
            "ticks": "",
            "zerolinecolor": "white"
           },
           "zaxis": {
            "backgroundcolor": "#E5ECF6",
            "gridcolor": "white",
            "gridwidth": 2,
            "linecolor": "white",
            "showbackground": true,
            "ticks": "",
            "zerolinecolor": "white"
           }
          },
          "shapedefaults": {
           "line": {
            "color": "#2a3f5f"
           }
          },
          "ternary": {
           "aaxis": {
            "gridcolor": "white",
            "linecolor": "white",
            "ticks": ""
           },
           "baxis": {
            "gridcolor": "white",
            "linecolor": "white",
            "ticks": ""
           },
           "bgcolor": "#E5ECF6",
           "caxis": {
            "gridcolor": "white",
            "linecolor": "white",
            "ticks": ""
           }
          },
          "title": {
           "x": 0.05
          },
          "xaxis": {
           "automargin": true,
           "gridcolor": "white",
           "linecolor": "white",
           "ticks": "",
           "title": {
            "standoff": 15
           },
           "zerolinecolor": "white",
           "zerolinewidth": 2
          },
          "yaxis": {
           "automargin": true,
           "gridcolor": "white",
           "linecolor": "white",
           "ticks": "",
           "title": {
            "standoff": 15
           },
           "zerolinecolor": "white",
           "zerolinewidth": 2
          }
         }
        }
       }
      }
     },
     "metadata": {},
     "output_type": "display_data"
    }
   ],
   "source": [
    "df = clean(df_orig)\n",
    "\n",
    "fig = px.sunburst(\n",
    "    data_frame=df,\n",
    "    path=[\"Unarmed\", 'State', \"Victim's race\", \"Victim's gender\"],  # Root, branches, leaves\n",
    "    color=\"Unarmed\",\n",
    "    color_discrete_sequence=px.colors.qualitative.Pastel,\n",
    "    # maxdepth=-1,                        # set the sectors rendered. -1 will render all levels in the hierarchy\n",
    "    # color=\"Victim's age\",\n",
    "    # color_continuous_scale=px.colors.sequential.BuGn,\n",
    "    # range_color=[10,100],\n",
    "\n",
    "    # branchvalues=\"total\",               # or 'remainder'\n",
    "    # hover_name=\"Unarmed\",\n",
    "    # # hover_data={'Unarmed': False},    # remove column name from tooltip  (Plotly version >= 4.8.0)\n",
    "    # title=\"7-year Breakdown of Deaths by Police\",\n",
    "    # template='ggplot2',               # 'ggplot2', 'seaborn', 'simple_white', 'plotly',\n",
    "    #                                   # 'plotly_white', 'plotly_dark', 'presentation',\n",
    "    #                                   # 'xgridoff', 'ygridoff', 'gridon', 'none'\n",
    ")\n",
    "\n",
    "fig.update_traces(textinfo='label+percent entry')\n",
    "fig.update_layout(margin=dict(t=0, l=0, r=0, b=0))\n",
    "\n",
    "fig.show()"
   ]
  },
  {
   "cell_type": "markdown",
   "metadata": {},
   "source": [
    "## Limit number of slices at a time"
   ]
  },
  {
   "cell_type": "code",
   "execution_count": 24,
   "metadata": {},
   "outputs": [
    {
     "data": {
      "application/vnd.plotly.v1+json": {
       "config": {
        "plotlyServerURL": "https://plot.ly"
       },
       "data": [
        {
         "branchvalues": "total",
         "customdata": [
          [
           "Allegedly Armed"
          ],
          [
           "Vehicle"
          ],
          [
           "Unarmed"
          ],
          [
           "Vehicle"
          ],
          [
           "Unclear"
          ],
          [
           "Allegedly Armed"
          ],
          [
           "Vehicle"
          ],
          [
           "Allegedly Armed"
          ],
          [
           "Unclear"
          ],
          [
           "Unarmed"
          ],
          [
           "Allegedly Armed"
          ],
          [
           "Vehicle"
          ],
          [
           "Unclear"
          ],
          [
           "Unarmed"
          ],
          [
           "Unclear"
          ],
          [
           "Unarmed"
          ],
          [
           "Unclear"
          ],
          [
           "Unclear"
          ],
          [
           "Unarmed"
          ],
          [
           "Allegedly Armed"
          ],
          [
           "Allegedly Armed"
          ],
          [
           "Unarmed"
          ],
          [
           "Unclear"
          ],
          [
           "Unarmed"
          ],
          [
           "Unarmed"
          ],
          [
           "Allegedly Armed"
          ],
          [
           "Unclear"
          ],
          [
           "Unarmed"
          ],
          [
           "Vehicle"
          ],
          [
           "Unarmed"
          ],
          [
           "Vehicle"
          ],
          [
           "Unclear"
          ],
          [
           "Unarmed"
          ],
          [
           "Vehicle"
          ],
          [
           "Allegedly Armed"
          ],
          [
           "Unclear"
          ],
          [
           "Unarmed"
          ],
          [
           "Vehicle"
          ],
          [
           "Unclear"
          ],
          [
           "Unarmed"
          ],
          [
           "Allegedly Armed"
          ],
          [
           "Vehicle"
          ],
          [
           "Unclear"
          ],
          [
           "Unarmed"
          ],
          [
           "Allegedly Armed"
          ],
          [
           "Unclear"
          ],
          [
           "Vehicle"
          ],
          [
           "Vehicle"
          ],
          [
           "Unclear"
          ],
          [
           "Unarmed"
          ],
          [
           "Unarmed"
          ],
          [
           "Allegedly Armed"
          ],
          [
           "Vehicle"
          ],
          [
           "Unarmed"
          ],
          [
           "Allegedly Armed"
          ],
          [
           "Allegedly Armed"
          ],
          [
           "Allegedly Armed"
          ],
          [
           "Unarmed"
          ],
          [
           "Allegedly Armed"
          ],
          [
           "Allegedly Armed"
          ],
          [
           "Unarmed"
          ],
          [
           "Vehicle"
          ],
          [
           "Unarmed"
          ],
          [
           "Vehicle"
          ],
          [
           "Allegedly Armed"
          ],
          [
           "Unclear"
          ],
          [
           "Unarmed"
          ],
          [
           "Unarmed"
          ],
          [
           "Unclear"
          ],
          [
           "Vehicle"
          ],
          [
           "Vehicle"
          ],
          [
           "Allegedly Armed"
          ],
          [
           "Allegedly Armed"
          ],
          [
           "Vehicle"
          ],
          [
           "Allegedly Armed"
          ],
          [
           "Allegedly Armed"
          ],
          [
           "Unarmed"
          ],
          [
           "Allegedly Armed"
          ],
          [
           "Unclear"
          ],
          [
           "Vehicle"
          ],
          [
           "Vehicle"
          ],
          [
           "Allegedly Armed"
          ],
          [
           "Unclear"
          ],
          [
           "Unarmed"
          ],
          [
           "Unclear"
          ],
          [
           "Vehicle"
          ],
          [
           "Unclear"
          ],
          [
           "Vehicle"
          ],
          [
           "Vehicle"
          ],
          [
           "Unclear"
          ],
          [
           "Allegedly Armed"
          ],
          [
           "Allegedly Armed"
          ],
          [
           "Allegedly Armed"
          ],
          [
           "Unarmed"
          ],
          [
           "Vehicle"
          ],
          [
           "Unarmed"
          ],
          [
           "Allegedly Armed"
          ],
          [
           "Allegedly Armed"
          ],
          [
           "Unarmed"
          ],
          [
           "Vehicle"
          ],
          [
           "Unarmed"
          ],
          [
           "Unclear"
          ],
          [
           "Unarmed"
          ],
          [
           "Unarmed"
          ],
          [
           "Unclear"
          ],
          [
           "Allegedly Armed"
          ],
          [
           "Unclear"
          ],
          [
           "Allegedly Armed"
          ],
          [
           "Unarmed"
          ],
          [
           "Vehicle"
          ],
          [
           "Allegedly Armed"
          ],
          [
           "Allegedly Armed"
          ],
          [
           "Unarmed"
          ],
          [
           "Allegedly Armed"
          ],
          [
           "Unarmed"
          ],
          [
           "Unarmed"
          ],
          [
           "Allegedly Armed"
          ],
          [
           "Allegedly Armed"
          ],
          [
           "Vehicle"
          ],
          [
           "Allegedly Armed"
          ],
          [
           "Vehicle"
          ],
          [
           "Unclear"
          ],
          [
           "Unclear"
          ],
          [
           "Allegedly Armed"
          ],
          [
           "Allegedly Armed"
          ]
         ],
         "domain": {
          "x": [
           0,
           1
          ],
          "y": [
           0,
           1
          ]
         },
         "hovertemplate": "labels=%{label}<br>count=%{value}<br>parent=%{parent}<br>id=%{id}<br>Unarmed=%{customdata[0]}<extra></extra>",
         "ids": [
          "Allegedly Armed/CA/Asian/Female",
          "Vehicle/NY/Black",
          "Unarmed/NY/Black",
          "Vehicle/CA/Black",
          "Unclear/CA/Black",
          "Allegedly Armed/CA/Black",
          "Vehicle/TX/Asian",
          "Allegedly Armed/NY/Asian",
          "Unclear/CA/Asian",
          "Unarmed/CA/Asian",
          "Allegedly Armed/CA/Asian",
          "Vehicle/TX/White/Male",
          "Unclear/TX/White/Male",
          "Unarmed/NY/White/Male",
          "Unclear/CA/White/Male",
          "Unarmed/CA/White/Male",
          "Unclear/TX/Hispanic/Male",
          "Unclear/NY/Hispanic/Male",
          "Unarmed/NY/Hispanic/Male",
          "Allegedly Armed/NY/Hispanic/Male",
          "Allegedly Armed/TX/Black",
          "Unarmed/TX/Black",
          "Unclear/CA/Hispanic",
          "Unarmed/NY/Hispanic",
          "Unarmed",
          "Allegedly Armed",
          "Unclear/TX",
          "Unarmed/TX",
          "Vehicle/NY",
          "Unarmed/NY",
          "Vehicle/CA",
          "Unclear/CA",
          "Unarmed/CA",
          "Vehicle/CA/Hispanic/Male",
          "Allegedly Armed/CA",
          "Unclear/NY/White",
          "Unarmed/NY/White",
          "Vehicle/CA/White",
          "Unclear/CA/White",
          "Unarmed/CA/White",
          "Allegedly Armed/CA/White",
          "Vehicle/TX/Hispanic",
          "Unclear/TX/Hispanic",
          "Unarmed/TX/Hispanic",
          "Allegedly Armed/TX/White",
          "Unclear/CA/Hispanic/Male",
          "Vehicle",
          "Vehicle/CA/Black/Male",
          "Unclear/CA/White/Female",
          "Unarmed/CA/White/Female",
          "Unarmed/CA/Black/Male",
          "Allegedly Armed/CA/White/Female",
          "Vehicle/TX/Hispanic/Female",
          "Unarmed/TX/Hispanic/Female",
          "Allegedly Armed/CA/Asian/Male",
          "Allegedly Armed/NY/Black/Male",
          "Allegedly Armed/TX/Hispanic/Female",
          "Unarmed/NY/Hispanic/Female",
          "Allegedly Armed/TX/White/Female",
          "Allegedly Armed/NY/White/Female",
          "Unarmed/NY/Black/Male",
          "Vehicle/CA/Asian/Male",
          "Unarmed/TX/Black/Female",
          "Vehicle/NY/Black/Male",
          "Allegedly Armed/TX/Black/Female",
          "Unclear/CA/Asian/Male",
          "Unarmed/TX/White/Female",
          "Unarmed/CA/Black/Female",
          "Unclear/TX/Black/Male",
          "Vehicle/TX/Black/Male",
          "Vehicle/CA/Hispanic/Female",
          "Allegedly Armed/NY/Asian/Male",
          "Allegedly Armed/NY/Hispanic",
          "Vehicle/TX/Black",
          "Allegedly Armed/CA/Hispanic/Male",
          "Allegedly Armed/TX/Hispanic",
          "Unarmed/TX/White",
          "Allegedly Armed/CA/Hispanic/Female",
          "Unclear/NY",
          "Vehicle/CA/Black/Female",
          "Vehicle/TX",
          "Allegedly Armed/CA/Black/Female",
          "Unclear/NY/Hispanic",
          "Unarmed/CA/Hispanic/Male",
          "Unclear/TX/Black",
          "Vehicle/TX/White/Female",
          "Unclear/TX/White/Female",
          "Vehicle/CA/Asian",
          "Vehicle/CA/White/Male",
          "Unclear/NY/Black/Male",
          "Allegedly Armed/TX/Black/Unknown",
          "Allegedly Armed/CA/White/Male",
          "Allegedly Armed/TX/Asian/Male",
          "Unarmed/CA/Asian/Male",
          "Vehicle/TX/Hispanic/Male",
          "Unarmed/TX/Hispanic/Transgender",
          "Allegedly Armed/TX",
          "Allegedly Armed/TX/Black/Male",
          "Unarmed/CA/Hispanic/Female",
          "Vehicle/TX/White",
          "Unarmed/TX/Hispanic/Male",
          "Unclear",
          "Unarmed/TX/Black/Male",
          "Unarmed/TX/White/Male",
          "Unclear/CA/Black/Male",
          "Allegedly Armed/CA/Black/Male",
          "Unclear/NY/Black",
          "Allegedly Armed/CA/Hispanic",
          "Unarmed/NY/White/Female",
          "Vehicle/CA/Hispanic",
          "Allegedly Armed/NY/Black",
          "Allegedly Armed/TX/Hispanic/Male",
          "Unarmed/CA/Hispanic",
          "Allegedly Armed/NY/Black/Female",
          "Unarmed/NY/Black/Female",
          "Unarmed/CA/Black",
          "Allegedly Armed/NY",
          "Allegedly Armed/TX/Asian",
          "Vehicle/TX/Asian/Male",
          "Allegedly Armed/NY/White/Male",
          "Vehicle/CA/White/Female",
          "Unclear/TX/White",
          "Unclear/NY/White/Male",
          "Allegedly Armed/NY/White",
          "Allegedly Armed/TX/White/Male"
         ],
         "labels": [
          "Female",
          "Black",
          "Black",
          "Black",
          "Black",
          "Black",
          "Asian",
          "Asian",
          "Asian",
          "Asian",
          "Asian",
          "Male",
          "Male",
          "Male",
          "Male",
          "Male",
          "Male",
          "Male",
          "Male",
          "Male",
          "Black",
          "Black",
          "Hispanic",
          "Hispanic",
          "Unarmed",
          "Allegedly Armed",
          "TX",
          "TX",
          "NY",
          "NY",
          "CA",
          "CA",
          "CA",
          "Male",
          "CA",
          "White",
          "White",
          "White",
          "White",
          "White",
          "White",
          "Hispanic",
          "Hispanic",
          "Hispanic",
          "White",
          "Male",
          "Vehicle",
          "Male",
          "Female",
          "Female",
          "Male",
          "Female",
          "Female",
          "Female",
          "Male",
          "Male",
          "Female",
          "Female",
          "Female",
          "Female",
          "Male",
          "Male",
          "Female",
          "Male",
          "Female",
          "Male",
          "Female",
          "Female",
          "Male",
          "Male",
          "Female",
          "Male",
          "Hispanic",
          "Black",
          "Male",
          "Hispanic",
          "White",
          "Female",
          "NY",
          "Female",
          "TX",
          "Female",
          "Hispanic",
          "Male",
          "Black",
          "Female",
          "Female",
          "Asian",
          "Male",
          "Male",
          "Unknown",
          "Male",
          "Male",
          "Male",
          "Male",
          "Transgender",
          "TX",
          "Male",
          "Female",
          "White",
          "Male",
          "Unclear",
          "Male",
          "Male",
          "Male",
          "Male",
          "Black",
          "Hispanic",
          "Female",
          "Hispanic",
          "Black",
          "Male",
          "Hispanic",
          "Female",
          "Female",
          "Black",
          "NY",
          "Asian",
          "Male",
          "Male",
          "Female",
          "White",
          "Male",
          "White",
          "Male"
         ],
         "marker": {
          "colors": [
           "rgb(102, 197, 204)",
           "rgb(246, 207, 113)",
           "rgb(248, 156, 116)",
           "rgb(246, 207, 113)",
           "rgb(220, 176, 242)",
           "rgb(102, 197, 204)",
           "rgb(246, 207, 113)",
           "rgb(102, 197, 204)",
           "rgb(220, 176, 242)",
           "rgb(248, 156, 116)",
           "rgb(102, 197, 204)",
           "rgb(246, 207, 113)",
           "rgb(220, 176, 242)",
           "rgb(248, 156, 116)",
           "rgb(220, 176, 242)",
           "rgb(248, 156, 116)",
           "rgb(220, 176, 242)",
           "rgb(220, 176, 242)",
           "rgb(248, 156, 116)",
           "rgb(102, 197, 204)",
           "rgb(102, 197, 204)",
           "rgb(248, 156, 116)",
           "rgb(220, 176, 242)",
           "rgb(248, 156, 116)",
           "rgb(248, 156, 116)",
           "rgb(102, 197, 204)",
           "rgb(220, 176, 242)",
           "rgb(248, 156, 116)",
           "rgb(246, 207, 113)",
           "rgb(248, 156, 116)",
           "rgb(246, 207, 113)",
           "rgb(220, 176, 242)",
           "rgb(248, 156, 116)",
           "rgb(246, 207, 113)",
           "rgb(102, 197, 204)",
           "rgb(220, 176, 242)",
           "rgb(248, 156, 116)",
           "rgb(246, 207, 113)",
           "rgb(220, 176, 242)",
           "rgb(248, 156, 116)",
           "rgb(102, 197, 204)",
           "rgb(246, 207, 113)",
           "rgb(220, 176, 242)",
           "rgb(248, 156, 116)",
           "rgb(102, 197, 204)",
           "rgb(220, 176, 242)",
           "rgb(246, 207, 113)",
           "rgb(246, 207, 113)",
           "rgb(220, 176, 242)",
           "rgb(248, 156, 116)",
           "rgb(248, 156, 116)",
           "rgb(102, 197, 204)",
           "rgb(246, 207, 113)",
           "rgb(248, 156, 116)",
           "rgb(102, 197, 204)",
           "rgb(102, 197, 204)",
           "rgb(102, 197, 204)",
           "rgb(248, 156, 116)",
           "rgb(102, 197, 204)",
           "rgb(102, 197, 204)",
           "rgb(248, 156, 116)",
           "rgb(246, 207, 113)",
           "rgb(248, 156, 116)",
           "rgb(246, 207, 113)",
           "rgb(102, 197, 204)",
           "rgb(220, 176, 242)",
           "rgb(248, 156, 116)",
           "rgb(248, 156, 116)",
           "rgb(220, 176, 242)",
           "rgb(246, 207, 113)",
           "rgb(246, 207, 113)",
           "rgb(102, 197, 204)",
           "rgb(102, 197, 204)",
           "rgb(246, 207, 113)",
           "rgb(102, 197, 204)",
           "rgb(102, 197, 204)",
           "rgb(248, 156, 116)",
           "rgb(102, 197, 204)",
           "rgb(220, 176, 242)",
           "rgb(246, 207, 113)",
           "rgb(246, 207, 113)",
           "rgb(102, 197, 204)",
           "rgb(220, 176, 242)",
           "rgb(248, 156, 116)",
           "rgb(220, 176, 242)",
           "rgb(246, 207, 113)",
           "rgb(220, 176, 242)",
           "rgb(246, 207, 113)",
           "rgb(246, 207, 113)",
           "rgb(220, 176, 242)",
           "rgb(102, 197, 204)",
           "rgb(102, 197, 204)",
           "rgb(102, 197, 204)",
           "rgb(248, 156, 116)",
           "rgb(246, 207, 113)",
           "rgb(248, 156, 116)",
           "rgb(102, 197, 204)",
           "rgb(102, 197, 204)",
           "rgb(248, 156, 116)",
           "rgb(246, 207, 113)",
           "rgb(248, 156, 116)",
           "rgb(220, 176, 242)",
           "rgb(248, 156, 116)",
           "rgb(248, 156, 116)",
           "rgb(220, 176, 242)",
           "rgb(102, 197, 204)",
           "rgb(220, 176, 242)",
           "rgb(102, 197, 204)",
           "rgb(248, 156, 116)",
           "rgb(246, 207, 113)",
           "rgb(102, 197, 204)",
           "rgb(102, 197, 204)",
           "rgb(248, 156, 116)",
           "rgb(102, 197, 204)",
           "rgb(248, 156, 116)",
           "rgb(248, 156, 116)",
           "rgb(102, 197, 204)",
           "rgb(102, 197, 204)",
           "rgb(246, 207, 113)",
           "rgb(102, 197, 204)",
           "rgb(246, 207, 113)",
           "rgb(220, 176, 242)",
           "rgb(220, 176, 242)",
           "rgb(102, 197, 204)",
           "rgb(102, 197, 204)"
          ]
         },
         "maxdepth": 2,
         "name": "",
         "parents": [
          "Allegedly Armed/CA/Asian",
          "Vehicle/NY",
          "Unarmed/NY",
          "Vehicle/CA",
          "Unclear/CA",
          "Allegedly Armed/CA",
          "Vehicle/TX",
          "Allegedly Armed/NY",
          "Unclear/CA",
          "Unarmed/CA",
          "Allegedly Armed/CA",
          "Vehicle/TX/White",
          "Unclear/TX/White",
          "Unarmed/NY/White",
          "Unclear/CA/White",
          "Unarmed/CA/White",
          "Unclear/TX/Hispanic",
          "Unclear/NY/Hispanic",
          "Unarmed/NY/Hispanic",
          "Allegedly Armed/NY/Hispanic",
          "Allegedly Armed/TX",
          "Unarmed/TX",
          "Unclear/CA",
          "Unarmed/NY",
          "",
          "",
          "Unclear",
          "Unarmed",
          "Vehicle",
          "Unarmed",
          "Vehicle",
          "Unclear",
          "Unarmed",
          "Vehicle/CA/Hispanic",
          "Allegedly Armed",
          "Unclear/NY",
          "Unarmed/NY",
          "Vehicle/CA",
          "Unclear/CA",
          "Unarmed/CA",
          "Allegedly Armed/CA",
          "Vehicle/TX",
          "Unclear/TX",
          "Unarmed/TX",
          "Allegedly Armed/TX",
          "Unclear/CA/Hispanic",
          "",
          "Vehicle/CA/Black",
          "Unclear/CA/White",
          "Unarmed/CA/White",
          "Unarmed/CA/Black",
          "Allegedly Armed/CA/White",
          "Vehicle/TX/Hispanic",
          "Unarmed/TX/Hispanic",
          "Allegedly Armed/CA/Asian",
          "Allegedly Armed/NY/Black",
          "Allegedly Armed/TX/Hispanic",
          "Unarmed/NY/Hispanic",
          "Allegedly Armed/TX/White",
          "Allegedly Armed/NY/White",
          "Unarmed/NY/Black",
          "Vehicle/CA/Asian",
          "Unarmed/TX/Black",
          "Vehicle/NY/Black",
          "Allegedly Armed/TX/Black",
          "Unclear/CA/Asian",
          "Unarmed/TX/White",
          "Unarmed/CA/Black",
          "Unclear/TX/Black",
          "Vehicle/TX/Black",
          "Vehicle/CA/Hispanic",
          "Allegedly Armed/NY/Asian",
          "Allegedly Armed/NY",
          "Vehicle/TX",
          "Allegedly Armed/CA/Hispanic",
          "Allegedly Armed/TX",
          "Unarmed/TX",
          "Allegedly Armed/CA/Hispanic",
          "Unclear",
          "Vehicle/CA/Black",
          "Vehicle",
          "Allegedly Armed/CA/Black",
          "Unclear/NY",
          "Unarmed/CA/Hispanic",
          "Unclear/TX",
          "Vehicle/TX/White",
          "Unclear/TX/White",
          "Vehicle/CA",
          "Vehicle/CA/White",
          "Unclear/NY/Black",
          "Allegedly Armed/TX/Black",
          "Allegedly Armed/CA/White",
          "Allegedly Armed/TX/Asian",
          "Unarmed/CA/Asian",
          "Vehicle/TX/Hispanic",
          "Unarmed/TX/Hispanic",
          "Allegedly Armed",
          "Allegedly Armed/TX/Black",
          "Unarmed/CA/Hispanic",
          "Vehicle/TX",
          "Unarmed/TX/Hispanic",
          "",
          "Unarmed/TX/Black",
          "Unarmed/TX/White",
          "Unclear/CA/Black",
          "Allegedly Armed/CA/Black",
          "Unclear/NY",
          "Allegedly Armed/CA",
          "Unarmed/NY/White",
          "Vehicle/CA",
          "Allegedly Armed/NY",
          "Allegedly Armed/TX/Hispanic",
          "Unarmed/CA",
          "Allegedly Armed/NY/Black",
          "Unarmed/NY/Black",
          "Unarmed/CA",
          "Allegedly Armed",
          "Allegedly Armed/TX",
          "Vehicle/TX/Asian",
          "Allegedly Armed/NY/White",
          "Vehicle/CA/White",
          "Unclear/TX",
          "Unclear/NY/White",
          "Allegedly Armed/NY",
          "Allegedly Armed/TX/White"
         ],
         "textinfo": "label+percent entry",
         "type": "sunburst",
         "values": [
          2,
          2,
          17,
          12,
          22,
          112,
          1,
          1,
          3,
          5,
          34,
          12,
          17,
          9,
          33,
          49,
          16,
          1,
          5,
          11,
          93,
          40,
          55,
          6,
          327,
          1245,
          43,
          102,
          2,
          34,
          63,
          114,
          191,
          25,
          685,
          1,
          11,
          19,
          34,
          56,
          224,
          10,
          16,
          29,
          194,
          55,
          104,
          10,
          1,
          7,
          39,
          13,
          1,
          6,
          32,
          44,
          2,
          1,
          18,
          1,
          16,
          2,
          4,
          2,
          4,
          3,
          7,
          1,
          9,
          15,
          5,
          1,
          11,
          15,
          306,
          164,
          33,
          9,
          7,
          2,
          39,
          5,
          1,
          85,
          9,
          1,
          1,
          2,
          14,
          5,
          1,
          211,
          9,
          5,
          9,
          1,
          460,
          88,
          5,
          13,
          22,
          164,
          36,
          26,
          22,
          107,
          5,
          315,
          2,
          30,
          47,
          162,
          90,
          3,
          1,
          40,
          100,
          9,
          1,
          40,
          5,
          18,
          1,
          41,
          176
         ]
        }
       ],
       "layout": {
        "legend": {
         "tracegroupgap": 0
        },
        "margin": {
         "b": 0,
         "l": 0,
         "r": 0,
         "t": 0
        },
        "sunburstcolorway": [
         "rgb(102, 197, 204)",
         "rgb(246, 207, 113)",
         "rgb(248, 156, 116)",
         "rgb(220, 176, 242)",
         "rgb(135, 197, 95)",
         "rgb(158, 185, 243)",
         "rgb(254, 136, 177)",
         "rgb(201, 219, 116)",
         "rgb(139, 224, 164)",
         "rgb(180, 151, 231)",
         "rgb(179, 179, 179)"
        ],
        "template": {
         "data": {
          "bar": [
           {
            "error_x": {
             "color": "#2a3f5f"
            },
            "error_y": {
             "color": "#2a3f5f"
            },
            "marker": {
             "line": {
              "color": "#E5ECF6",
              "width": 0.5
             },
             "pattern": {
              "fillmode": "overlay",
              "size": 10,
              "solidity": 0.2
             }
            },
            "type": "bar"
           }
          ],
          "barpolar": [
           {
            "marker": {
             "line": {
              "color": "#E5ECF6",
              "width": 0.5
             },
             "pattern": {
              "fillmode": "overlay",
              "size": 10,
              "solidity": 0.2
             }
            },
            "type": "barpolar"
           }
          ],
          "carpet": [
           {
            "aaxis": {
             "endlinecolor": "#2a3f5f",
             "gridcolor": "white",
             "linecolor": "white",
             "minorgridcolor": "white",
             "startlinecolor": "#2a3f5f"
            },
            "baxis": {
             "endlinecolor": "#2a3f5f",
             "gridcolor": "white",
             "linecolor": "white",
             "minorgridcolor": "white",
             "startlinecolor": "#2a3f5f"
            },
            "type": "carpet"
           }
          ],
          "choropleth": [
           {
            "colorbar": {
             "outlinewidth": 0,
             "ticks": ""
            },
            "type": "choropleth"
           }
          ],
          "contour": [
           {
            "colorbar": {
             "outlinewidth": 0,
             "ticks": ""
            },
            "colorscale": [
             [
              0,
              "#0d0887"
             ],
             [
              0.1111111111111111,
              "#46039f"
             ],
             [
              0.2222222222222222,
              "#7201a8"
             ],
             [
              0.3333333333333333,
              "#9c179e"
             ],
             [
              0.4444444444444444,
              "#bd3786"
             ],
             [
              0.5555555555555556,
              "#d8576b"
             ],
             [
              0.6666666666666666,
              "#ed7953"
             ],
             [
              0.7777777777777778,
              "#fb9f3a"
             ],
             [
              0.8888888888888888,
              "#fdca26"
             ],
             [
              1,
              "#f0f921"
             ]
            ],
            "type": "contour"
           }
          ],
          "contourcarpet": [
           {
            "colorbar": {
             "outlinewidth": 0,
             "ticks": ""
            },
            "type": "contourcarpet"
           }
          ],
          "heatmap": [
           {
            "colorbar": {
             "outlinewidth": 0,
             "ticks": ""
            },
            "colorscale": [
             [
              0,
              "#0d0887"
             ],
             [
              0.1111111111111111,
              "#46039f"
             ],
             [
              0.2222222222222222,
              "#7201a8"
             ],
             [
              0.3333333333333333,
              "#9c179e"
             ],
             [
              0.4444444444444444,
              "#bd3786"
             ],
             [
              0.5555555555555556,
              "#d8576b"
             ],
             [
              0.6666666666666666,
              "#ed7953"
             ],
             [
              0.7777777777777778,
              "#fb9f3a"
             ],
             [
              0.8888888888888888,
              "#fdca26"
             ],
             [
              1,
              "#f0f921"
             ]
            ],
            "type": "heatmap"
           }
          ],
          "heatmapgl": [
           {
            "colorbar": {
             "outlinewidth": 0,
             "ticks": ""
            },
            "colorscale": [
             [
              0,
              "#0d0887"
             ],
             [
              0.1111111111111111,
              "#46039f"
             ],
             [
              0.2222222222222222,
              "#7201a8"
             ],
             [
              0.3333333333333333,
              "#9c179e"
             ],
             [
              0.4444444444444444,
              "#bd3786"
             ],
             [
              0.5555555555555556,
              "#d8576b"
             ],
             [
              0.6666666666666666,
              "#ed7953"
             ],
             [
              0.7777777777777778,
              "#fb9f3a"
             ],
             [
              0.8888888888888888,
              "#fdca26"
             ],
             [
              1,
              "#f0f921"
             ]
            ],
            "type": "heatmapgl"
           }
          ],
          "histogram": [
           {
            "marker": {
             "pattern": {
              "fillmode": "overlay",
              "size": 10,
              "solidity": 0.2
             }
            },
            "type": "histogram"
           }
          ],
          "histogram2d": [
           {
            "colorbar": {
             "outlinewidth": 0,
             "ticks": ""
            },
            "colorscale": [
             [
              0,
              "#0d0887"
             ],
             [
              0.1111111111111111,
              "#46039f"
             ],
             [
              0.2222222222222222,
              "#7201a8"
             ],
             [
              0.3333333333333333,
              "#9c179e"
             ],
             [
              0.4444444444444444,
              "#bd3786"
             ],
             [
              0.5555555555555556,
              "#d8576b"
             ],
             [
              0.6666666666666666,
              "#ed7953"
             ],
             [
              0.7777777777777778,
              "#fb9f3a"
             ],
             [
              0.8888888888888888,
              "#fdca26"
             ],
             [
              1,
              "#f0f921"
             ]
            ],
            "type": "histogram2d"
           }
          ],
          "histogram2dcontour": [
           {
            "colorbar": {
             "outlinewidth": 0,
             "ticks": ""
            },
            "colorscale": [
             [
              0,
              "#0d0887"
             ],
             [
              0.1111111111111111,
              "#46039f"
             ],
             [
              0.2222222222222222,
              "#7201a8"
             ],
             [
              0.3333333333333333,
              "#9c179e"
             ],
             [
              0.4444444444444444,
              "#bd3786"
             ],
             [
              0.5555555555555556,
              "#d8576b"
             ],
             [
              0.6666666666666666,
              "#ed7953"
             ],
             [
              0.7777777777777778,
              "#fb9f3a"
             ],
             [
              0.8888888888888888,
              "#fdca26"
             ],
             [
              1,
              "#f0f921"
             ]
            ],
            "type": "histogram2dcontour"
           }
          ],
          "mesh3d": [
           {
            "colorbar": {
             "outlinewidth": 0,
             "ticks": ""
            },
            "type": "mesh3d"
           }
          ],
          "parcoords": [
           {
            "line": {
             "colorbar": {
              "outlinewidth": 0,
              "ticks": ""
             }
            },
            "type": "parcoords"
           }
          ],
          "pie": [
           {
            "automargin": true,
            "type": "pie"
           }
          ],
          "scatter": [
           {
            "marker": {
             "colorbar": {
              "outlinewidth": 0,
              "ticks": ""
             }
            },
            "type": "scatter"
           }
          ],
          "scatter3d": [
           {
            "line": {
             "colorbar": {
              "outlinewidth": 0,
              "ticks": ""
             }
            },
            "marker": {
             "colorbar": {
              "outlinewidth": 0,
              "ticks": ""
             }
            },
            "type": "scatter3d"
           }
          ],
          "scattercarpet": [
           {
            "marker": {
             "colorbar": {
              "outlinewidth": 0,
              "ticks": ""
             }
            },
            "type": "scattercarpet"
           }
          ],
          "scattergeo": [
           {
            "marker": {
             "colorbar": {
              "outlinewidth": 0,
              "ticks": ""
             }
            },
            "type": "scattergeo"
           }
          ],
          "scattergl": [
           {
            "marker": {
             "colorbar": {
              "outlinewidth": 0,
              "ticks": ""
             }
            },
            "type": "scattergl"
           }
          ],
          "scattermapbox": [
           {
            "marker": {
             "colorbar": {
              "outlinewidth": 0,
              "ticks": ""
             }
            },
            "type": "scattermapbox"
           }
          ],
          "scatterpolar": [
           {
            "marker": {
             "colorbar": {
              "outlinewidth": 0,
              "ticks": ""
             }
            },
            "type": "scatterpolar"
           }
          ],
          "scatterpolargl": [
           {
            "marker": {
             "colorbar": {
              "outlinewidth": 0,
              "ticks": ""
             }
            },
            "type": "scatterpolargl"
           }
          ],
          "scatterternary": [
           {
            "marker": {
             "colorbar": {
              "outlinewidth": 0,
              "ticks": ""
             }
            },
            "type": "scatterternary"
           }
          ],
          "surface": [
           {
            "colorbar": {
             "outlinewidth": 0,
             "ticks": ""
            },
            "colorscale": [
             [
              0,
              "#0d0887"
             ],
             [
              0.1111111111111111,
              "#46039f"
             ],
             [
              0.2222222222222222,
              "#7201a8"
             ],
             [
              0.3333333333333333,
              "#9c179e"
             ],
             [
              0.4444444444444444,
              "#bd3786"
             ],
             [
              0.5555555555555556,
              "#d8576b"
             ],
             [
              0.6666666666666666,
              "#ed7953"
             ],
             [
              0.7777777777777778,
              "#fb9f3a"
             ],
             [
              0.8888888888888888,
              "#fdca26"
             ],
             [
              1,
              "#f0f921"
             ]
            ],
            "type": "surface"
           }
          ],
          "table": [
           {
            "cells": {
             "fill": {
              "color": "#EBF0F8"
             },
             "line": {
              "color": "white"
             }
            },
            "header": {
             "fill": {
              "color": "#C8D4E3"
             },
             "line": {
              "color": "white"
             }
            },
            "type": "table"
           }
          ]
         },
         "layout": {
          "annotationdefaults": {
           "arrowcolor": "#2a3f5f",
           "arrowhead": 0,
           "arrowwidth": 1
          },
          "autotypenumbers": "strict",
          "coloraxis": {
           "colorbar": {
            "outlinewidth": 0,
            "ticks": ""
           }
          },
          "colorscale": {
           "diverging": [
            [
             0,
             "#8e0152"
            ],
            [
             0.1,
             "#c51b7d"
            ],
            [
             0.2,
             "#de77ae"
            ],
            [
             0.3,
             "#f1b6da"
            ],
            [
             0.4,
             "#fde0ef"
            ],
            [
             0.5,
             "#f7f7f7"
            ],
            [
             0.6,
             "#e6f5d0"
            ],
            [
             0.7,
             "#b8e186"
            ],
            [
             0.8,
             "#7fbc41"
            ],
            [
             0.9,
             "#4d9221"
            ],
            [
             1,
             "#276419"
            ]
           ],
           "sequential": [
            [
             0,
             "#0d0887"
            ],
            [
             0.1111111111111111,
             "#46039f"
            ],
            [
             0.2222222222222222,
             "#7201a8"
            ],
            [
             0.3333333333333333,
             "#9c179e"
            ],
            [
             0.4444444444444444,
             "#bd3786"
            ],
            [
             0.5555555555555556,
             "#d8576b"
            ],
            [
             0.6666666666666666,
             "#ed7953"
            ],
            [
             0.7777777777777778,
             "#fb9f3a"
            ],
            [
             0.8888888888888888,
             "#fdca26"
            ],
            [
             1,
             "#f0f921"
            ]
           ],
           "sequentialminus": [
            [
             0,
             "#0d0887"
            ],
            [
             0.1111111111111111,
             "#46039f"
            ],
            [
             0.2222222222222222,
             "#7201a8"
            ],
            [
             0.3333333333333333,
             "#9c179e"
            ],
            [
             0.4444444444444444,
             "#bd3786"
            ],
            [
             0.5555555555555556,
             "#d8576b"
            ],
            [
             0.6666666666666666,
             "#ed7953"
            ],
            [
             0.7777777777777778,
             "#fb9f3a"
            ],
            [
             0.8888888888888888,
             "#fdca26"
            ],
            [
             1,
             "#f0f921"
            ]
           ]
          },
          "colorway": [
           "#636efa",
           "#EF553B",
           "#00cc96",
           "#ab63fa",
           "#FFA15A",
           "#19d3f3",
           "#FF6692",
           "#B6E880",
           "#FF97FF",
           "#FECB52"
          ],
          "font": {
           "color": "#2a3f5f"
          },
          "geo": {
           "bgcolor": "white",
           "lakecolor": "white",
           "landcolor": "#E5ECF6",
           "showlakes": true,
           "showland": true,
           "subunitcolor": "white"
          },
          "hoverlabel": {
           "align": "left"
          },
          "hovermode": "closest",
          "mapbox": {
           "style": "light"
          },
          "paper_bgcolor": "white",
          "plot_bgcolor": "#E5ECF6",
          "polar": {
           "angularaxis": {
            "gridcolor": "white",
            "linecolor": "white",
            "ticks": ""
           },
           "bgcolor": "#E5ECF6",
           "radialaxis": {
            "gridcolor": "white",
            "linecolor": "white",
            "ticks": ""
           }
          },
          "scene": {
           "xaxis": {
            "backgroundcolor": "#E5ECF6",
            "gridcolor": "white",
            "gridwidth": 2,
            "linecolor": "white",
            "showbackground": true,
            "ticks": "",
            "zerolinecolor": "white"
           },
           "yaxis": {
            "backgroundcolor": "#E5ECF6",
            "gridcolor": "white",
            "gridwidth": 2,
            "linecolor": "white",
            "showbackground": true,
            "ticks": "",
            "zerolinecolor": "white"
           },
           "zaxis": {
            "backgroundcolor": "#E5ECF6",
            "gridcolor": "white",
            "gridwidth": 2,
            "linecolor": "white",
            "showbackground": true,
            "ticks": "",
            "zerolinecolor": "white"
           }
          },
          "shapedefaults": {
           "line": {
            "color": "#2a3f5f"
           }
          },
          "ternary": {
           "aaxis": {
            "gridcolor": "white",
            "linecolor": "white",
            "ticks": ""
           },
           "baxis": {
            "gridcolor": "white",
            "linecolor": "white",
            "ticks": ""
           },
           "bgcolor": "#E5ECF6",
           "caxis": {
            "gridcolor": "white",
            "linecolor": "white",
            "ticks": ""
           }
          },
          "title": {
           "x": 0.05
          },
          "xaxis": {
           "automargin": true,
           "gridcolor": "white",
           "linecolor": "white",
           "ticks": "",
           "title": {
            "standoff": 15
           },
           "zerolinecolor": "white",
           "zerolinewidth": 2
          },
          "yaxis": {
           "automargin": true,
           "gridcolor": "white",
           "linecolor": "white",
           "ticks": "",
           "title": {
            "standoff": 15
           },
           "zerolinecolor": "white",
           "zerolinewidth": 2
          }
         }
        }
       }
      }
     },
     "metadata": {},
     "output_type": "display_data"
    }
   ],
   "source": [
    "df = clean(df_orig)\n",
    "\n",
    "fig = px.sunburst(\n",
    "    data_frame=df,\n",
    "    path=[\"Unarmed\", 'State', \"Victim's race\", \"Victim's gender\"],  # Root, branches, leaves\n",
    "    color=\"Unarmed\",\n",
    "    color_discrete_sequence=px.colors.qualitative.Pastel,\n",
    "    maxdepth=2,                        # set the sectors rendered. -1 will render all levels in the hierarchy\n",
    "    # color=\"Victim's age\",\n",
    "    # color_continuous_scale=px.colors.sequential.BuGn,\n",
    "    # range_color=[10,100],\n",
    "\n",
    "    # branchvalues=\"total\",               # or 'remainder'\n",
    "    # hover_name=\"Unarmed\",\n",
    "    # # hover_data={'Unarmed': False},    # remove column name from tooltip  (Plotly version >= 4.8.0)\n",
    "    # title=\"7-year Breakdown of Deaths by Police\",\n",
    "    # template='ggplot2',               # 'ggplot2', 'seaborn', 'simple_white', 'plotly',\n",
    "    #                                   # 'plotly_white', 'plotly_dark', 'presentation',\n",
    "    #                                   # 'xgridoff', 'ygridoff', 'gridon', 'none'\n",
    ")\n",
    "\n",
    "fig.update_traces(textinfo='label+percent entry')\n",
    "fig.update_layout(margin=dict(t=0, l=0, r=0, b=0))\n",
    "\n",
    "fig.show()"
   ]
  },
  {
   "cell_type": "code",
   "execution_count": 27,
   "metadata": {},
   "outputs": [
    {
     "data": {
      "application/vnd.plotly.v1+json": {
       "config": {
        "plotlyServerURL": "https://plot.ly"
       },
       "data": [
        {
         "branchvalues": "total",
         "customdata": [
          [
           "(?)"
          ],
          [
           "(?)"
          ],
          [
           "(?)"
          ],
          [
           "(?)"
          ],
          [
           "(?)"
          ],
          [
           "(?)"
          ],
          [
           "(?)"
          ],
          [
           "(?)"
          ],
          [
           "(?)"
          ],
          [
           "(?)"
          ],
          [
           "(?)"
          ],
          [
           "(?)"
          ],
          [
           "(?)"
          ],
          [
           "(?)"
          ],
          [
           "(?)"
          ],
          [
           "(?)"
          ],
          [
           "(?)"
          ],
          [
           "(?)"
          ],
          [
           "(?)"
          ],
          [
           "(?)"
          ],
          [
           "(?)"
          ],
          [
           "(?)"
          ],
          [
           "(?)"
          ],
          [
           "(?)"
          ],
          [
           "(?)"
          ],
          [
           "(?)"
          ],
          [
           "(?)"
          ],
          [
           "(?)"
          ],
          [
           "(?)"
          ],
          [
           "(?)"
          ],
          [
           "(?)"
          ],
          [
           "(?)"
          ],
          [
           "(?)"
          ],
          [
           "(?)"
          ],
          [
           "(?)"
          ],
          [
           "(?)"
          ],
          [
           "(?)"
          ],
          [
           "(?)"
          ],
          [
           "(?)"
          ],
          [
           "31"
          ],
          [
           "(?)"
          ],
          [
           "(?)"
          ],
          [
           "38"
          ],
          [
           "(?)"
          ],
          [
           "(?)"
          ],
          [
           "51"
          ],
          [
           "(?)"
          ],
          [
           "(?)"
          ],
          [
           "(?)"
          ],
          [
           "(?)"
          ],
          [
           "(?)"
          ],
          [
           "(?)"
          ],
          [
           "(?)"
          ],
          [
           "(?)"
          ],
          [
           "(?)"
          ],
          [
           "28"
          ],
          [
           "(?)"
          ]
         ],
         "domain": {
          "x": [
           0,
           1
          ],
          "y": [
           0,
           1
          ]
         },
         "hovertemplate": "labels=%{label}<br>count=%{value}<br>parent=%{parent}<br>id=%{id}<br>Victim's age=%{customdata[0]}<extra></extra>",
         "ids": [
          "Allegedly Armed/NY",
          "Unclear/CA",
          "Unarmed/TX/White",
          "Unarmed/CA",
          "Unarmed/TX/Hispanic",
          "Unarmed/CA/Asian",
          "Unclear",
          "Unclear/NY",
          "Allegedly Armed/TX/Asian",
          "Vehicle/TX/Black",
          "Unclear/TX/Black",
          "Allegedly Armed/NY/Hispanic",
          "Unarmed/TX/Black",
          "Vehicle/CA",
          "Allegedly Armed/CA/White",
          "Unclear/TX/Hispanic",
          "Allegedly Armed/TX/White",
          "Allegedly Armed/CA/Asian",
          "Unclear/TX",
          "Unarmed/CA/Black",
          "Vehicle",
          "Unarmed/TX",
          "Vehicle/TX/White",
          "Unarmed/CA/Hispanic",
          "Vehicle/TX",
          "Unarmed/NY/Hispanic",
          "Unclear/TX/White",
          "Vehicle/NY/Black",
          "Allegedly Armed",
          "Unarmed/NY/Black",
          "Vehicle/TX/Hispanic",
          "Allegedly Armed/TX/Black",
          "Unclear/CA/Hispanic",
          "Vehicle/CA/Hispanic",
          "Allegedly Armed/TX/Hispanic",
          "Unclear/CA/White",
          "Unclear/CA/Asian",
          "Allegedly Armed/CA",
          "Unarmed/CA/White",
          "Allegedly Armed/NY/Asian",
          "Unarmed",
          "Allegedly Armed/CA/Hispanic",
          "Vehicle/TX/Asian",
          "Allegedly Armed/TX",
          "Vehicle/CA/Black",
          "Unclear/NY/Hispanic",
          "Unclear/CA/Black",
          "Allegedly Armed/NY/White",
          "Vehicle/CA/White",
          "Unarmed/NY/White",
          "Allegedly Armed/NY/Black",
          "Allegedly Armed/CA/Black",
          "Unclear/NY/Black",
          "Vehicle/CA/Asian",
          "Vehicle/NY",
          "Unclear/NY/White",
          "Unarmed/NY"
         ],
         "labels": [
          "NY",
          "CA",
          "White",
          "CA",
          "Hispanic",
          "Asian",
          "Unclear",
          "NY",
          "Asian",
          "Black",
          "Black",
          "Hispanic",
          "Black",
          "CA",
          "White",
          "Hispanic",
          "White",
          "Asian",
          "TX",
          "Black",
          "Vehicle",
          "TX",
          "White",
          "Hispanic",
          "TX",
          "Hispanic",
          "White",
          "Black",
          "Allegedly Armed",
          "Black",
          "Hispanic",
          "Black",
          "Hispanic",
          "Hispanic",
          "Hispanic",
          "White",
          "Asian",
          "CA",
          "White",
          "Asian",
          "Unarmed",
          "Hispanic",
          "Asian",
          "TX",
          "Black",
          "Hispanic",
          "Black",
          "White",
          "White",
          "White",
          "Black",
          "Black",
          "Black",
          "Asian",
          "NY",
          "White",
          "NY"
         ],
         "marker": {
          "colors": [
           "rgb(102, 197, 204)",
           "rgb(102, 197, 204)",
           "rgb(102, 197, 204)",
           "rgb(102, 197, 204)",
           "rgb(102, 197, 204)",
           "rgb(102, 197, 204)",
           "rgb(102, 197, 204)",
           "rgb(102, 197, 204)",
           "rgb(102, 197, 204)",
           "rgb(102, 197, 204)",
           "rgb(102, 197, 204)",
           "rgb(102, 197, 204)",
           "rgb(102, 197, 204)",
           "rgb(102, 197, 204)",
           "rgb(102, 197, 204)",
           "rgb(102, 197, 204)",
           "rgb(102, 197, 204)",
           "rgb(102, 197, 204)",
           "rgb(102, 197, 204)",
           "rgb(102, 197, 204)",
           "rgb(102, 197, 204)",
           "rgb(102, 197, 204)",
           "rgb(102, 197, 204)",
           "rgb(102, 197, 204)",
           "rgb(102, 197, 204)",
           "rgb(102, 197, 204)",
           "rgb(102, 197, 204)",
           "rgb(102, 197, 204)",
           "rgb(102, 197, 204)",
           "rgb(102, 197, 204)",
           "rgb(102, 197, 204)",
           "rgb(102, 197, 204)",
           "rgb(102, 197, 204)",
           "rgb(102, 197, 204)",
           "rgb(102, 197, 204)",
           "rgb(102, 197, 204)",
           "rgb(102, 197, 204)",
           "rgb(102, 197, 204)",
           "rgb(102, 197, 204)",
           "rgb(246, 207, 113)",
           "rgb(102, 197, 204)",
           "rgb(102, 197, 204)",
           "rgb(248, 156, 116)",
           "rgb(102, 197, 204)",
           "rgb(102, 197, 204)",
           "rgb(220, 176, 242)",
           "rgb(102, 197, 204)",
           "rgb(102, 197, 204)",
           "rgb(102, 197, 204)",
           "rgb(102, 197, 204)",
           "rgb(102, 197, 204)",
           "rgb(102, 197, 204)",
           "rgb(102, 197, 204)",
           "rgb(102, 197, 204)",
           "rgb(102, 197, 204)",
           "rgb(135, 197, 95)",
           "rgb(102, 197, 204)"
          ]
         },
         "maxdepth": -1,
         "name": "",
         "parents": [
          "Allegedly Armed",
          "Unclear",
          "Unarmed/TX",
          "Unarmed",
          "Unarmed/TX",
          "Unarmed/CA",
          "",
          "Unclear",
          "Allegedly Armed/TX",
          "Vehicle/TX",
          "Unclear/TX",
          "Allegedly Armed/NY",
          "Unarmed/TX",
          "Vehicle",
          "Allegedly Armed/CA",
          "Unclear/TX",
          "Allegedly Armed/TX",
          "Allegedly Armed/CA",
          "Unclear",
          "Unarmed/CA",
          "",
          "Unarmed",
          "Vehicle/TX",
          "Unarmed/CA",
          "Vehicle",
          "Unarmed/NY",
          "Unclear/TX",
          "Vehicle/NY",
          "",
          "Unarmed/NY",
          "Vehicle/TX",
          "Allegedly Armed/TX",
          "Unclear/CA",
          "Vehicle/CA",
          "Allegedly Armed/TX",
          "Unclear/CA",
          "Unclear/CA",
          "Allegedly Armed",
          "Unarmed/CA",
          "Allegedly Armed/NY",
          "",
          "Allegedly Armed/CA",
          "Vehicle/TX",
          "Allegedly Armed",
          "Vehicle/CA",
          "Unclear/NY",
          "Unclear/CA",
          "Allegedly Armed/NY",
          "Vehicle/CA",
          "Unarmed/NY",
          "Allegedly Armed/NY",
          "Allegedly Armed/CA",
          "Unclear/NY",
          "Vehicle/CA",
          "Vehicle",
          "Unclear/NY",
          "Unarmed"
         ],
         "textinfo": "label+percent entry",
         "type": "sunburst",
         "values": [
          100,
          114,
          33,
          191,
          29,
          5,
          164,
          7,
          9,
          15,
          9,
          11,
          40,
          63,
          224,
          16,
          194,
          34,
          43,
          40,
          104,
          102,
          13,
          90,
          39,
          6,
          18,
          2,
          1245,
          17,
          10,
          93,
          55,
          30,
          164,
          34,
          3,
          685,
          56,
          1,
          327,
          315,
          1,
          460,
          12,
          1,
          22,
          41,
          19,
          11,
          47,
          112,
          5,
          2,
          2,
          1,
          34
         ]
        }
       ],
       "layout": {
        "legend": {
         "tracegroupgap": 0
        },
        "margin": {
         "b": 0,
         "l": 0,
         "r": 0,
         "t": 0
        },
        "sunburstcolorway": [
         "rgb(102, 197, 204)",
         "rgb(246, 207, 113)",
         "rgb(248, 156, 116)",
         "rgb(220, 176, 242)",
         "rgb(135, 197, 95)",
         "rgb(158, 185, 243)",
         "rgb(254, 136, 177)",
         "rgb(201, 219, 116)",
         "rgb(139, 224, 164)",
         "rgb(180, 151, 231)",
         "rgb(179, 179, 179)"
        ],
        "template": {
         "data": {
          "bar": [
           {
            "error_x": {
             "color": "#2a3f5f"
            },
            "error_y": {
             "color": "#2a3f5f"
            },
            "marker": {
             "line": {
              "color": "#E5ECF6",
              "width": 0.5
             },
             "pattern": {
              "fillmode": "overlay",
              "size": 10,
              "solidity": 0.2
             }
            },
            "type": "bar"
           }
          ],
          "barpolar": [
           {
            "marker": {
             "line": {
              "color": "#E5ECF6",
              "width": 0.5
             },
             "pattern": {
              "fillmode": "overlay",
              "size": 10,
              "solidity": 0.2
             }
            },
            "type": "barpolar"
           }
          ],
          "carpet": [
           {
            "aaxis": {
             "endlinecolor": "#2a3f5f",
             "gridcolor": "white",
             "linecolor": "white",
             "minorgridcolor": "white",
             "startlinecolor": "#2a3f5f"
            },
            "baxis": {
             "endlinecolor": "#2a3f5f",
             "gridcolor": "white",
             "linecolor": "white",
             "minorgridcolor": "white",
             "startlinecolor": "#2a3f5f"
            },
            "type": "carpet"
           }
          ],
          "choropleth": [
           {
            "colorbar": {
             "outlinewidth": 0,
             "ticks": ""
            },
            "type": "choropleth"
           }
          ],
          "contour": [
           {
            "colorbar": {
             "outlinewidth": 0,
             "ticks": ""
            },
            "colorscale": [
             [
              0,
              "#0d0887"
             ],
             [
              0.1111111111111111,
              "#46039f"
             ],
             [
              0.2222222222222222,
              "#7201a8"
             ],
             [
              0.3333333333333333,
              "#9c179e"
             ],
             [
              0.4444444444444444,
              "#bd3786"
             ],
             [
              0.5555555555555556,
              "#d8576b"
             ],
             [
              0.6666666666666666,
              "#ed7953"
             ],
             [
              0.7777777777777778,
              "#fb9f3a"
             ],
             [
              0.8888888888888888,
              "#fdca26"
             ],
             [
              1,
              "#f0f921"
             ]
            ],
            "type": "contour"
           }
          ],
          "contourcarpet": [
           {
            "colorbar": {
             "outlinewidth": 0,
             "ticks": ""
            },
            "type": "contourcarpet"
           }
          ],
          "heatmap": [
           {
            "colorbar": {
             "outlinewidth": 0,
             "ticks": ""
            },
            "colorscale": [
             [
              0,
              "#0d0887"
             ],
             [
              0.1111111111111111,
              "#46039f"
             ],
             [
              0.2222222222222222,
              "#7201a8"
             ],
             [
              0.3333333333333333,
              "#9c179e"
             ],
             [
              0.4444444444444444,
              "#bd3786"
             ],
             [
              0.5555555555555556,
              "#d8576b"
             ],
             [
              0.6666666666666666,
              "#ed7953"
             ],
             [
              0.7777777777777778,
              "#fb9f3a"
             ],
             [
              0.8888888888888888,
              "#fdca26"
             ],
             [
              1,
              "#f0f921"
             ]
            ],
            "type": "heatmap"
           }
          ],
          "heatmapgl": [
           {
            "colorbar": {
             "outlinewidth": 0,
             "ticks": ""
            },
            "colorscale": [
             [
              0,
              "#0d0887"
             ],
             [
              0.1111111111111111,
              "#46039f"
             ],
             [
              0.2222222222222222,
              "#7201a8"
             ],
             [
              0.3333333333333333,
              "#9c179e"
             ],
             [
              0.4444444444444444,
              "#bd3786"
             ],
             [
              0.5555555555555556,
              "#d8576b"
             ],
             [
              0.6666666666666666,
              "#ed7953"
             ],
             [
              0.7777777777777778,
              "#fb9f3a"
             ],
             [
              0.8888888888888888,
              "#fdca26"
             ],
             [
              1,
              "#f0f921"
             ]
            ],
            "type": "heatmapgl"
           }
          ],
          "histogram": [
           {
            "marker": {
             "pattern": {
              "fillmode": "overlay",
              "size": 10,
              "solidity": 0.2
             }
            },
            "type": "histogram"
           }
          ],
          "histogram2d": [
           {
            "colorbar": {
             "outlinewidth": 0,
             "ticks": ""
            },
            "colorscale": [
             [
              0,
              "#0d0887"
             ],
             [
              0.1111111111111111,
              "#46039f"
             ],
             [
              0.2222222222222222,
              "#7201a8"
             ],
             [
              0.3333333333333333,
              "#9c179e"
             ],
             [
              0.4444444444444444,
              "#bd3786"
             ],
             [
              0.5555555555555556,
              "#d8576b"
             ],
             [
              0.6666666666666666,
              "#ed7953"
             ],
             [
              0.7777777777777778,
              "#fb9f3a"
             ],
             [
              0.8888888888888888,
              "#fdca26"
             ],
             [
              1,
              "#f0f921"
             ]
            ],
            "type": "histogram2d"
           }
          ],
          "histogram2dcontour": [
           {
            "colorbar": {
             "outlinewidth": 0,
             "ticks": ""
            },
            "colorscale": [
             [
              0,
              "#0d0887"
             ],
             [
              0.1111111111111111,
              "#46039f"
             ],
             [
              0.2222222222222222,
              "#7201a8"
             ],
             [
              0.3333333333333333,
              "#9c179e"
             ],
             [
              0.4444444444444444,
              "#bd3786"
             ],
             [
              0.5555555555555556,
              "#d8576b"
             ],
             [
              0.6666666666666666,
              "#ed7953"
             ],
             [
              0.7777777777777778,
              "#fb9f3a"
             ],
             [
              0.8888888888888888,
              "#fdca26"
             ],
             [
              1,
              "#f0f921"
             ]
            ],
            "type": "histogram2dcontour"
           }
          ],
          "mesh3d": [
           {
            "colorbar": {
             "outlinewidth": 0,
             "ticks": ""
            },
            "type": "mesh3d"
           }
          ],
          "parcoords": [
           {
            "line": {
             "colorbar": {
              "outlinewidth": 0,
              "ticks": ""
             }
            },
            "type": "parcoords"
           }
          ],
          "pie": [
           {
            "automargin": true,
            "type": "pie"
           }
          ],
          "scatter": [
           {
            "marker": {
             "colorbar": {
              "outlinewidth": 0,
              "ticks": ""
             }
            },
            "type": "scatter"
           }
          ],
          "scatter3d": [
           {
            "line": {
             "colorbar": {
              "outlinewidth": 0,
              "ticks": ""
             }
            },
            "marker": {
             "colorbar": {
              "outlinewidth": 0,
              "ticks": ""
             }
            },
            "type": "scatter3d"
           }
          ],
          "scattercarpet": [
           {
            "marker": {
             "colorbar": {
              "outlinewidth": 0,
              "ticks": ""
             }
            },
            "type": "scattercarpet"
           }
          ],
          "scattergeo": [
           {
            "marker": {
             "colorbar": {
              "outlinewidth": 0,
              "ticks": ""
             }
            },
            "type": "scattergeo"
           }
          ],
          "scattergl": [
           {
            "marker": {
             "colorbar": {
              "outlinewidth": 0,
              "ticks": ""
             }
            },
            "type": "scattergl"
           }
          ],
          "scattermapbox": [
           {
            "marker": {
             "colorbar": {
              "outlinewidth": 0,
              "ticks": ""
             }
            },
            "type": "scattermapbox"
           }
          ],
          "scatterpolar": [
           {
            "marker": {
             "colorbar": {
              "outlinewidth": 0,
              "ticks": ""
             }
            },
            "type": "scatterpolar"
           }
          ],
          "scatterpolargl": [
           {
            "marker": {
             "colorbar": {
              "outlinewidth": 0,
              "ticks": ""
             }
            },
            "type": "scatterpolargl"
           }
          ],
          "scatterternary": [
           {
            "marker": {
             "colorbar": {
              "outlinewidth": 0,
              "ticks": ""
             }
            },
            "type": "scatterternary"
           }
          ],
          "surface": [
           {
            "colorbar": {
             "outlinewidth": 0,
             "ticks": ""
            },
            "colorscale": [
             [
              0,
              "#0d0887"
             ],
             [
              0.1111111111111111,
              "#46039f"
             ],
             [
              0.2222222222222222,
              "#7201a8"
             ],
             [
              0.3333333333333333,
              "#9c179e"
             ],
             [
              0.4444444444444444,
              "#bd3786"
             ],
             [
              0.5555555555555556,
              "#d8576b"
             ],
             [
              0.6666666666666666,
              "#ed7953"
             ],
             [
              0.7777777777777778,
              "#fb9f3a"
             ],
             [
              0.8888888888888888,
              "#fdca26"
             ],
             [
              1,
              "#f0f921"
             ]
            ],
            "type": "surface"
           }
          ],
          "table": [
           {
            "cells": {
             "fill": {
              "color": "#EBF0F8"
             },
             "line": {
              "color": "white"
             }
            },
            "header": {
             "fill": {
              "color": "#C8D4E3"
             },
             "line": {
              "color": "white"
             }
            },
            "type": "table"
           }
          ]
         },
         "layout": {
          "annotationdefaults": {
           "arrowcolor": "#2a3f5f",
           "arrowhead": 0,
           "arrowwidth": 1
          },
          "autotypenumbers": "strict",
          "coloraxis": {
           "colorbar": {
            "outlinewidth": 0,
            "ticks": ""
           }
          },
          "colorscale": {
           "diverging": [
            [
             0,
             "#8e0152"
            ],
            [
             0.1,
             "#c51b7d"
            ],
            [
             0.2,
             "#de77ae"
            ],
            [
             0.3,
             "#f1b6da"
            ],
            [
             0.4,
             "#fde0ef"
            ],
            [
             0.5,
             "#f7f7f7"
            ],
            [
             0.6,
             "#e6f5d0"
            ],
            [
             0.7,
             "#b8e186"
            ],
            [
             0.8,
             "#7fbc41"
            ],
            [
             0.9,
             "#4d9221"
            ],
            [
             1,
             "#276419"
            ]
           ],
           "sequential": [
            [
             0,
             "#0d0887"
            ],
            [
             0.1111111111111111,
             "#46039f"
            ],
            [
             0.2222222222222222,
             "#7201a8"
            ],
            [
             0.3333333333333333,
             "#9c179e"
            ],
            [
             0.4444444444444444,
             "#bd3786"
            ],
            [
             0.5555555555555556,
             "#d8576b"
            ],
            [
             0.6666666666666666,
             "#ed7953"
            ],
            [
             0.7777777777777778,
             "#fb9f3a"
            ],
            [
             0.8888888888888888,
             "#fdca26"
            ],
            [
             1,
             "#f0f921"
            ]
           ],
           "sequentialminus": [
            [
             0,
             "#0d0887"
            ],
            [
             0.1111111111111111,
             "#46039f"
            ],
            [
             0.2222222222222222,
             "#7201a8"
            ],
            [
             0.3333333333333333,
             "#9c179e"
            ],
            [
             0.4444444444444444,
             "#bd3786"
            ],
            [
             0.5555555555555556,
             "#d8576b"
            ],
            [
             0.6666666666666666,
             "#ed7953"
            ],
            [
             0.7777777777777778,
             "#fb9f3a"
            ],
            [
             0.8888888888888888,
             "#fdca26"
            ],
            [
             1,
             "#f0f921"
            ]
           ]
          },
          "colorway": [
           "#636efa",
           "#EF553B",
           "#00cc96",
           "#ab63fa",
           "#FFA15A",
           "#19d3f3",
           "#FF6692",
           "#B6E880",
           "#FF97FF",
           "#FECB52"
          ],
          "font": {
           "color": "#2a3f5f"
          },
          "geo": {
           "bgcolor": "white",
           "lakecolor": "white",
           "landcolor": "#E5ECF6",
           "showlakes": true,
           "showland": true,
           "subunitcolor": "white"
          },
          "hoverlabel": {
           "align": "left"
          },
          "hovermode": "closest",
          "mapbox": {
           "style": "light"
          },
          "paper_bgcolor": "white",
          "plot_bgcolor": "#E5ECF6",
          "polar": {
           "angularaxis": {
            "gridcolor": "white",
            "linecolor": "white",
            "ticks": ""
           },
           "bgcolor": "#E5ECF6",
           "radialaxis": {
            "gridcolor": "white",
            "linecolor": "white",
            "ticks": ""
           }
          },
          "scene": {
           "xaxis": {
            "backgroundcolor": "#E5ECF6",
            "gridcolor": "white",
            "gridwidth": 2,
            "linecolor": "white",
            "showbackground": true,
            "ticks": "",
            "zerolinecolor": "white"
           },
           "yaxis": {
            "backgroundcolor": "#E5ECF6",
            "gridcolor": "white",
            "gridwidth": 2,
            "linecolor": "white",
            "showbackground": true,
            "ticks": "",
            "zerolinecolor": "white"
           },
           "zaxis": {
            "backgroundcolor": "#E5ECF6",
            "gridcolor": "white",
            "gridwidth": 2,
            "linecolor": "white",
            "showbackground": true,
            "ticks": "",
            "zerolinecolor": "white"
           }
          },
          "shapedefaults": {
           "line": {
            "color": "#2a3f5f"
           }
          },
          "ternary": {
           "aaxis": {
            "gridcolor": "white",
            "linecolor": "white",
            "ticks": ""
           },
           "baxis": {
            "gridcolor": "white",
            "linecolor": "white",
            "ticks": ""
           },
           "bgcolor": "#E5ECF6",
           "caxis": {
            "gridcolor": "white",
            "linecolor": "white",
            "ticks": ""
           }
          },
          "title": {
           "x": 0.05
          },
          "xaxis": {
           "automargin": true,
           "gridcolor": "white",
           "linecolor": "white",
           "ticks": "",
           "title": {
            "standoff": 15
           },
           "zerolinecolor": "white",
           "zerolinewidth": 2
          },
          "yaxis": {
           "automargin": true,
           "gridcolor": "white",
           "linecolor": "white",
           "ticks": "",
           "title": {
            "standoff": 15
           },
           "zerolinecolor": "white",
           "zerolinewidth": 2
          }
         }
        }
       }
      }
     },
     "metadata": {},
     "output_type": "display_data"
    }
   ],
   "source": [
    "df = clean(df_orig)\n",
    "\n",
    "fig = px.sunburst(\n",
    "    data_frame=df,\n",
    "    path=[\"Unarmed\", 'State', \"Victim's race\"],  # Root, branches, leaves\n",
    "    # color=\"Unarmed\",\n",
    "    color_discrete_sequence=px.colors.qualitative.Pastel,\n",
    "    maxdepth=-1,                        # set the sectors rendered. -1 will render all levels in the hierarchy\n",
    "    color=\"Victim's age\",\n",
    "    color_continuous_scale=px.colors.sequential.BuGn,\n",
    "    range_color=[10,100],\n",
    "\n",
    "    # branchvalues=\"total\",               # or 'remainder'\n",
    "    # hover_name=\"Unarmed\",\n",
    "    # # hover_data={'Unarmed': False},    # remove column name from tooltip  (Plotly version >= 4.8.0)\n",
    "    # title=\"7-year Breakdown of Deaths by Police\",\n",
    "    # template='ggplot2',               # 'ggplot2', 'seaborn', 'simple_white', 'plotly',\n",
    "    #                                   # 'plotly_white', 'plotly_dark', 'presentation',\n",
    "    #                                   # 'xgridoff', 'ygridoff', 'gridon', 'none'\n",
    ")\n",
    "\n",
    "fig.update_traces(textinfo='label+percent entry')\n",
    "fig.update_layout(margin=dict(t=0, l=0, r=0, b=0))\n",
    "\n",
    "fig.show()"
   ]
  },
  {
   "cell_type": "code",
   "execution_count": 29,
   "metadata": {},
   "outputs": [
    {
     "data": {
      "application/vnd.plotly.v1+json": {
       "config": {
        "plotlyServerURL": "https://plot.ly"
       },
       "data": [
        {
         "branchvalues": "remainder",
         "customdata": [
          [
           "Allegedly Armed"
          ],
          [
           "Unclear"
          ],
          [
           "Unarmed"
          ],
          [
           "Vehicle"
          ],
          [
           "Vehicle"
          ],
          [
           "Unarmed"
          ],
          [
           "Unclear"
          ],
          [
           "Allegedly Armed"
          ],
          [
           "Vehicle"
          ],
          [
           "Unclear"
          ],
          [
           "Unclear"
          ],
          [
           "Unarmed"
          ],
          [
           "Unclear"
          ],
          [
           "Vehicle"
          ],
          [
           "Allegedly Armed"
          ],
          [
           "Unarmed"
          ],
          [
           "Allegedly Armed"
          ],
          [
           "Unarmed"
          ],
          [
           "Unclear"
          ],
          [
           "Unclear"
          ],
          [
           "Vehicle"
          ],
          [
           "Allegedly Armed"
          ],
          [
           "Unarmed"
          ],
          [
           "Unclear"
          ],
          [
           "Allegedly Armed"
          ],
          [
           "Vehicle"
          ],
          [
           "Vehicle"
          ],
          [
           "Vehicle"
          ],
          [
           "Unarmed"
          ],
          [
           "Unclear"
          ],
          [
           "Unclear"
          ],
          [
           "Allegedly Armed"
          ],
          [
           "Allegedly Armed"
          ],
          [
           "Vehicle"
          ],
          [
           "Allegedly Armed"
          ],
          [
           "Vehicle"
          ],
          [
           "Unarmed"
          ],
          [
           "Unarmed"
          ],
          [
           "Unarmed"
          ],
          [
           "Unarmed"
          ],
          [
           "Allegedly Armed"
          ],
          [
           "Unarmed"
          ],
          [
           "Allegedly Armed"
          ],
          [
           "Allegedly Armed"
          ],
          [
           "Unclear"
          ],
          [
           "Vehicle"
          ],
          [
           "Vehicle"
          ],
          [
           "Unclear"
          ],
          [
           "Unarmed"
          ],
          [
           "Unclear"
          ],
          [
           "Allegedly Armed"
          ],
          [
           "Allegedly Armed"
          ],
          [
           "Unarmed"
          ],
          [
           "Unclear"
          ],
          [
           "Vehicle"
          ],
          [
           "Allegedly Armed"
          ],
          [
           "Allegedly Armed"
          ]
         ],
         "domain": {
          "x": [
           0,
           1
          ],
          "y": [
           0,
           1
          ]
         },
         "hovertemplate": "labels=%{label}<br>count=%{value}<br>parent=%{parent}<br>id=%{id}<br>Unarmed=%{customdata[0]}<extra></extra>",
         "ids": [
          "Allegedly Armed/CA/Asian",
          "Unclear/NY/Hispanic",
          "Unarmed/TX/Hispanic",
          "Vehicle/TX/Hispanic",
          "Vehicle/CA/White",
          "Unarmed/NY/White",
          "Unclear/NY/White",
          "Allegedly Armed/TX/White",
          "Vehicle/CA/Hispanic",
          "Unclear/TX/White",
          "Unclear/CA",
          "Unarmed/NY",
          "Unclear/NY",
          "Vehicle/NY",
          "Allegedly Armed/TX",
          "Unarmed/TX",
          "Allegedly Armed",
          "Unarmed/CA",
          "Unclear/CA/Hispanic",
          "Unclear/TX/Hispanic",
          "Vehicle",
          "Allegedly Armed/NY/Black",
          "Unarmed/NY/Black",
          "Unclear/NY/Black",
          "Allegedly Armed/CA/Black",
          "Vehicle/CA/Black",
          "Vehicle/TX/Asian",
          "Vehicle/NY/Black",
          "Unarmed/TX/Black",
          "Unclear/CA/Asian",
          "Unclear/TX/Black",
          "Allegedly Armed/TX/Black",
          "Allegedly Armed/CA/Hispanic",
          "Vehicle/CA/Asian",
          "Allegedly Armed/NY",
          "Vehicle/CA",
          "Unarmed/CA/Asian",
          "Unarmed/CA/Black",
          "Unarmed",
          "Unarmed/TX/White",
          "Allegedly Armed/NY/Hispanic",
          "Unarmed/NY/Hispanic",
          "Allegedly Armed/TX/Hispanic",
          "Allegedly Armed/CA/White",
          "Unclear",
          "Vehicle/TX/White",
          "Vehicle/TX",
          "Unclear/CA/Black",
          "Unarmed/CA/Hispanic",
          "Unclear/CA/White",
          "Allegedly Armed/NY/White",
          "Allegedly Armed/CA",
          "Unarmed/CA/White",
          "Unclear/TX",
          "Vehicle/TX/Black",
          "Allegedly Armed/TX/Asian",
          "Allegedly Armed/NY/Asian"
         ],
         "labels": [
          "Asian",
          "Hispanic",
          "Hispanic",
          "Hispanic",
          "White",
          "White",
          "White",
          "White",
          "Hispanic",
          "White",
          "CA",
          "NY",
          "NY",
          "NY",
          "TX",
          "TX",
          "Allegedly Armed",
          "CA",
          "Hispanic",
          "Hispanic",
          "Vehicle",
          "Black",
          "Black",
          "Black",
          "Black",
          "Black",
          "Asian",
          "Black",
          "Black",
          "Asian",
          "Black",
          "Black",
          "Hispanic",
          "Asian",
          "NY",
          "CA",
          "Asian",
          "Black",
          "Unarmed",
          "White",
          "Hispanic",
          "Hispanic",
          "Hispanic",
          "White",
          "Unclear",
          "White",
          "TX",
          "Black",
          "Hispanic",
          "White",
          "White",
          "CA",
          "White",
          "TX",
          "Black",
          "Asian",
          "Asian"
         ],
         "marker": {
          "colors": [
           "rgb(102, 197, 204)",
           "rgb(246, 207, 113)",
           "rgb(248, 156, 116)",
           "rgb(220, 176, 242)",
           "rgb(220, 176, 242)",
           "rgb(248, 156, 116)",
           "rgb(246, 207, 113)",
           "rgb(102, 197, 204)",
           "rgb(220, 176, 242)",
           "rgb(246, 207, 113)",
           "rgb(246, 207, 113)",
           "rgb(248, 156, 116)",
           "rgb(246, 207, 113)",
           "rgb(220, 176, 242)",
           "rgb(102, 197, 204)",
           "rgb(248, 156, 116)",
           "rgb(102, 197, 204)",
           "rgb(248, 156, 116)",
           "rgb(246, 207, 113)",
           "rgb(246, 207, 113)",
           "rgb(220, 176, 242)",
           "rgb(102, 197, 204)",
           "rgb(248, 156, 116)",
           "rgb(246, 207, 113)",
           "rgb(102, 197, 204)",
           "rgb(220, 176, 242)",
           "rgb(220, 176, 242)",
           "rgb(220, 176, 242)",
           "rgb(248, 156, 116)",
           "rgb(246, 207, 113)",
           "rgb(246, 207, 113)",
           "rgb(102, 197, 204)",
           "rgb(102, 197, 204)",
           "rgb(220, 176, 242)",
           "rgb(102, 197, 204)",
           "rgb(220, 176, 242)",
           "rgb(248, 156, 116)",
           "rgb(248, 156, 116)",
           "rgb(248, 156, 116)",
           "rgb(248, 156, 116)",
           "rgb(102, 197, 204)",
           "rgb(248, 156, 116)",
           "rgb(102, 197, 204)",
           "rgb(102, 197, 204)",
           "rgb(246, 207, 113)",
           "rgb(220, 176, 242)",
           "rgb(220, 176, 242)",
           "rgb(246, 207, 113)",
           "rgb(248, 156, 116)",
           "rgb(246, 207, 113)",
           "rgb(102, 197, 204)",
           "rgb(102, 197, 204)",
           "rgb(248, 156, 116)",
           "rgb(246, 207, 113)",
           "rgb(220, 176, 242)",
           "rgb(102, 197, 204)",
           "rgb(102, 197, 204)"
          ]
         },
         "name": "",
         "parents": [
          "Allegedly Armed/CA",
          "Unclear/NY",
          "Unarmed/TX",
          "Vehicle/TX",
          "Vehicle/CA",
          "Unarmed/NY",
          "Unclear/NY",
          "Allegedly Armed/TX",
          "Vehicle/CA",
          "Unclear/TX",
          "Unclear",
          "Unarmed",
          "Unclear",
          "Vehicle",
          "Allegedly Armed",
          "Unarmed",
          "",
          "Unarmed",
          "Unclear/CA",
          "Unclear/TX",
          "",
          "Allegedly Armed/NY",
          "Unarmed/NY",
          "Unclear/NY",
          "Allegedly Armed/CA",
          "Vehicle/CA",
          "Vehicle/TX",
          "Vehicle/NY",
          "Unarmed/TX",
          "Unclear/CA",
          "Unclear/TX",
          "Allegedly Armed/TX",
          "Allegedly Armed/CA",
          "Vehicle/CA",
          "Allegedly Armed",
          "Vehicle",
          "Unarmed/CA",
          "Unarmed/CA",
          "",
          "Unarmed/TX",
          "Allegedly Armed/NY",
          "Unarmed/NY",
          "Allegedly Armed/TX",
          "Allegedly Armed/CA",
          "",
          "Vehicle/TX",
          "Vehicle",
          "Unclear/CA",
          "Unarmed/CA",
          "Unclear/CA",
          "Allegedly Armed/NY",
          "Allegedly Armed",
          "Unarmed/CA",
          "Unclear",
          "Vehicle/TX",
          "Allegedly Armed/TX",
          "Allegedly Armed/NY"
         ],
         "textinfo": "label+percent entry",
         "type": "sunburst",
         "values": [
          34,
          1,
          29,
          10,
          19,
          11,
          1,
          194,
          30,
          18,
          114,
          34,
          7,
          2,
          460,
          102,
          1245,
          191,
          55,
          16,
          104,
          47,
          17,
          5,
          112,
          12,
          1,
          2,
          40,
          3,
          9,
          93,
          315,
          2,
          100,
          63,
          5,
          40,
          327,
          33,
          11,
          6,
          164,
          224,
          164,
          13,
          39,
          22,
          90,
          34,
          41,
          685,
          56,
          43,
          15,
          9,
          1
         ]
        }
       ],
       "layout": {
        "legend": {
         "tracegroupgap": 0
        },
        "margin": {
         "b": 0,
         "l": 0,
         "r": 0,
         "t": 0
        },
        "sunburstcolorway": [
         "rgb(102, 197, 204)",
         "rgb(246, 207, 113)",
         "rgb(248, 156, 116)",
         "rgb(220, 176, 242)",
         "rgb(135, 197, 95)",
         "rgb(158, 185, 243)",
         "rgb(254, 136, 177)",
         "rgb(201, 219, 116)",
         "rgb(139, 224, 164)",
         "rgb(180, 151, 231)",
         "rgb(179, 179, 179)"
        ],
        "template": {
         "data": {
          "bar": [
           {
            "error_x": {
             "color": "#2a3f5f"
            },
            "error_y": {
             "color": "#2a3f5f"
            },
            "marker": {
             "line": {
              "color": "#E5ECF6",
              "width": 0.5
             },
             "pattern": {
              "fillmode": "overlay",
              "size": 10,
              "solidity": 0.2
             }
            },
            "type": "bar"
           }
          ],
          "barpolar": [
           {
            "marker": {
             "line": {
              "color": "#E5ECF6",
              "width": 0.5
             },
             "pattern": {
              "fillmode": "overlay",
              "size": 10,
              "solidity": 0.2
             }
            },
            "type": "barpolar"
           }
          ],
          "carpet": [
           {
            "aaxis": {
             "endlinecolor": "#2a3f5f",
             "gridcolor": "white",
             "linecolor": "white",
             "minorgridcolor": "white",
             "startlinecolor": "#2a3f5f"
            },
            "baxis": {
             "endlinecolor": "#2a3f5f",
             "gridcolor": "white",
             "linecolor": "white",
             "minorgridcolor": "white",
             "startlinecolor": "#2a3f5f"
            },
            "type": "carpet"
           }
          ],
          "choropleth": [
           {
            "colorbar": {
             "outlinewidth": 0,
             "ticks": ""
            },
            "type": "choropleth"
           }
          ],
          "contour": [
           {
            "colorbar": {
             "outlinewidth": 0,
             "ticks": ""
            },
            "colorscale": [
             [
              0,
              "#0d0887"
             ],
             [
              0.1111111111111111,
              "#46039f"
             ],
             [
              0.2222222222222222,
              "#7201a8"
             ],
             [
              0.3333333333333333,
              "#9c179e"
             ],
             [
              0.4444444444444444,
              "#bd3786"
             ],
             [
              0.5555555555555556,
              "#d8576b"
             ],
             [
              0.6666666666666666,
              "#ed7953"
             ],
             [
              0.7777777777777778,
              "#fb9f3a"
             ],
             [
              0.8888888888888888,
              "#fdca26"
             ],
             [
              1,
              "#f0f921"
             ]
            ],
            "type": "contour"
           }
          ],
          "contourcarpet": [
           {
            "colorbar": {
             "outlinewidth": 0,
             "ticks": ""
            },
            "type": "contourcarpet"
           }
          ],
          "heatmap": [
           {
            "colorbar": {
             "outlinewidth": 0,
             "ticks": ""
            },
            "colorscale": [
             [
              0,
              "#0d0887"
             ],
             [
              0.1111111111111111,
              "#46039f"
             ],
             [
              0.2222222222222222,
              "#7201a8"
             ],
             [
              0.3333333333333333,
              "#9c179e"
             ],
             [
              0.4444444444444444,
              "#bd3786"
             ],
             [
              0.5555555555555556,
              "#d8576b"
             ],
             [
              0.6666666666666666,
              "#ed7953"
             ],
             [
              0.7777777777777778,
              "#fb9f3a"
             ],
             [
              0.8888888888888888,
              "#fdca26"
             ],
             [
              1,
              "#f0f921"
             ]
            ],
            "type": "heatmap"
           }
          ],
          "heatmapgl": [
           {
            "colorbar": {
             "outlinewidth": 0,
             "ticks": ""
            },
            "colorscale": [
             [
              0,
              "#0d0887"
             ],
             [
              0.1111111111111111,
              "#46039f"
             ],
             [
              0.2222222222222222,
              "#7201a8"
             ],
             [
              0.3333333333333333,
              "#9c179e"
             ],
             [
              0.4444444444444444,
              "#bd3786"
             ],
             [
              0.5555555555555556,
              "#d8576b"
             ],
             [
              0.6666666666666666,
              "#ed7953"
             ],
             [
              0.7777777777777778,
              "#fb9f3a"
             ],
             [
              0.8888888888888888,
              "#fdca26"
             ],
             [
              1,
              "#f0f921"
             ]
            ],
            "type": "heatmapgl"
           }
          ],
          "histogram": [
           {
            "marker": {
             "pattern": {
              "fillmode": "overlay",
              "size": 10,
              "solidity": 0.2
             }
            },
            "type": "histogram"
           }
          ],
          "histogram2d": [
           {
            "colorbar": {
             "outlinewidth": 0,
             "ticks": ""
            },
            "colorscale": [
             [
              0,
              "#0d0887"
             ],
             [
              0.1111111111111111,
              "#46039f"
             ],
             [
              0.2222222222222222,
              "#7201a8"
             ],
             [
              0.3333333333333333,
              "#9c179e"
             ],
             [
              0.4444444444444444,
              "#bd3786"
             ],
             [
              0.5555555555555556,
              "#d8576b"
             ],
             [
              0.6666666666666666,
              "#ed7953"
             ],
             [
              0.7777777777777778,
              "#fb9f3a"
             ],
             [
              0.8888888888888888,
              "#fdca26"
             ],
             [
              1,
              "#f0f921"
             ]
            ],
            "type": "histogram2d"
           }
          ],
          "histogram2dcontour": [
           {
            "colorbar": {
             "outlinewidth": 0,
             "ticks": ""
            },
            "colorscale": [
             [
              0,
              "#0d0887"
             ],
             [
              0.1111111111111111,
              "#46039f"
             ],
             [
              0.2222222222222222,
              "#7201a8"
             ],
             [
              0.3333333333333333,
              "#9c179e"
             ],
             [
              0.4444444444444444,
              "#bd3786"
             ],
             [
              0.5555555555555556,
              "#d8576b"
             ],
             [
              0.6666666666666666,
              "#ed7953"
             ],
             [
              0.7777777777777778,
              "#fb9f3a"
             ],
             [
              0.8888888888888888,
              "#fdca26"
             ],
             [
              1,
              "#f0f921"
             ]
            ],
            "type": "histogram2dcontour"
           }
          ],
          "mesh3d": [
           {
            "colorbar": {
             "outlinewidth": 0,
             "ticks": ""
            },
            "type": "mesh3d"
           }
          ],
          "parcoords": [
           {
            "line": {
             "colorbar": {
              "outlinewidth": 0,
              "ticks": ""
             }
            },
            "type": "parcoords"
           }
          ],
          "pie": [
           {
            "automargin": true,
            "type": "pie"
           }
          ],
          "scatter": [
           {
            "marker": {
             "colorbar": {
              "outlinewidth": 0,
              "ticks": ""
             }
            },
            "type": "scatter"
           }
          ],
          "scatter3d": [
           {
            "line": {
             "colorbar": {
              "outlinewidth": 0,
              "ticks": ""
             }
            },
            "marker": {
             "colorbar": {
              "outlinewidth": 0,
              "ticks": ""
             }
            },
            "type": "scatter3d"
           }
          ],
          "scattercarpet": [
           {
            "marker": {
             "colorbar": {
              "outlinewidth": 0,
              "ticks": ""
             }
            },
            "type": "scattercarpet"
           }
          ],
          "scattergeo": [
           {
            "marker": {
             "colorbar": {
              "outlinewidth": 0,
              "ticks": ""
             }
            },
            "type": "scattergeo"
           }
          ],
          "scattergl": [
           {
            "marker": {
             "colorbar": {
              "outlinewidth": 0,
              "ticks": ""
             }
            },
            "type": "scattergl"
           }
          ],
          "scattermapbox": [
           {
            "marker": {
             "colorbar": {
              "outlinewidth": 0,
              "ticks": ""
             }
            },
            "type": "scattermapbox"
           }
          ],
          "scatterpolar": [
           {
            "marker": {
             "colorbar": {
              "outlinewidth": 0,
              "ticks": ""
             }
            },
            "type": "scatterpolar"
           }
          ],
          "scatterpolargl": [
           {
            "marker": {
             "colorbar": {
              "outlinewidth": 0,
              "ticks": ""
             }
            },
            "type": "scatterpolargl"
           }
          ],
          "scatterternary": [
           {
            "marker": {
             "colorbar": {
              "outlinewidth": 0,
              "ticks": ""
             }
            },
            "type": "scatterternary"
           }
          ],
          "surface": [
           {
            "colorbar": {
             "outlinewidth": 0,
             "ticks": ""
            },
            "colorscale": [
             [
              0,
              "#0d0887"
             ],
             [
              0.1111111111111111,
              "#46039f"
             ],
             [
              0.2222222222222222,
              "#7201a8"
             ],
             [
              0.3333333333333333,
              "#9c179e"
             ],
             [
              0.4444444444444444,
              "#bd3786"
             ],
             [
              0.5555555555555556,
              "#d8576b"
             ],
             [
              0.6666666666666666,
              "#ed7953"
             ],
             [
              0.7777777777777778,
              "#fb9f3a"
             ],
             [
              0.8888888888888888,
              "#fdca26"
             ],
             [
              1,
              "#f0f921"
             ]
            ],
            "type": "surface"
           }
          ],
          "table": [
           {
            "cells": {
             "fill": {
              "color": "#EBF0F8"
             },
             "line": {
              "color": "white"
             }
            },
            "header": {
             "fill": {
              "color": "#C8D4E3"
             },
             "line": {
              "color": "white"
             }
            },
            "type": "table"
           }
          ]
         },
         "layout": {
          "annotationdefaults": {
           "arrowcolor": "#2a3f5f",
           "arrowhead": 0,
           "arrowwidth": 1
          },
          "autotypenumbers": "strict",
          "coloraxis": {
           "colorbar": {
            "outlinewidth": 0,
            "ticks": ""
           }
          },
          "colorscale": {
           "diverging": [
            [
             0,
             "#8e0152"
            ],
            [
             0.1,
             "#c51b7d"
            ],
            [
             0.2,
             "#de77ae"
            ],
            [
             0.3,
             "#f1b6da"
            ],
            [
             0.4,
             "#fde0ef"
            ],
            [
             0.5,
             "#f7f7f7"
            ],
            [
             0.6,
             "#e6f5d0"
            ],
            [
             0.7,
             "#b8e186"
            ],
            [
             0.8,
             "#7fbc41"
            ],
            [
             0.9,
             "#4d9221"
            ],
            [
             1,
             "#276419"
            ]
           ],
           "sequential": [
            [
             0,
             "#0d0887"
            ],
            [
             0.1111111111111111,
             "#46039f"
            ],
            [
             0.2222222222222222,
             "#7201a8"
            ],
            [
             0.3333333333333333,
             "#9c179e"
            ],
            [
             0.4444444444444444,
             "#bd3786"
            ],
            [
             0.5555555555555556,
             "#d8576b"
            ],
            [
             0.6666666666666666,
             "#ed7953"
            ],
            [
             0.7777777777777778,
             "#fb9f3a"
            ],
            [
             0.8888888888888888,
             "#fdca26"
            ],
            [
             1,
             "#f0f921"
            ]
           ],
           "sequentialminus": [
            [
             0,
             "#0d0887"
            ],
            [
             0.1111111111111111,
             "#46039f"
            ],
            [
             0.2222222222222222,
             "#7201a8"
            ],
            [
             0.3333333333333333,
             "#9c179e"
            ],
            [
             0.4444444444444444,
             "#bd3786"
            ],
            [
             0.5555555555555556,
             "#d8576b"
            ],
            [
             0.6666666666666666,
             "#ed7953"
            ],
            [
             0.7777777777777778,
             "#fb9f3a"
            ],
            [
             0.8888888888888888,
             "#fdca26"
            ],
            [
             1,
             "#f0f921"
            ]
           ]
          },
          "colorway": [
           "#636efa",
           "#EF553B",
           "#00cc96",
           "#ab63fa",
           "#FFA15A",
           "#19d3f3",
           "#FF6692",
           "#B6E880",
           "#FF97FF",
           "#FECB52"
          ],
          "font": {
           "color": "#2a3f5f"
          },
          "geo": {
           "bgcolor": "white",
           "lakecolor": "white",
           "landcolor": "#E5ECF6",
           "showlakes": true,
           "showland": true,
           "subunitcolor": "white"
          },
          "hoverlabel": {
           "align": "left"
          },
          "hovermode": "closest",
          "mapbox": {
           "style": "light"
          },
          "paper_bgcolor": "white",
          "plot_bgcolor": "#E5ECF6",
          "polar": {
           "angularaxis": {
            "gridcolor": "white",
            "linecolor": "white",
            "ticks": ""
           },
           "bgcolor": "#E5ECF6",
           "radialaxis": {
            "gridcolor": "white",
            "linecolor": "white",
            "ticks": ""
           }
          },
          "scene": {
           "xaxis": {
            "backgroundcolor": "#E5ECF6",
            "gridcolor": "white",
            "gridwidth": 2,
            "linecolor": "white",
            "showbackground": true,
            "ticks": "",
            "zerolinecolor": "white"
           },
           "yaxis": {
            "backgroundcolor": "#E5ECF6",
            "gridcolor": "white",
            "gridwidth": 2,
            "linecolor": "white",
            "showbackground": true,
            "ticks": "",
            "zerolinecolor": "white"
           },
           "zaxis": {
            "backgroundcolor": "#E5ECF6",
            "gridcolor": "white",
            "gridwidth": 2,
            "linecolor": "white",
            "showbackground": true,
            "ticks": "",
            "zerolinecolor": "white"
           }
          },
          "shapedefaults": {
           "line": {
            "color": "#2a3f5f"
           }
          },
          "ternary": {
           "aaxis": {
            "gridcolor": "white",
            "linecolor": "white",
            "ticks": ""
           },
           "baxis": {
            "gridcolor": "white",
            "linecolor": "white",
            "ticks": ""
           },
           "bgcolor": "#E5ECF6",
           "caxis": {
            "gridcolor": "white",
            "linecolor": "white",
            "ticks": ""
           }
          },
          "title": {
           "x": 0.05
          },
          "xaxis": {
           "automargin": true,
           "gridcolor": "white",
           "linecolor": "white",
           "ticks": "",
           "title": {
            "standoff": 15
           },
           "zerolinecolor": "white",
           "zerolinewidth": 2
          },
          "yaxis": {
           "automargin": true,
           "gridcolor": "white",
           "linecolor": "white",
           "ticks": "",
           "title": {
            "standoff": 15
           },
           "zerolinecolor": "white",
           "zerolinewidth": 2
          }
         }
        }
       }
      }
     },
     "metadata": {},
     "output_type": "display_data"
    }
   ],
   "source": [
    "df = clean(df_orig)\n",
    "\n",
    "fig = px.sunburst(\n",
    "    data_frame=df,\n",
    "    path=[\"Unarmed\", 'State', \"Victim's race\"],  # Root, branches, leaves\n",
    "    color=\"Unarmed\",\n",
    "    color_discrete_sequence=px.colors.qualitative.Pastel,\n",
    "    # maxdepth=-1,                        # set the sectors rendered. -1 will render all levels in the hierarchy\n",
    "    # color=\"Victim's age\",\n",
    "    # color_continuous_scale=px.colors.sequential.BuGn,\n",
    "    # range_color=[10,100],\n",
    "\n",
    "    branchvalues=\"remainder\",               # 'total' or 'remainder'\n",
    "    # hover_name=\"Unarmed\",\n",
    "    # # hover_data={'Unarmed': False},    # remove column name from tooltip  (Plotly version >= 4.8.0)\n",
    "    # title=\"7-year Breakdown of Deaths by Police\",\n",
    "    # template='ggplot2',               # 'ggplot2', 'seaborn', 'simple_white', 'plotly',\n",
    "    #                                   # 'plotly_white', 'plotly_dark', 'presentation',\n",
    "    #                                   # 'xgridoff', 'ygridoff', 'gridon', 'none'\n",
    ")\n",
    "\n",
    "fig.update_traces(textinfo='label+percent entry')\n",
    "fig.update_layout(margin=dict(t=0, l=0, r=0, b=0))\n",
    "\n",
    "fig.show()"
   ]
  },
  {
   "cell_type": "code",
   "execution_count": 32,
   "metadata": {},
   "outputs": [
    {
     "data": {
      "application/vnd.plotly.v1+json": {
       "config": {
        "plotlyServerURL": "https://plot.ly"
       },
       "data": [
        {
         "branchvalues": "total",
         "customdata": [
          [
           "Allegedly Armed"
          ],
          [
           "Unclear"
          ],
          [
           "Unarmed"
          ],
          [
           "Vehicle"
          ],
          [
           "Vehicle"
          ],
          [
           "Unarmed"
          ],
          [
           "Unclear"
          ],
          [
           "Allegedly Armed"
          ],
          [
           "Vehicle"
          ],
          [
           "Unclear"
          ],
          [
           "Unclear"
          ],
          [
           "Unarmed"
          ],
          [
           "Unclear"
          ],
          [
           "Vehicle"
          ],
          [
           "Allegedly Armed"
          ],
          [
           "Unarmed"
          ],
          [
           "Allegedly Armed"
          ],
          [
           "Unarmed"
          ],
          [
           "Unclear"
          ],
          [
           "Unclear"
          ],
          [
           "Vehicle"
          ],
          [
           "Allegedly Armed"
          ],
          [
           "Unarmed"
          ],
          [
           "Unclear"
          ],
          [
           "Allegedly Armed"
          ],
          [
           "Vehicle"
          ],
          [
           "Vehicle"
          ],
          [
           "Vehicle"
          ],
          [
           "Unarmed"
          ],
          [
           "Unclear"
          ],
          [
           "Unclear"
          ],
          [
           "Allegedly Armed"
          ],
          [
           "Allegedly Armed"
          ],
          [
           "Vehicle"
          ],
          [
           "Allegedly Armed"
          ],
          [
           "Vehicle"
          ],
          [
           "Unarmed"
          ],
          [
           "Unarmed"
          ],
          [
           "Unarmed"
          ],
          [
           "Unarmed"
          ],
          [
           "Allegedly Armed"
          ],
          [
           "Unarmed"
          ],
          [
           "Allegedly Armed"
          ],
          [
           "Allegedly Armed"
          ],
          [
           "Unclear"
          ],
          [
           "Vehicle"
          ],
          [
           "Vehicle"
          ],
          [
           "Unclear"
          ],
          [
           "Unarmed"
          ],
          [
           "Unclear"
          ],
          [
           "Allegedly Armed"
          ],
          [
           "Allegedly Armed"
          ],
          [
           "Unarmed"
          ],
          [
           "Unclear"
          ],
          [
           "Vehicle"
          ],
          [
           "Allegedly Armed"
          ],
          [
           "Allegedly Armed"
          ]
         ],
         "domain": {
          "x": [
           0,
           1
          ],
          "y": [
           0,
           1
          ]
         },
         "hovertemplate": "<b>%{hovertext}</b><br><br>labels=%{label}<br>count=%{value}<br>parent=%{parent}<br>id=%{id}<extra></extra>",
         "hovertext": [
          "Allegedly Armed",
          "Unclear",
          "Unarmed",
          "Vehicle",
          "Vehicle",
          "Unarmed",
          "Unclear",
          "Allegedly Armed",
          "Vehicle",
          "Unclear",
          "Unclear",
          "Unarmed",
          "Unclear",
          "Vehicle",
          "Allegedly Armed",
          "Unarmed",
          "Allegedly Armed",
          "Unarmed",
          "Unclear",
          "Unclear",
          "Vehicle",
          "Allegedly Armed",
          "Unarmed",
          "Unclear",
          "Allegedly Armed",
          "Vehicle",
          "Vehicle",
          "Vehicle",
          "Unarmed",
          "Unclear",
          "Unclear",
          "Allegedly Armed",
          "Allegedly Armed",
          "Vehicle",
          "Allegedly Armed",
          "Vehicle",
          "Unarmed",
          "Unarmed",
          "Unarmed",
          "Unarmed",
          "Allegedly Armed",
          "Unarmed",
          "Allegedly Armed",
          "Allegedly Armed",
          "Unclear",
          "Vehicle",
          "Vehicle",
          "Unclear",
          "Unarmed",
          "Unclear",
          "Allegedly Armed",
          "Allegedly Armed",
          "Unarmed",
          "Unclear",
          "Vehicle",
          "Allegedly Armed",
          "Allegedly Armed"
         ],
         "ids": [
          "Allegedly Armed/CA/Asian",
          "Unclear/NY/Hispanic",
          "Unarmed/TX/Hispanic",
          "Vehicle/TX/Hispanic",
          "Vehicle/CA/White",
          "Unarmed/NY/White",
          "Unclear/NY/White",
          "Allegedly Armed/TX/White",
          "Vehicle/CA/Hispanic",
          "Unclear/TX/White",
          "Unclear/CA",
          "Unarmed/NY",
          "Unclear/NY",
          "Vehicle/NY",
          "Allegedly Armed/TX",
          "Unarmed/TX",
          "Allegedly Armed",
          "Unarmed/CA",
          "Unclear/CA/Hispanic",
          "Unclear/TX/Hispanic",
          "Vehicle",
          "Allegedly Armed/NY/Black",
          "Unarmed/NY/Black",
          "Unclear/NY/Black",
          "Allegedly Armed/CA/Black",
          "Vehicle/CA/Black",
          "Vehicle/TX/Asian",
          "Vehicle/NY/Black",
          "Unarmed/TX/Black",
          "Unclear/CA/Asian",
          "Unclear/TX/Black",
          "Allegedly Armed/TX/Black",
          "Allegedly Armed/CA/Hispanic",
          "Vehicle/CA/Asian",
          "Allegedly Armed/NY",
          "Vehicle/CA",
          "Unarmed/CA/Asian",
          "Unarmed/CA/Black",
          "Unarmed",
          "Unarmed/TX/White",
          "Allegedly Armed/NY/Hispanic",
          "Unarmed/NY/Hispanic",
          "Allegedly Armed/TX/Hispanic",
          "Allegedly Armed/CA/White",
          "Unclear",
          "Vehicle/TX/White",
          "Vehicle/TX",
          "Unclear/CA/Black",
          "Unarmed/CA/Hispanic",
          "Unclear/CA/White",
          "Allegedly Armed/NY/White",
          "Allegedly Armed/CA",
          "Unarmed/CA/White",
          "Unclear/TX",
          "Vehicle/TX/Black",
          "Allegedly Armed/TX/Asian",
          "Allegedly Armed/NY/Asian"
         ],
         "labels": [
          "Asian",
          "Hispanic",
          "Hispanic",
          "Hispanic",
          "White",
          "White",
          "White",
          "White",
          "Hispanic",
          "White",
          "CA",
          "NY",
          "NY",
          "NY",
          "TX",
          "TX",
          "Allegedly Armed",
          "CA",
          "Hispanic",
          "Hispanic",
          "Vehicle",
          "Black",
          "Black",
          "Black",
          "Black",
          "Black",
          "Asian",
          "Black",
          "Black",
          "Asian",
          "Black",
          "Black",
          "Hispanic",
          "Asian",
          "NY",
          "CA",
          "Asian",
          "Black",
          "Unarmed",
          "White",
          "Hispanic",
          "Hispanic",
          "Hispanic",
          "White",
          "Unclear",
          "White",
          "TX",
          "Black",
          "Hispanic",
          "White",
          "White",
          "CA",
          "White",
          "TX",
          "Black",
          "Asian",
          "Asian"
         ],
         "marker": {
          "colors": [
           "rgb(102, 197, 204)",
           "rgb(246, 207, 113)",
           "rgb(248, 156, 116)",
           "rgb(220, 176, 242)",
           "rgb(220, 176, 242)",
           "rgb(248, 156, 116)",
           "rgb(246, 207, 113)",
           "rgb(102, 197, 204)",
           "rgb(220, 176, 242)",
           "rgb(246, 207, 113)",
           "rgb(246, 207, 113)",
           "rgb(248, 156, 116)",
           "rgb(246, 207, 113)",
           "rgb(220, 176, 242)",
           "rgb(102, 197, 204)",
           "rgb(248, 156, 116)",
           "rgb(102, 197, 204)",
           "rgb(248, 156, 116)",
           "rgb(246, 207, 113)",
           "rgb(246, 207, 113)",
           "rgb(220, 176, 242)",
           "rgb(102, 197, 204)",
           "rgb(248, 156, 116)",
           "rgb(246, 207, 113)",
           "rgb(102, 197, 204)",
           "rgb(220, 176, 242)",
           "rgb(220, 176, 242)",
           "rgb(220, 176, 242)",
           "rgb(248, 156, 116)",
           "rgb(246, 207, 113)",
           "rgb(246, 207, 113)",
           "rgb(102, 197, 204)",
           "rgb(102, 197, 204)",
           "rgb(220, 176, 242)",
           "rgb(102, 197, 204)",
           "rgb(220, 176, 242)",
           "rgb(248, 156, 116)",
           "rgb(248, 156, 116)",
           "rgb(248, 156, 116)",
           "rgb(248, 156, 116)",
           "rgb(102, 197, 204)",
           "rgb(248, 156, 116)",
           "rgb(102, 197, 204)",
           "rgb(102, 197, 204)",
           "rgb(246, 207, 113)",
           "rgb(220, 176, 242)",
           "rgb(220, 176, 242)",
           "rgb(246, 207, 113)",
           "rgb(248, 156, 116)",
           "rgb(246, 207, 113)",
           "rgb(102, 197, 204)",
           "rgb(102, 197, 204)",
           "rgb(248, 156, 116)",
           "rgb(246, 207, 113)",
           "rgb(220, 176, 242)",
           "rgb(102, 197, 204)",
           "rgb(102, 197, 204)"
          ]
         },
         "name": "",
         "parents": [
          "Allegedly Armed/CA",
          "Unclear/NY",
          "Unarmed/TX",
          "Vehicle/TX",
          "Vehicle/CA",
          "Unarmed/NY",
          "Unclear/NY",
          "Allegedly Armed/TX",
          "Vehicle/CA",
          "Unclear/TX",
          "Unclear",
          "Unarmed",
          "Unclear",
          "Vehicle",
          "Allegedly Armed",
          "Unarmed",
          "",
          "Unarmed",
          "Unclear/CA",
          "Unclear/TX",
          "",
          "Allegedly Armed/NY",
          "Unarmed/NY",
          "Unclear/NY",
          "Allegedly Armed/CA",
          "Vehicle/CA",
          "Vehicle/TX",
          "Vehicle/NY",
          "Unarmed/TX",
          "Unclear/CA",
          "Unclear/TX",
          "Allegedly Armed/TX",
          "Allegedly Armed/CA",
          "Vehicle/CA",
          "Allegedly Armed",
          "Vehicle",
          "Unarmed/CA",
          "Unarmed/CA",
          "",
          "Unarmed/TX",
          "Allegedly Armed/NY",
          "Unarmed/NY",
          "Allegedly Armed/TX",
          "Allegedly Armed/CA",
          "",
          "Vehicle/TX",
          "Vehicle",
          "Unclear/CA",
          "Unarmed/CA",
          "Unclear/CA",
          "Allegedly Armed/NY",
          "Allegedly Armed",
          "Unarmed/CA",
          "Unclear",
          "Vehicle/TX",
          "Allegedly Armed/TX",
          "Allegedly Armed/NY"
         ],
         "textinfo": "label+percent entry",
         "type": "sunburst",
         "values": [
          34,
          1,
          29,
          10,
          19,
          11,
          1,
          194,
          30,
          18,
          114,
          34,
          7,
          2,
          460,
          102,
          1245,
          191,
          55,
          16,
          104,
          47,
          17,
          5,
          112,
          12,
          1,
          2,
          40,
          3,
          9,
          93,
          315,
          2,
          100,
          63,
          5,
          40,
          327,
          33,
          11,
          6,
          164,
          224,
          164,
          13,
          39,
          22,
          90,
          34,
          41,
          685,
          56,
          43,
          15,
          9,
          1
         ]
        }
       ],
       "layout": {
        "legend": {
         "tracegroupgap": 0
        },
        "sunburstcolorway": [
         "rgb(102, 197, 204)",
         "rgb(246, 207, 113)",
         "rgb(248, 156, 116)",
         "rgb(220, 176, 242)",
         "rgb(135, 197, 95)",
         "rgb(158, 185, 243)",
         "rgb(254, 136, 177)",
         "rgb(201, 219, 116)",
         "rgb(139, 224, 164)",
         "rgb(180, 151, 231)",
         "rgb(179, 179, 179)"
        ],
        "template": {
         "data": {
          "bar": [
           {
            "error_x": {
             "color": "rgb(51,51,51)"
            },
            "error_y": {
             "color": "rgb(51,51,51)"
            },
            "marker": {
             "line": {
              "color": "rgb(237,237,237)",
              "width": 0.5
             },
             "pattern": {
              "fillmode": "overlay",
              "size": 10,
              "solidity": 0.2
             }
            },
            "type": "bar"
           }
          ],
          "barpolar": [
           {
            "marker": {
             "line": {
              "color": "rgb(237,237,237)",
              "width": 0.5
             },
             "pattern": {
              "fillmode": "overlay",
              "size": 10,
              "solidity": 0.2
             }
            },
            "type": "barpolar"
           }
          ],
          "carpet": [
           {
            "aaxis": {
             "endlinecolor": "rgb(51,51,51)",
             "gridcolor": "white",
             "linecolor": "white",
             "minorgridcolor": "white",
             "startlinecolor": "rgb(51,51,51)"
            },
            "baxis": {
             "endlinecolor": "rgb(51,51,51)",
             "gridcolor": "white",
             "linecolor": "white",
             "minorgridcolor": "white",
             "startlinecolor": "rgb(51,51,51)"
            },
            "type": "carpet"
           }
          ],
          "choropleth": [
           {
            "colorbar": {
             "outlinewidth": 0,
             "tickcolor": "rgb(237,237,237)",
             "ticklen": 6,
             "ticks": "inside"
            },
            "type": "choropleth"
           }
          ],
          "contour": [
           {
            "colorbar": {
             "outlinewidth": 0,
             "tickcolor": "rgb(237,237,237)",
             "ticklen": 6,
             "ticks": "inside"
            },
            "colorscale": [
             [
              0,
              "rgb(20,44,66)"
             ],
             [
              1,
              "rgb(90,179,244)"
             ]
            ],
            "type": "contour"
           }
          ],
          "contourcarpet": [
           {
            "colorbar": {
             "outlinewidth": 0,
             "tickcolor": "rgb(237,237,237)",
             "ticklen": 6,
             "ticks": "inside"
            },
            "type": "contourcarpet"
           }
          ],
          "heatmap": [
           {
            "colorbar": {
             "outlinewidth": 0,
             "tickcolor": "rgb(237,237,237)",
             "ticklen": 6,
             "ticks": "inside"
            },
            "colorscale": [
             [
              0,
              "rgb(20,44,66)"
             ],
             [
              1,
              "rgb(90,179,244)"
             ]
            ],
            "type": "heatmap"
           }
          ],
          "heatmapgl": [
           {
            "colorbar": {
             "outlinewidth": 0,
             "tickcolor": "rgb(237,237,237)",
             "ticklen": 6,
             "ticks": "inside"
            },
            "colorscale": [
             [
              0,
              "rgb(20,44,66)"
             ],
             [
              1,
              "rgb(90,179,244)"
             ]
            ],
            "type": "heatmapgl"
           }
          ],
          "histogram": [
           {
            "marker": {
             "pattern": {
              "fillmode": "overlay",
              "size": 10,
              "solidity": 0.2
             }
            },
            "type": "histogram"
           }
          ],
          "histogram2d": [
           {
            "colorbar": {
             "outlinewidth": 0,
             "tickcolor": "rgb(237,237,237)",
             "ticklen": 6,
             "ticks": "inside"
            },
            "colorscale": [
             [
              0,
              "rgb(20,44,66)"
             ],
             [
              1,
              "rgb(90,179,244)"
             ]
            ],
            "type": "histogram2d"
           }
          ],
          "histogram2dcontour": [
           {
            "colorbar": {
             "outlinewidth": 0,
             "tickcolor": "rgb(237,237,237)",
             "ticklen": 6,
             "ticks": "inside"
            },
            "colorscale": [
             [
              0,
              "rgb(20,44,66)"
             ],
             [
              1,
              "rgb(90,179,244)"
             ]
            ],
            "type": "histogram2dcontour"
           }
          ],
          "mesh3d": [
           {
            "colorbar": {
             "outlinewidth": 0,
             "tickcolor": "rgb(237,237,237)",
             "ticklen": 6,
             "ticks": "inside"
            },
            "type": "mesh3d"
           }
          ],
          "parcoords": [
           {
            "line": {
             "colorbar": {
              "outlinewidth": 0,
              "tickcolor": "rgb(237,237,237)",
              "ticklen": 6,
              "ticks": "inside"
             }
            },
            "type": "parcoords"
           }
          ],
          "pie": [
           {
            "automargin": true,
            "type": "pie"
           }
          ],
          "scatter": [
           {
            "marker": {
             "colorbar": {
              "outlinewidth": 0,
              "tickcolor": "rgb(237,237,237)",
              "ticklen": 6,
              "ticks": "inside"
             }
            },
            "type": "scatter"
           }
          ],
          "scatter3d": [
           {
            "line": {
             "colorbar": {
              "outlinewidth": 0,
              "tickcolor": "rgb(237,237,237)",
              "ticklen": 6,
              "ticks": "inside"
             }
            },
            "marker": {
             "colorbar": {
              "outlinewidth": 0,
              "tickcolor": "rgb(237,237,237)",
              "ticklen": 6,
              "ticks": "inside"
             }
            },
            "type": "scatter3d"
           }
          ],
          "scattercarpet": [
           {
            "marker": {
             "colorbar": {
              "outlinewidth": 0,
              "tickcolor": "rgb(237,237,237)",
              "ticklen": 6,
              "ticks": "inside"
             }
            },
            "type": "scattercarpet"
           }
          ],
          "scattergeo": [
           {
            "marker": {
             "colorbar": {
              "outlinewidth": 0,
              "tickcolor": "rgb(237,237,237)",
              "ticklen": 6,
              "ticks": "inside"
             }
            },
            "type": "scattergeo"
           }
          ],
          "scattergl": [
           {
            "marker": {
             "colorbar": {
              "outlinewidth": 0,
              "tickcolor": "rgb(237,237,237)",
              "ticklen": 6,
              "ticks": "inside"
             }
            },
            "type": "scattergl"
           }
          ],
          "scattermapbox": [
           {
            "marker": {
             "colorbar": {
              "outlinewidth": 0,
              "tickcolor": "rgb(237,237,237)",
              "ticklen": 6,
              "ticks": "inside"
             }
            },
            "type": "scattermapbox"
           }
          ],
          "scatterpolar": [
           {
            "marker": {
             "colorbar": {
              "outlinewidth": 0,
              "tickcolor": "rgb(237,237,237)",
              "ticklen": 6,
              "ticks": "inside"
             }
            },
            "type": "scatterpolar"
           }
          ],
          "scatterpolargl": [
           {
            "marker": {
             "colorbar": {
              "outlinewidth": 0,
              "tickcolor": "rgb(237,237,237)",
              "ticklen": 6,
              "ticks": "inside"
             }
            },
            "type": "scatterpolargl"
           }
          ],
          "scatterternary": [
           {
            "marker": {
             "colorbar": {
              "outlinewidth": 0,
              "tickcolor": "rgb(237,237,237)",
              "ticklen": 6,
              "ticks": "inside"
             }
            },
            "type": "scatterternary"
           }
          ],
          "surface": [
           {
            "colorbar": {
             "outlinewidth": 0,
             "tickcolor": "rgb(237,237,237)",
             "ticklen": 6,
             "ticks": "inside"
            },
            "colorscale": [
             [
              0,
              "rgb(20,44,66)"
             ],
             [
              1,
              "rgb(90,179,244)"
             ]
            ],
            "type": "surface"
           }
          ],
          "table": [
           {
            "cells": {
             "fill": {
              "color": "rgb(237,237,237)"
             },
             "line": {
              "color": "white"
             }
            },
            "header": {
             "fill": {
              "color": "rgb(217,217,217)"
             },
             "line": {
              "color": "white"
             }
            },
            "type": "table"
           }
          ]
         },
         "layout": {
          "annotationdefaults": {
           "arrowhead": 0,
           "arrowwidth": 1
          },
          "autotypenumbers": "strict",
          "coloraxis": {
           "colorbar": {
            "outlinewidth": 0,
            "tickcolor": "rgb(237,237,237)",
            "ticklen": 6,
            "ticks": "inside"
           }
          },
          "colorscale": {
           "sequential": [
            [
             0,
             "rgb(20,44,66)"
            ],
            [
             1,
             "rgb(90,179,244)"
            ]
           ],
           "sequentialminus": [
            [
             0,
             "rgb(20,44,66)"
            ],
            [
             1,
             "rgb(90,179,244)"
            ]
           ]
          },
          "colorway": [
           "#F8766D",
           "#A3A500",
           "#00BF7D",
           "#00B0F6",
           "#E76BF3"
          ],
          "font": {
           "color": "rgb(51,51,51)"
          },
          "geo": {
           "bgcolor": "white",
           "lakecolor": "white",
           "landcolor": "rgb(237,237,237)",
           "showlakes": true,
           "showland": true,
           "subunitcolor": "white"
          },
          "hoverlabel": {
           "align": "left"
          },
          "hovermode": "closest",
          "paper_bgcolor": "white",
          "plot_bgcolor": "rgb(237,237,237)",
          "polar": {
           "angularaxis": {
            "gridcolor": "white",
            "linecolor": "white",
            "showgrid": true,
            "tickcolor": "rgb(51,51,51)",
            "ticks": "outside"
           },
           "bgcolor": "rgb(237,237,237)",
           "radialaxis": {
            "gridcolor": "white",
            "linecolor": "white",
            "showgrid": true,
            "tickcolor": "rgb(51,51,51)",
            "ticks": "outside"
           }
          },
          "scene": {
           "xaxis": {
            "backgroundcolor": "rgb(237,237,237)",
            "gridcolor": "white",
            "gridwidth": 2,
            "linecolor": "white",
            "showbackground": true,
            "showgrid": true,
            "tickcolor": "rgb(51,51,51)",
            "ticks": "outside",
            "zerolinecolor": "white"
           },
           "yaxis": {
            "backgroundcolor": "rgb(237,237,237)",
            "gridcolor": "white",
            "gridwidth": 2,
            "linecolor": "white",
            "showbackground": true,
            "showgrid": true,
            "tickcolor": "rgb(51,51,51)",
            "ticks": "outside",
            "zerolinecolor": "white"
           },
           "zaxis": {
            "backgroundcolor": "rgb(237,237,237)",
            "gridcolor": "white",
            "gridwidth": 2,
            "linecolor": "white",
            "showbackground": true,
            "showgrid": true,
            "tickcolor": "rgb(51,51,51)",
            "ticks": "outside",
            "zerolinecolor": "white"
           }
          },
          "shapedefaults": {
           "fillcolor": "black",
           "line": {
            "width": 0
           },
           "opacity": 0.3
          },
          "ternary": {
           "aaxis": {
            "gridcolor": "white",
            "linecolor": "white",
            "showgrid": true,
            "tickcolor": "rgb(51,51,51)",
            "ticks": "outside"
           },
           "baxis": {
            "gridcolor": "white",
            "linecolor": "white",
            "showgrid": true,
            "tickcolor": "rgb(51,51,51)",
            "ticks": "outside"
           },
           "bgcolor": "rgb(237,237,237)",
           "caxis": {
            "gridcolor": "white",
            "linecolor": "white",
            "showgrid": true,
            "tickcolor": "rgb(51,51,51)",
            "ticks": "outside"
           }
          },
          "xaxis": {
           "automargin": true,
           "gridcolor": "white",
           "linecolor": "white",
           "showgrid": true,
           "tickcolor": "rgb(51,51,51)",
           "ticks": "outside",
           "title": {
            "standoff": 15
           },
           "zerolinecolor": "white"
          },
          "yaxis": {
           "automargin": true,
           "gridcolor": "white",
           "linecolor": "white",
           "showgrid": true,
           "tickcolor": "rgb(51,51,51)",
           "ticks": "outside",
           "title": {
            "standoff": 15
           },
           "zerolinecolor": "white"
          }
         }
        },
        "title": {
         "text": "7-year Breakdown of Deaths by Police"
        }
       }
      }
     },
     "metadata": {},
     "output_type": "display_data"
    }
   ],
   "source": [
    "df = clean(df_orig)\n",
    "\n",
    "fig = px.sunburst(\n",
    "    data_frame=df,\n",
    "    path=[\"Unarmed\", 'State', \"Victim's race\"],  # Root, branches, leaves\n",
    "    color=\"Unarmed\",\n",
    "    color_discrete_sequence=px.colors.qualitative.Pastel,\n",
    "    # maxdepth=-1,                        # set the sectors rendered. -1 will render all levels in the hierarchy\n",
    "    # color=\"Victim's age\",\n",
    "    # color_continuous_scale=px.colors.sequential.BuGn,\n",
    "    # range_color=[10,100],\n",
    "\n",
    "    # branchvalues=\"total\",               # 'total' or 'remainder'\n",
    "    hover_name=\"Unarmed\",\n",
    "    hover_data={'Unarmed': False},    # remove column name from tooltip  (Plotly version >= 4.8.0)\n",
    "    title=\"7-year Breakdown of Deaths by Police\",\n",
    "    template='ggplot2',               # 'ggplot2', 'seaborn', 'simple_white', 'plotly',\n",
    "                                      # 'plotly_white', 'plotly_dark', 'presentation',\n",
    "                                      # 'xgridoff', 'ygridoff', 'gridon', 'none'\n",
    ")\n",
    "\n",
    "fig.update_traces(textinfo='label+percent entry')\n",
    "# fig.update_layout(margin=dict(t=0, l=0, r=0, b=0))\n",
    "\n",
    "fig.show()"
   ]
  },
  {
   "cell_type": "code",
   "execution_count": 33,
   "metadata": {},
   "outputs": [
    {
     "data": {
      "application/vnd.plotly.v1+json": {
       "config": {
        "plotlyServerURL": "https://plot.ly"
       },
       "data": [
        {
         "branchvalues": "total",
         "customdata": [
          [
           "Allegedly Armed"
          ],
          [
           "Unclear"
          ],
          [
           "Unarmed"
          ],
          [
           "Vehicle"
          ],
          [
           "Vehicle"
          ],
          [
           "Unarmed"
          ],
          [
           "Unclear"
          ],
          [
           "Allegedly Armed"
          ],
          [
           "Vehicle"
          ],
          [
           "Unclear"
          ],
          [
           "Unclear"
          ],
          [
           "Unarmed"
          ],
          [
           "Unclear"
          ],
          [
           "Vehicle"
          ],
          [
           "Allegedly Armed"
          ],
          [
           "Unarmed"
          ],
          [
           "Allegedly Armed"
          ],
          [
           "Unarmed"
          ],
          [
           "Unclear"
          ],
          [
           "Unclear"
          ],
          [
           "Vehicle"
          ],
          [
           "Allegedly Armed"
          ],
          [
           "Unarmed"
          ],
          [
           "Unclear"
          ],
          [
           "Allegedly Armed"
          ],
          [
           "Vehicle"
          ],
          [
           "Vehicle"
          ],
          [
           "Vehicle"
          ],
          [
           "Unarmed"
          ],
          [
           "Unclear"
          ],
          [
           "Unclear"
          ],
          [
           "Allegedly Armed"
          ],
          [
           "Allegedly Armed"
          ],
          [
           "Vehicle"
          ],
          [
           "Allegedly Armed"
          ],
          [
           "Vehicle"
          ],
          [
           "Unarmed"
          ],
          [
           "Unarmed"
          ],
          [
           "Unarmed"
          ],
          [
           "Unarmed"
          ],
          [
           "Allegedly Armed"
          ],
          [
           "Unarmed"
          ],
          [
           "Allegedly Armed"
          ],
          [
           "Allegedly Armed"
          ],
          [
           "Unclear"
          ],
          [
           "Vehicle"
          ],
          [
           "Vehicle"
          ],
          [
           "Unclear"
          ],
          [
           "Unarmed"
          ],
          [
           "Unclear"
          ],
          [
           "Allegedly Armed"
          ],
          [
           "Allegedly Armed"
          ],
          [
           "Unarmed"
          ],
          [
           "Unclear"
          ],
          [
           "Vehicle"
          ],
          [
           "Allegedly Armed"
          ],
          [
           "Allegedly Armed"
          ]
         ],
         "domain": {
          "x": [
           0,
           1
          ],
          "y": [
           0,
           1
          ]
         },
         "hovertemplate": "<b>%{hovertext}</b><br><br>labels=%{label}<br>count=%{value}<br>parent=%{parent}<br>id=%{id}<extra></extra>",
         "hovertext": [
          "Allegedly Armed",
          "Unclear",
          "Unarmed",
          "Vehicle",
          "Vehicle",
          "Unarmed",
          "Unclear",
          "Allegedly Armed",
          "Vehicle",
          "Unclear",
          "Unclear",
          "Unarmed",
          "Unclear",
          "Vehicle",
          "Allegedly Armed",
          "Unarmed",
          "Allegedly Armed",
          "Unarmed",
          "Unclear",
          "Unclear",
          "Vehicle",
          "Allegedly Armed",
          "Unarmed",
          "Unclear",
          "Allegedly Armed",
          "Vehicle",
          "Vehicle",
          "Vehicle",
          "Unarmed",
          "Unclear",
          "Unclear",
          "Allegedly Armed",
          "Allegedly Armed",
          "Vehicle",
          "Allegedly Armed",
          "Vehicle",
          "Unarmed",
          "Unarmed",
          "Unarmed",
          "Unarmed",
          "Allegedly Armed",
          "Unarmed",
          "Allegedly Armed",
          "Allegedly Armed",
          "Unclear",
          "Vehicle",
          "Vehicle",
          "Unclear",
          "Unarmed",
          "Unclear",
          "Allegedly Armed",
          "Allegedly Armed",
          "Unarmed",
          "Unclear",
          "Vehicle",
          "Allegedly Armed",
          "Allegedly Armed"
         ],
         "ids": [
          "Allegedly Armed/CA/Asian",
          "Unclear/NY/Hispanic",
          "Unarmed/TX/Hispanic",
          "Vehicle/TX/Hispanic",
          "Vehicle/CA/White",
          "Unarmed/NY/White",
          "Unclear/NY/White",
          "Allegedly Armed/TX/White",
          "Vehicle/CA/Hispanic",
          "Unclear/TX/White",
          "Unclear/CA",
          "Unarmed/NY",
          "Unclear/NY",
          "Vehicle/NY",
          "Allegedly Armed/TX",
          "Unarmed/TX",
          "Allegedly Armed",
          "Unarmed/CA",
          "Unclear/CA/Hispanic",
          "Unclear/TX/Hispanic",
          "Vehicle",
          "Allegedly Armed/NY/Black",
          "Unarmed/NY/Black",
          "Unclear/NY/Black",
          "Allegedly Armed/CA/Black",
          "Vehicle/CA/Black",
          "Vehicle/TX/Asian",
          "Vehicle/NY/Black",
          "Unarmed/TX/Black",
          "Unclear/CA/Asian",
          "Unclear/TX/Black",
          "Allegedly Armed/TX/Black",
          "Allegedly Armed/CA/Hispanic",
          "Vehicle/CA/Asian",
          "Allegedly Armed/NY",
          "Vehicle/CA",
          "Unarmed/CA/Asian",
          "Unarmed/CA/Black",
          "Unarmed",
          "Unarmed/TX/White",
          "Allegedly Armed/NY/Hispanic",
          "Unarmed/NY/Hispanic",
          "Allegedly Armed/TX/Hispanic",
          "Allegedly Armed/CA/White",
          "Unclear",
          "Vehicle/TX/White",
          "Vehicle/TX",
          "Unclear/CA/Black",
          "Unarmed/CA/Hispanic",
          "Unclear/CA/White",
          "Allegedly Armed/NY/White",
          "Allegedly Armed/CA",
          "Unarmed/CA/White",
          "Unclear/TX",
          "Vehicle/TX/Black",
          "Allegedly Armed/TX/Asian",
          "Allegedly Armed/NY/Asian"
         ],
         "labels": [
          "Asian",
          "Hispanic",
          "Hispanic",
          "Hispanic",
          "White",
          "White",
          "White",
          "White",
          "Hispanic",
          "White",
          "CA",
          "NY",
          "NY",
          "NY",
          "TX",
          "TX",
          "Allegedly Armed",
          "CA",
          "Hispanic",
          "Hispanic",
          "Vehicle",
          "Black",
          "Black",
          "Black",
          "Black",
          "Black",
          "Asian",
          "Black",
          "Black",
          "Asian",
          "Black",
          "Black",
          "Hispanic",
          "Asian",
          "NY",
          "CA",
          "Asian",
          "Black",
          "Unarmed",
          "White",
          "Hispanic",
          "Hispanic",
          "Hispanic",
          "White",
          "Unclear",
          "White",
          "TX",
          "Black",
          "Hispanic",
          "White",
          "White",
          "CA",
          "White",
          "TX",
          "Black",
          "Asian",
          "Asian"
         ],
         "marker": {
          "colors": [
           "rgb(102, 197, 204)",
           "rgb(246, 207, 113)",
           "rgb(248, 156, 116)",
           "rgb(220, 176, 242)",
           "rgb(220, 176, 242)",
           "rgb(248, 156, 116)",
           "rgb(246, 207, 113)",
           "rgb(102, 197, 204)",
           "rgb(220, 176, 242)",
           "rgb(246, 207, 113)",
           "rgb(246, 207, 113)",
           "rgb(248, 156, 116)",
           "rgb(246, 207, 113)",
           "rgb(220, 176, 242)",
           "rgb(102, 197, 204)",
           "rgb(248, 156, 116)",
           "rgb(102, 197, 204)",
           "rgb(248, 156, 116)",
           "rgb(246, 207, 113)",
           "rgb(246, 207, 113)",
           "rgb(220, 176, 242)",
           "rgb(102, 197, 204)",
           "rgb(248, 156, 116)",
           "rgb(246, 207, 113)",
           "rgb(102, 197, 204)",
           "rgb(220, 176, 242)",
           "rgb(220, 176, 242)",
           "rgb(220, 176, 242)",
           "rgb(248, 156, 116)",
           "rgb(246, 207, 113)",
           "rgb(246, 207, 113)",
           "rgb(102, 197, 204)",
           "rgb(102, 197, 204)",
           "rgb(220, 176, 242)",
           "rgb(102, 197, 204)",
           "rgb(220, 176, 242)",
           "rgb(248, 156, 116)",
           "rgb(248, 156, 116)",
           "rgb(248, 156, 116)",
           "rgb(248, 156, 116)",
           "rgb(102, 197, 204)",
           "rgb(248, 156, 116)",
           "rgb(102, 197, 204)",
           "rgb(102, 197, 204)",
           "rgb(246, 207, 113)",
           "rgb(220, 176, 242)",
           "rgb(220, 176, 242)",
           "rgb(246, 207, 113)",
           "rgb(248, 156, 116)",
           "rgb(246, 207, 113)",
           "rgb(102, 197, 204)",
           "rgb(102, 197, 204)",
           "rgb(248, 156, 116)",
           "rgb(246, 207, 113)",
           "rgb(220, 176, 242)",
           "rgb(102, 197, 204)",
           "rgb(102, 197, 204)"
          ]
         },
         "name": "",
         "parents": [
          "Allegedly Armed/CA",
          "Unclear/NY",
          "Unarmed/TX",
          "Vehicle/TX",
          "Vehicle/CA",
          "Unarmed/NY",
          "Unclear/NY",
          "Allegedly Armed/TX",
          "Vehicle/CA",
          "Unclear/TX",
          "Unclear",
          "Unarmed",
          "Unclear",
          "Vehicle",
          "Allegedly Armed",
          "Unarmed",
          "",
          "Unarmed",
          "Unclear/CA",
          "Unclear/TX",
          "",
          "Allegedly Armed/NY",
          "Unarmed/NY",
          "Unclear/NY",
          "Allegedly Armed/CA",
          "Vehicle/CA",
          "Vehicle/TX",
          "Vehicle/NY",
          "Unarmed/TX",
          "Unclear/CA",
          "Unclear/TX",
          "Allegedly Armed/TX",
          "Allegedly Armed/CA",
          "Vehicle/CA",
          "Allegedly Armed",
          "Vehicle",
          "Unarmed/CA",
          "Unarmed/CA",
          "",
          "Unarmed/TX",
          "Allegedly Armed/NY",
          "Unarmed/NY",
          "Allegedly Armed/TX",
          "Allegedly Armed/CA",
          "",
          "Vehicle/TX",
          "Vehicle",
          "Unclear/CA",
          "Unarmed/CA",
          "Unclear/CA",
          "Allegedly Armed/NY",
          "Allegedly Armed",
          "Unarmed/CA",
          "Unclear",
          "Vehicle/TX",
          "Allegedly Armed/TX",
          "Allegedly Armed/NY"
         ],
         "textinfo": "label+percent parent",
         "type": "sunburst",
         "values": [
          34,
          1,
          29,
          10,
          19,
          11,
          1,
          194,
          30,
          18,
          114,
          34,
          7,
          2,
          460,
          102,
          1245,
          191,
          55,
          16,
          104,
          47,
          17,
          5,
          112,
          12,
          1,
          2,
          40,
          3,
          9,
          93,
          315,
          2,
          100,
          63,
          5,
          40,
          327,
          33,
          11,
          6,
          164,
          224,
          164,
          13,
          39,
          22,
          90,
          34,
          41,
          685,
          56,
          43,
          15,
          9,
          1
         ]
        }
       ],
       "layout": {
        "legend": {
         "tracegroupgap": 0
        },
        "sunburstcolorway": [
         "rgb(102, 197, 204)",
         "rgb(246, 207, 113)",
         "rgb(248, 156, 116)",
         "rgb(220, 176, 242)",
         "rgb(135, 197, 95)",
         "rgb(158, 185, 243)",
         "rgb(254, 136, 177)",
         "rgb(201, 219, 116)",
         "rgb(139, 224, 164)",
         "rgb(180, 151, 231)",
         "rgb(179, 179, 179)"
        ],
        "template": {
         "data": {
          "bar": [
           {
            "error_x": {
             "color": "rgb(51,51,51)"
            },
            "error_y": {
             "color": "rgb(51,51,51)"
            },
            "marker": {
             "line": {
              "color": "rgb(237,237,237)",
              "width": 0.5
             },
             "pattern": {
              "fillmode": "overlay",
              "size": 10,
              "solidity": 0.2
             }
            },
            "type": "bar"
           }
          ],
          "barpolar": [
           {
            "marker": {
             "line": {
              "color": "rgb(237,237,237)",
              "width": 0.5
             },
             "pattern": {
              "fillmode": "overlay",
              "size": 10,
              "solidity": 0.2
             }
            },
            "type": "barpolar"
           }
          ],
          "carpet": [
           {
            "aaxis": {
             "endlinecolor": "rgb(51,51,51)",
             "gridcolor": "white",
             "linecolor": "white",
             "minorgridcolor": "white",
             "startlinecolor": "rgb(51,51,51)"
            },
            "baxis": {
             "endlinecolor": "rgb(51,51,51)",
             "gridcolor": "white",
             "linecolor": "white",
             "minorgridcolor": "white",
             "startlinecolor": "rgb(51,51,51)"
            },
            "type": "carpet"
           }
          ],
          "choropleth": [
           {
            "colorbar": {
             "outlinewidth": 0,
             "tickcolor": "rgb(237,237,237)",
             "ticklen": 6,
             "ticks": "inside"
            },
            "type": "choropleth"
           }
          ],
          "contour": [
           {
            "colorbar": {
             "outlinewidth": 0,
             "tickcolor": "rgb(237,237,237)",
             "ticklen": 6,
             "ticks": "inside"
            },
            "colorscale": [
             [
              0,
              "rgb(20,44,66)"
             ],
             [
              1,
              "rgb(90,179,244)"
             ]
            ],
            "type": "contour"
           }
          ],
          "contourcarpet": [
           {
            "colorbar": {
             "outlinewidth": 0,
             "tickcolor": "rgb(237,237,237)",
             "ticklen": 6,
             "ticks": "inside"
            },
            "type": "contourcarpet"
           }
          ],
          "heatmap": [
           {
            "colorbar": {
             "outlinewidth": 0,
             "tickcolor": "rgb(237,237,237)",
             "ticklen": 6,
             "ticks": "inside"
            },
            "colorscale": [
             [
              0,
              "rgb(20,44,66)"
             ],
             [
              1,
              "rgb(90,179,244)"
             ]
            ],
            "type": "heatmap"
           }
          ],
          "heatmapgl": [
           {
            "colorbar": {
             "outlinewidth": 0,
             "tickcolor": "rgb(237,237,237)",
             "ticklen": 6,
             "ticks": "inside"
            },
            "colorscale": [
             [
              0,
              "rgb(20,44,66)"
             ],
             [
              1,
              "rgb(90,179,244)"
             ]
            ],
            "type": "heatmapgl"
           }
          ],
          "histogram": [
           {
            "marker": {
             "pattern": {
              "fillmode": "overlay",
              "size": 10,
              "solidity": 0.2
             }
            },
            "type": "histogram"
           }
          ],
          "histogram2d": [
           {
            "colorbar": {
             "outlinewidth": 0,
             "tickcolor": "rgb(237,237,237)",
             "ticklen": 6,
             "ticks": "inside"
            },
            "colorscale": [
             [
              0,
              "rgb(20,44,66)"
             ],
             [
              1,
              "rgb(90,179,244)"
             ]
            ],
            "type": "histogram2d"
           }
          ],
          "histogram2dcontour": [
           {
            "colorbar": {
             "outlinewidth": 0,
             "tickcolor": "rgb(237,237,237)",
             "ticklen": 6,
             "ticks": "inside"
            },
            "colorscale": [
             [
              0,
              "rgb(20,44,66)"
             ],
             [
              1,
              "rgb(90,179,244)"
             ]
            ],
            "type": "histogram2dcontour"
           }
          ],
          "mesh3d": [
           {
            "colorbar": {
             "outlinewidth": 0,
             "tickcolor": "rgb(237,237,237)",
             "ticklen": 6,
             "ticks": "inside"
            },
            "type": "mesh3d"
           }
          ],
          "parcoords": [
           {
            "line": {
             "colorbar": {
              "outlinewidth": 0,
              "tickcolor": "rgb(237,237,237)",
              "ticklen": 6,
              "ticks": "inside"
             }
            },
            "type": "parcoords"
           }
          ],
          "pie": [
           {
            "automargin": true,
            "type": "pie"
           }
          ],
          "scatter": [
           {
            "marker": {
             "colorbar": {
              "outlinewidth": 0,
              "tickcolor": "rgb(237,237,237)",
              "ticklen": 6,
              "ticks": "inside"
             }
            },
            "type": "scatter"
           }
          ],
          "scatter3d": [
           {
            "line": {
             "colorbar": {
              "outlinewidth": 0,
              "tickcolor": "rgb(237,237,237)",
              "ticklen": 6,
              "ticks": "inside"
             }
            },
            "marker": {
             "colorbar": {
              "outlinewidth": 0,
              "tickcolor": "rgb(237,237,237)",
              "ticklen": 6,
              "ticks": "inside"
             }
            },
            "type": "scatter3d"
           }
          ],
          "scattercarpet": [
           {
            "marker": {
             "colorbar": {
              "outlinewidth": 0,
              "tickcolor": "rgb(237,237,237)",
              "ticklen": 6,
              "ticks": "inside"
             }
            },
            "type": "scattercarpet"
           }
          ],
          "scattergeo": [
           {
            "marker": {
             "colorbar": {
              "outlinewidth": 0,
              "tickcolor": "rgb(237,237,237)",
              "ticklen": 6,
              "ticks": "inside"
             }
            },
            "type": "scattergeo"
           }
          ],
          "scattergl": [
           {
            "marker": {
             "colorbar": {
              "outlinewidth": 0,
              "tickcolor": "rgb(237,237,237)",
              "ticklen": 6,
              "ticks": "inside"
             }
            },
            "type": "scattergl"
           }
          ],
          "scattermapbox": [
           {
            "marker": {
             "colorbar": {
              "outlinewidth": 0,
              "tickcolor": "rgb(237,237,237)",
              "ticklen": 6,
              "ticks": "inside"
             }
            },
            "type": "scattermapbox"
           }
          ],
          "scatterpolar": [
           {
            "marker": {
             "colorbar": {
              "outlinewidth": 0,
              "tickcolor": "rgb(237,237,237)",
              "ticklen": 6,
              "ticks": "inside"
             }
            },
            "type": "scatterpolar"
           }
          ],
          "scatterpolargl": [
           {
            "marker": {
             "colorbar": {
              "outlinewidth": 0,
              "tickcolor": "rgb(237,237,237)",
              "ticklen": 6,
              "ticks": "inside"
             }
            },
            "type": "scatterpolargl"
           }
          ],
          "scatterternary": [
           {
            "marker": {
             "colorbar": {
              "outlinewidth": 0,
              "tickcolor": "rgb(237,237,237)",
              "ticklen": 6,
              "ticks": "inside"
             }
            },
            "type": "scatterternary"
           }
          ],
          "surface": [
           {
            "colorbar": {
             "outlinewidth": 0,
             "tickcolor": "rgb(237,237,237)",
             "ticklen": 6,
             "ticks": "inside"
            },
            "colorscale": [
             [
              0,
              "rgb(20,44,66)"
             ],
             [
              1,
              "rgb(90,179,244)"
             ]
            ],
            "type": "surface"
           }
          ],
          "table": [
           {
            "cells": {
             "fill": {
              "color": "rgb(237,237,237)"
             },
             "line": {
              "color": "white"
             }
            },
            "header": {
             "fill": {
              "color": "rgb(217,217,217)"
             },
             "line": {
              "color": "white"
             }
            },
            "type": "table"
           }
          ]
         },
         "layout": {
          "annotationdefaults": {
           "arrowhead": 0,
           "arrowwidth": 1
          },
          "autotypenumbers": "strict",
          "coloraxis": {
           "colorbar": {
            "outlinewidth": 0,
            "tickcolor": "rgb(237,237,237)",
            "ticklen": 6,
            "ticks": "inside"
           }
          },
          "colorscale": {
           "sequential": [
            [
             0,
             "rgb(20,44,66)"
            ],
            [
             1,
             "rgb(90,179,244)"
            ]
           ],
           "sequentialminus": [
            [
             0,
             "rgb(20,44,66)"
            ],
            [
             1,
             "rgb(90,179,244)"
            ]
           ]
          },
          "colorway": [
           "#F8766D",
           "#A3A500",
           "#00BF7D",
           "#00B0F6",
           "#E76BF3"
          ],
          "font": {
           "color": "rgb(51,51,51)"
          },
          "geo": {
           "bgcolor": "white",
           "lakecolor": "white",
           "landcolor": "rgb(237,237,237)",
           "showlakes": true,
           "showland": true,
           "subunitcolor": "white"
          },
          "hoverlabel": {
           "align": "left"
          },
          "hovermode": "closest",
          "paper_bgcolor": "white",
          "plot_bgcolor": "rgb(237,237,237)",
          "polar": {
           "angularaxis": {
            "gridcolor": "white",
            "linecolor": "white",
            "showgrid": true,
            "tickcolor": "rgb(51,51,51)",
            "ticks": "outside"
           },
           "bgcolor": "rgb(237,237,237)",
           "radialaxis": {
            "gridcolor": "white",
            "linecolor": "white",
            "showgrid": true,
            "tickcolor": "rgb(51,51,51)",
            "ticks": "outside"
           }
          },
          "scene": {
           "xaxis": {
            "backgroundcolor": "rgb(237,237,237)",
            "gridcolor": "white",
            "gridwidth": 2,
            "linecolor": "white",
            "showbackground": true,
            "showgrid": true,
            "tickcolor": "rgb(51,51,51)",
            "ticks": "outside",
            "zerolinecolor": "white"
           },
           "yaxis": {
            "backgroundcolor": "rgb(237,237,237)",
            "gridcolor": "white",
            "gridwidth": 2,
            "linecolor": "white",
            "showbackground": true,
            "showgrid": true,
            "tickcolor": "rgb(51,51,51)",
            "ticks": "outside",
            "zerolinecolor": "white"
           },
           "zaxis": {
            "backgroundcolor": "rgb(237,237,237)",
            "gridcolor": "white",
            "gridwidth": 2,
            "linecolor": "white",
            "showbackground": true,
            "showgrid": true,
            "tickcolor": "rgb(51,51,51)",
            "ticks": "outside",
            "zerolinecolor": "white"
           }
          },
          "shapedefaults": {
           "fillcolor": "black",
           "line": {
            "width": 0
           },
           "opacity": 0.3
          },
          "ternary": {
           "aaxis": {
            "gridcolor": "white",
            "linecolor": "white",
            "showgrid": true,
            "tickcolor": "rgb(51,51,51)",
            "ticks": "outside"
           },
           "baxis": {
            "gridcolor": "white",
            "linecolor": "white",
            "showgrid": true,
            "tickcolor": "rgb(51,51,51)",
            "ticks": "outside"
           },
           "bgcolor": "rgb(237,237,237)",
           "caxis": {
            "gridcolor": "white",
            "linecolor": "white",
            "showgrid": true,
            "tickcolor": "rgb(51,51,51)",
            "ticks": "outside"
           }
          },
          "xaxis": {
           "automargin": true,
           "gridcolor": "white",
           "linecolor": "white",
           "showgrid": true,
           "tickcolor": "rgb(51,51,51)",
           "ticks": "outside",
           "title": {
            "standoff": 15
           },
           "zerolinecolor": "white"
          },
          "yaxis": {
           "automargin": true,
           "gridcolor": "white",
           "linecolor": "white",
           "showgrid": true,
           "tickcolor": "rgb(51,51,51)",
           "ticks": "outside",
           "title": {
            "standoff": 15
           },
           "zerolinecolor": "white"
          }
         }
        },
        "title": {
         "text": "7-year Breakdown of Deaths by Police"
        }
       }
      }
     },
     "metadata": {},
     "output_type": "display_data"
    }
   ],
   "source": [
    "df = clean(df_orig)\n",
    "\n",
    "fig = px.sunburst(\n",
    "    data_frame=df,\n",
    "    path=[\"Unarmed\", 'State', \"Victim's race\"],  # Root, branches, leaves\n",
    "    color=\"Unarmed\",\n",
    "    color_discrete_sequence=px.colors.qualitative.Pastel,\n",
    "    # maxdepth=-1,                        # set the sectors rendered. -1 will render all levels in the hierarchy\n",
    "    # color=\"Victim's age\",\n",
    "    # color_continuous_scale=px.colors.sequential.BuGn,\n",
    "    # range_color=[10,100],\n",
    "\n",
    "    # branchvalues=\"total\",               # 'total' or 'remainder'\n",
    "    hover_name=\"Unarmed\",\n",
    "    hover_data={'Unarmed': False},    # remove column name from tooltip  (Plotly version >= 4.8.0)\n",
    "    title=\"7-year Breakdown of Deaths by Police\",\n",
    "    template='ggplot2',               # 'ggplot2', 'seaborn', 'simple_white', 'plotly',\n",
    "                                      # 'plotly_white', 'plotly_dark', 'presentation',\n",
    "                                      # 'xgridoff', 'ygridoff', 'gridon', 'none'\n",
    ")\n",
    "\n",
    "fig.update_traces(textinfo='label+percent parent')\n",
    "# fig.update_layout(margin=dict(t=0, l=0, r=0, b=0))\n",
    "\n",
    "fig.show()"
   ]
  },
  {
   "cell_type": "markdown",
   "metadata": {},
   "source": [
    "# Challenge\n",
    "\n",
    "- Sunburst with Alabama, Oregon, South Carolina\n",
    "- Root as “State”, \n",
    "- Branch as “Unarmed”,\n",
    "- Leaves as “Victim’s gender”\n",
    "- Gender color male:pruple, female:greenyellow. Hint: map the colors\n",
    "- Remove from Hover tooltip: \n",
    "    - Gender\n",
    "    - labels\n",
    "    - id"
   ]
  },
  {
   "cell_type": "code",
   "execution_count": 59,
   "metadata": {},
   "outputs": [
    {
     "data": {
      "application/vnd.plotly.v1+json": {
       "config": {
        "plotlyServerURL": "https://plot.ly"
       },
       "data": [
        {
         "branchvalues": "total",
         "customdata": [
          [
           "Male"
          ],
          [
           "Female"
          ],
          [
           "(?)"
          ],
          [
           "(?)"
          ],
          [
           "(?)"
          ],
          [
           "(?)"
          ],
          [
           "Male"
          ],
          [
           "Male"
          ],
          [
           "Male"
          ],
          [
           "Male"
          ],
          [
           "(?)"
          ],
          [
           "(?)"
          ],
          [
           "Male"
          ],
          [
           "(?)"
          ],
          [
           "(?)"
          ],
          [
           "(?)"
          ],
          [
           "Male"
          ],
          [
           "Male"
          ],
          [
           "Male"
          ],
          [
           "Female"
          ],
          [
           "Female"
          ],
          [
           "Female"
          ],
          [
           "Female"
          ],
          [
           "Female"
          ],
          [
           "Female"
          ],
          [
           "(?)"
          ],
          [
           "Female"
          ],
          [
           "Male"
          ],
          [
           "Male"
          ],
          [
           "Male"
          ],
          [
           "Male"
          ],
          [
           "Male"
          ],
          [
           "Male"
          ],
          [
           "Male"
          ],
          [
           "(?)"
          ]
         ],
         "domain": {
          "x": [
           0,
           1
          ],
          "y": [
           0,
           1
          ]
         },
         "hovertemplate": "labels=%{label}<br>count=%{value}<br>parent=%{parent}<br>id=%{id}<br>Victim's gender=%{customdata[0]}<extra></extra>",
         "ids": [
          "SC/Allegedly Armed/Male",
          "AL/Allegedly Armed/Female",
          "AL/Allegedly Armed",
          "OR/Allegedly Armed",
          "SC/Allegedly Armed",
          "AL/Unarmed",
          "OR/Unarmed",
          "SC/Vehicle/Male",
          "SC/Unarmed",
          "OR/Unclear",
          "SC/Unclear",
          "AL/Vehicle",
          "OR/Vehicle",
          "SC/Vehicle",
          "AL",
          "AL/Unclear",
          "OR/Vehicle/Male",
          "AL/Vehicle/Male",
          "SC/Unclear/Male",
          "OR/Allegedly Armed/Female",
          "SC/Allegedly Armed/Female",
          "AL/Unarmed/Female",
          "AL/Unclear/Female",
          "SC/Unclear/Female",
          "AL/Vehicle/Female",
          "OR",
          "SC/Vehicle/Female",
          "OR/Allegedly Armed/Male",
          "AL/Unarmed/Male",
          "OR/Unarmed/Male",
          "SC/Unarmed/Male",
          "AL/Unclear/Male",
          "OR/Unclear/Male",
          "AL/Allegedly Armed/Male",
          "SC"
         ],
         "labels": [
          "Male",
          "Female",
          "Allegedly Armed",
          "Allegedly Armed",
          "Allegedly Armed",
          "Unarmed",
          "Unarmed",
          "Male",
          "Unarmed",
          "Unclear",
          "Unclear",
          "Vehicle",
          "Vehicle",
          "Vehicle",
          "AL",
          "Unclear",
          "Male",
          "Male",
          "Male",
          "Female",
          "Female",
          "Female",
          "Female",
          "Female",
          "Female",
          "OR",
          "Female",
          "Male",
          "Male",
          "Male",
          "Male",
          "Male",
          "Male",
          "Male",
          "SC"
         ],
         "marker": {
          "colors": [
           "green",
           "greenyellow",
           "#2CA02C",
           "#2CA02C",
           "#2CA02C",
           "#2CA02C",
           "green",
           "green",
           "green",
           "green",
           "#2CA02C",
           "#2CA02C",
           "green",
           "#2CA02C",
           "#2CA02C",
           "#2CA02C",
           "green",
           "green",
           "green",
           "greenyellow",
           "greenyellow",
           "greenyellow",
           "greenyellow",
           "greenyellow",
           "greenyellow",
           "#2CA02C",
           "greenyellow",
           "green",
           "green",
           "green",
           "green",
           "green",
           "green",
           "green",
           "#2CA02C"
          ]
         },
         "name": "",
         "parents": [
          "SC/Allegedly Armed",
          "AL/Allegedly Armed",
          "AL",
          "OR",
          "SC",
          "AL",
          "OR",
          "SC/Vehicle",
          "SC",
          "OR",
          "SC",
          "AL",
          "OR",
          "SC",
          "",
          "AL",
          "OR/Vehicle",
          "AL/Vehicle",
          "SC/Unclear",
          "OR/Allegedly Armed",
          "SC/Allegedly Armed",
          "AL/Unarmed",
          "AL/Unclear",
          "SC/Unclear",
          "AL/Vehicle",
          "",
          "SC/Vehicle",
          "OR/Allegedly Armed",
          "AL/Unarmed",
          "OR/Unarmed",
          "SC/Unarmed",
          "AL/Unclear",
          "OR/Unclear",
          "AL/Allegedly Armed",
          ""
         ],
         "textinfo": "label+percent parent",
         "type": "sunburst",
         "values": [
          74,
          3,
          82,
          83,
          80,
          17,
          10,
          9,
          8,
          7,
          9,
          11,
          5,
          12,
          126,
          16,
          5,
          9,
          8,
          3,
          6,
          1,
          2,
          1,
          2,
          105,
          3,
          80,
          16,
          10,
          8,
          14,
          7,
          79,
          109
         ]
        }
       ],
       "layout": {
        "height": 700,
        "legend": {
         "tracegroupgap": 0
        },
        "margin": {
         "b": 0,
         "l": 0,
         "r": 0,
         "t": 0
        },
        "template": {
         "data": {
          "bar": [
           {
            "error_x": {
             "color": "rgb(36,36,36)"
            },
            "error_y": {
             "color": "rgb(36,36,36)"
            },
            "marker": {
             "line": {
              "color": "white",
              "width": 0.5
             },
             "pattern": {
              "fillmode": "overlay",
              "size": 10,
              "solidity": 0.2
             }
            },
            "type": "bar"
           }
          ],
          "barpolar": [
           {
            "marker": {
             "line": {
              "color": "white",
              "width": 0.5
             },
             "pattern": {
              "fillmode": "overlay",
              "size": 10,
              "solidity": 0.2
             }
            },
            "type": "barpolar"
           }
          ],
          "carpet": [
           {
            "aaxis": {
             "endlinecolor": "rgb(36,36,36)",
             "gridcolor": "white",
             "linecolor": "white",
             "minorgridcolor": "white",
             "startlinecolor": "rgb(36,36,36)"
            },
            "baxis": {
             "endlinecolor": "rgb(36,36,36)",
             "gridcolor": "white",
             "linecolor": "white",
             "minorgridcolor": "white",
             "startlinecolor": "rgb(36,36,36)"
            },
            "type": "carpet"
           }
          ],
          "choropleth": [
           {
            "colorbar": {
             "outlinewidth": 1,
             "tickcolor": "rgb(36,36,36)",
             "ticks": "outside"
            },
            "type": "choropleth"
           }
          ],
          "contour": [
           {
            "colorbar": {
             "outlinewidth": 1,
             "tickcolor": "rgb(36,36,36)",
             "ticks": "outside"
            },
            "colorscale": [
             [
              0,
              "#440154"
             ],
             [
              0.1111111111111111,
              "#482878"
             ],
             [
              0.2222222222222222,
              "#3e4989"
             ],
             [
              0.3333333333333333,
              "#31688e"
             ],
             [
              0.4444444444444444,
              "#26828e"
             ],
             [
              0.5555555555555556,
              "#1f9e89"
             ],
             [
              0.6666666666666666,
              "#35b779"
             ],
             [
              0.7777777777777778,
              "#6ece58"
             ],
             [
              0.8888888888888888,
              "#b5de2b"
             ],
             [
              1,
              "#fde725"
             ]
            ],
            "type": "contour"
           }
          ],
          "contourcarpet": [
           {
            "colorbar": {
             "outlinewidth": 1,
             "tickcolor": "rgb(36,36,36)",
             "ticks": "outside"
            },
            "type": "contourcarpet"
           }
          ],
          "heatmap": [
           {
            "colorbar": {
             "outlinewidth": 1,
             "tickcolor": "rgb(36,36,36)",
             "ticks": "outside"
            },
            "colorscale": [
             [
              0,
              "#440154"
             ],
             [
              0.1111111111111111,
              "#482878"
             ],
             [
              0.2222222222222222,
              "#3e4989"
             ],
             [
              0.3333333333333333,
              "#31688e"
             ],
             [
              0.4444444444444444,
              "#26828e"
             ],
             [
              0.5555555555555556,
              "#1f9e89"
             ],
             [
              0.6666666666666666,
              "#35b779"
             ],
             [
              0.7777777777777778,
              "#6ece58"
             ],
             [
              0.8888888888888888,
              "#b5de2b"
             ],
             [
              1,
              "#fde725"
             ]
            ],
            "type": "heatmap"
           }
          ],
          "heatmapgl": [
           {
            "colorbar": {
             "outlinewidth": 1,
             "tickcolor": "rgb(36,36,36)",
             "ticks": "outside"
            },
            "colorscale": [
             [
              0,
              "#440154"
             ],
             [
              0.1111111111111111,
              "#482878"
             ],
             [
              0.2222222222222222,
              "#3e4989"
             ],
             [
              0.3333333333333333,
              "#31688e"
             ],
             [
              0.4444444444444444,
              "#26828e"
             ],
             [
              0.5555555555555556,
              "#1f9e89"
             ],
             [
              0.6666666666666666,
              "#35b779"
             ],
             [
              0.7777777777777778,
              "#6ece58"
             ],
             [
              0.8888888888888888,
              "#b5de2b"
             ],
             [
              1,
              "#fde725"
             ]
            ],
            "type": "heatmapgl"
           }
          ],
          "histogram": [
           {
            "marker": {
             "line": {
              "color": "white",
              "width": 0.6
             }
            },
            "type": "histogram"
           }
          ],
          "histogram2d": [
           {
            "colorbar": {
             "outlinewidth": 1,
             "tickcolor": "rgb(36,36,36)",
             "ticks": "outside"
            },
            "colorscale": [
             [
              0,
              "#440154"
             ],
             [
              0.1111111111111111,
              "#482878"
             ],
             [
              0.2222222222222222,
              "#3e4989"
             ],
             [
              0.3333333333333333,
              "#31688e"
             ],
             [
              0.4444444444444444,
              "#26828e"
             ],
             [
              0.5555555555555556,
              "#1f9e89"
             ],
             [
              0.6666666666666666,
              "#35b779"
             ],
             [
              0.7777777777777778,
              "#6ece58"
             ],
             [
              0.8888888888888888,
              "#b5de2b"
             ],
             [
              1,
              "#fde725"
             ]
            ],
            "type": "histogram2d"
           }
          ],
          "histogram2dcontour": [
           {
            "colorbar": {
             "outlinewidth": 1,
             "tickcolor": "rgb(36,36,36)",
             "ticks": "outside"
            },
            "colorscale": [
             [
              0,
              "#440154"
             ],
             [
              0.1111111111111111,
              "#482878"
             ],
             [
              0.2222222222222222,
              "#3e4989"
             ],
             [
              0.3333333333333333,
              "#31688e"
             ],
             [
              0.4444444444444444,
              "#26828e"
             ],
             [
              0.5555555555555556,
              "#1f9e89"
             ],
             [
              0.6666666666666666,
              "#35b779"
             ],
             [
              0.7777777777777778,
              "#6ece58"
             ],
             [
              0.8888888888888888,
              "#b5de2b"
             ],
             [
              1,
              "#fde725"
             ]
            ],
            "type": "histogram2dcontour"
           }
          ],
          "mesh3d": [
           {
            "colorbar": {
             "outlinewidth": 1,
             "tickcolor": "rgb(36,36,36)",
             "ticks": "outside"
            },
            "type": "mesh3d"
           }
          ],
          "parcoords": [
           {
            "line": {
             "colorbar": {
              "outlinewidth": 1,
              "tickcolor": "rgb(36,36,36)",
              "ticks": "outside"
             }
            },
            "type": "parcoords"
           }
          ],
          "pie": [
           {
            "automargin": true,
            "type": "pie"
           }
          ],
          "scatter": [
           {
            "marker": {
             "colorbar": {
              "outlinewidth": 1,
              "tickcolor": "rgb(36,36,36)",
              "ticks": "outside"
             }
            },
            "type": "scatter"
           }
          ],
          "scatter3d": [
           {
            "line": {
             "colorbar": {
              "outlinewidth": 1,
              "tickcolor": "rgb(36,36,36)",
              "ticks": "outside"
             }
            },
            "marker": {
             "colorbar": {
              "outlinewidth": 1,
              "tickcolor": "rgb(36,36,36)",
              "ticks": "outside"
             }
            },
            "type": "scatter3d"
           }
          ],
          "scattercarpet": [
           {
            "marker": {
             "colorbar": {
              "outlinewidth": 1,
              "tickcolor": "rgb(36,36,36)",
              "ticks": "outside"
             }
            },
            "type": "scattercarpet"
           }
          ],
          "scattergeo": [
           {
            "marker": {
             "colorbar": {
              "outlinewidth": 1,
              "tickcolor": "rgb(36,36,36)",
              "ticks": "outside"
             }
            },
            "type": "scattergeo"
           }
          ],
          "scattergl": [
           {
            "marker": {
             "colorbar": {
              "outlinewidth": 1,
              "tickcolor": "rgb(36,36,36)",
              "ticks": "outside"
             }
            },
            "type": "scattergl"
           }
          ],
          "scattermapbox": [
           {
            "marker": {
             "colorbar": {
              "outlinewidth": 1,
              "tickcolor": "rgb(36,36,36)",
              "ticks": "outside"
             }
            },
            "type": "scattermapbox"
           }
          ],
          "scatterpolar": [
           {
            "marker": {
             "colorbar": {
              "outlinewidth": 1,
              "tickcolor": "rgb(36,36,36)",
              "ticks": "outside"
             }
            },
            "type": "scatterpolar"
           }
          ],
          "scatterpolargl": [
           {
            "marker": {
             "colorbar": {
              "outlinewidth": 1,
              "tickcolor": "rgb(36,36,36)",
              "ticks": "outside"
             }
            },
            "type": "scatterpolargl"
           }
          ],
          "scatterternary": [
           {
            "marker": {
             "colorbar": {
              "outlinewidth": 1,
              "tickcolor": "rgb(36,36,36)",
              "ticks": "outside"
             }
            },
            "type": "scatterternary"
           }
          ],
          "surface": [
           {
            "colorbar": {
             "outlinewidth": 1,
             "tickcolor": "rgb(36,36,36)",
             "ticks": "outside"
            },
            "colorscale": [
             [
              0,
              "#440154"
             ],
             [
              0.1111111111111111,
              "#482878"
             ],
             [
              0.2222222222222222,
              "#3e4989"
             ],
             [
              0.3333333333333333,
              "#31688e"
             ],
             [
              0.4444444444444444,
              "#26828e"
             ],
             [
              0.5555555555555556,
              "#1f9e89"
             ],
             [
              0.6666666666666666,
              "#35b779"
             ],
             [
              0.7777777777777778,
              "#6ece58"
             ],
             [
              0.8888888888888888,
              "#b5de2b"
             ],
             [
              1,
              "#fde725"
             ]
            ],
            "type": "surface"
           }
          ],
          "table": [
           {
            "cells": {
             "fill": {
              "color": "rgb(237,237,237)"
             },
             "line": {
              "color": "white"
             }
            },
            "header": {
             "fill": {
              "color": "rgb(217,217,217)"
             },
             "line": {
              "color": "white"
             }
            },
            "type": "table"
           }
          ]
         },
         "layout": {
          "annotationdefaults": {
           "arrowhead": 0,
           "arrowwidth": 1
          },
          "autotypenumbers": "strict",
          "coloraxis": {
           "colorbar": {
            "outlinewidth": 1,
            "tickcolor": "rgb(36,36,36)",
            "ticks": "outside"
           }
          },
          "colorscale": {
           "diverging": [
            [
             0,
             "rgb(103,0,31)"
            ],
            [
             0.1,
             "rgb(178,24,43)"
            ],
            [
             0.2,
             "rgb(214,96,77)"
            ],
            [
             0.3,
             "rgb(244,165,130)"
            ],
            [
             0.4,
             "rgb(253,219,199)"
            ],
            [
             0.5,
             "rgb(247,247,247)"
            ],
            [
             0.6,
             "rgb(209,229,240)"
            ],
            [
             0.7,
             "rgb(146,197,222)"
            ],
            [
             0.8,
             "rgb(67,147,195)"
            ],
            [
             0.9,
             "rgb(33,102,172)"
            ],
            [
             1,
             "rgb(5,48,97)"
            ]
           ],
           "sequential": [
            [
             0,
             "#440154"
            ],
            [
             0.1111111111111111,
             "#482878"
            ],
            [
             0.2222222222222222,
             "#3e4989"
            ],
            [
             0.3333333333333333,
             "#31688e"
            ],
            [
             0.4444444444444444,
             "#26828e"
            ],
            [
             0.5555555555555556,
             "#1f9e89"
            ],
            [
             0.6666666666666666,
             "#35b779"
            ],
            [
             0.7777777777777778,
             "#6ece58"
            ],
            [
             0.8888888888888888,
             "#b5de2b"
            ],
            [
             1,
             "#fde725"
            ]
           ],
           "sequentialminus": [
            [
             0,
             "#440154"
            ],
            [
             0.1111111111111111,
             "#482878"
            ],
            [
             0.2222222222222222,
             "#3e4989"
            ],
            [
             0.3333333333333333,
             "#31688e"
            ],
            [
             0.4444444444444444,
             "#26828e"
            ],
            [
             0.5555555555555556,
             "#1f9e89"
            ],
            [
             0.6666666666666666,
             "#35b779"
            ],
            [
             0.7777777777777778,
             "#6ece58"
            ],
            [
             0.8888888888888888,
             "#b5de2b"
            ],
            [
             1,
             "#fde725"
            ]
           ]
          },
          "colorway": [
           "#1F77B4",
           "#FF7F0E",
           "#2CA02C",
           "#D62728",
           "#9467BD",
           "#8C564B",
           "#E377C2",
           "#7F7F7F",
           "#BCBD22",
           "#17BECF"
          ],
          "font": {
           "color": "rgb(36,36,36)"
          },
          "geo": {
           "bgcolor": "white",
           "lakecolor": "white",
           "landcolor": "white",
           "showlakes": true,
           "showland": true,
           "subunitcolor": "white"
          },
          "hoverlabel": {
           "align": "left"
          },
          "hovermode": "closest",
          "mapbox": {
           "style": "light"
          },
          "paper_bgcolor": "white",
          "plot_bgcolor": "white",
          "polar": {
           "angularaxis": {
            "gridcolor": "rgb(232,232,232)",
            "linecolor": "rgb(36,36,36)",
            "showgrid": false,
            "showline": true,
            "ticks": "outside"
           },
           "bgcolor": "white",
           "radialaxis": {
            "gridcolor": "rgb(232,232,232)",
            "linecolor": "rgb(36,36,36)",
            "showgrid": false,
            "showline": true,
            "ticks": "outside"
           }
          },
          "scene": {
           "xaxis": {
            "backgroundcolor": "white",
            "gridcolor": "rgb(232,232,232)",
            "gridwidth": 2,
            "linecolor": "rgb(36,36,36)",
            "showbackground": true,
            "showgrid": false,
            "showline": true,
            "ticks": "outside",
            "zeroline": false,
            "zerolinecolor": "rgb(36,36,36)"
           },
           "yaxis": {
            "backgroundcolor": "white",
            "gridcolor": "rgb(232,232,232)",
            "gridwidth": 2,
            "linecolor": "rgb(36,36,36)",
            "showbackground": true,
            "showgrid": false,
            "showline": true,
            "ticks": "outside",
            "zeroline": false,
            "zerolinecolor": "rgb(36,36,36)"
           },
           "zaxis": {
            "backgroundcolor": "white",
            "gridcolor": "rgb(232,232,232)",
            "gridwidth": 2,
            "linecolor": "rgb(36,36,36)",
            "showbackground": true,
            "showgrid": false,
            "showline": true,
            "ticks": "outside",
            "zeroline": false,
            "zerolinecolor": "rgb(36,36,36)"
           }
          },
          "shapedefaults": {
           "fillcolor": "black",
           "line": {
            "width": 0
           },
           "opacity": 0.3
          },
          "ternary": {
           "aaxis": {
            "gridcolor": "rgb(232,232,232)",
            "linecolor": "rgb(36,36,36)",
            "showgrid": false,
            "showline": true,
            "ticks": "outside"
           },
           "baxis": {
            "gridcolor": "rgb(232,232,232)",
            "linecolor": "rgb(36,36,36)",
            "showgrid": false,
            "showline": true,
            "ticks": "outside"
           },
           "bgcolor": "white",
           "caxis": {
            "gridcolor": "rgb(232,232,232)",
            "linecolor": "rgb(36,36,36)",
            "showgrid": false,
            "showline": true,
            "ticks": "outside"
           }
          },
          "title": {
           "x": 0.05
          },
          "xaxis": {
           "automargin": true,
           "gridcolor": "rgb(232,232,232)",
           "linecolor": "rgb(36,36,36)",
           "showgrid": false,
           "showline": true,
           "ticks": "outside",
           "title": {
            "standoff": 15
           },
           "zeroline": false,
           "zerolinecolor": "rgb(36,36,36)"
          },
          "yaxis": {
           "automargin": true,
           "gridcolor": "rgb(232,232,232)",
           "linecolor": "rgb(36,36,36)",
           "showgrid": false,
           "showline": true,
           "ticks": "outside",
           "title": {
            "standoff": 15
           },
           "zeroline": false,
           "zerolinecolor": "rgb(36,36,36)"
          }
         }
        },
        "width": 700
       }
      }
     },
     "metadata": {},
     "output_type": "display_data"
    }
   ],
   "source": [
    "df = clean_challenge(df_orig)\n",
    "\n",
    "fig = px.sunburst(\n",
    "    data_frame=df,\n",
    "    path=['State', \"Unarmed\", \"Victim's gender\"],  # Root, branches, leaves\n",
    "    color=\"Victim's gender\",\n",
    "    color_discrete_map={\"Male\":\"green\", \"Female\":\"greenyellow\"},\n",
    "    # color_discrete_sequence=px.colors.qualitative.Pastel,\n",
    "    # hover_data={\"Victim's gender\": False, \"id\":False, \"labels\":False},\n",
    "    \n",
    "    template='simple_white',               # 'ggplot2', 'seaborn', 'simple_white', 'plotly',\n",
    "                                    # 'plotly_white', 'plotly_dark', 'presentation',\n",
    "                                    # 'xgridoff', 'ygridoff', 'gridon', 'none'\n",
    ")\n",
    "\n",
    "fig.update_traces(textinfo='label+percent parent')\n",
    "fig.update_layout(margin=dict(t=0, l=0, r=0, b=0))\n",
    "fig.update_layout(width=700, height=700)\n",
    "\n",
    "fig.show()\n"
   ]
  },
  {
   "cell_type": "code",
   "execution_count": null,
   "metadata": {},
   "outputs": [],
   "source": []
  }
 ],
 "metadata": {
  "interpreter": {
   "hash": "40d3a090f54c6569ab1632332b64b2c03c39dcf918b08424e98f38b5ae0af88f"
  },
  "kernelspec": {
   "display_name": "Python 3.8.8 ('base')",
   "language": "python",
   "name": "python3"
  },
  "language_info": {
   "codemirror_mode": {
    "name": "ipython",
    "version": 3
   },
   "file_extension": ".py",
   "mimetype": "text/x-python",
   "name": "python",
   "nbconvert_exporter": "python",
   "pygments_lexer": "ipython3",
   "version": "3.8.8"
  },
  "orig_nbformat": 4
 },
 "nbformat": 4,
 "nbformat_minor": 2
}
